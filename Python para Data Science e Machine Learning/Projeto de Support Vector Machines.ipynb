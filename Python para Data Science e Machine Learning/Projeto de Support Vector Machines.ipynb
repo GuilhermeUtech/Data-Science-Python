{
 "cells": [
  {
   "cell_type": "markdown",
   "metadata": {},
   "source": [
    "# Projeto de Support Vector Machines \n",
    "\n",
    "Bem vindo a seu projet de Support Vector Machine Project! Basta seguir o notebook e as instruções abaixo. Vamos analisar o famoso conjunto de dados da íris!\n",
    "\n",
    "## Os dados\n",
    "Para esta série de palestras, estaremos usando o famoso [conjunto de dados de íris](http://en.wikipedia.org/wiki/Iris_flower_data_set).\n",
    "\n",
    "O conjunto de dados florais Iris ou o conjunto de dados Iris de Fisher é um conjunto de dados multivariados introduzido por Sir Ronald Fisher em 1936 como um exemplo de análise discriminante.\n",
    "\n",
    "O conjunto de dados é composto por 50 amostras de cada uma das três espécies de íris (Iris setosa, Iris virginica e Iris versicolor), de modo que 150 amostras totais. Foram medidas quatro características de cada amostra: o comprimento e a largura das sépalas e pétalas, em centimetros.\n",
    "\n",
    "Aqui está uma imagem dos três diferentes tipos de íris:\n",
    "\n",
    "Bem-vindo ao seu Projeto de Máquina de Vetores de Suporte! Basta seguir o caderno e as instruções abaixo. Vamos analisar o famoso conjunto de dados da íris!"
   ]
  },
  {
   "cell_type": "code",
   "execution_count": null,
   "metadata": {},
   "outputs": [],
   "source": [
    "# Uma iris setosa\n",
    "from IPython.display import Image\n",
    "url = 'http://upload.wikimedia.org/wikipedia/commons/5/56/Kosaciec_szczecinkowaty_Iris_setosa.jpg'\n",
    "Image(url,width=300, height=300)"
   ]
  },
  {
   "cell_type": "code",
   "execution_count": null,
   "metadata": {},
   "outputs": [],
   "source": [
    "# Uma iris versicolor\n",
    "from IPython.display import Image\n",
    "url = 'http://upload.wikimedia.org/wikipedia/commons/4/41/Iris_versicolor_3.jpg'\n",
    "Image(url,width=300, height=300)"
   ]
  },
  {
   "cell_type": "code",
   "execution_count": null,
   "metadata": {},
   "outputs": [],
   "source": [
    "# Uma iris virginica\n",
    "from IPython.display import Image\n",
    "url = 'http://upload.wikimedia.org/wikipedia/commons/9/9f/Iris_virginica.jpg'\n",
    "Image(url,width=300, height=300)"
   ]
  },
  {
   "cell_type": "markdown",
   "metadata": {},
   "source": [
    "O conjunto de dados da íris contém medidas de 150 flores da íris de três espécies diferentes.\n",
    "\n",
    "As três classes no conjunto de dados Iris:\n",
    "\n",
    "     Iris-setosa (n = 50)\n",
    "     Iris-versicolor (n = 50)\n",
    "     Iris-virginica (n = 50)\n",
    "\n",
    "Os quatro recursos do conjunto de dados Iris:\n",
    "\n",
    "     comprimento sepal em cm\n",
    "     Largura sepal em cm\n",
    "     comprimento da pétala em cm\n",
    "     largura da pétala em cm\n",
    "\n",
    "## Obter os dados\n",
    "\n",
    "** Use seaborn para obter os dados da íris usando: iris = sns.load_dataset('iris') **"
   ]
  },
  {
   "cell_type": "code",
   "execution_count": null,
   "metadata": {},
   "outputs": [],
   "source": [
    "import pandas as pd\n",
    "import numpy as np\n",
    "import matplotlib.pyplot as plt\n",
    "import seaborn as sns\n",
    "%matplotlib inline\n",
    "\n",
    "iris = sns.load_dataset('iris')"
   ]
  },
  {
   "cell_type": "markdown",
   "metadata": {},
   "source": [
    "Vamos visualizar os dados e iniciá-lo!\n",
    "\n",
    "## Análise de dados exploratórios\n",
    "\n",
    "Tempo para colocar seu conhecimento de dados à prova! Tente recriar os seguintes gráficos, certifique-se de importar as bibliotecas que você precisa!\n",
    "\n",
    "** Importe algumas bibliotecas que você acha que você precisará. **"
   ]
  },
  {
   "cell_type": "code",
   "execution_count": null,
   "metadata": {},
   "outputs": [],
   "source": [
    "sns.pairplot(iris)"
   ]
  },
  {
   "cell_type": "markdown",
   "metadata": {},
   "source": [
    "** Crie um parplot do conjunto de dados. Qual espécie de flor parece ser a mais separável? **"
   ]
  },
  {
   "cell_type": "code",
   "execution_count": null,
   "metadata": {},
   "outputs": [],
   "source": [
    "sns.pairplot(iris, hue='species')"
   ]
  },
  {
   "cell_type": "markdown",
   "metadata": {},
   "source": [
    "** Crie um kde de comprimento sepal versus largura sepal para espécies de flores setosa. **"
   ]
  },
  {
   "cell_type": "code",
   "execution_count": null,
   "metadata": {},
   "outputs": [],
   "source": [
    "setosa = iris[iris['species'] == 'setosa']\n",
    "\n",
    "sns.kdeplot(x='sepal_width', y='sepal_length', data=setosa, cmap='plasma', shade=True, shade_lowest=False)"
   ]
  },
  {
   "cell_type": "markdown",
   "metadata": {},
   "source": [
    "# Divisao treino-teste\n",
    "\n",
    "** Divida seus dados em um conjunto de treinamento e um conjunto de testes. **"
   ]
  },
  {
   "cell_type": "code",
   "execution_count": null,
   "metadata": {},
   "outputs": [],
   "source": [
    "from sklearn.model_selection import train_test_split"
   ]
  },
  {
   "cell_type": "code",
   "execution_count": null,
   "metadata": {},
   "outputs": [],
   "source": [
    "X = iris.drop('species',inplace=False, axis=1)\n",
    "y = iris['species']"
   ]
  },
  {
   "cell_type": "markdown",
   "metadata": {},
   "source": [
    "# Treino um modelo\n",
    "\n",
    "Agora é hora de treinar um classificador de SVM.\n",
    "\n",
    "** Chame o modelo SVC() da sklearn e ajuste o modelo aos dados de treinamento. **"
   ]
  },
  {
   "cell_type": "code",
   "execution_count": 48,
   "metadata": {
    "collapsed": true
   },
   "outputs": [],
   "source": []
  },
  {
   "cell_type": "code",
   "execution_count": 49,
   "metadata": {
    "collapsed": true
   },
   "outputs": [],
   "source": []
  },
  {
   "cell_type": "code",
   "execution_count": 50,
   "metadata": {},
   "outputs": [
    {
     "data": {
      "text/plain": [
       "SVC(C=1.0, cache_size=200, class_weight=None, coef0=0.0,\n",
       "  decision_function_shape=None, degree=3, gamma='auto', kernel='rbf',\n",
       "  max_iter=-1, probability=False, random_state=None, shrinking=True,\n",
       "  tol=0.001, verbose=False)"
      ]
     },
     "execution_count": 50,
     "metadata": {},
     "output_type": "execute_result"
    }
   ],
   "source": []
  },
  {
   "cell_type": "markdown",
   "metadata": {
    "collapsed": true
   },
   "source": [
    "## Avaliação do modelo\n",
    "\n",
    "** Agora obtenha previsões do modelo e crie uma matriz de confusão e um relatório de classificação. **"
   ]
  },
  {
   "cell_type": "code",
   "execution_count": 51,
   "metadata": {
    "collapsed": true
   },
   "outputs": [],
   "source": []
  },
  {
   "cell_type": "code",
   "execution_count": 52,
   "metadata": {
    "collapsed": true
   },
   "outputs": [],
   "source": []
  },
  {
   "cell_type": "code",
   "execution_count": 53,
   "metadata": {},
   "outputs": [
    {
     "name": "stdout",
     "output_type": "stream",
     "text": [
      "[[15  0  0]\n",
      " [ 0 13  1]\n",
      " [ 0  0 16]]\n"
     ]
    }
   ],
   "source": []
  },
  {
   "cell_type": "code",
   "execution_count": 54,
   "metadata": {},
   "outputs": [
    {
     "name": "stdout",
     "output_type": "stream",
     "text": [
      "             precision    recall  f1-score   support\n",
      "\n",
      "     setosa       1.00      1.00      1.00        15\n",
      " versicolor       1.00      0.93      0.96        14\n",
      "  virginica       0.94      1.00      0.97        16\n",
      "\n",
      "avg / total       0.98      0.98      0.98        45\n",
      "\n"
     ]
    }
   ],
   "source": []
  },
  {
   "cell_type": "markdown",
   "metadata": {},
   "source": [
    "Uau! Você deveria ter notado que seu modelo foi muito bom! Vejamos se podemos ajustar os parâmetros para tentar melhorar ainda mais (improvável, e você provavelmente ficaria satisfeito com esses resultados em termos reais, porque o conjunto de dados é bastante pequeno, mas eu apenas quero que você pratique o uso do GridSearch."
   ]
  },
  {
   "cell_type": "markdown",
   "metadata": {},
   "source": [
    "## Prática do Gridsearch \n",
    "\n",
    "** Importe GridsearchCV do SciKit Learn.**"
   ]
  },
  {
   "cell_type": "code",
   "execution_count": 55,
   "metadata": {
    "collapsed": true
   },
   "outputs": [],
   "source": []
  },
  {
   "cell_type": "markdown",
   "metadata": {},
   "source": [
    "** Crie um dicionário chamado param_grid e preencha alguns parâmetros para C e gama. **"
   ]
  },
  {
   "cell_type": "code",
   "execution_count": 57,
   "metadata": {
    "collapsed": true
   },
   "outputs": [],
   "source": []
  },
  {
   "cell_type": "markdown",
   "metadata": {},
   "source": [
    "** Crie um objeto GridSearchCV e ajuste-o aos dados de treinamento. **"
   ]
  },
  {
   "cell_type": "code",
   "execution_count": 58,
   "metadata": {},
   "outputs": [
    {
     "name": "stdout",
     "output_type": "stream",
     "text": [
      "Fitting 3 folds for each of 16 candidates, totalling 48 fits\n",
      "[CV] gamma=1, C=0.1 ..................................................\n",
      "[CV] ......................................... gamma=1, C=0.1 -   0.0s\n",
      "[CV] gamma=1, C=0.1 ..................................................\n",
      "[CV] ......................................... gamma=1, C=0.1 -   0.0s\n",
      "[CV] gamma=1, C=0.1 ..................................................\n",
      "[CV] ......................................... gamma=1, C=0.1 -   0.0s\n",
      "[CV] gamma=0.1, C=0.1 ................................................\n",
      "[CV] ....................................... gamma=0.1, C=0.1 -   0.0s\n",
      "[CV] gamma=0.1, C=0.1 ................................................\n",
      "[CV] ....................................... gamma=0.1, C=0.1 -   0.0s\n",
      "[CV] gamma=0.1, C=0.1 ................................................\n",
      "[CV] ....................................... gamma=0.1, C=0.1 -   0.0s\n",
      "[CV] gamma=0.01, C=0.1 ...............................................\n",
      "[CV] ...................................... gamma=0.01, C=0.1 -   0.0s\n",
      "[CV] gamma=0.01, C=0.1 ...............................................\n",
      "[CV] ...................................... gamma=0.01, C=0.1 -   0.0s\n",
      "[CV] gamma=0.01, C=0.1 ...............................................\n",
      "[CV] ...................................... gamma=0.01, C=0.1 -   0.0s\n",
      "[CV] gamma=0.001, C=0.1 ..............................................\n",
      "[CV] ..................................... gamma=0.001, C=0.1 -   0.0s\n",
      "[CV] gamma=0.001, C=0.1 ..............................................\n",
      "[CV] ..................................... gamma=0.001, C=0.1 -   0.0s\n",
      "[CV] gamma=0.001, C=0.1 ..............................................\n",
      "[CV] ..................................... gamma=0.001, C=0.1 -   0.0s\n",
      "[CV] gamma=1, C=1 ....................................................\n",
      "[CV] ........................................... gamma=1, C=1 -   0.0s\n",
      "[CV] gamma=1, C=1 ....................................................\n",
      "[CV] ........................................... gamma=1, C=1 -   0.0s\n",
      "[CV] gamma=1, C=1 ....................................................\n",
      "[CV] ........................................... gamma=1, C=1 -   0.0s\n",
      "[CV] gamma=0.1, C=1 ..................................................\n",
      "[CV] ......................................... gamma=0.1, C=1 -   0.0s\n",
      "[CV] gamma=0.1, C=1 ..................................................\n",
      "[CV] ......................................... gamma=0.1, C=1 -   0.0s\n",
      "[CV] gamma=0.1, C=1 ..................................................\n",
      "[CV] ......................................... gamma=0.1, C=1 -   0.0s\n",
      "[CV] gamma=0.01, C=1 .................................................\n",
      "[CV] ........................................ gamma=0.01, C=1 -   0.0s\n",
      "[CV] gamma=0.01, C=1 .................................................\n",
      "[CV] ........................................ gamma=0.01, C=1 -   0.0s\n",
      "[CV] gamma=0.01, C=1 .................................................\n",
      "[CV] ........................................ gamma=0.01, C=1 -   0.0s\n",
      "[CV] gamma=0.001, C=1 ................................................\n",
      "[CV] ....................................... gamma=0.001, C=1 -   0.0s\n",
      "[CV] gamma=0.001, C=1 ................................................\n",
      "[CV] ....................................... gamma=0.001, C=1 -   0.0s\n",
      "[CV] gamma=0.001, C=1 ................................................\n",
      "[CV] ....................................... gamma=0.001, C=1 -   0.0s\n",
      "[CV] gamma=1, C=10 ...................................................\n",
      "[CV] .......................................... gamma=1, C=10 -   0.0s\n",
      "[CV] gamma=1, C=10 ...................................................\n",
      "[CV] .......................................... gamma=1, C=10 -   0.0s\n",
      "[CV] gamma=1, C=10 ...................................................\n",
      "[CV] .......................................... gamma=1, C=10 -   0.0s\n",
      "[CV] gamma=0.1, C=10 .................................................\n",
      "[CV] ........................................ gamma=0.1, C=10 -   0.0s\n",
      "[CV] gamma=0.1, C=10 .................................................\n",
      "[CV] ........................................ gamma=0.1, C=10 -   0.0s\n",
      "[CV] gamma=0.1, C=10 .................................................\n",
      "[CV] ........................................ gamma=0.1, C=10 -   0.0s\n",
      "[CV] gamma=0.01, C=10 ................................................\n",
      "[CV] ....................................... gamma=0.01, C=10 -   0.0s\n",
      "[CV] gamma=0.01, C=10 ................................................\n",
      "[CV] ....................................... gamma=0.01, C=10 -   0.0s\n",
      "[CV] gamma=0.01, C=10 ................................................\n",
      "[CV] ....................................... gamma=0.01, C=10 -   0.0s\n",
      "[CV] gamma=0.001, C=10 ...............................................\n",
      "[CV] ...................................... gamma=0.001, C=10 -   0.0s\n",
      "[CV] gamma=0.001, C=10 ...............................................\n",
      "[CV] ...................................... gamma=0.001, C=10 -   0.0s\n",
      "[CV] gamma=0.001, C=10 ...............................................\n",
      "[CV] ...................................... gamma=0.001, C=10 -   0.0s\n",
      "[CV] gamma=1, C=100 ..................................................\n",
      "[CV] ......................................... gamma=1, C=100 -   0.0s\n",
      "[CV] gamma=1, C=100 ..................................................\n",
      "[CV] ......................................... gamma=1, C=100 -   0.0s\n",
      "[CV] gamma=1, C=100 ..................................................\n",
      "[CV] ......................................... gamma=1, C=100 -   0.0s\n",
      "[CV] gamma=0.1, C=100 ................................................\n",
      "[CV] ....................................... gamma=0.1, C=100 -   0.0s\n",
      "[CV] gamma=0.1, C=100 ................................................\n",
      "[CV] ....................................... gamma=0.1, C=100 -   0.0s\n",
      "[CV] gamma=0.1, C=100 ................................................\n",
      "[CV] ....................................... gamma=0.1, C=100 -   0.0s\n",
      "[CV] gamma=0.01, C=100 ...............................................\n",
      "[CV] ...................................... gamma=0.01, C=100 -   0.0s\n",
      "[CV] gamma=0.01, C=100 ...............................................\n",
      "[CV] ...................................... gamma=0.01, C=100 -   0.0s\n",
      "[CV] gamma=0.01, C=100 ...............................................\n",
      "[CV] ...................................... gamma=0.01, C=100 -   0.0s\n",
      "[CV] gamma=0.001, C=100 ..............................................\n",
      "[CV] ..................................... gamma=0.001, C=100 -   0.0s\n",
      "[CV] gamma=0.001, C=100 ..............................................\n",
      "[CV] ..................................... gamma=0.001, C=100 -   0.0s\n",
      "[CV] gamma=0.001, C=100 ..............................................\n",
      "[CV] ..................................... gamma=0.001, C=100 -   0.0s\n"
     ]
    },
    {
     "name": "stderr",
     "output_type": "stream",
     "text": [
      "[Parallel(n_jobs=1)]: Done  40 tasks       | elapsed:    0.2s\n",
      "[Parallel(n_jobs=1)]: Done  48 out of  48 | elapsed:    0.2s finished\n"
     ]
    },
    {
     "data": {
      "text/plain": [
       "GridSearchCV(cv=None, error_score='raise',\n",
       "       estimator=SVC(C=1.0, cache_size=200, class_weight=None, coef0=0.0,\n",
       "  decision_function_shape=None, degree=3, gamma='auto', kernel='rbf',\n",
       "  max_iter=-1, probability=False, random_state=None, shrinking=True,\n",
       "  tol=0.001, verbose=False),\n",
       "       fit_params={}, iid=True, n_jobs=1,\n",
       "       param_grid={'gamma': [1, 0.1, 0.01, 0.001], 'C': [0.1, 1, 10, 100]},\n",
       "       pre_dispatch='2*n_jobs', refit=True, scoring=None, verbose=2)"
      ]
     },
     "execution_count": 58,
     "metadata": {},
     "output_type": "execute_result"
    }
   ],
   "source": []
  },
  {
   "cell_type": "markdown",
   "metadata": {},
   "source": [
    "** Agora pegue esse modelo de Grid e crie algumas previsões usando o conjunto de teste e crie relatórios de classificação e matrizes de confusão para eles. Você conseguiu melhorar algo? **"
   ]
  },
  {
   "cell_type": "code",
   "execution_count": 59,
   "metadata": {
    "collapsed": true
   },
   "outputs": [],
   "source": []
  },
  {
   "cell_type": "code",
   "execution_count": 60,
   "metadata": {},
   "outputs": [
    {
     "name": "stdout",
     "output_type": "stream",
     "text": [
      "[[15  0  0]\n",
      " [ 0 13  1]\n",
      " [ 0  0 16]]\n"
     ]
    }
   ],
   "source": []
  },
  {
   "cell_type": "code",
   "execution_count": 61,
   "metadata": {},
   "outputs": [
    {
     "name": "stdout",
     "output_type": "stream",
     "text": [
      "             precision    recall  f1-score   support\n",
      "\n",
      "     setosa       1.00      1.00      1.00        15\n",
      " versicolor       1.00      0.93      0.96        14\n",
      "  virginica       0.94      1.00      0.97        16\n",
      "\n",
      "avg / total       0.98      0.98      0.98        45\n",
      "\n"
     ]
    }
   ],
   "source": []
  },
  {
   "cell_type": "markdown",
   "metadata": {},
   "source": [
    "Você deveria ter conseguido praticamente o mesmo ou exatamente o mesmo, isso faz sentido, basicamente há apenas um ponto que é muito confuso para separar, o que faz sentido, não queremos ter um modelo de superposição que possa trabalhar com isso."
   ]
  }
 ],
 "metadata": {
  "kernelspec": {
   "display_name": "Python 3",
   "language": "python",
   "name": "python3"
  },
  "language_info": {
   "codemirror_mode": {
    "name": "ipython",
    "version": 3
   },
   "file_extension": ".py",
   "mimetype": "text/x-python",
   "name": "python",
   "nbconvert_exporter": "python",
   "pygments_lexer": "ipython3",
   "version": "3.8.5"
  }
 },
 "nbformat": 4,
 "nbformat_minor": 1
}
