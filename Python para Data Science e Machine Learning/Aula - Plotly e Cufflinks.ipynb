{
 "cells": [
  {
   "cell_type": "markdown",
   "metadata": {},
   "source": [
    "<h1>Plotly e Cufflinks</h1>"
   ]
  },
  {
   "cell_type": "code",
   "execution_count": 15,
   "metadata": {},
   "outputs": [],
   "source": [
    "import pandas as pd\n",
    "import numpy as np\n",
    "import matplotlib.pyplot as plt\n",
    "%matplotlib inline"
   ]
  },
  {
   "cell_type": "code",
   "execution_count": 4,
   "metadata": {},
   "outputs": [],
   "source": [
    "from plotly import __version__"
   ]
  },
  {
   "cell_type": "code",
   "execution_count": 5,
   "metadata": {},
   "outputs": [
    {
     "name": "stdout",
     "output_type": "stream",
     "text": [
      "4.14.3\n"
     ]
    }
   ],
   "source": [
    "print(__version__)"
   ]
  },
  {
   "cell_type": "code",
   "execution_count": 6,
   "metadata": {},
   "outputs": [],
   "source": [
    "from plotly.offline import download_plotlyjs, init_notebook_mode, plot, iplot"
   ]
  },
  {
   "cell_type": "code",
   "execution_count": 7,
   "metadata": {},
   "outputs": [
    {
     "ename": "ModuleNotFoundError",
     "evalue": "No module named 'cufflinks'",
     "output_type": "error",
     "traceback": [
      "\u001b[1;31m---------------------------------------------------------------------------\u001b[0m",
      "\u001b[1;31mModuleNotFoundError\u001b[0m                       Traceback (most recent call last)",
      "\u001b[1;32m<ipython-input-7-330fe6b79cef>\u001b[0m in \u001b[0;36m<module>\u001b[1;34m\u001b[0m\n\u001b[1;32m----> 1\u001b[1;33m \u001b[1;32mimport\u001b[0m \u001b[0mcufflinks\u001b[0m \u001b[1;32mas\u001b[0m \u001b[0msf\u001b[0m\u001b[1;33m\u001b[0m\u001b[1;33m\u001b[0m\u001b[0m\n\u001b[0m",
      "\u001b[1;31mModuleNotFoundError\u001b[0m: No module named 'cufflinks'"
     ]
    }
   ],
   "source": [
    "import cufflinks as sf"
   ]
  },
  {
   "cell_type": "code",
   "execution_count": 8,
   "metadata": {},
   "outputs": [
    {
     "name": "stdout",
     "output_type": "stream",
     "text": [
      "Collecting cufflinks\n",
      "  Using cached cufflinks-0.17.3.tar.gz (81 kB)\n",
      "Requirement already satisfied: numpy>=1.9.2 in c:\\users\\guilherme\\anaconda3\\lib\\site-packages (from cufflinks) (1.19.2)\n",
      "Requirement already satisfied: pandas>=0.19.2 in c:\\users\\guilherme\\anaconda3\\lib\\site-packages (from cufflinks) (1.1.3)\n",
      "Requirement already satisfied: plotly>=4.1.1 in c:\\users\\guilherme\\anaconda3\\lib\\site-packages (from cufflinks) (4.14.3)\n",
      "Requirement already satisfied: six>=1.9.0 in c:\\users\\guilherme\\anaconda3\\lib\\site-packages (from cufflinks) (1.15.0)\n",
      "Collecting colorlover>=0.2.1\n",
      "  Using cached colorlover-0.3.0-py3-none-any.whl (8.9 kB)\n",
      "Requirement already satisfied: setuptools>=34.4.1 in c:\\users\\guilherme\\anaconda3\\lib\\site-packages (from cufflinks) (50.3.1.post20201107)\n",
      "Requirement already satisfied: ipython>=5.3.0 in c:\\users\\guilherme\\anaconda3\\lib\\site-packages (from cufflinks) (7.19.0)\n",
      "Requirement already satisfied: ipywidgets>=7.0.0 in c:\\users\\guilherme\\anaconda3\\lib\\site-packages (from cufflinks) (7.5.1)\n",
      "Requirement already satisfied: python-dateutil>=2.7.3 in c:\\users\\guilherme\\anaconda3\\lib\\site-packages (from pandas>=0.19.2->cufflinks) (2.8.1)\n",
      "Requirement already satisfied: pytz>=2017.2 in c:\\users\\guilherme\\anaconda3\\lib\\site-packages (from pandas>=0.19.2->cufflinks) (2020.1)\n",
      "Requirement already satisfied: retrying>=1.3.3 in c:\\users\\guilherme\\anaconda3\\lib\\site-packages (from plotly>=4.1.1->cufflinks) (1.3.3)\n",
      "Requirement already satisfied: pygments in c:\\users\\guilherme\\anaconda3\\lib\\site-packages (from ipython>=5.3.0->cufflinks) (2.7.2)\n",
      "Requirement already satisfied: pickleshare in c:\\users\\guilherme\\anaconda3\\lib\\site-packages (from ipython>=5.3.0->cufflinks) (0.7.5)\n",
      "Requirement already satisfied: decorator in c:\\users\\guilherme\\anaconda3\\lib\\site-packages (from ipython>=5.3.0->cufflinks) (4.4.2)\n",
      "Requirement already satisfied: jedi>=0.10 in c:\\users\\guilherme\\anaconda3\\lib\\site-packages (from ipython>=5.3.0->cufflinks) (0.17.1)\n",
      "Requirement already satisfied: traitlets>=4.2 in c:\\users\\guilherme\\anaconda3\\lib\\site-packages (from ipython>=5.3.0->cufflinks) (5.0.5)\n",
      "Requirement already satisfied: colorama; sys_platform == \"win32\" in c:\\users\\guilherme\\anaconda3\\lib\\site-packages (from ipython>=5.3.0->cufflinks) (0.4.4)\n",
      "Requirement already satisfied: backcall in c:\\users\\guilherme\\anaconda3\\lib\\site-packages (from ipython>=5.3.0->cufflinks) (0.2.0)\n",
      "Requirement already satisfied: prompt-toolkit!=3.0.0,!=3.0.1,<3.1.0,>=2.0.0 in c:\\users\\guilherme\\anaconda3\\lib\\site-packages (from ipython>=5.3.0->cufflinks) (3.0.8)\n",
      "Requirement already satisfied: widgetsnbextension~=3.5.0 in c:\\users\\guilherme\\anaconda3\\lib\\site-packages (from ipywidgets>=7.0.0->cufflinks) (3.5.1)\n",
      "Requirement already satisfied: nbformat>=4.2.0 in c:\\users\\guilherme\\anaconda3\\lib\\site-packages (from ipywidgets>=7.0.0->cufflinks) (5.0.8)\n",
      "Requirement already satisfied: ipykernel>=4.5.1 in c:\\users\\guilherme\\anaconda3\\lib\\site-packages (from ipywidgets>=7.0.0->cufflinks) (5.3.4)\n",
      "Requirement already satisfied: parso<0.8.0,>=0.7.0 in c:\\users\\guilherme\\anaconda3\\lib\\site-packages (from jedi>=0.10->ipython>=5.3.0->cufflinks) (0.7.0)\n",
      "Requirement already satisfied: ipython-genutils in c:\\users\\guilherme\\anaconda3\\lib\\site-packages (from traitlets>=4.2->ipython>=5.3.0->cufflinks) (0.2.0)\n",
      "Requirement already satisfied: wcwidth in c:\\users\\guilherme\\anaconda3\\lib\\site-packages (from prompt-toolkit!=3.0.0,!=3.0.1,<3.1.0,>=2.0.0->ipython>=5.3.0->cufflinks) (0.2.5)\n",
      "Requirement already satisfied: notebook>=4.4.1 in c:\\users\\guilherme\\anaconda3\\lib\\site-packages (from widgetsnbextension~=3.5.0->ipywidgets>=7.0.0->cufflinks) (6.1.4)\n",
      "Requirement already satisfied: jupyter-core in c:\\users\\guilherme\\anaconda3\\lib\\site-packages (from nbformat>=4.2.0->ipywidgets>=7.0.0->cufflinks) (4.6.3)\n",
      "Requirement already satisfied: jsonschema!=2.5.0,>=2.4 in c:\\users\\guilherme\\anaconda3\\lib\\site-packages (from nbformat>=4.2.0->ipywidgets>=7.0.0->cufflinks) (3.2.0)\n",
      "Requirement already satisfied: jupyter-client in c:\\users\\guilherme\\anaconda3\\lib\\site-packages (from ipykernel>=4.5.1->ipywidgets>=7.0.0->cufflinks) (6.1.7)\n",
      "Requirement already satisfied: tornado>=4.2 in c:\\users\\guilherme\\anaconda3\\lib\\site-packages (from ipykernel>=4.5.1->ipywidgets>=7.0.0->cufflinks) (6.0.4)\n",
      "Requirement already satisfied: jinja2 in c:\\users\\guilherme\\anaconda3\\lib\\site-packages (from notebook>=4.4.1->widgetsnbextension~=3.5.0->ipywidgets>=7.0.0->cufflinks) (2.11.2)\n",
      "Requirement already satisfied: nbconvert in c:\\users\\guilherme\\anaconda3\\lib\\site-packages (from notebook>=4.4.1->widgetsnbextension~=3.5.0->ipywidgets>=7.0.0->cufflinks) (6.0.7)\n",
      "Requirement already satisfied: terminado>=0.8.3 in c:\\users\\guilherme\\anaconda3\\lib\\site-packages (from notebook>=4.4.1->widgetsnbextension~=3.5.0->ipywidgets>=7.0.0->cufflinks) (0.9.1)\n",
      "Requirement already satisfied: pyzmq>=17 in c:\\users\\guilherme\\anaconda3\\lib\\site-packages (from notebook>=4.4.1->widgetsnbextension~=3.5.0->ipywidgets>=7.0.0->cufflinks) (19.0.2)\n",
      "Requirement already satisfied: Send2Trash in c:\\users\\guilherme\\anaconda3\\lib\\site-packages (from notebook>=4.4.1->widgetsnbextension~=3.5.0->ipywidgets>=7.0.0->cufflinks) (1.5.0)\n",
      "Requirement already satisfied: argon2-cffi in c:\\users\\guilherme\\anaconda3\\lib\\site-packages (from notebook>=4.4.1->widgetsnbextension~=3.5.0->ipywidgets>=7.0.0->cufflinks) (20.1.0)\n",
      "Requirement already satisfied: prometheus-client in c:\\users\\guilherme\\anaconda3\\lib\\site-packages (from notebook>=4.4.1->widgetsnbextension~=3.5.0->ipywidgets>=7.0.0->cufflinks) (0.8.0)\n",
      "Requirement already satisfied: pywin32>=1.0; sys_platform == \"win32\" in c:\\users\\guilherme\\anaconda3\\lib\\site-packages (from jupyter-core->nbformat>=4.2.0->ipywidgets>=7.0.0->cufflinks) (227)\n",
      "Requirement already satisfied: pyrsistent>=0.14.0 in c:\\users\\guilherme\\anaconda3\\lib\\site-packages (from jsonschema!=2.5.0,>=2.4->nbformat>=4.2.0->ipywidgets>=7.0.0->cufflinks) (0.17.3)\n",
      "Requirement already satisfied: attrs>=17.4.0 in c:\\users\\guilherme\\anaconda3\\lib\\site-packages (from jsonschema!=2.5.0,>=2.4->nbformat>=4.2.0->ipywidgets>=7.0.0->cufflinks) (20.3.0)\n",
      "Requirement already satisfied: MarkupSafe>=0.23 in c:\\users\\guilherme\\anaconda3\\lib\\site-packages (from jinja2->notebook>=4.4.1->widgetsnbextension~=3.5.0->ipywidgets>=7.0.0->cufflinks) (1.1.1)\n",
      "Requirement already satisfied: pandocfilters>=1.4.1 in c:\\users\\guilherme\\anaconda3\\lib\\site-packages (from nbconvert->notebook>=4.4.1->widgetsnbextension~=3.5.0->ipywidgets>=7.0.0->cufflinks) (1.4.3)\n",
      "Requirement already satisfied: jupyterlab-pygments in c:\\users\\guilherme\\anaconda3\\lib\\site-packages (from nbconvert->notebook>=4.4.1->widgetsnbextension~=3.5.0->ipywidgets>=7.0.0->cufflinks) (0.1.2)\n",
      "Requirement already satisfied: testpath in c:\\users\\guilherme\\anaconda3\\lib\\site-packages (from nbconvert->notebook>=4.4.1->widgetsnbextension~=3.5.0->ipywidgets>=7.0.0->cufflinks) (0.4.4)\n",
      "Requirement already satisfied: entrypoints>=0.2.2 in c:\\users\\guilherme\\anaconda3\\lib\\site-packages (from nbconvert->notebook>=4.4.1->widgetsnbextension~=3.5.0->ipywidgets>=7.0.0->cufflinks) (0.3)\n",
      "Requirement already satisfied: bleach in c:\\users\\guilherme\\anaconda3\\lib\\site-packages (from nbconvert->notebook>=4.4.1->widgetsnbextension~=3.5.0->ipywidgets>=7.0.0->cufflinks) (3.2.1)\n",
      "Requirement already satisfied: nbclient<0.6.0,>=0.5.0 in c:\\users\\guilherme\\anaconda3\\lib\\site-packages (from nbconvert->notebook>=4.4.1->widgetsnbextension~=3.5.0->ipywidgets>=7.0.0->cufflinks) (0.5.1)\n",
      "Requirement already satisfied: mistune<2,>=0.8.1 in c:\\users\\guilherme\\anaconda3\\lib\\site-packages (from nbconvert->notebook>=4.4.1->widgetsnbextension~=3.5.0->ipywidgets>=7.0.0->cufflinks) (0.8.4)\n",
      "Requirement already satisfied: defusedxml in c:\\users\\guilherme\\anaconda3\\lib\\site-packages (from nbconvert->notebook>=4.4.1->widgetsnbextension~=3.5.0->ipywidgets>=7.0.0->cufflinks) (0.6.0)\n",
      "Requirement already satisfied: pywinpty>=0.5 in c:\\users\\guilherme\\anaconda3\\lib\\site-packages (from terminado>=0.8.3->notebook>=4.4.1->widgetsnbextension~=3.5.0->ipywidgets>=7.0.0->cufflinks) (0.5.7)\n",
      "Requirement already satisfied: cffi>=1.0.0 in c:\\users\\guilherme\\anaconda3\\lib\\site-packages (from argon2-cffi->notebook>=4.4.1->widgetsnbextension~=3.5.0->ipywidgets>=7.0.0->cufflinks) (1.14.3)\n",
      "Requirement already satisfied: webencodings in c:\\users\\guilherme\\anaconda3\\lib\\site-packages (from bleach->nbconvert->notebook>=4.4.1->widgetsnbextension~=3.5.0->ipywidgets>=7.0.0->cufflinks) (0.5.1)\n",
      "Requirement already satisfied: packaging in c:\\users\\guilherme\\anaconda3\\lib\\site-packages (from bleach->nbconvert->notebook>=4.4.1->widgetsnbextension~=3.5.0->ipywidgets>=7.0.0->cufflinks) (20.4)\n",
      "Requirement already satisfied: nest-asyncio in c:\\users\\guilherme\\anaconda3\\lib\\site-packages (from nbclient<0.6.0,>=0.5.0->nbconvert->notebook>=4.4.1->widgetsnbextension~=3.5.0->ipywidgets>=7.0.0->cufflinks) (1.4.2)\n",
      "Requirement already satisfied: async-generator in c:\\users\\guilherme\\anaconda3\\lib\\site-packages (from nbclient<0.6.0,>=0.5.0->nbconvert->notebook>=4.4.1->widgetsnbextension~=3.5.0->ipywidgets>=7.0.0->cufflinks) (1.10)\n",
      "Requirement already satisfied: pycparser in c:\\users\\guilherme\\anaconda3\\lib\\site-packages (from cffi>=1.0.0->argon2-cffi->notebook>=4.4.1->widgetsnbextension~=3.5.0->ipywidgets>=7.0.0->cufflinks) (2.20)\n",
      "Requirement already satisfied: pyparsing>=2.0.2 in c:\\users\\guilherme\\anaconda3\\lib\\site-packages (from packaging->bleach->nbconvert->notebook>=4.4.1->widgetsnbextension~=3.5.0->ipywidgets>=7.0.0->cufflinks) (2.4.7)\n",
      "Building wheels for collected packages: cufflinks\n",
      "  Building wheel for cufflinks (setup.py): started\n",
      "  Building wheel for cufflinks (setup.py): finished with status 'done'\n",
      "  Created wheel for cufflinks: filename=cufflinks-0.17.3-py3-none-any.whl size=68727 sha256=83de8f43ea8a459b11c71d1d122a33f968c4b21ff895a89b4ca0c46d600635a7\n",
      "  Stored in directory: c:\\users\\guilherme\\appdata\\local\\pip\\cache\\wheels\\6b\\76\\62\\6da97734911ffcbdd559fd1a3f28526321f0ae699182a23866\n",
      "Successfully built cufflinks\n",
      "Installing collected packages: colorlover, cufflinks\n",
      "Successfully installed colorlover-0.3.0 cufflinks-0.17.3\n",
      "Note: you may need to restart the kernel to use updated packages.\n"
     ]
    }
   ],
   "source": [
    "pip install cufflinks"
   ]
  },
  {
   "cell_type": "code",
   "execution_count": 9,
   "metadata": {},
   "outputs": [],
   "source": [
    "import cufflinks as cf"
   ]
  },
  {
   "cell_type": "code",
   "execution_count": 10,
   "metadata": {},
   "outputs": [
    {
     "data": {
      "text/html": [
       "        <script type=\"text/javascript\">\n",
       "        window.PlotlyConfig = {MathJaxConfig: 'local'};\n",
       "        if (window.MathJax) {MathJax.Hub.Config({SVG: {font: \"STIX-Web\"}});}\n",
       "        if (typeof require !== 'undefined') {\n",
       "        require.undef(\"plotly\");\n",
       "        requirejs.config({\n",
       "            paths: {\n",
       "                'plotly': ['https://cdn.plot.ly/plotly-latest.min']\n",
       "            }\n",
       "        });\n",
       "        require(['plotly'], function(Plotly) {\n",
       "            window._Plotly = Plotly;\n",
       "        });\n",
       "        }\n",
       "        </script>\n",
       "        "
      ]
     },
     "metadata": {},
     "output_type": "display_data"
    }
   ],
   "source": [
    "init_notebook_mode(connected=True)"
   ]
  },
  {
   "cell_type": "code",
   "execution_count": 11,
   "metadata": {},
   "outputs": [
    {
     "data": {
      "text/html": [
       "        <script type=\"text/javascript\">\n",
       "        window.PlotlyConfig = {MathJaxConfig: 'local'};\n",
       "        if (window.MathJax) {MathJax.Hub.Config({SVG: {font: \"STIX-Web\"}});}\n",
       "        if (typeof require !== 'undefined') {\n",
       "        require.undef(\"plotly\");\n",
       "        requirejs.config({\n",
       "            paths: {\n",
       "                'plotly': ['https://cdn.plot.ly/plotly-latest.min']\n",
       "            }\n",
       "        });\n",
       "        require(['plotly'], function(Plotly) {\n",
       "            window._Plotly = Plotly;\n",
       "        });\n",
       "        }\n",
       "        </script>\n",
       "        "
      ]
     },
     "metadata": {},
     "output_type": "display_data"
    }
   ],
   "source": [
    "cf.go_offline()"
   ]
  },
  {
   "cell_type": "code",
   "execution_count": 16,
   "metadata": {},
   "outputs": [],
   "source": [
    "df = pd.DataFrame(np.random.randn(100, 4), columns='A B C D'.split())"
   ]
  },
  {
   "cell_type": "code",
   "execution_count": 17,
   "metadata": {},
   "outputs": [
    {
     "data": {
      "text/html": [
       "<div>\n",
       "<style scoped>\n",
       "    .dataframe tbody tr th:only-of-type {\n",
       "        vertical-align: middle;\n",
       "    }\n",
       "\n",
       "    .dataframe tbody tr th {\n",
       "        vertical-align: top;\n",
       "    }\n",
       "\n",
       "    .dataframe thead th {\n",
       "        text-align: right;\n",
       "    }\n",
       "</style>\n",
       "<table border=\"1\" class=\"dataframe\">\n",
       "  <thead>\n",
       "    <tr style=\"text-align: right;\">\n",
       "      <th></th>\n",
       "      <th>A</th>\n",
       "      <th>B</th>\n",
       "      <th>C</th>\n",
       "      <th>D</th>\n",
       "    </tr>\n",
       "  </thead>\n",
       "  <tbody>\n",
       "    <tr>\n",
       "      <th>0</th>\n",
       "      <td>-0.294124</td>\n",
       "      <td>1.123204</td>\n",
       "      <td>1.129434</td>\n",
       "      <td>-0.300566</td>\n",
       "    </tr>\n",
       "    <tr>\n",
       "      <th>1</th>\n",
       "      <td>-1.205576</td>\n",
       "      <td>-0.027646</td>\n",
       "      <td>-1.887572</td>\n",
       "      <td>0.469041</td>\n",
       "    </tr>\n",
       "    <tr>\n",
       "      <th>2</th>\n",
       "      <td>1.673906</td>\n",
       "      <td>-0.083989</td>\n",
       "      <td>-1.085188</td>\n",
       "      <td>-0.156868</td>\n",
       "    </tr>\n",
       "    <tr>\n",
       "      <th>3</th>\n",
       "      <td>0.286977</td>\n",
       "      <td>-0.151492</td>\n",
       "      <td>1.244120</td>\n",
       "      <td>0.345980</td>\n",
       "    </tr>\n",
       "    <tr>\n",
       "      <th>4</th>\n",
       "      <td>0.413959</td>\n",
       "      <td>1.329781</td>\n",
       "      <td>1.545932</td>\n",
       "      <td>-0.876527</td>\n",
       "    </tr>\n",
       "  </tbody>\n",
       "</table>\n",
       "</div>"
      ],
      "text/plain": [
       "          A         B         C         D\n",
       "0 -0.294124  1.123204  1.129434 -0.300566\n",
       "1 -1.205576 -0.027646 -1.887572  0.469041\n",
       "2  1.673906 -0.083989 -1.085188 -0.156868\n",
       "3  0.286977 -0.151492  1.244120  0.345980\n",
       "4  0.413959  1.329781  1.545932 -0.876527"
      ]
     },
     "execution_count": 17,
     "metadata": {},
     "output_type": "execute_result"
    }
   ],
   "source": [
    "df.head()"
   ]
  },
  {
   "cell_type": "code",
   "execution_count": 18,
   "metadata": {},
   "outputs": [],
   "source": [
    "df2 = pd.DataFrame({'Categoria':['A','B','C'], 'Valores':[32,43,50]})"
   ]
  },
  {
   "cell_type": "code",
   "execution_count": 19,
   "metadata": {},
   "outputs": [
    {
     "data": {
      "text/plain": [
       "<AxesSubplot:xlabel='A', ylabel='B'>"
      ]
     },
     "execution_count": 19,
     "metadata": {},
     "output_type": "execute_result"
    },
    {
     "data": {
      "image/png": "[encoded data removed]",
      "text/plain": [
       "<Figure size 432x288 with 1 Axes>"
      ]
     },
     "metadata": {
      "needs_background": "light"
     },
     "output_type": "display_data"
    }
   ],
   "source": [
    "df.plot(kind='scatter', x='A', y='B') #padrão pandas"
   ]
  },
  {
   "cell_type": "code",
   "execution_count": 22,
   "metadata": {},
   "outputs": [
    {
     "data": {
      "application/vnd.plotly.v1+json": {
       "config": {
        "linkText": "Export to plot.ly",
        "plotlyServerURL": "https://plot.ly",
        "showLink": true
       },
       "data": [
        {
         "line": {
          "color": "rgba(255, 153, 51, 1.0)",
          "dash": "solid",
          "shape": "linear",
          "width": 1.3
         },
         "marker": {
          "size": 12,
          "symbol": "circle"
         },
         "mode": "markers",
         "name": "B",
         "text": "",
         "type": "scatter",
         "x": [
          -0.2941236145979744,
          -1.2055757622417584,
          1.6739059144807003,
          0.28697682921847084,
          0.41395886627795436,
          0.3258350572180524,
          0.5252390425920379,
          -0.5736684755822246,
          -0.5700688362477726,
          0.3645225874268893,
          -1.1647288821832336,
          0.08451189819558057,
          -0.744180002462252,
          -1.2151693534115133,
          -1.2344417644275725,
          -1.2727768086178122,
          -1.109210674025156,
          1.8561357436671402,
          -0.5743628582238592,
          -1.2869710643656933,
          0.5654720433196601,
          -0.06184951055573469,
          1.5426557670599157,
          1.5183339797624478,
          1.1914744908087287,
          0.6123027103271466,
          -1.1128315368989694,
          0.34211525618759664,
          -1.5427770588082996,
          -1.8095088920475255,
          0.8914290648608734,
          0.5707299722117781,
          0.4150615465660746,
          -0.15779149891157998,
          -0.37577490575303407,
          -1.3493202029071392,
          -2.149745000938564,
          -0.1665954222704084,
          -0.14825310781359657,
          0.9726743509758792,
          -0.4263313438545262,
          -0.8371332285968943,
          -1.00910939339172,
          0.9687066851117567,
          -0.31949200585851995,
          0.3811634222615911,
          -0.8701558140039154,
          0.4530440030691015,
          0.17712571854006096,
          -1.2943118538026293,
          -0.9440276852622483,
          -1.6140737385993082,
          -0.5820649119257266,
          2.024328108515571,
          0.09159763211659076,
          0.8699658570083942,
          -1.9701241141643424,
          1.7690020942672438,
          0.5602034891518604,
          0.45164160230701056,
          -0.028028443485482134,
          0.3885875044711814,
          0.018490601080752518,
          2.8676657947150765,
          -0.8816260097799625,
          0.5214180441747942,
          -0.2093671541431842,
          0.415228606814977,
          -1.7884617684009187,
          -1.1882225177627814,
          -0.684762457408276,
          -1.9832688668725418,
          0.9310360124815191,
          -0.5457278756057826,
          -0.710547760985368,
          -0.5446929238244186,
          -0.19630294700548082,
          -1.44280738406763,
          -0.8331241658672963,
          -0.45235685481235416,
          -0.6728883540615982,
          0.3344908135970183,
          0.7970971944919325,
          1.3589465498265694,
          1.6675265431050559,
          -0.24149016625430927,
          0.3735431989596485,
          2.327748140643649,
          -0.1382155746471087,
          -0.7712757639353897,
          -0.4514863772912042,
          -0.46245415819363367,
          1.6861611281399966,
          0.3070846956990549,
          -0.7986246032710236,
          -0.37716556826567615,
          0.027142910172499594,
          -0.16862571807318036,
          -2.610727992542222,
          1.8581627120087132
         ],
         "y": [
          1.1232035304834727,
          -0.027646444578447983,
          -0.08398900118924442,
          -0.15149207680460008,
          1.3297811358905003,
          -0.3588283929141447,
          -0.09241960340912399,
          0.4144283948863819,
          -0.3242812375394934,
          2.3983374404567153,
          0.06909517875539394,
          -0.9047885203720661,
          -0.3265029067093802,
          1.7107990386995107,
          -0.10882256063664028,
          0.4897875303308817,
          -1.0135894728524193,
          1.469438190961238,
          0.036116091249880994,
          -0.8489964394716256,
          1.1045547892308794,
          -2.733992479927418,
          0.32155595967427597,
          1.1730656687096301,
          0.08919563895231453,
          -0.25087110936678997,
          0.3482220702050979,
          -1.7806719298663185,
          -0.4513396599289586,
          -1.9081904190159555,
          -0.3819735660336761,
          0.8622929704051494,
          0.6643974389859816,
          -0.10482717044736548,
          -0.2978187641213,
          0.38498283608367456,
          -0.2923058128870225,
          -1.8272050682618728,
          0.9994086669080886,
          0.22725335504437277,
          0.543937236379081,
          0.07227911719372908,
          1.5237616967102592,
          -0.9532437020079461,
          -0.15113803558243055,
          0.2617176444724291,
          -0.24506613212165868,
          -0.5207569261079663,
          -0.8532011988899243,
          1.0864728378980126,
          0.4654840803605472,
          0.09625462622839667,
          -0.7357046380750296,
          0.030202365540960157,
          0.9262509241518855,
          1.9593338921574195,
          -1.3661245536871027,
          0.7323140351673906,
          0.006607641087876381,
          1.7473651609919887,
          0.4219988261940681,
          1.4191862517842977,
          -0.7566038891150196,
          -0.41425090121806823,
          3.0035553718893238,
          -1.3449509112854081,
          -0.44909665312229585,
          -0.14484253474706837,
          -1.62510198227339,
          0.513343071179874,
          0.10057721954931076,
          -0.3347821761196757,
          -0.2056135190586056,
          1.522708283114086,
          -0.9610873885231529,
          0.3801472992208391,
          -0.26196111219286417,
          1.5602775206755128,
          -0.5837342554198951,
          0.42352589486444703,
          -0.3595438735331036,
          0.42050074494523526,
          0.48865650230846835,
          -0.4435686363074531,
          -1.2356577354562504,
          -0.040859602804632925,
          0.559282291459184,
          0.12464642337136354,
          -0.15108892936597226,
          1.7478728236278007,
          -0.30778670631463906,
          -0.19881792903994983,
          0.9365043151652537,
          0.0853259717415844,
          0.4357469077004661,
          0.9373712100633341,
          0.8836339180532669,
          -1.1235502320579935,
          -0.9786059330900005,
          -0.45891658939469926
         ]
        }
       ],
       "layout": {
        "legend": {
         "bgcolor": "#F5F6F9",
         "font": {
          "color": "#4D5663"
         }
        },
        "paper_bgcolor": "#F5F6F9",
        "plot_bgcolor": "#F5F6F9",
        "template": {
         "data": {
          "bar": [
           {
            "error_x": {
             "color": "#2a3f5f"
            },
            "error_y": {
             "color": "#2a3f5f"
            },
            "marker": {
             "line": {
              "color": "#E5ECF6",
              "width": 0.5
             }
            },
            "type": "bar"
           }
          ],
          "barpolar": [
           {
            "marker": {
             "line": {
              "color": "#E5ECF6",
              "width": 0.5
             }
            },
            "type": "barpolar"
           }
          ],
          "carpet": [
           {
            "aaxis": {
             "endlinecolor": "#2a3f5f",
             "gridcolor": "white",
             "linecolor": "white",
             "minorgridcolor": "white",
             "startlinecolor": "#2a3f5f"
            },
            "baxis": {
             "endlinecolor": "#2a3f5f",
             "gridcolor": "white",
             "linecolor": "white",
             "minorgridcolor": "white",
             "startlinecolor": "#2a3f5f"
            },
            "type": "carpet"
           }
          ],
          "choropleth": [
           {
            "colorbar": {
             "outlinewidth": 0,
             "ticks": ""
            },
            "type": "choropleth"
           }
          ],
          "contour": [
           {
            "colorbar": {
             "outlinewidth": 0,
             "ticks": ""
            },
            "colorscale": [
             [
              0,
              "#0d0887"
             ],
             [
              0.1111111111111111,
              "#46039f"
             ],
             [
              0.2222222222222222,
              "#7201a8"
             ],
             [
              0.3333333333333333,
              "#9c179e"
             ],
             [
              0.4444444444444444,
              "#bd3786"
             ],
             [
              0.5555555555555556,
              "#d8576b"
             ],
             [
              0.6666666666666666,
              "#ed7953"
             ],
             [
              0.7777777777777778,
              "#fb9f3a"
             ],
             [
              0.8888888888888888,
              "#fdca26"
             ],
             [
              1,
              "#f0f921"
             ]
            ],
            "type": "contour"
           }
          ],
          "contourcarpet": [
           {
            "colorbar": {
             "outlinewidth": 0,
             "ticks": ""
            },
            "type": "contourcarpet"
           }
          ],
          "heatmap": [
           {
            "colorbar": {
             "outlinewidth": 0,
             "ticks": ""
            },
            "colorscale": [
             [
              0,
              "#0d0887"
             ],
             [
              0.1111111111111111,
              "#46039f"
             ],
             [
              0.2222222222222222,
              "#7201a8"
             ],
             [
              0.3333333333333333,
              "#9c179e"
             ],
             [
              0.4444444444444444,
              "#bd3786"
             ],
             [
              0.5555555555555556,
              "#d8576b"
             ],
             [
              0.6666666666666666,
              "#ed7953"
             ],
             [
              0.7777777777777778,
              "#fb9f3a"
             ],
             [
              0.8888888888888888,
              "#fdca26"
             ],
             [
              1,
              "#f0f921"
             ]
            ],
            "type": "heatmap"
           }
          ],
          "heatmapgl": [
           {
            "colorbar": {
             "outlinewidth": 0,
             "ticks": ""
            },
            "colorscale": [
             [
              0,
              "#0d0887"
             ],
             [
              0.1111111111111111,
              "#46039f"
             ],
             [
              0.2222222222222222,
              "#7201a8"
             ],
             [
              0.3333333333333333,
              "#9c179e"
             ],
             [
              0.4444444444444444,
              "#bd3786"
             ],
             [
              0.5555555555555556,
              "#d8576b"
             ],
             [
              0.6666666666666666,
              "#ed7953"
             ],
             [
              0.7777777777777778,
              "#fb9f3a"
             ],
             [
              0.8888888888888888,
              "#fdca26"
             ],
             [
              1,
              "#f0f921"
             ]
            ],
            "type": "heatmapgl"
           }
          ],
          "histogram": [
           {
            "marker": {
             "colorbar": {
              "outlinewidth": 0,
              "ticks": ""
             }
            },
            "type": "histogram"
           }
          ],
          "histogram2d": [
           {
            "colorbar": {
             "outlinewidth": 0,
             "ticks": ""
            },
            "colorscale": [
             [
              0,
              "#0d0887"
             ],
             [
              0.1111111111111111,
              "#46039f"
             ],
             [
              0.2222222222222222,
              "#7201a8"
             ],
             [
              0.3333333333333333,
              "#9c179e"
             ],
             [
              0.4444444444444444,
              "#bd3786"
             ],
             [
              0.5555555555555556,
              "#d8576b"
             ],
             [
              0.6666666666666666,
              "#ed7953"
             ],
             [
              0.7777777777777778,
              "#fb9f3a"
             ],
             [
              0.8888888888888888,
              "#fdca26"
             ],
             [
              1,
              "#f0f921"
             ]
            ],
            "type": "histogram2d"
           }
          ],
          "histogram2dcontour": [
           {
            "colorbar": {
             "outlinewidth": 0,
             "ticks": ""
            },
            "colorscale": [
             [
              0,
              "#0d0887"
             ],
             [
              0.1111111111111111,
              "#46039f"
             ],
             [
              0.2222222222222222,
              "#7201a8"
             ],
             [
              0.3333333333333333,
              "#9c179e"
             ],
             [
              0.4444444444444444,
              "#bd3786"
             ],
             [
              0.5555555555555556,
              "#d8576b"
             ],
             [
              0.6666666666666666,
              "#ed7953"
             ],
             [
              0.7777777777777778,
              "#fb9f3a"
             ],
             [
              0.8888888888888888,
              "#fdca26"
             ],
             [
              1,
              "#f0f921"
             ]
            ],
            "type": "histogram2dcontour"
           }
          ],
          "mesh3d": [
           {
            "colorbar": {
             "outlinewidth": 0,
             "ticks": ""
            },
            "type": "mesh3d"
           }
          ],
          "parcoords": [
           {
            "line": {
             "colorbar": {
              "outlinewidth": 0,
              "ticks": ""
             }
            },
            "type": "parcoords"
           }
          ],
          "pie": [
           {
            "automargin": true,
            "type": "pie"
           }
          ],
          "scatter": [
           {
            "marker": {
             "colorbar": {
              "outlinewidth": 0,
              "ticks": ""
             }
            },
            "type": "scatter"
           }
          ],
          "scatter3d": [
           {
            "line": {
             "colorbar": {
              "outlinewidth": 0,
              "ticks": ""
             }
            },
            "marker": {
             "colorbar": {
              "outlinewidth": 0,
              "ticks": ""
             }
            },
            "type": "scatter3d"
           }
          ],
          "scattercarpet": [
           {
            "marker": {
             "colorbar": {
              "outlinewidth": 0,
              "ticks": ""
             }
            },
            "type": "scattercarpet"
           }
          ],
          "scattergeo": [
           {
            "marker": {
             "colorbar": {
              "outlinewidth": 0,
              "ticks": ""
             }
            },
            "type": "scattergeo"
           }
          ],
          "scattergl": [
           {
            "marker": {
             "colorbar": {
              "outlinewidth": 0,
              "ticks": ""
             }
            },
            "type": "scattergl"
           }
          ],
          "scattermapbox": [
           {
            "marker": {
             "colorbar": {
              "outlinewidth": 0,
              "ticks": ""
             }
            },
            "type": "scattermapbox"
           }
          ],
          "scatterpolar": [
           {
            "marker": {
             "colorbar": {
              "outlinewidth": 0,
              "ticks": ""
             }
            },
            "type": "scatterpolar"
           }
          ],
          "scatterpolargl": [
           {
            "marker": {
             "colorbar": {
              "outlinewidth": 0,
              "ticks": ""
             }
            },
            "type": "scatterpolargl"
           }
          ],
          "scatterternary": [
           {
            "marker": {
             "colorbar": {
              "outlinewidth": 0,
              "ticks": ""
             }
            },
            "type": "scatterternary"
           }
          ],
          "surface": [
           {
            "colorbar": {
             "outlinewidth": 0,
             "ticks": ""
            },
            "colorscale": [
             [
              0,
              "#0d0887"
             ],
             [
              0.1111111111111111,
              "#46039f"
             ],
             [
              0.2222222222222222,
              "#7201a8"
             ],
             [
              0.3333333333333333,
              "#9c179e"
             ],
             [
              0.4444444444444444,
              "#bd3786"
             ],
             [
              0.5555555555555556,
              "#d8576b"
             ],
             [
              0.6666666666666666,
              "#ed7953"
             ],
             [
              0.7777777777777778,
              "#fb9f3a"
             ],
             [
              0.8888888888888888,
              "#fdca26"
             ],
             [
              1,
              "#f0f921"
             ]
            ],
            "type": "surface"
           }
          ],
          "table": [
           {
            "cells": {
             "fill": {
              "color": "#EBF0F8"
             },
             "line": {
              "color": "white"
             }
            },
            "header": {
             "fill": {
              "color": "#C8D4E3"
             },
             "line": {
              "color": "white"
             }
            },
            "type": "table"
           }
          ]
         },
         "layout": {
          "annotationdefaults": {
           "arrowcolor": "#2a3f5f",
           "arrowhead": 0,
           "arrowwidth": 1
          },
          "autotypenumbers": "strict",
          "coloraxis": {
           "colorbar": {
            "outlinewidth": 0,
            "ticks": ""
           }
          },
          "colorscale": {
           "diverging": [
            [
             0,
             "#8e0152"
            ],
            [
             0.1,
             "#c51b7d"
            ],
            [
             0.2,
             "#de77ae"
            ],
            [
             0.3,
             "#f1b6da"
            ],
            [
             0.4,
             "#fde0ef"
            ],
            [
             0.5,
             "#f7f7f7"
            ],
            [
             0.6,
             "#e6f5d0"
            ],
            [
             0.7,
             "#b8e186"
            ],
            [
             0.8,
             "#7fbc41"
            ],
            [
             0.9,
             "#4d9221"
            ],
            [
             1,
             "#276419"
            ]
           ],
           "sequential": [
            [
             0,
             "#0d0887"
            ],
            [
             0.1111111111111111,
             "#46039f"
            ],
            [
             0.2222222222222222,
             "#7201a8"
            ],
            [
             0.3333333333333333,
             "#9c179e"
            ],
            [
             0.4444444444444444,
             "#bd3786"
            ],
            [
             0.5555555555555556,
             "#d8576b"
            ],
            [
             0.6666666666666666,
             "#ed7953"
            ],
            [
             0.7777777777777778,
             "#fb9f3a"
            ],
            [
             0.8888888888888888,
             "#fdca26"
            ],
            [
             1,
             "#f0f921"
            ]
           ],
           "sequentialminus": [
            [
             0,
             "#0d0887"
            ],
            [
             0.1111111111111111,
             "#46039f"
            ],
            [
             0.2222222222222222,
             "#7201a8"
            ],
            [
             0.3333333333333333,
             "#9c179e"
            ],
            [
             0.4444444444444444,
             "#bd3786"
            ],
            [
             0.5555555555555556,
             "#d8576b"
            ],
            [
             0.6666666666666666,
             "#ed7953"
            ],
            [
             0.7777777777777778,
             "#fb9f3a"
            ],
            [
             0.8888888888888888,
             "#fdca26"
            ],
            [
             1,
             "#f0f921"
            ]
           ]
          },
          "colorway": [
           "#636efa",
           "#EF553B",
           "#00cc96",
           "#ab63fa",
           "#FFA15A",
           "#19d3f3",
           "#FF6692",
           "#B6E880",
           "#FF97FF",
           "#FECB52"
          ],
          "font": {
           "color": "#2a3f5f"
          },
          "geo": {
           "bgcolor": "white",
           "lakecolor": "white",
           "landcolor": "#E5ECF6",
           "showlakes": true,
           "showland": true,
           "subunitcolor": "white"
          },
          "hoverlabel": {
           "align": "left"
          },
          "hovermode": "closest",
          "mapbox": {
           "style": "light"
          },
          "paper_bgcolor": "white",
          "plot_bgcolor": "#E5ECF6",
          "polar": {
           "angularaxis": {
            "gridcolor": "white",
            "linecolor": "white",
            "ticks": ""
           },
           "bgcolor": "#E5ECF6",
           "radialaxis": {
            "gridcolor": "white",
            "linecolor": "white",
            "ticks": ""
           }
          },
          "scene": {
           "xaxis": {
            "backgroundcolor": "#E5ECF6",
            "gridcolor": "white",
            "gridwidth": 2,
            "linecolor": "white",
            "showbackground": true,
            "ticks": "",
            "zerolinecolor": "white"
           },
           "yaxis": {
            "backgroundcolor": "#E5ECF6",
            "gridcolor": "white",
            "gridwidth": 2,
            "linecolor": "white",
            "showbackground": true,
            "ticks": "",
            "zerolinecolor": "white"
           },
           "zaxis": {
            "backgroundcolor": "#E5ECF6",
            "gridcolor": "white",
            "gridwidth": 2,
            "linecolor": "white",
            "showbackground": true,
            "ticks": "",
            "zerolinecolor": "white"
           }
          },
          "shapedefaults": {
           "line": {
            "color": "#2a3f5f"
           }
          },
          "ternary": {
           "aaxis": {
            "gridcolor": "white",
            "linecolor": "white",
            "ticks": ""
           },
           "baxis": {
            "gridcolor": "white",
            "linecolor": "white",
            "ticks": ""
           },
           "bgcolor": "#E5ECF6",
           "caxis": {
            "gridcolor": "white",
            "linecolor": "white",
            "ticks": ""
           }
          },
          "title": {
           "x": 0.05
          },
          "xaxis": {
           "automargin": true,
           "gridcolor": "white",
           "linecolor": "white",
           "ticks": "",
           "title": {
            "standoff": 15
           },
           "zerolinecolor": "white",
           "zerolinewidth": 2
          },
          "yaxis": {
           "automargin": true,
           "gridcolor": "white",
           "linecolor": "white",
           "ticks": "",
           "title": {
            "standoff": 15
           },
           "zerolinecolor": "white",
           "zerolinewidth": 2
          }
         }
        },
        "title": {
         "font": {
          "color": "#4D5663"
         }
        },
        "xaxis": {
         "gridcolor": "#E1E5ED",
         "showgrid": true,
         "tickfont": {
          "color": "#4D5663"
         },
         "title": {
          "font": {
           "color": "#4D5663"
          },
          "text": ""
         },
         "zerolinecolor": "#E1E5ED"
        },
        "yaxis": {
         "gridcolor": "#E1E5ED",
         "showgrid": true,
         "tickfont": {
          "color": "#4D5663"
         },
         "title": {
          "font": {
           "color": "#4D5663"
          },
          "text": ""
         },
         "zerolinecolor": "#E1E5ED"
        }
       }
      },
      "text/html": [
       "<div>                            <div id=\"93ab93f1-86f2-4eb0-b477-ed4d4cd98873\" class=\"plotly-graph-div\" style=\"height:525px; width:100%;\"></div>            <script type=\"text/javascript\">                require([\"plotly\"], function(Plotly) {                    window.PLOTLYENV=window.PLOTLYENV || {};\n",
       "                    window.PLOTLYENV.BASE_URL='https://plot.ly';                                    if (document.getElementById(\"93ab93f1-86f2-4eb0-b477-ed4d4cd98873\")) {                    Plotly.newPlot(                        \"93ab93f1-86f2-4eb0-b477-ed4d4cd98873\",                        [{\"line\": {\"color\": \"rgba(255, 153, 51, 1.0)\", \"dash\": \"solid\", \"shape\": \"linear\", \"width\": 1.3}, \"marker\": {\"size\": 12, \"symbol\": \"circle\"}, \"mode\": \"markers\", \"name\": \"B\", \"text\": \"\", \"type\": \"scatter\", \"x\": [-0.2941236145979744, -1.2055757622417584, 1.6739059144807003, 0.28697682921847084, 0.41395886627795436, 0.3258350572180524, 0.5252390425920379, -0.5736684755822246, -0.5700688362477726, 0.3645225874268893, -1.1647288821832336, 0.08451189819558057, -0.744180002462252, -1.2151693534115133, -1.2344417644275725, -1.2727768086178122, -1.109210674025156, 1.8561357436671402, -0.5743628582238592, -1.2869710643656933, 0.5654720433196601, -0.06184951055573469, 1.5426557670599157, 1.5183339797624478, 1.1914744908087287, 0.6123027103271466, -1.1128315368989694, 0.34211525618759664, -1.5427770588082996, -1.8095088920475255, 0.8914290648608734, 0.5707299722117781, 0.4150615465660746, -0.15779149891157998, -0.37577490575303407, -1.3493202029071392, -2.149745000938564, -0.1665954222704084, -0.14825310781359657, 0.9726743509758792, -0.4263313438545262, -0.8371332285968943, -1.00910939339172, 0.9687066851117567, -0.31949200585851995, 0.3811634222615911, -0.8701558140039154, 0.4530440030691015, 0.17712571854006096, -1.2943118538026293, -0.9440276852622483, -1.6140737385993082, -0.5820649119257266, 2.024328108515571, 0.09159763211659076, 0.8699658570083942, -1.9701241141643424, 1.7690020942672438, 0.5602034891518604, 0.45164160230701056, -0.028028443485482134, 0.3885875044711814, 0.018490601080752518, 2.8676657947150765, -0.8816260097799625, 0.5214180441747942, -0.2093671541431842, 0.415228606814977, -1.7884617684009187, -1.1882225177627814, -0.684762457408276, -1.9832688668725418, 0.9310360124815191, -0.5457278756057826, -0.710547760985368, -0.5446929238244186, -0.19630294700548082, -1.44280738406763, -0.8331241658672963, -0.45235685481235416, -0.6728883540615982, 0.3344908135970183, 0.7970971944919325, 1.3589465498265694, 1.6675265431050559, -0.24149016625430927, 0.3735431989596485, 2.327748140643649, -0.1382155746471087, -0.7712757639353897, -0.4514863772912042, -0.46245415819363367, 1.6861611281399966, 0.3070846956990549, -0.7986246032710236, -0.37716556826567615, 0.027142910172499594, -0.16862571807318036, -2.610727992542222, 1.8581627120087132], \"y\": [1.1232035304834727, -0.027646444578447983, -0.08398900118924442, -0.15149207680460008, 1.3297811358905003, -0.3588283929141447, -0.09241960340912399, 0.4144283948863819, -0.3242812375394934, 2.3983374404567153, 0.06909517875539394, -0.9047885203720661, -0.3265029067093802, 1.7107990386995107, -0.10882256063664028, 0.4897875303308817, -1.0135894728524193, 1.469438190961238, 0.036116091249880994, -0.8489964394716256, 1.1045547892308794, -2.733992479927418, 0.32155595967427597, 1.1730656687096301, 0.08919563895231453, -0.25087110936678997, 0.3482220702050979, -1.7806719298663185, -0.4513396599289586, -1.9081904190159555, -0.3819735660336761, 0.8622929704051494, 0.6643974389859816, -0.10482717044736548, -0.2978187641213, 0.38498283608367456, -0.2923058128870225, -1.8272050682618728, 0.9994086669080886, 0.22725335504437277, 0.543937236379081, 0.07227911719372908, 1.5237616967102592, -0.9532437020079461, -0.15113803558243055, 0.2617176444724291, -0.24506613212165868, -0.5207569261079663, -0.8532011988899243, 1.0864728378980126, 0.4654840803605472, 0.09625462622839667, -0.7357046380750296, 0.030202365540960157, 0.9262509241518855, 1.9593338921574195, -1.3661245536871027, 0.7323140351673906, 0.006607641087876381, 1.7473651609919887, 0.4219988261940681, 1.4191862517842977, -0.7566038891150196, -0.41425090121806823, 3.0035553718893238, -1.3449509112854081, -0.44909665312229585, -0.14484253474706837, -1.62510198227339, 0.513343071179874, 0.10057721954931076, -0.3347821761196757, -0.2056135190586056, 1.522708283114086, -0.9610873885231529, 0.3801472992208391, -0.26196111219286417, 1.5602775206755128, -0.5837342554198951, 0.42352589486444703, -0.3595438735331036, 0.42050074494523526, 0.48865650230846835, -0.4435686363074531, -1.2356577354562504, -0.040859602804632925, 0.559282291459184, 0.12464642337136354, -0.15108892936597226, 1.7478728236278007, -0.30778670631463906, -0.19881792903994983, 0.9365043151652537, 0.0853259717415844, 0.4357469077004661, 0.9373712100633341, 0.8836339180532669, -1.1235502320579935, -0.9786059330900005, -0.45891658939469926]}],                        {\"legend\": {\"bgcolor\": \"#F5F6F9\", \"font\": {\"color\": \"#4D5663\"}}, \"paper_bgcolor\": \"#F5F6F9\", \"plot_bgcolor\": \"#F5F6F9\", \"template\": {\"data\": {\"bar\": [{\"error_x\": {\"color\": \"#2a3f5f\"}, \"error_y\": {\"color\": \"#2a3f5f\"}, \"marker\": {\"line\": {\"color\": \"#E5ECF6\", \"width\": 0.5}}, \"type\": \"bar\"}], \"barpolar\": [{\"marker\": {\"line\": {\"color\": \"#E5ECF6\", \"width\": 0.5}}, \"type\": \"barpolar\"}], \"carpet\": [{\"aaxis\": {\"endlinecolor\": \"#2a3f5f\", \"gridcolor\": \"white\", \"linecolor\": \"white\", \"minorgridcolor\": \"white\", \"startlinecolor\": \"#2a3f5f\"}, \"baxis\": {\"endlinecolor\": \"#2a3f5f\", \"gridcolor\": \"white\", \"linecolor\": \"white\", \"minorgridcolor\": \"white\", \"startlinecolor\": \"#2a3f5f\"}, \"type\": \"carpet\"}], \"choropleth\": [{\"colorbar\": {\"outlinewidth\": 0, \"ticks\": \"\"}, \"type\": \"choropleth\"}], \"contour\": [{\"colorbar\": {\"outlinewidth\": 0, \"ticks\": \"\"}, \"colorscale\": [[0.0, \"#0d0887\"], [0.1111111111111111, \"#46039f\"], [0.2222222222222222, \"#7201a8\"], [0.3333333333333333, \"#9c179e\"], [0.4444444444444444, \"#bd3786\"], [0.5555555555555556, \"#d8576b\"], [0.6666666666666666, \"#ed7953\"], [0.7777777777777778, \"#fb9f3a\"], [0.8888888888888888, \"#fdca26\"], [1.0, \"#f0f921\"]], \"type\": \"contour\"}], \"contourcarpet\": [{\"colorbar\": {\"outlinewidth\": 0, \"ticks\": \"\"}, \"type\": \"contourcarpet\"}], \"heatmap\": [{\"colorbar\": {\"outlinewidth\": 0, \"ticks\": \"\"}, \"colorscale\": [[0.0, \"#0d0887\"], [0.1111111111111111, \"#46039f\"], [0.2222222222222222, \"#7201a8\"], [0.3333333333333333, \"#9c179e\"], [0.4444444444444444, \"#bd3786\"], [0.5555555555555556, \"#d8576b\"], [0.6666666666666666, \"#ed7953\"], [0.7777777777777778, \"#fb9f3a\"], [0.8888888888888888, \"#fdca26\"], [1.0, \"#f0f921\"]], \"type\": \"heatmap\"}], \"heatmapgl\": [{\"colorbar\": {\"outlinewidth\": 0, \"ticks\": \"\"}, \"colorscale\": [[0.0, \"#0d0887\"], [0.1111111111111111, \"#46039f\"], [0.2222222222222222, \"#7201a8\"], [0.3333333333333333, \"#9c179e\"], [0.4444444444444444, \"#bd3786\"], [0.5555555555555556, \"#d8576b\"], [0.6666666666666666, \"#ed7953\"], [0.7777777777777778, \"#fb9f3a\"], [0.8888888888888888, \"#fdca26\"], [1.0, \"#f0f921\"]], \"type\": \"heatmapgl\"}], \"histogram\": [{\"marker\": {\"colorbar\": {\"outlinewidth\": 0, \"ticks\": \"\"}}, \"type\": \"histogram\"}], \"histogram2d\": [{\"colorbar\": {\"outlinewidth\": 0, \"ticks\": \"\"}, \"colorscale\": [[0.0, \"#0d0887\"], [0.1111111111111111, \"#46039f\"], [0.2222222222222222, \"#7201a8\"], [0.3333333333333333, \"#9c179e\"], [0.4444444444444444, \"#bd3786\"], [0.5555555555555556, \"#d8576b\"], [0.6666666666666666, \"#ed7953\"], [0.7777777777777778, \"#fb9f3a\"], [0.8888888888888888, \"#fdca26\"], [1.0, \"#f0f921\"]], \"type\": \"histogram2d\"}], \"histogram2dcontour\": [{\"colorbar\": {\"outlinewidth\": 0, \"ticks\": \"\"}, \"colorscale\": [[0.0, \"#0d0887\"], [0.1111111111111111, \"#46039f\"], [0.2222222222222222, \"#7201a8\"], [0.3333333333333333, \"#9c179e\"], [0.4444444444444444, \"#bd3786\"], [0.5555555555555556, \"#d8576b\"], [0.6666666666666666, \"#ed7953\"], [0.7777777777777778, \"#fb9f3a\"], [0.8888888888888888, \"#fdca26\"], [1.0, \"#f0f921\"]], \"type\": \"histogram2dcontour\"}], \"mesh3d\": [{\"colorbar\": {\"outlinewidth\": 0, \"ticks\": \"\"}, \"type\": \"mesh3d\"}], \"parcoords\": [{\"line\": {\"colorbar\": {\"outlinewidth\": 0, \"ticks\": \"\"}}, \"type\": \"parcoords\"}], \"pie\": [{\"automargin\": true, \"type\": \"pie\"}], \"scatter\": [{\"marker\": {\"colorbar\": {\"outlinewidth\": 0, \"ticks\": \"\"}}, \"type\": \"scatter\"}], \"scatter3d\": [{\"line\": {\"colorbar\": {\"outlinewidth\": 0, \"ticks\": \"\"}}, \"marker\": {\"colorbar\": {\"outlinewidth\": 0, \"ticks\": \"\"}}, \"type\": \"scatter3d\"}], \"scattercarpet\": [{\"marker\": {\"colorbar\": {\"outlinewidth\": 0, \"ticks\": \"\"}}, \"type\": \"scattercarpet\"}], \"scattergeo\": [{\"marker\": {\"colorbar\": {\"outlinewidth\": 0, \"ticks\": \"\"}}, \"type\": \"scattergeo\"}], \"scattergl\": [{\"marker\": {\"colorbar\": {\"outlinewidth\": 0, \"ticks\": \"\"}}, \"type\": \"scattergl\"}], \"scattermapbox\": [{\"marker\": {\"colorbar\": {\"outlinewidth\": 0, \"ticks\": \"\"}}, \"type\": \"scattermapbox\"}], \"scatterpolar\": [{\"marker\": {\"colorbar\": {\"outlinewidth\": 0, \"ticks\": \"\"}}, \"type\": \"scatterpolar\"}], \"scatterpolargl\": [{\"marker\": {\"colorbar\": {\"outlinewidth\": 0, \"ticks\": \"\"}}, \"type\": \"scatterpolargl\"}], \"scatterternary\": [{\"marker\": {\"colorbar\": {\"outlinewidth\": 0, \"ticks\": \"\"}}, \"type\": \"scatterternary\"}], \"surface\": [{\"colorbar\": {\"outlinewidth\": 0, \"ticks\": \"\"}, \"colorscale\": [[0.0, \"#0d0887\"], [0.1111111111111111, \"#46039f\"], [0.2222222222222222, \"#7201a8\"], [0.3333333333333333, \"#9c179e\"], [0.4444444444444444, \"#bd3786\"], [0.5555555555555556, \"#d8576b\"], [0.6666666666666666, \"#ed7953\"], [0.7777777777777778, \"#fb9f3a\"], [0.8888888888888888, \"#fdca26\"], [1.0, \"#f0f921\"]], \"type\": \"surface\"}], \"table\": [{\"cells\": {\"fill\": {\"color\": \"#EBF0F8\"}, \"line\": {\"color\": \"white\"}}, \"header\": {\"fill\": {\"color\": \"#C8D4E3\"}, \"line\": {\"color\": \"white\"}}, \"type\": \"table\"}]}, \"layout\": {\"annotationdefaults\": {\"arrowcolor\": \"#2a3f5f\", \"arrowhead\": 0, \"arrowwidth\": 1}, \"autotypenumbers\": \"strict\", \"coloraxis\": {\"colorbar\": {\"outlinewidth\": 0, \"ticks\": \"\"}}, \"colorscale\": {\"diverging\": [[0, \"#8e0152\"], [0.1, \"#c51b7d\"], [0.2, \"#de77ae\"], [0.3, \"#f1b6da\"], [0.4, \"#fde0ef\"], [0.5, \"#f7f7f7\"], [0.6, \"#e6f5d0\"], [0.7, \"#b8e186\"], [0.8, \"#7fbc41\"], [0.9, \"#4d9221\"], [1, \"#276419\"]], \"sequential\": [[0.0, \"#0d0887\"], [0.1111111111111111, \"#46039f\"], [0.2222222222222222, \"#7201a8\"], [0.3333333333333333, \"#9c179e\"], [0.4444444444444444, \"#bd3786\"], [0.5555555555555556, \"#d8576b\"], [0.6666666666666666, \"#ed7953\"], [0.7777777777777778, \"#fb9f3a\"], [0.8888888888888888, \"#fdca26\"], [1.0, \"#f0f921\"]], \"sequentialminus\": [[0.0, \"#0d0887\"], [0.1111111111111111, \"#46039f\"], [0.2222222222222222, \"#7201a8\"], [0.3333333333333333, \"#9c179e\"], [0.4444444444444444, \"#bd3786\"], [0.5555555555555556, \"#d8576b\"], [0.6666666666666666, \"#ed7953\"], [0.7777777777777778, \"#fb9f3a\"], [0.8888888888888888, \"#fdca26\"], [1.0, \"#f0f921\"]]}, \"colorway\": [\"#636efa\", \"#EF553B\", \"#00cc96\", \"#ab63fa\", \"#FFA15A\", \"#19d3f3\", \"#FF6692\", \"#B6E880\", \"#FF97FF\", \"#FECB52\"], \"font\": {\"color\": \"#2a3f5f\"}, \"geo\": {\"bgcolor\": \"white\", \"lakecolor\": \"white\", \"landcolor\": \"#E5ECF6\", \"showlakes\": true, \"showland\": true, \"subunitcolor\": \"white\"}, \"hoverlabel\": {\"align\": \"left\"}, \"hovermode\": \"closest\", \"mapbox\": {\"style\": \"light\"}, \"paper_bgcolor\": \"white\", \"plot_bgcolor\": \"#E5ECF6\", \"polar\": {\"angularaxis\": {\"gridcolor\": \"white\", \"linecolor\": \"white\", \"ticks\": \"\"}, \"bgcolor\": \"#E5ECF6\", \"radialaxis\": {\"gridcolor\": \"white\", \"linecolor\": \"white\", \"ticks\": \"\"}}, \"scene\": {\"xaxis\": {\"backgroundcolor\": \"#E5ECF6\", \"gridcolor\": \"white\", \"gridwidth\": 2, \"linecolor\": \"white\", \"showbackground\": true, \"ticks\": \"\", \"zerolinecolor\": \"white\"}, \"yaxis\": {\"backgroundcolor\": \"#E5ECF6\", \"gridcolor\": \"white\", \"gridwidth\": 2, \"linecolor\": \"white\", \"showbackground\": true, \"ticks\": \"\", \"zerolinecolor\": \"white\"}, \"zaxis\": {\"backgroundcolor\": \"#E5ECF6\", \"gridcolor\": \"white\", \"gridwidth\": 2, \"linecolor\": \"white\", \"showbackground\": true, \"ticks\": \"\", \"zerolinecolor\": \"white\"}}, \"shapedefaults\": {\"line\": {\"color\": \"#2a3f5f\"}}, \"ternary\": {\"aaxis\": {\"gridcolor\": \"white\", \"linecolor\": \"white\", \"ticks\": \"\"}, \"baxis\": {\"gridcolor\": \"white\", \"linecolor\": \"white\", \"ticks\": \"\"}, \"bgcolor\": \"#E5ECF6\", \"caxis\": {\"gridcolor\": \"white\", \"linecolor\": \"white\", \"ticks\": \"\"}}, \"title\": {\"x\": 0.05}, \"xaxis\": {\"automargin\": true, \"gridcolor\": \"white\", \"linecolor\": \"white\", \"ticks\": \"\", \"title\": {\"standoff\": 15}, \"zerolinecolor\": \"white\", \"zerolinewidth\": 2}, \"yaxis\": {\"automargin\": true, \"gridcolor\": \"white\", \"linecolor\": \"white\", \"ticks\": \"\", \"title\": {\"standoff\": 15}, \"zerolinecolor\": \"white\", \"zerolinewidth\": 2}}}, \"title\": {\"font\": {\"color\": \"#4D5663\"}}, \"xaxis\": {\"gridcolor\": \"#E1E5ED\", \"showgrid\": true, \"tickfont\": {\"color\": \"#4D5663\"}, \"title\": {\"font\": {\"color\": \"#4D5663\"}, \"text\": \"\"}, \"zerolinecolor\": \"#E1E5ED\"}, \"yaxis\": {\"gridcolor\": \"#E1E5ED\", \"showgrid\": true, \"tickfont\": {\"color\": \"#4D5663\"}, \"title\": {\"font\": {\"color\": \"#4D5663\"}, \"text\": \"\"}, \"zerolinecolor\": \"#E1E5ED\"}},                        {\"showLink\": true, \"linkText\": \"Export to plot.ly\", \"plotlyServerURL\": \"https://plot.ly\", \"responsive\": true}                    ).then(function(){\n",
       "                            \n",
       "var gd = document.getElementById('93ab93f1-86f2-4eb0-b477-ed4d4cd98873');\n",
       "var x = new MutationObserver(function (mutations, observer) {{\n",
       "        var display = window.getComputedStyle(gd).display;\n",
       "        if (!display || display === 'none') {{\n",
       "            console.log([gd, 'removed!']);\n",
       "            Plotly.purge(gd);\n",
       "            observer.disconnect();\n",
       "        }}\n",
       "}});\n",
       "\n",
       "// Listen for the removal of the full notebook cells\n",
       "var notebookContainer = gd.closest('#notebook-container');\n",
       "if (notebookContainer) {{\n",
       "    x.observe(notebookContainer, {childList: true});\n",
       "}}\n",
       "\n",
       "// Listen for the clearing of the current output cell\n",
       "var outputEl = gd.closest('.output');\n",
       "if (outputEl) {{\n",
       "    x.observe(outputEl, {childList: true});\n",
       "}}\n",
       "\n",
       "                        })                };                });            </script>        </div>"
      ]
     },
     "metadata": {},
     "output_type": "display_data"
    }
   ],
   "source": [
    "df.iplot(kind='scatter', x='A', y='B', mode='markers') #padrão plotly"
   ]
  },
  {
   "cell_type": "code",
   "execution_count": 23,
   "metadata": {},
   "outputs": [
    {
     "data": {
      "application/vnd.plotly.v1+json": {
       "config": {
        "linkText": "Export to plot.ly",
        "plotlyServerURL": "https://plot.ly",
        "showLink": true
       },
       "data": [
        {
         "marker": {
          "color": "rgba(255, 153, 51, 0.6)",
          "line": {
           "color": "rgba(255, 153, 51, 1.0)",
           "width": 1
          }
         },
         "name": "Valores",
         "orientation": "v",
         "text": "",
         "type": "bar",
         "x": [
          "A",
          "B",
          "C"
         ],
         "y": [
          32,
          43,
          50
         ]
        }
       ],
       "layout": {
        "legend": {
         "bgcolor": "#F5F6F9",
         "font": {
          "color": "#4D5663"
         }
        },
        "paper_bgcolor": "#F5F6F9",
        "plot_bgcolor": "#F5F6F9",
        "template": {
         "data": {
          "bar": [
           {
            "error_x": {
             "color": "#2a3f5f"
            },
            "error_y": {
             "color": "#2a3f5f"
            },
            "marker": {
             "line": {
              "color": "#E5ECF6",
              "width": 0.5
             }
            },
            "type": "bar"
           }
          ],
          "barpolar": [
           {
            "marker": {
             "line": {
              "color": "#E5ECF6",
              "width": 0.5
             }
            },
            "type": "barpolar"
           }
          ],
          "carpet": [
           {
            "aaxis": {
             "endlinecolor": "#2a3f5f",
             "gridcolor": "white",
             "linecolor": "white",
             "minorgridcolor": "white",
             "startlinecolor": "#2a3f5f"
            },
            "baxis": {
             "endlinecolor": "#2a3f5f",
             "gridcolor": "white",
             "linecolor": "white",
             "minorgridcolor": "white",
             "startlinecolor": "#2a3f5f"
            },
            "type": "carpet"
           }
          ],
          "choropleth": [
           {
            "colorbar": {
             "outlinewidth": 0,
             "ticks": ""
            },
            "type": "choropleth"
           }
          ],
          "contour": [
           {
            "colorbar": {
             "outlinewidth": 0,
             "ticks": ""
            },
            "colorscale": [
             [
              0,
              "#0d0887"
             ],
             [
              0.1111111111111111,
              "#46039f"
             ],
             [
              0.2222222222222222,
              "#7201a8"
             ],
             [
              0.3333333333333333,
              "#9c179e"
             ],
             [
              0.4444444444444444,
              "#bd3786"
             ],
             [
              0.5555555555555556,
              "#d8576b"
             ],
             [
              0.6666666666666666,
              "#ed7953"
             ],
             [
              0.7777777777777778,
              "#fb9f3a"
             ],
             [
              0.8888888888888888,
              "#fdca26"
             ],
             [
              1,
              "#f0f921"
             ]
            ],
            "type": "contour"
           }
          ],
          "contourcarpet": [
           {
            "colorbar": {
             "outlinewidth": 0,
             "ticks": ""
            },
            "type": "contourcarpet"
           }
          ],
          "heatmap": [
           {
            "colorbar": {
             "outlinewidth": 0,
             "ticks": ""
            },
            "colorscale": [
             [
              0,
              "#0d0887"
             ],
             [
              0.1111111111111111,
              "#46039f"
             ],
             [
              0.2222222222222222,
              "#7201a8"
             ],
             [
              0.3333333333333333,
              "#9c179e"
             ],
             [
              0.4444444444444444,
              "#bd3786"
             ],
             [
              0.5555555555555556,
              "#d8576b"
             ],
             [
              0.6666666666666666,
              "#ed7953"
             ],
             [
              0.7777777777777778,
              "#fb9f3a"
             ],
             [
              0.8888888888888888,
              "#fdca26"
             ],
             [
              1,
              "#f0f921"
             ]
            ],
            "type": "heatmap"
           }
          ],
          "heatmapgl": [
           {
            "colorbar": {
             "outlinewidth": 0,
             "ticks": ""
            },
            "colorscale": [
             [
              0,
              "#0d0887"
             ],
             [
              0.1111111111111111,
              "#46039f"
             ],
             [
              0.2222222222222222,
              "#7201a8"
             ],
             [
              0.3333333333333333,
              "#9c179e"
             ],
             [
              0.4444444444444444,
              "#bd3786"
             ],
             [
              0.5555555555555556,
              "#d8576b"
             ],
             [
              0.6666666666666666,
              "#ed7953"
             ],
             [
              0.7777777777777778,
              "#fb9f3a"
             ],
             [
              0.8888888888888888,
              "#fdca26"
             ],
             [
              1,
              "#f0f921"
             ]
            ],
            "type": "heatmapgl"
           }
          ],
          "histogram": [
           {
            "marker": {
             "colorbar": {
              "outlinewidth": 0,
              "ticks": ""
             }
            },
            "type": "histogram"
           }
          ],
          "histogram2d": [
           {
            "colorbar": {
             "outlinewidth": 0,
             "ticks": ""
            },
            "colorscale": [
             [
              0,
              "#0d0887"
             ],
             [
              0.1111111111111111,
              "#46039f"
             ],
             [
              0.2222222222222222,
              "#7201a8"
             ],
             [
              0.3333333333333333,
              "#9c179e"
             ],
             [
              0.4444444444444444,
              "#bd3786"
             ],
             [
              0.5555555555555556,
              "#d8576b"
             ],
             [
              0.6666666666666666,
              "#ed7953"
             ],
             [
              0.7777777777777778,
              "#fb9f3a"
             ],
             [
              0.8888888888888888,
              "#fdca26"
             ],
             [
              1,
              "#f0f921"
             ]
            ],
            "type": "histogram2d"
           }
          ],
          "histogram2dcontour": [
           {
            "colorbar": {
             "outlinewidth": 0,
             "ticks": ""
            },
            "colorscale": [
             [
              0,
              "#0d0887"
             ],
             [
              0.1111111111111111,
              "#46039f"
             ],
             [
              0.2222222222222222,
              "#7201a8"
             ],
             [
              0.3333333333333333,
              "#9c179e"
             ],
             [
              0.4444444444444444,
              "#bd3786"
             ],
             [
              0.5555555555555556,
              "#d8576b"
             ],
             [
              0.6666666666666666,
              "#ed7953"
             ],
             [
              0.7777777777777778,
              "#fb9f3a"
             ],
             [
              0.8888888888888888,
              "#fdca26"
             ],
             [
              1,
              "#f0f921"
             ]
            ],
            "type": "histogram2dcontour"
           }
          ],
          "mesh3d": [
           {
            "colorbar": {
             "outlinewidth": 0,
             "ticks": ""
            },
            "type": "mesh3d"
           }
          ],
          "parcoords": [
           {
            "line": {
             "colorbar": {
              "outlinewidth": 0,
              "ticks": ""
             }
            },
            "type": "parcoords"
           }
          ],
          "pie": [
           {
            "automargin": true,
            "type": "pie"
           }
          ],
          "scatter": [
           {
            "marker": {
             "colorbar": {
              "outlinewidth": 0,
              "ticks": ""
             }
            },
            "type": "scatter"
           }
          ],
          "scatter3d": [
           {
            "line": {
             "colorbar": {
              "outlinewidth": 0,
              "ticks": ""
             }
            },
            "marker": {
             "colorbar": {
              "outlinewidth": 0,
              "ticks": ""
             }
            },
            "type": "scatter3d"
           }
          ],
          "scattercarpet": [
           {
            "marker": {
             "colorbar": {
              "outlinewidth": 0,
              "ticks": ""
             }
            },
            "type": "scattercarpet"
           }
          ],
          "scattergeo": [
           {
            "marker": {
             "colorbar": {
              "outlinewidth": 0,
              "ticks": ""
             }
            },
            "type": "scattergeo"
           }
          ],
          "scattergl": [
           {
            "marker": {
             "colorbar": {
              "outlinewidth": 0,
              "ticks": ""
             }
            },
            "type": "scattergl"
           }
          ],
          "scattermapbox": [
           {
            "marker": {
             "colorbar": {
              "outlinewidth": 0,
              "ticks": ""
             }
            },
            "type": "scattermapbox"
           }
          ],
          "scatterpolar": [
           {
            "marker": {
             "colorbar": {
              "outlinewidth": 0,
              "ticks": ""
             }
            },
            "type": "scatterpolar"
           }
          ],
          "scatterpolargl": [
           {
            "marker": {
             "colorbar": {
              "outlinewidth": 0,
              "ticks": ""
             }
            },
            "type": "scatterpolargl"
           }
          ],
          "scatterternary": [
           {
            "marker": {
             "colorbar": {
              "outlinewidth": 0,
              "ticks": ""
             }
            },
            "type": "scatterternary"
           }
          ],
          "surface": [
           {
            "colorbar": {
             "outlinewidth": 0,
             "ticks": ""
            },
            "colorscale": [
             [
              0,
              "#0d0887"
             ],
             [
              0.1111111111111111,
              "#46039f"
             ],
             [
              0.2222222222222222,
              "#7201a8"
             ],
             [
              0.3333333333333333,
              "#9c179e"
             ],
             [
              0.4444444444444444,
              "#bd3786"
             ],
             [
              0.5555555555555556,
              "#d8576b"
             ],
             [
              0.6666666666666666,
              "#ed7953"
             ],
             [
              0.7777777777777778,
              "#fb9f3a"
             ],
             [
              0.8888888888888888,
              "#fdca26"
             ],
             [
              1,
              "#f0f921"
             ]
            ],
            "type": "surface"
           }
          ],
          "table": [
           {
            "cells": {
             "fill": {
              "color": "#EBF0F8"
             },
             "line": {
              "color": "white"
             }
            },
            "header": {
             "fill": {
              "color": "#C8D4E3"
             },
             "line": {
              "color": "white"
             }
            },
            "type": "table"
           }
          ]
         },
         "layout": {
          "annotationdefaults": {
           "arrowcolor": "#2a3f5f",
           "arrowhead": 0,
           "arrowwidth": 1
          },
          "autotypenumbers": "strict",
          "coloraxis": {
           "colorbar": {
            "outlinewidth": 0,
            "ticks": ""
           }
          },
          "colorscale": {
           "diverging": [
            [
             0,
             "#8e0152"
            ],
            [
             0.1,
             "#c51b7d"
            ],
            [
             0.2,
             "#de77ae"
            ],
            [
             0.3,
             "#f1b6da"
            ],
            [
             0.4,
             "#fde0ef"
            ],
            [
             0.5,
             "#f7f7f7"
            ],
            [
             0.6,
             "#e6f5d0"
            ],
            [
             0.7,
             "#b8e186"
            ],
            [
             0.8,
             "#7fbc41"
            ],
            [
             0.9,
             "#4d9221"
            ],
            [
             1,
             "#276419"
            ]
           ],
           "sequential": [
            [
             0,
             "#0d0887"
            ],
            [
             0.1111111111111111,
             "#46039f"
            ],
            [
             0.2222222222222222,
             "#7201a8"
            ],
            [
             0.3333333333333333,
             "#9c179e"
            ],
            [
             0.4444444444444444,
             "#bd3786"
            ],
            [
             0.5555555555555556,
             "#d8576b"
            ],
            [
             0.6666666666666666,
             "#ed7953"
            ],
            [
             0.7777777777777778,
             "#fb9f3a"
            ],
            [
             0.8888888888888888,
             "#fdca26"
            ],
            [
             1,
             "#f0f921"
            ]
           ],
           "sequentialminus": [
            [
             0,
             "#0d0887"
            ],
            [
             0.1111111111111111,
             "#46039f"
            ],
            [
             0.2222222222222222,
             "#7201a8"
            ],
            [
             0.3333333333333333,
             "#9c179e"
            ],
            [
             0.4444444444444444,
             "#bd3786"
            ],
            [
             0.5555555555555556,
             "#d8576b"
            ],
            [
             0.6666666666666666,
             "#ed7953"
            ],
            [
             0.7777777777777778,
             "#fb9f3a"
            ],
            [
             0.8888888888888888,
             "#fdca26"
            ],
            [
             1,
             "#f0f921"
            ]
           ]
          },
          "colorway": [
           "#636efa",
           "#EF553B",
           "#00cc96",
           "#ab63fa",
           "#FFA15A",
           "#19d3f3",
           "#FF6692",
           "#B6E880",
           "#FF97FF",
           "#FECB52"
          ],
          "font": {
           "color": "#2a3f5f"
          },
          "geo": {
           "bgcolor": "white",
           "lakecolor": "white",
           "landcolor": "#E5ECF6",
           "showlakes": true,
           "showland": true,
           "subunitcolor": "white"
          },
          "hoverlabel": {
           "align": "left"
          },
          "hovermode": "closest",
          "mapbox": {
           "style": "light"
          },
          "paper_bgcolor": "white",
          "plot_bgcolor": "#E5ECF6",
          "polar": {
           "angularaxis": {
            "gridcolor": "white",
            "linecolor": "white",
            "ticks": ""
           },
           "bgcolor": "#E5ECF6",
           "radialaxis": {
            "gridcolor": "white",
            "linecolor": "white",
            "ticks": ""
           }
          },
          "scene": {
           "xaxis": {
            "backgroundcolor": "#E5ECF6",
            "gridcolor": "white",
            "gridwidth": 2,
            "linecolor": "white",
            "showbackground": true,
            "ticks": "",
            "zerolinecolor": "white"
           },
           "yaxis": {
            "backgroundcolor": "#E5ECF6",
            "gridcolor": "white",
            "gridwidth": 2,
            "linecolor": "white",
            "showbackground": true,
            "ticks": "",
            "zerolinecolor": "white"
           },
           "zaxis": {
            "backgroundcolor": "#E5ECF6",
            "gridcolor": "white",
            "gridwidth": 2,
            "linecolor": "white",
            "showbackground": true,
            "ticks": "",
            "zerolinecolor": "white"
           }
          },
          "shapedefaults": {
           "line": {
            "color": "#2a3f5f"
           }
          },
          "ternary": {
           "aaxis": {
            "gridcolor": "white",
            "linecolor": "white",
            "ticks": ""
           },
           "baxis": {
            "gridcolor": "white",
            "linecolor": "white",
            "ticks": ""
           },
           "bgcolor": "#E5ECF6",
           "caxis": {
            "gridcolor": "white",
            "linecolor": "white",
            "ticks": ""
           }
          },
          "title": {
           "x": 0.05
          },
          "xaxis": {
           "automargin": true,
           "gridcolor": "white",
           "linecolor": "white",
           "ticks": "",
           "title": {
            "standoff": 15
           },
           "zerolinecolor": "white",
           "zerolinewidth": 2
          },
          "yaxis": {
           "automargin": true,
           "gridcolor": "white",
           "linecolor": "white",
           "ticks": "",
           "title": {
            "standoff": 15
           },
           "zerolinecolor": "white",
           "zerolinewidth": 2
          }
         }
        },
        "title": {
         "font": {
          "color": "#4D5663"
         }
        },
        "xaxis": {
         "gridcolor": "#E1E5ED",
         "showgrid": true,
         "tickfont": {
          "color": "#4D5663"
         },
         "title": {
          "font": {
           "color": "#4D5663"
          },
          "text": ""
         },
         "zerolinecolor": "#E1E5ED"
        },
        "yaxis": {
         "gridcolor": "#E1E5ED",
         "showgrid": true,
         "tickfont": {
          "color": "#4D5663"
         },
         "title": {
          "font": {
           "color": "#4D5663"
          },
          "text": ""
         },
         "zerolinecolor": "#E1E5ED"
        }
       }
      },
      "text/html": [
       "<div>                            <div id=\"5ccf51ac-9627-4720-8a06-ce41cc9fafcb\" class=\"plotly-graph-div\" style=\"height:525px; width:100%;\"></div>            <script type=\"text/javascript\">                require([\"plotly\"], function(Plotly) {                    window.PLOTLYENV=window.PLOTLYENV || {};\n",
       "                    window.PLOTLYENV.BASE_URL='https://plot.ly';                                    if (document.getElementById(\"5ccf51ac-9627-4720-8a06-ce41cc9fafcb\")) {                    Plotly.newPlot(                        \"5ccf51ac-9627-4720-8a06-ce41cc9fafcb\",                        [{\"marker\": {\"color\": \"rgba(255, 153, 51, 0.6)\", \"line\": {\"color\": \"rgba(255, 153, 51, 1.0)\", \"width\": 1}}, \"name\": \"Valores\", \"orientation\": \"v\", \"text\": \"\", \"type\": \"bar\", \"x\": [\"A\", \"B\", \"C\"], \"y\": [32, 43, 50]}],                        {\"legend\": {\"bgcolor\": \"#F5F6F9\", \"font\": {\"color\": \"#4D5663\"}}, \"paper_bgcolor\": \"#F5F6F9\", \"plot_bgcolor\": \"#F5F6F9\", \"template\": {\"data\": {\"bar\": [{\"error_x\": {\"color\": \"#2a3f5f\"}, \"error_y\": {\"color\": \"#2a3f5f\"}, \"marker\": {\"line\": {\"color\": \"#E5ECF6\", \"width\": 0.5}}, \"type\": \"bar\"}], \"barpolar\": [{\"marker\": {\"line\": {\"color\": \"#E5ECF6\", \"width\": 0.5}}, \"type\": \"barpolar\"}], \"carpet\": [{\"aaxis\": {\"endlinecolor\": \"#2a3f5f\", \"gridcolor\": \"white\", \"linecolor\": \"white\", \"minorgridcolor\": \"white\", \"startlinecolor\": \"#2a3f5f\"}, \"baxis\": {\"endlinecolor\": \"#2a3f5f\", \"gridcolor\": \"white\", \"linecolor\": \"white\", \"minorgridcolor\": \"white\", \"startlinecolor\": \"#2a3f5f\"}, \"type\": \"carpet\"}], \"choropleth\": [{\"colorbar\": {\"outlinewidth\": 0, \"ticks\": \"\"}, \"type\": \"choropleth\"}], \"contour\": [{\"colorbar\": {\"outlinewidth\": 0, \"ticks\": \"\"}, \"colorscale\": [[0.0, \"#0d0887\"], [0.1111111111111111, \"#46039f\"], [0.2222222222222222, \"#7201a8\"], [0.3333333333333333, \"#9c179e\"], [0.4444444444444444, \"#bd3786\"], [0.5555555555555556, \"#d8576b\"], [0.6666666666666666, \"#ed7953\"], [0.7777777777777778, \"#fb9f3a\"], [0.8888888888888888, \"#fdca26\"], [1.0, \"#f0f921\"]], \"type\": \"contour\"}], \"contourcarpet\": [{\"colorbar\": {\"outlinewidth\": 0, \"ticks\": \"\"}, \"type\": \"contourcarpet\"}], \"heatmap\": [{\"colorbar\": {\"outlinewidth\": 0, \"ticks\": \"\"}, \"colorscale\": [[0.0, \"#0d0887\"], [0.1111111111111111, \"#46039f\"], [0.2222222222222222, \"#7201a8\"], [0.3333333333333333, \"#9c179e\"], [0.4444444444444444, \"#bd3786\"], [0.5555555555555556, \"#d8576b\"], [0.6666666666666666, \"#ed7953\"], [0.7777777777777778, \"#fb9f3a\"], [0.8888888888888888, \"#fdca26\"], [1.0, \"#f0f921\"]], \"type\": \"heatmap\"}], \"heatmapgl\": [{\"colorbar\": {\"outlinewidth\": 0, \"ticks\": \"\"}, \"colorscale\": [[0.0, \"#0d0887\"], [0.1111111111111111, \"#46039f\"], [0.2222222222222222, \"#7201a8\"], [0.3333333333333333, \"#9c179e\"], [0.4444444444444444, \"#bd3786\"], [0.5555555555555556, \"#d8576b\"], [0.6666666666666666, \"#ed7953\"], [0.7777777777777778, \"#fb9f3a\"], [0.8888888888888888, \"#fdca26\"], [1.0, \"#f0f921\"]], \"type\": \"heatmapgl\"}], \"histogram\": [{\"marker\": {\"colorbar\": {\"outlinewidth\": 0, \"ticks\": \"\"}}, \"type\": \"histogram\"}], \"histogram2d\": [{\"colorbar\": {\"outlinewidth\": 0, \"ticks\": \"\"}, \"colorscale\": [[0.0, \"#0d0887\"], [0.1111111111111111, \"#46039f\"], [0.2222222222222222, \"#7201a8\"], [0.3333333333333333, \"#9c179e\"], [0.4444444444444444, \"#bd3786\"], [0.5555555555555556, \"#d8576b\"], [0.6666666666666666, \"#ed7953\"], [0.7777777777777778, \"#fb9f3a\"], [0.8888888888888888, \"#fdca26\"], [1.0, \"#f0f921\"]], \"type\": \"histogram2d\"}], \"histogram2dcontour\": [{\"colorbar\": {\"outlinewidth\": 0, \"ticks\": \"\"}, \"colorscale\": [[0.0, \"#0d0887\"], [0.1111111111111111, \"#46039f\"], [0.2222222222222222, \"#7201a8\"], [0.3333333333333333, \"#9c179e\"], [0.4444444444444444, \"#bd3786\"], [0.5555555555555556, \"#d8576b\"], [0.6666666666666666, \"#ed7953\"], [0.7777777777777778, \"#fb9f3a\"], [0.8888888888888888, \"#fdca26\"], [1.0, \"#f0f921\"]], \"type\": \"histogram2dcontour\"}], \"mesh3d\": [{\"colorbar\": {\"outlinewidth\": 0, \"ticks\": \"\"}, \"type\": \"mesh3d\"}], \"parcoords\": [{\"line\": {\"colorbar\": {\"outlinewidth\": 0, \"ticks\": \"\"}}, \"type\": \"parcoords\"}], \"pie\": [{\"automargin\": true, \"type\": \"pie\"}], \"scatter\": [{\"marker\": {\"colorbar\": {\"outlinewidth\": 0, \"ticks\": \"\"}}, \"type\": \"scatter\"}], \"scatter3d\": [{\"line\": {\"colorbar\": {\"outlinewidth\": 0, \"ticks\": \"\"}}, \"marker\": {\"colorbar\": {\"outlinewidth\": 0, \"ticks\": \"\"}}, \"type\": \"scatter3d\"}], \"scattercarpet\": [{\"marker\": {\"colorbar\": {\"outlinewidth\": 0, \"ticks\": \"\"}}, \"type\": \"scattercarpet\"}], \"scattergeo\": [{\"marker\": {\"colorbar\": {\"outlinewidth\": 0, \"ticks\": \"\"}}, \"type\": \"scattergeo\"}], \"scattergl\": [{\"marker\": {\"colorbar\": {\"outlinewidth\": 0, \"ticks\": \"\"}}, \"type\": \"scattergl\"}], \"scattermapbox\": [{\"marker\": {\"colorbar\": {\"outlinewidth\": 0, \"ticks\": \"\"}}, \"type\": \"scattermapbox\"}], \"scatterpolar\": [{\"marker\": {\"colorbar\": {\"outlinewidth\": 0, \"ticks\": \"\"}}, \"type\": \"scatterpolar\"}], \"scatterpolargl\": [{\"marker\": {\"colorbar\": {\"outlinewidth\": 0, \"ticks\": \"\"}}, \"type\": \"scatterpolargl\"}], \"scatterternary\": [{\"marker\": {\"colorbar\": {\"outlinewidth\": 0, \"ticks\": \"\"}}, \"type\": \"scatterternary\"}], \"surface\": [{\"colorbar\": {\"outlinewidth\": 0, \"ticks\": \"\"}, \"colorscale\": [[0.0, \"#0d0887\"], [0.1111111111111111, \"#46039f\"], [0.2222222222222222, \"#7201a8\"], [0.3333333333333333, \"#9c179e\"], [0.4444444444444444, \"#bd3786\"], [0.5555555555555556, \"#d8576b\"], [0.6666666666666666, \"#ed7953\"], [0.7777777777777778, \"#fb9f3a\"], [0.8888888888888888, \"#fdca26\"], [1.0, \"#f0f921\"]], \"type\": \"surface\"}], \"table\": [{\"cells\": {\"fill\": {\"color\": \"#EBF0F8\"}, \"line\": {\"color\": \"white\"}}, \"header\": {\"fill\": {\"color\": \"#C8D4E3\"}, \"line\": {\"color\": \"white\"}}, \"type\": \"table\"}]}, \"layout\": {\"annotationdefaults\": {\"arrowcolor\": \"#2a3f5f\", \"arrowhead\": 0, \"arrowwidth\": 1}, \"autotypenumbers\": \"strict\", \"coloraxis\": {\"colorbar\": {\"outlinewidth\": 0, \"ticks\": \"\"}}, \"colorscale\": {\"diverging\": [[0, \"#8e0152\"], [0.1, \"#c51b7d\"], [0.2, \"#de77ae\"], [0.3, \"#f1b6da\"], [0.4, \"#fde0ef\"], [0.5, \"#f7f7f7\"], [0.6, \"#e6f5d0\"], [0.7, \"#b8e186\"], [0.8, \"#7fbc41\"], [0.9, \"#4d9221\"], [1, \"#276419\"]], \"sequential\": [[0.0, \"#0d0887\"], [0.1111111111111111, \"#46039f\"], [0.2222222222222222, \"#7201a8\"], [0.3333333333333333, \"#9c179e\"], [0.4444444444444444, \"#bd3786\"], [0.5555555555555556, \"#d8576b\"], [0.6666666666666666, \"#ed7953\"], [0.7777777777777778, \"#fb9f3a\"], [0.8888888888888888, \"#fdca26\"], [1.0, \"#f0f921\"]], \"sequentialminus\": [[0.0, \"#0d0887\"], [0.1111111111111111, \"#46039f\"], [0.2222222222222222, \"#7201a8\"], [0.3333333333333333, \"#9c179e\"], [0.4444444444444444, \"#bd3786\"], [0.5555555555555556, \"#d8576b\"], [0.6666666666666666, \"#ed7953\"], [0.7777777777777778, \"#fb9f3a\"], [0.8888888888888888, \"#fdca26\"], [1.0, \"#f0f921\"]]}, \"colorway\": [\"#636efa\", \"#EF553B\", \"#00cc96\", \"#ab63fa\", \"#FFA15A\", \"#19d3f3\", \"#FF6692\", \"#B6E880\", \"#FF97FF\", \"#FECB52\"], \"font\": {\"color\": \"#2a3f5f\"}, \"geo\": {\"bgcolor\": \"white\", \"lakecolor\": \"white\", \"landcolor\": \"#E5ECF6\", \"showlakes\": true, \"showland\": true, \"subunitcolor\": \"white\"}, \"hoverlabel\": {\"align\": \"left\"}, \"hovermode\": \"closest\", \"mapbox\": {\"style\": \"light\"}, \"paper_bgcolor\": \"white\", \"plot_bgcolor\": \"#E5ECF6\", \"polar\": {\"angularaxis\": {\"gridcolor\": \"white\", \"linecolor\": \"white\", \"ticks\": \"\"}, \"bgcolor\": \"#E5ECF6\", \"radialaxis\": {\"gridcolor\": \"white\", \"linecolor\": \"white\", \"ticks\": \"\"}}, \"scene\": {\"xaxis\": {\"backgroundcolor\": \"#E5ECF6\", \"gridcolor\": \"white\", \"gridwidth\": 2, \"linecolor\": \"white\", \"showbackground\": true, \"ticks\": \"\", \"zerolinecolor\": \"white\"}, \"yaxis\": {\"backgroundcolor\": \"#E5ECF6\", \"gridcolor\": \"white\", \"gridwidth\": 2, \"linecolor\": \"white\", \"showbackground\": true, \"ticks\": \"\", \"zerolinecolor\": \"white\"}, \"zaxis\": {\"backgroundcolor\": \"#E5ECF6\", \"gridcolor\": \"white\", \"gridwidth\": 2, \"linecolor\": \"white\", \"showbackground\": true, \"ticks\": \"\", \"zerolinecolor\": \"white\"}}, \"shapedefaults\": {\"line\": {\"color\": \"#2a3f5f\"}}, \"ternary\": {\"aaxis\": {\"gridcolor\": \"white\", \"linecolor\": \"white\", \"ticks\": \"\"}, \"baxis\": {\"gridcolor\": \"white\", \"linecolor\": \"white\", \"ticks\": \"\"}, \"bgcolor\": \"#E5ECF6\", \"caxis\": {\"gridcolor\": \"white\", \"linecolor\": \"white\", \"ticks\": \"\"}}, \"title\": {\"x\": 0.05}, \"xaxis\": {\"automargin\": true, \"gridcolor\": \"white\", \"linecolor\": \"white\", \"ticks\": \"\", \"title\": {\"standoff\": 15}, \"zerolinecolor\": \"white\", \"zerolinewidth\": 2}, \"yaxis\": {\"automargin\": true, \"gridcolor\": \"white\", \"linecolor\": \"white\", \"ticks\": \"\", \"title\": {\"standoff\": 15}, \"zerolinecolor\": \"white\", \"zerolinewidth\": 2}}}, \"title\": {\"font\": {\"color\": \"#4D5663\"}}, \"xaxis\": {\"gridcolor\": \"#E1E5ED\", \"showgrid\": true, \"tickfont\": {\"color\": \"#4D5663\"}, \"title\": {\"font\": {\"color\": \"#4D5663\"}, \"text\": \"\"}, \"zerolinecolor\": \"#E1E5ED\"}, \"yaxis\": {\"gridcolor\": \"#E1E5ED\", \"showgrid\": true, \"tickfont\": {\"color\": \"#4D5663\"}, \"title\": {\"font\": {\"color\": \"#4D5663\"}, \"text\": \"\"}, \"zerolinecolor\": \"#E1E5ED\"}},                        {\"showLink\": true, \"linkText\": \"Export to plot.ly\", \"plotlyServerURL\": \"https://plot.ly\", \"responsive\": true}                    ).then(function(){\n",
       "                            \n",
       "var gd = document.getElementById('5ccf51ac-9627-4720-8a06-ce41cc9fafcb');\n",
       "var x = new MutationObserver(function (mutations, observer) {{\n",
       "        var display = window.getComputedStyle(gd).display;\n",
       "        if (!display || display === 'none') {{\n",
       "            console.log([gd, 'removed!']);\n",
       "            Plotly.purge(gd);\n",
       "            observer.disconnect();\n",
       "        }}\n",
       "}});\n",
       "\n",
       "// Listen for the removal of the full notebook cells\n",
       "var notebookContainer = gd.closest('#notebook-container');\n",
       "if (notebookContainer) {{\n",
       "    x.observe(notebookContainer, {childList: true});\n",
       "}}\n",
       "\n",
       "// Listen for the clearing of the current output cell\n",
       "var outputEl = gd.closest('.output');\n",
       "if (outputEl) {{\n",
       "    x.observe(outputEl, {childList: true});\n",
       "}}\n",
       "\n",
       "                        })                };                });            </script>        </div>"
      ]
     },
     "metadata": {},
     "output_type": "display_data"
    }
   ],
   "source": [
    "df2.iplot(kind='bar', x='Categoria', y='Valores')"
   ]
  },
  {
   "cell_type": "code",
   "execution_count": 27,
   "metadata": {},
   "outputs": [
    {
     "data": {
      "application/vnd.plotly.v1+json": {
       "config": {
        "linkText": "Export to plot.ly",
        "plotlyServerURL": "https://plot.ly",
        "showLink": true
       },
       "data": [
        {
         "marker": {
          "color": "rgba(255, 153, 51, 0.6)",
          "line": {
           "color": "rgba(255, 153, 51, 1.0)",
           "width": 1
          }
         },
         "name": "None",
         "orientation": "v",
         "text": "",
         "type": "bar",
         "x": [
          "A",
          "B",
          "C",
          "D"
         ],
         "y": [
          100,
          100,
          100,
          100
         ]
        }
       ],
       "layout": {
        "legend": {
         "bgcolor": "#F5F6F9",
         "font": {
          "color": "#4D5663"
         }
        },
        "paper_bgcolor": "#F5F6F9",
        "plot_bgcolor": "#F5F6F9",
        "template": {
         "data": {
          "bar": [
           {
            "error_x": {
             "color": "#2a3f5f"
            },
            "error_y": {
             "color": "#2a3f5f"
            },
            "marker": {
             "line": {
              "color": "#E5ECF6",
              "width": 0.5
             }
            },
            "type": "bar"
           }
          ],
          "barpolar": [
           {
            "marker": {
             "line": {
              "color": "#E5ECF6",
              "width": 0.5
             }
            },
            "type": "barpolar"
           }
          ],
          "carpet": [
           {
            "aaxis": {
             "endlinecolor": "#2a3f5f",
             "gridcolor": "white",
             "linecolor": "white",
             "minorgridcolor": "white",
             "startlinecolor": "#2a3f5f"
            },
            "baxis": {
             "endlinecolor": "#2a3f5f",
             "gridcolor": "white",
             "linecolor": "white",
             "minorgridcolor": "white",
             "startlinecolor": "#2a3f5f"
            },
            "type": "carpet"
           }
          ],
          "choropleth": [
           {
            "colorbar": {
             "outlinewidth": 0,
             "ticks": ""
            },
            "type": "choropleth"
           }
          ],
          "contour": [
           {
            "colorbar": {
             "outlinewidth": 0,
             "ticks": ""
            },
            "colorscale": [
             [
              0,
              "#0d0887"
             ],
             [
              0.1111111111111111,
              "#46039f"
             ],
             [
              0.2222222222222222,
              "#7201a8"
             ],
             [
              0.3333333333333333,
              "#9c179e"
             ],
             [
              0.4444444444444444,
              "#bd3786"
             ],
             [
              0.5555555555555556,
              "#d8576b"
             ],
             [
              0.6666666666666666,
              "#ed7953"
             ],
             [
              0.7777777777777778,
              "#fb9f3a"
             ],
             [
              0.8888888888888888,
              "#fdca26"
             ],
             [
              1,
              "#f0f921"
             ]
            ],
            "type": "contour"
           }
          ],
          "contourcarpet": [
           {
            "colorbar": {
             "outlinewidth": 0,
             "ticks": ""
            },
            "type": "contourcarpet"
           }
          ],
          "heatmap": [
           {
            "colorbar": {
             "outlinewidth": 0,
             "ticks": ""
            },
            "colorscale": [
             [
              0,
              "#0d0887"
             ],
             [
              0.1111111111111111,
              "#46039f"
             ],
             [
              0.2222222222222222,
              "#7201a8"
             ],
             [
              0.3333333333333333,
              "#9c179e"
             ],
             [
              0.4444444444444444,
              "#bd3786"
             ],
             [
              0.5555555555555556,
              "#d8576b"
             ],
             [
              0.6666666666666666,
              "#ed7953"
             ],
             [
              0.7777777777777778,
              "#fb9f3a"
             ],
             [
              0.8888888888888888,
              "#fdca26"
             ],
             [
              1,
              "#f0f921"
             ]
            ],
            "type": "heatmap"
           }
          ],
          "heatmapgl": [
           {
            "colorbar": {
             "outlinewidth": 0,
             "ticks": ""
            },
            "colorscale": [
             [
              0,
              "#0d0887"
             ],
             [
              0.1111111111111111,
              "#46039f"
             ],
             [
              0.2222222222222222,
              "#7201a8"
             ],
             [
              0.3333333333333333,
              "#9c179e"
             ],
             [
              0.4444444444444444,
              "#bd3786"
             ],
             [
              0.5555555555555556,
              "#d8576b"
             ],
             [
              0.6666666666666666,
              "#ed7953"
             ],
             [
              0.7777777777777778,
              "#fb9f3a"
             ],
             [
              0.8888888888888888,
              "#fdca26"
             ],
             [
              1,
              "#f0f921"
             ]
            ],
            "type": "heatmapgl"
           }
          ],
          "histogram": [
           {
            "marker": {
             "colorbar": {
              "outlinewidth": 0,
              "ticks": ""
             }
            },
            "type": "histogram"
           }
          ],
          "histogram2d": [
           {
            "colorbar": {
             "outlinewidth": 0,
             "ticks": ""
            },
            "colorscale": [
             [
              0,
              "#0d0887"
             ],
             [
              0.1111111111111111,
              "#46039f"
             ],
             [
              0.2222222222222222,
              "#7201a8"
             ],
             [
              0.3333333333333333,
              "#9c179e"
             ],
             [
              0.4444444444444444,
              "#bd3786"
             ],
             [
              0.5555555555555556,
              "#d8576b"
             ],
             [
              0.6666666666666666,
              "#ed7953"
             ],
             [
              0.7777777777777778,
              "#fb9f3a"
             ],
             [
              0.8888888888888888,
              "#fdca26"
             ],
             [
              1,
              "#f0f921"
             ]
            ],
            "type": "histogram2d"
           }
          ],
          "histogram2dcontour": [
           {
            "colorbar": {
             "outlinewidth": 0,
             "ticks": ""
            },
            "colorscale": [
             [
              0,
              "#0d0887"
             ],
             [
              0.1111111111111111,
              "#46039f"
             ],
             [
              0.2222222222222222,
              "#7201a8"
             ],
             [
              0.3333333333333333,
              "#9c179e"
             ],
             [
              0.4444444444444444,
              "#bd3786"
             ],
             [
              0.5555555555555556,
              "#d8576b"
             ],
             [
              0.6666666666666666,
              "#ed7953"
             ],
             [
              0.7777777777777778,
              "#fb9f3a"
             ],
             [
              0.8888888888888888,
              "#fdca26"
             ],
             [
              1,
              "#f0f921"
             ]
            ],
            "type": "histogram2dcontour"
           }
          ],
          "mesh3d": [
           {
            "colorbar": {
             "outlinewidth": 0,
             "ticks": ""
            },
            "type": "mesh3d"
           }
          ],
          "parcoords": [
           {
            "line": {
             "colorbar": {
              "outlinewidth": 0,
              "ticks": ""
             }
            },
            "type": "parcoords"
           }
          ],
          "pie": [
           {
            "automargin": true,
            "type": "pie"
           }
          ],
          "scatter": [
           {
            "marker": {
             "colorbar": {
              "outlinewidth": 0,
              "ticks": ""
             }
            },
            "type": "scatter"
           }
          ],
          "scatter3d": [
           {
            "line": {
             "colorbar": {
              "outlinewidth": 0,
              "ticks": ""
             }
            },
            "marker": {
             "colorbar": {
              "outlinewidth": 0,
              "ticks": ""
             }
            },
            "type": "scatter3d"
           }
          ],
          "scattercarpet": [
           {
            "marker": {
             "colorbar": {
              "outlinewidth": 0,
              "ticks": ""
             }
            },
            "type": "scattercarpet"
           }
          ],
          "scattergeo": [
           {
            "marker": {
             "colorbar": {
              "outlinewidth": 0,
              "ticks": ""
             }
            },
            "type": "scattergeo"
           }
          ],
          "scattergl": [
           {
            "marker": {
             "colorbar": {
              "outlinewidth": 0,
              "ticks": ""
             }
            },
            "type": "scattergl"
           }
          ],
          "scattermapbox": [
           {
            "marker": {
             "colorbar": {
              "outlinewidth": 0,
              "ticks": ""
             }
            },
            "type": "scattermapbox"
           }
          ],
          "scatterpolar": [
           {
            "marker": {
             "colorbar": {
              "outlinewidth": 0,
              "ticks": ""
             }
            },
            "type": "scatterpolar"
           }
          ],
          "scatterpolargl": [
           {
            "marker": {
             "colorbar": {
              "outlinewidth": 0,
              "ticks": ""
             }
            },
            "type": "scatterpolargl"
           }
          ],
          "scatterternary": [
           {
            "marker": {
             "colorbar": {
              "outlinewidth": 0,
              "ticks": ""
             }
            },
            "type": "scatterternary"
           }
          ],
          "surface": [
           {
            "colorbar": {
             "outlinewidth": 0,
             "ticks": ""
            },
            "colorscale": [
             [
              0,
              "#0d0887"
             ],
             [
              0.1111111111111111,
              "#46039f"
             ],
             [
              0.2222222222222222,
              "#7201a8"
             ],
             [
              0.3333333333333333,
              "#9c179e"
             ],
             [
              0.4444444444444444,
              "#bd3786"
             ],
             [
              0.5555555555555556,
              "#d8576b"
             ],
             [
              0.6666666666666666,
              "#ed7953"
             ],
             [
              0.7777777777777778,
              "#fb9f3a"
             ],
             [
              0.8888888888888888,
              "#fdca26"
             ],
             [
              1,
              "#f0f921"
             ]
            ],
            "type": "surface"
           }
          ],
          "table": [
           {
            "cells": {
             "fill": {
              "color": "#EBF0F8"
             },
             "line": {
              "color": "white"
             }
            },
            "header": {
             "fill": {
              "color": "#C8D4E3"
             },
             "line": {
              "color": "white"
             }
            },
            "type": "table"
           }
          ]
         },
         "layout": {
          "annotationdefaults": {
           "arrowcolor": "#2a3f5f",
           "arrowhead": 0,
           "arrowwidth": 1
          },
          "autotypenumbers": "strict",
          "coloraxis": {
           "colorbar": {
            "outlinewidth": 0,
            "ticks": ""
           }
          },
          "colorscale": {
           "diverging": [
            [
             0,
             "#8e0152"
            ],
            [
             0.1,
             "#c51b7d"
            ],
            [
             0.2,
             "#de77ae"
            ],
            [
             0.3,
             "#f1b6da"
            ],
            [
             0.4,
             "#fde0ef"
            ],
            [
             0.5,
             "#f7f7f7"
            ],
            [
             0.6,
             "#e6f5d0"
            ],
            [
             0.7,
             "#b8e186"
            ],
            [
             0.8,
             "#7fbc41"
            ],
            [
             0.9,
             "#4d9221"
            ],
            [
             1,
             "#276419"
            ]
           ],
           "sequential": [
            [
             0,
             "#0d0887"
            ],
            [
             0.1111111111111111,
             "#46039f"
            ],
            [
             0.2222222222222222,
             "#7201a8"
            ],
            [
             0.3333333333333333,
             "#9c179e"
            ],
            [
             0.4444444444444444,
             "#bd3786"
            ],
            [
             0.5555555555555556,
             "#d8576b"
            ],
            [
             0.6666666666666666,
             "#ed7953"
            ],
            [
             0.7777777777777778,
             "#fb9f3a"
            ],
            [
             0.8888888888888888,
             "#fdca26"
            ],
            [
             1,
             "#f0f921"
            ]
           ],
           "sequentialminus": [
            [
             0,
             "#0d0887"
            ],
            [
             0.1111111111111111,
             "#46039f"
            ],
            [
             0.2222222222222222,
             "#7201a8"
            ],
            [
             0.3333333333333333,
             "#9c179e"
            ],
            [
             0.4444444444444444,
             "#bd3786"
            ],
            [
             0.5555555555555556,
             "#d8576b"
            ],
            [
             0.6666666666666666,
             "#ed7953"
            ],
            [
             0.7777777777777778,
             "#fb9f3a"
            ],
            [
             0.8888888888888888,
             "#fdca26"
            ],
            [
             1,
             "#f0f921"
            ]
           ]
          },
          "colorway": [
           "#636efa",
           "#EF553B",
           "#00cc96",
           "#ab63fa",
           "#FFA15A",
           "#19d3f3",
           "#FF6692",
           "#B6E880",
           "#FF97FF",
           "#FECB52"
          ],
          "font": {
           "color": "#2a3f5f"
          },
          "geo": {
           "bgcolor": "white",
           "lakecolor": "white",
           "landcolor": "#E5ECF6",
           "showlakes": true,
           "showland": true,
           "subunitcolor": "white"
          },
          "hoverlabel": {
           "align": "left"
          },
          "hovermode": "closest",
          "mapbox": {
           "style": "light"
          },
          "paper_bgcolor": "white",
          "plot_bgcolor": "#E5ECF6",
          "polar": {
           "angularaxis": {
            "gridcolor": "white",
            "linecolor": "white",
            "ticks": ""
           },
           "bgcolor": "#E5ECF6",
           "radialaxis": {
            "gridcolor": "white",
            "linecolor": "white",
            "ticks": ""
           }
          },
          "scene": {
           "xaxis": {
            "backgroundcolor": "#E5ECF6",
            "gridcolor": "white",
            "gridwidth": 2,
            "linecolor": "white",
            "showbackground": true,
            "ticks": "",
            "zerolinecolor": "white"
           },
           "yaxis": {
            "backgroundcolor": "#E5ECF6",
            "gridcolor": "white",
            "gridwidth": 2,
            "linecolor": "white",
            "showbackground": true,
            "ticks": "",
            "zerolinecolor": "white"
           },
           "zaxis": {
            "backgroundcolor": "#E5ECF6",
            "gridcolor": "white",
            "gridwidth": 2,
            "linecolor": "white",
            "showbackground": true,
            "ticks": "",
            "zerolinecolor": "white"
           }
          },
          "shapedefaults": {
           "line": {
            "color": "#2a3f5f"
           }
          },
          "ternary": {
           "aaxis": {
            "gridcolor": "white",
            "linecolor": "white",
            "ticks": ""
           },
           "baxis": {
            "gridcolor": "white",
            "linecolor": "white",
            "ticks": ""
           },
           "bgcolor": "#E5ECF6",
           "caxis": {
            "gridcolor": "white",
            "linecolor": "white",
            "ticks": ""
           }
          },
          "title": {
           "x": 0.05
          },
          "xaxis": {
           "automargin": true,
           "gridcolor": "white",
           "linecolor": "white",
           "ticks": "",
           "title": {
            "standoff": 15
           },
           "zerolinecolor": "white",
           "zerolinewidth": 2
          },
          "yaxis": {
           "automargin": true,
           "gridcolor": "white",
           "linecolor": "white",
           "ticks": "",
           "title": {
            "standoff": 15
           },
           "zerolinecolor": "white",
           "zerolinewidth": 2
          }
         }
        },
        "title": {
         "font": {
          "color": "#4D5663"
         }
        },
        "xaxis": {
         "gridcolor": "#E1E5ED",
         "showgrid": true,
         "tickfont": {
          "color": "#4D5663"
         },
         "title": {
          "font": {
           "color": "#4D5663"
          },
          "text": ""
         },
         "zerolinecolor": "#E1E5ED"
        },
        "yaxis": {
         "gridcolor": "#E1E5ED",
         "showgrid": true,
         "tickfont": {
          "color": "#4D5663"
         },
         "title": {
          "font": {
           "color": "#4D5663"
          },
          "text": ""
         },
         "zerolinecolor": "#E1E5ED"
        }
       }
      },
      "text/html": [
       "<div>                            <div id=\"b4e39f4e-e4ef-4766-8306-1b36a8fda7e2\" class=\"plotly-graph-div\" style=\"height:525px; width:100%;\"></div>            <script type=\"text/javascript\">                require([\"plotly\"], function(Plotly) {                    window.PLOTLYENV=window.PLOTLYENV || {};\n",
       "                    window.PLOTLYENV.BASE_URL='https://plot.ly';                                    if (document.getElementById(\"b4e39f4e-e4ef-4766-8306-1b36a8fda7e2\")) {                    Plotly.newPlot(                        \"b4e39f4e-e4ef-4766-8306-1b36a8fda7e2\",                        [{\"marker\": {\"color\": \"rgba(255, 153, 51, 0.6)\", \"line\": {\"color\": \"rgba(255, 153, 51, 1.0)\", \"width\": 1}}, \"name\": \"None\", \"orientation\": \"v\", \"text\": \"\", \"type\": \"bar\", \"x\": [\"A\", \"B\", \"C\", \"D\"], \"y\": [100, 100, 100, 100]}],                        {\"legend\": {\"bgcolor\": \"#F5F6F9\", \"font\": {\"color\": \"#4D5663\"}}, \"paper_bgcolor\": \"#F5F6F9\", \"plot_bgcolor\": \"#F5F6F9\", \"template\": {\"data\": {\"bar\": [{\"error_x\": {\"color\": \"#2a3f5f\"}, \"error_y\": {\"color\": \"#2a3f5f\"}, \"marker\": {\"line\": {\"color\": \"#E5ECF6\", \"width\": 0.5}}, \"type\": \"bar\"}], \"barpolar\": [{\"marker\": {\"line\": {\"color\": \"#E5ECF6\", \"width\": 0.5}}, \"type\": \"barpolar\"}], \"carpet\": [{\"aaxis\": {\"endlinecolor\": \"#2a3f5f\", \"gridcolor\": \"white\", \"linecolor\": \"white\", \"minorgridcolor\": \"white\", \"startlinecolor\": \"#2a3f5f\"}, \"baxis\": {\"endlinecolor\": \"#2a3f5f\", \"gridcolor\": \"white\", \"linecolor\": \"white\", \"minorgridcolor\": \"white\", \"startlinecolor\": \"#2a3f5f\"}, \"type\": \"carpet\"}], \"choropleth\": [{\"colorbar\": {\"outlinewidth\": 0, \"ticks\": \"\"}, \"type\": \"choropleth\"}], \"contour\": [{\"colorbar\": {\"outlinewidth\": 0, \"ticks\": \"\"}, \"colorscale\": [[0.0, \"#0d0887\"], [0.1111111111111111, \"#46039f\"], [0.2222222222222222, \"#7201a8\"], [0.3333333333333333, \"#9c179e\"], [0.4444444444444444, \"#bd3786\"], [0.5555555555555556, \"#d8576b\"], [0.6666666666666666, \"#ed7953\"], [0.7777777777777778, \"#fb9f3a\"], [0.8888888888888888, \"#fdca26\"], [1.0, \"#f0f921\"]], \"type\": \"contour\"}], \"contourcarpet\": [{\"colorbar\": {\"outlinewidth\": 0, \"ticks\": \"\"}, \"type\": \"contourcarpet\"}], \"heatmap\": [{\"colorbar\": {\"outlinewidth\": 0, \"ticks\": \"\"}, \"colorscale\": [[0.0, \"#0d0887\"], [0.1111111111111111, \"#46039f\"], [0.2222222222222222, \"#7201a8\"], [0.3333333333333333, \"#9c179e\"], [0.4444444444444444, \"#bd3786\"], [0.5555555555555556, \"#d8576b\"], [0.6666666666666666, \"#ed7953\"], [0.7777777777777778, \"#fb9f3a\"], [0.8888888888888888, \"#fdca26\"], [1.0, \"#f0f921\"]], \"type\": \"heatmap\"}], \"heatmapgl\": [{\"colorbar\": {\"outlinewidth\": 0, \"ticks\": \"\"}, \"colorscale\": [[0.0, \"#0d0887\"], [0.1111111111111111, \"#46039f\"], [0.2222222222222222, \"#7201a8\"], [0.3333333333333333, \"#9c179e\"], [0.4444444444444444, \"#bd3786\"], [0.5555555555555556, \"#d8576b\"], [0.6666666666666666, \"#ed7953\"], [0.7777777777777778, \"#fb9f3a\"], [0.8888888888888888, \"#fdca26\"], [1.0, \"#f0f921\"]], \"type\": \"heatmapgl\"}], \"histogram\": [{\"marker\": {\"colorbar\": {\"outlinewidth\": 0, \"ticks\": \"\"}}, \"type\": \"histogram\"}], \"histogram2d\": [{\"colorbar\": {\"outlinewidth\": 0, \"ticks\": \"\"}, \"colorscale\": [[0.0, \"#0d0887\"], [0.1111111111111111, \"#46039f\"], [0.2222222222222222, \"#7201a8\"], [0.3333333333333333, \"#9c179e\"], [0.4444444444444444, \"#bd3786\"], [0.5555555555555556, \"#d8576b\"], [0.6666666666666666, \"#ed7953\"], [0.7777777777777778, \"#fb9f3a\"], [0.8888888888888888, \"#fdca26\"], [1.0, \"#f0f921\"]], \"type\": \"histogram2d\"}], \"histogram2dcontour\": [{\"colorbar\": {\"outlinewidth\": 0, \"ticks\": \"\"}, \"colorscale\": [[0.0, \"#0d0887\"], [0.1111111111111111, \"#46039f\"], [0.2222222222222222, \"#7201a8\"], [0.3333333333333333, \"#9c179e\"], [0.4444444444444444, \"#bd3786\"], [0.5555555555555556, \"#d8576b\"], [0.6666666666666666, \"#ed7953\"], [0.7777777777777778, \"#fb9f3a\"], [0.8888888888888888, \"#fdca26\"], [1.0, \"#f0f921\"]], \"type\": \"histogram2dcontour\"}], \"mesh3d\": [{\"colorbar\": {\"outlinewidth\": 0, \"ticks\": \"\"}, \"type\": \"mesh3d\"}], \"parcoords\": [{\"line\": {\"colorbar\": {\"outlinewidth\": 0, \"ticks\": \"\"}}, \"type\": \"parcoords\"}], \"pie\": [{\"automargin\": true, \"type\": \"pie\"}], \"scatter\": [{\"marker\": {\"colorbar\": {\"outlinewidth\": 0, \"ticks\": \"\"}}, \"type\": \"scatter\"}], \"scatter3d\": [{\"line\": {\"colorbar\": {\"outlinewidth\": 0, \"ticks\": \"\"}}, \"marker\": {\"colorbar\": {\"outlinewidth\": 0, \"ticks\": \"\"}}, \"type\": \"scatter3d\"}], \"scattercarpet\": [{\"marker\": {\"colorbar\": {\"outlinewidth\": 0, \"ticks\": \"\"}}, \"type\": \"scattercarpet\"}], \"scattergeo\": [{\"marker\": {\"colorbar\": {\"outlinewidth\": 0, \"ticks\": \"\"}}, \"type\": \"scattergeo\"}], \"scattergl\": [{\"marker\": {\"colorbar\": {\"outlinewidth\": 0, \"ticks\": \"\"}}, \"type\": \"scattergl\"}], \"scattermapbox\": [{\"marker\": {\"colorbar\": {\"outlinewidth\": 0, \"ticks\": \"\"}}, \"type\": \"scattermapbox\"}], \"scatterpolar\": [{\"marker\": {\"colorbar\": {\"outlinewidth\": 0, \"ticks\": \"\"}}, \"type\": \"scatterpolar\"}], \"scatterpolargl\": [{\"marker\": {\"colorbar\": {\"outlinewidth\": 0, \"ticks\": \"\"}}, \"type\": \"scatterpolargl\"}], \"scatterternary\": [{\"marker\": {\"colorbar\": {\"outlinewidth\": 0, \"ticks\": \"\"}}, \"type\": \"scatterternary\"}], \"surface\": [{\"colorbar\": {\"outlinewidth\": 0, \"ticks\": \"\"}, \"colorscale\": [[0.0, \"#0d0887\"], [0.1111111111111111, \"#46039f\"], [0.2222222222222222, \"#7201a8\"], [0.3333333333333333, \"#9c179e\"], [0.4444444444444444, \"#bd3786\"], [0.5555555555555556, \"#d8576b\"], [0.6666666666666666, \"#ed7953\"], [0.7777777777777778, \"#fb9f3a\"], [0.8888888888888888, \"#fdca26\"], [1.0, \"#f0f921\"]], \"type\": \"surface\"}], \"table\": [{\"cells\": {\"fill\": {\"color\": \"#EBF0F8\"}, \"line\": {\"color\": \"white\"}}, \"header\": {\"fill\": {\"color\": \"#C8D4E3\"}, \"line\": {\"color\": \"white\"}}, \"type\": \"table\"}]}, \"layout\": {\"annotationdefaults\": {\"arrowcolor\": \"#2a3f5f\", \"arrowhead\": 0, \"arrowwidth\": 1}, \"autotypenumbers\": \"strict\", \"coloraxis\": {\"colorbar\": {\"outlinewidth\": 0, \"ticks\": \"\"}}, \"colorscale\": {\"diverging\": [[0, \"#8e0152\"], [0.1, \"#c51b7d\"], [0.2, \"#de77ae\"], [0.3, \"#f1b6da\"], [0.4, \"#fde0ef\"], [0.5, \"#f7f7f7\"], [0.6, \"#e6f5d0\"], [0.7, \"#b8e186\"], [0.8, \"#7fbc41\"], [0.9, \"#4d9221\"], [1, \"#276419\"]], \"sequential\": [[0.0, \"#0d0887\"], [0.1111111111111111, \"#46039f\"], [0.2222222222222222, \"#7201a8\"], [0.3333333333333333, \"#9c179e\"], [0.4444444444444444, \"#bd3786\"], [0.5555555555555556, \"#d8576b\"], [0.6666666666666666, \"#ed7953\"], [0.7777777777777778, \"#fb9f3a\"], [0.8888888888888888, \"#fdca26\"], [1.0, \"#f0f921\"]], \"sequentialminus\": [[0.0, \"#0d0887\"], [0.1111111111111111, \"#46039f\"], [0.2222222222222222, \"#7201a8\"], [0.3333333333333333, \"#9c179e\"], [0.4444444444444444, \"#bd3786\"], [0.5555555555555556, \"#d8576b\"], [0.6666666666666666, \"#ed7953\"], [0.7777777777777778, \"#fb9f3a\"], [0.8888888888888888, \"#fdca26\"], [1.0, \"#f0f921\"]]}, \"colorway\": [\"#636efa\", \"#EF553B\", \"#00cc96\", \"#ab63fa\", \"#FFA15A\", \"#19d3f3\", \"#FF6692\", \"#B6E880\", \"#FF97FF\", \"#FECB52\"], \"font\": {\"color\": \"#2a3f5f\"}, \"geo\": {\"bgcolor\": \"white\", \"lakecolor\": \"white\", \"landcolor\": \"#E5ECF6\", \"showlakes\": true, \"showland\": true, \"subunitcolor\": \"white\"}, \"hoverlabel\": {\"align\": \"left\"}, \"hovermode\": \"closest\", \"mapbox\": {\"style\": \"light\"}, \"paper_bgcolor\": \"white\", \"plot_bgcolor\": \"#E5ECF6\", \"polar\": {\"angularaxis\": {\"gridcolor\": \"white\", \"linecolor\": \"white\", \"ticks\": \"\"}, \"bgcolor\": \"#E5ECF6\", \"radialaxis\": {\"gridcolor\": \"white\", \"linecolor\": \"white\", \"ticks\": \"\"}}, \"scene\": {\"xaxis\": {\"backgroundcolor\": \"#E5ECF6\", \"gridcolor\": \"white\", \"gridwidth\": 2, \"linecolor\": \"white\", \"showbackground\": true, \"ticks\": \"\", \"zerolinecolor\": \"white\"}, \"yaxis\": {\"backgroundcolor\": \"#E5ECF6\", \"gridcolor\": \"white\", \"gridwidth\": 2, \"linecolor\": \"white\", \"showbackground\": true, \"ticks\": \"\", \"zerolinecolor\": \"white\"}, \"zaxis\": {\"backgroundcolor\": \"#E5ECF6\", \"gridcolor\": \"white\", \"gridwidth\": 2, \"linecolor\": \"white\", \"showbackground\": true, \"ticks\": \"\", \"zerolinecolor\": \"white\"}}, \"shapedefaults\": {\"line\": {\"color\": \"#2a3f5f\"}}, \"ternary\": {\"aaxis\": {\"gridcolor\": \"white\", \"linecolor\": \"white\", \"ticks\": \"\"}, \"baxis\": {\"gridcolor\": \"white\", \"linecolor\": \"white\", \"ticks\": \"\"}, \"bgcolor\": \"#E5ECF6\", \"caxis\": {\"gridcolor\": \"white\", \"linecolor\": \"white\", \"ticks\": \"\"}}, \"title\": {\"x\": 0.05}, \"xaxis\": {\"automargin\": true, \"gridcolor\": \"white\", \"linecolor\": \"white\", \"ticks\": \"\", \"title\": {\"standoff\": 15}, \"zerolinecolor\": \"white\", \"zerolinewidth\": 2}, \"yaxis\": {\"automargin\": true, \"gridcolor\": \"white\", \"linecolor\": \"white\", \"ticks\": \"\", \"title\": {\"standoff\": 15}, \"zerolinecolor\": \"white\", \"zerolinewidth\": 2}}}, \"title\": {\"font\": {\"color\": \"#4D5663\"}}, \"xaxis\": {\"gridcolor\": \"#E1E5ED\", \"showgrid\": true, \"tickfont\": {\"color\": \"#4D5663\"}, \"title\": {\"font\": {\"color\": \"#4D5663\"}, \"text\": \"\"}, \"zerolinecolor\": \"#E1E5ED\"}, \"yaxis\": {\"gridcolor\": \"#E1E5ED\", \"showgrid\": true, \"tickfont\": {\"color\": \"#4D5663\"}, \"title\": {\"font\": {\"color\": \"#4D5663\"}, \"text\": \"\"}, \"zerolinecolor\": \"#E1E5ED\"}},                        {\"showLink\": true, \"linkText\": \"Export to plot.ly\", \"plotlyServerURL\": \"https://plot.ly\", \"responsive\": true}                    ).then(function(){\n",
       "                            \n",
       "var gd = document.getElementById('b4e39f4e-e4ef-4766-8306-1b36a8fda7e2');\n",
       "var x = new MutationObserver(function (mutations, observer) {{\n",
       "        var display = window.getComputedStyle(gd).display;\n",
       "        if (!display || display === 'none') {{\n",
       "            console.log([gd, 'removed!']);\n",
       "            Plotly.purge(gd);\n",
       "            observer.disconnect();\n",
       "        }}\n",
       "}});\n",
       "\n",
       "// Listen for the removal of the full notebook cells\n",
       "var notebookContainer = gd.closest('#notebook-container');\n",
       "if (notebookContainer) {{\n",
       "    x.observe(notebookContainer, {childList: true});\n",
       "}}\n",
       "\n",
       "// Listen for the clearing of the current output cell\n",
       "var outputEl = gd.closest('.output');\n",
       "if (outputEl) {{\n",
       "    x.observe(outputEl, {childList: true});\n",
       "}}\n",
       "\n",
       "                        })                };                });            </script>        </div>"
      ]
     },
     "metadata": {},
     "output_type": "display_data"
    }
   ],
   "source": [
    "df.count().iplot('bar')"
   ]
  },
  {
   "cell_type": "code",
   "execution_count": 28,
   "metadata": {},
   "outputs": [
    {
     "data": {
      "application/vnd.plotly.v1+json": {
       "config": {
        "linkText": "Export to plot.ly",
        "plotlyServerURL": "https://plot.ly",
        "showLink": true
       },
       "data": [
        {
         "boxpoints": false,
         "line": {
          "width": 1.3
         },
         "marker": {
          "color": "rgba(255, 153, 51, 1.0)"
         },
         "name": "A",
         "orientation": "v",
         "type": "box",
         "y": [
          -0.2941236145979744,
          -1.2055757622417584,
          1.6739059144807003,
          0.28697682921847084,
          0.41395886627795436,
          0.3258350572180524,
          0.5252390425920379,
          -0.5736684755822246,
          -0.5700688362477726,
          0.3645225874268893,
          -1.1647288821832336,
          0.08451189819558057,
          -0.744180002462252,
          -1.2151693534115133,
          -1.2344417644275725,
          -1.2727768086178122,
          -1.109210674025156,
          1.8561357436671402,
          -0.5743628582238592,
          -1.2869710643656933,
          0.5654720433196601,
          -0.06184951055573469,
          1.5426557670599157,
          1.5183339797624478,
          1.1914744908087287,
          0.6123027103271466,
          -1.1128315368989694,
          0.34211525618759664,
          -1.5427770588082996,
          -1.8095088920475255,
          0.8914290648608734,
          0.5707299722117781,
          0.4150615465660746,
          -0.15779149891157998,
          -0.37577490575303407,
          -1.3493202029071392,
          -2.149745000938564,
          -0.1665954222704084,
          -0.14825310781359657,
          0.9726743509758792,
          -0.4263313438545262,
          -0.8371332285968943,
          -1.00910939339172,
          0.9687066851117567,
          -0.31949200585851995,
          0.3811634222615911,
          -0.8701558140039154,
          0.4530440030691015,
          0.17712571854006096,
          -1.2943118538026293,
          -0.9440276852622483,
          -1.6140737385993082,
          -0.5820649119257266,
          2.024328108515571,
          0.09159763211659076,
          0.8699658570083942,
          -1.9701241141643424,
          1.7690020942672438,
          0.5602034891518604,
          0.45164160230701056,
          -0.028028443485482134,
          0.3885875044711814,
          0.018490601080752518,
          2.8676657947150765,
          -0.8816260097799625,
          0.5214180441747942,
          -0.2093671541431842,
          0.415228606814977,
          -1.7884617684009187,
          -1.1882225177627814,
          -0.684762457408276,
          -1.9832688668725418,
          0.9310360124815191,
          -0.5457278756057826,
          -0.710547760985368,
          -0.5446929238244186,
          -0.19630294700548082,
          -1.44280738406763,
          -0.8331241658672963,
          -0.45235685481235416,
          -0.6728883540615982,
          0.3344908135970183,
          0.7970971944919325,
          1.3589465498265694,
          1.6675265431050559,
          -0.24149016625430927,
          0.3735431989596485,
          2.327748140643649,
          -0.1382155746471087,
          -0.7712757639353897,
          -0.4514863772912042,
          -0.46245415819363367,
          1.6861611281399966,
          0.3070846956990549,
          -0.7986246032710236,
          -0.37716556826567615,
          0.027142910172499594,
          -0.16862571807318036,
          -2.610727992542222,
          1.8581627120087132
         ]
        },
        {
         "boxpoints": false,
         "line": {
          "width": 1.3
         },
         "marker": {
          "color": "rgba(55, 128, 191, 1.0)"
         },
         "name": "B",
         "orientation": "v",
         "type": "box",
         "y": [
          1.1232035304834727,
          -0.027646444578447983,
          -0.08398900118924442,
          -0.15149207680460008,
          1.3297811358905003,
          -0.3588283929141447,
          -0.09241960340912399,
          0.4144283948863819,
          -0.3242812375394934,
          2.3983374404567153,
          0.06909517875539394,
          -0.9047885203720661,
          -0.3265029067093802,
          1.7107990386995107,
          -0.10882256063664028,
          0.4897875303308817,
          -1.0135894728524193,
          1.469438190961238,
          0.036116091249880994,
          -0.8489964394716256,
          1.1045547892308794,
          -2.733992479927418,
          0.32155595967427597,
          1.1730656687096301,
          0.08919563895231453,
          -0.25087110936678997,
          0.3482220702050979,
          -1.7806719298663185,
          -0.4513396599289586,
          -1.9081904190159555,
          -0.3819735660336761,
          0.8622929704051494,
          0.6643974389859816,
          -0.10482717044736548,
          -0.2978187641213,
          0.38498283608367456,
          -0.2923058128870225,
          -1.8272050682618728,
          0.9994086669080886,
          0.22725335504437277,
          0.543937236379081,
          0.07227911719372908,
          1.5237616967102592,
          -0.9532437020079461,
          -0.15113803558243055,
          0.2617176444724291,
          -0.24506613212165868,
          -0.5207569261079663,
          -0.8532011988899243,
          1.0864728378980126,
          0.4654840803605472,
          0.09625462622839667,
          -0.7357046380750296,
          0.030202365540960157,
          0.9262509241518855,
          1.9593338921574195,
          -1.3661245536871027,
          0.7323140351673906,
          0.006607641087876381,
          1.7473651609919887,
          0.4219988261940681,
          1.4191862517842977,
          -0.7566038891150196,
          -0.41425090121806823,
          3.0035553718893238,
          -1.3449509112854081,
          -0.44909665312229585,
          -0.14484253474706837,
          -1.62510198227339,
          0.513343071179874,
          0.10057721954931076,
          -0.3347821761196757,
          -0.2056135190586056,
          1.522708283114086,
          -0.9610873885231529,
          0.3801472992208391,
          -0.26196111219286417,
          1.5602775206755128,
          -0.5837342554198951,
          0.42352589486444703,
          -0.3595438735331036,
          0.42050074494523526,
          0.48865650230846835,
          -0.4435686363074531,
          -1.2356577354562504,
          -0.040859602804632925,
          0.559282291459184,
          0.12464642337136354,
          -0.15108892936597226,
          1.7478728236278007,
          -0.30778670631463906,
          -0.19881792903994983,
          0.9365043151652537,
          0.0853259717415844,
          0.4357469077004661,
          0.9373712100633341,
          0.8836339180532669,
          -1.1235502320579935,
          -0.9786059330900005,
          -0.45891658939469926
         ]
        },
        {
         "boxpoints": false,
         "line": {
          "width": 1.3
         },
         "marker": {
          "color": "rgba(50, 171, 96, 1.0)"
         },
         "name": "C",
         "orientation": "v",
         "type": "box",
         "y": [
          1.1294338268005901,
          -1.887572133913162,
          -1.085188366556874,
          1.2441200502444267,
          1.5459320960380774,
          -0.4988637936723765,
          -0.1577437548664111,
          0.09020622464636908,
          -0.27151571164654525,
          -0.18975644415964288,
          -0.6699686461843579,
          2.296747020407923,
          0.05130330800056149,
          -2.4442640983583517,
          1.2389016903456653,
          -0.18944434352683967,
          0.6053072348106463,
          -1.2524285923701526,
          1.3933747650509871,
          0.49202062210322245,
          0.257957107145455,
          1.1220240799018353,
          -1.718931138709767,
          0.5951710932559078,
          0.11425858220558911,
          -0.8562861220154547,
          -1.4738005214000116,
          0.07242468226824243,
          1.809544160579259,
          -0.6873950236870673,
          -0.6536284677564498,
          -0.9602739090100308,
          -0.34724078991539603,
          0.5388518809564495,
          -2.173526797590024,
          0.8355229097644048,
          -0.897943250330798,
          0.5450735887174946,
          -0.9372387110558424,
          -1.112549270349293,
          -0.702726815470619,
          0.7325129076485717,
          -0.17369932388406342,
          0.09773400489425473,
          -0.22942079872978982,
          0.1703871787161514,
          -2.1665240120693823,
          -0.7153513931660893,
          -0.6420652181842549,
          0.13465773936314834,
          0.8088113190400273,
          0.5531535072070709,
          -0.057563529228919684,
          -0.25600086262824917,
          -0.577007313856514,
          -0.8279579404389458,
          -0.8933546160692658,
          0.5656854641293453,
          -0.8399717143319536,
          -0.32430624375610345,
          -1.0914288219776849,
          -0.18180695775916408,
          -0.9726438334197695,
          0.30271857357350695,
          -0.15572541628244654,
          1.3578671011251717,
          -0.6101904703382658,
          -0.6923693151136978,
          -0.43667702717984946,
          0.7848023269101269,
          0.3818528888035823,
          -1.0984175475606468,
          1.0060225751515335,
          -1.2234840944513203,
          0.9254079096802839,
          0.47078473569527546,
          2.437524598965109,
          0.4824326534477051,
          -0.22873571010776006,
          0.462812382296827,
          1.9991883779041422,
          -0.24198131614206647,
          0.10069737128065137,
          -0.9889128384993973,
          -0.9381482305703883,
          -1.9321036946732335,
          -0.4110046626450792,
          -1.0421297199384185,
          -1.6084817749223765,
          -0.296731532257138,
          -0.3804787106746805,
          0.2838245966238775,
          -1.138381207628285,
          -1.2861171735396557,
          0.6135467426774536,
          -1.0953398758579733,
          -1.8552417689885758,
          -0.8880496545159664,
          1.2285245683523007,
          -0.906758092599867
         ]
        },
        {
         "boxpoints": false,
         "line": {
          "width": 1.3
         },
         "marker": {
          "color": "rgba(128, 0, 128, 1.0)"
         },
         "name": "D",
         "orientation": "v",
         "type": "box",
         "y": [
          -0.3005660290796793,
          0.4690410684946249,
          -0.15686784605172588,
          0.34597968254358424,
          -0.8765272729371686,
          1.0578142148171377,
          1.1517833751948285,
          -0.9059399369573186,
          0.6559696282037321,
          0.8660618634624208,
          0.9298634275370239,
          -0.4036806650429973,
          2.0831763476256464,
          2.236332687234384,
          0.1023211477173691,
          0.673849289359737,
          1.4058839722240843,
          -1.5472002402660305,
          0.2242403905844482,
          0.9577374008703127,
          0.012576660713810802,
          -1.2054267184605332,
          -1.835374218557789,
          0.820394938928055,
          -0.3678435146878748,
          1.5680299954819024,
          0.2567420393462134,
          -1.8412356071911151,
          0.15224791026731652,
          0.8689689475570724,
          0.6199987051206256,
          0.08520560340375176,
          1.8672640839451167,
          0.7216926846091692,
          -0.6353257802654373,
          -0.2307027271462637,
          -0.6565636798272065,
          -2.24020902822671,
          -0.8625622473890274,
          1.0129263016287262,
          0.3756742179574329,
          -1.0591502767295813,
          0.3098859743806808,
          -0.120096595893609,
          1.3990380568406269,
          -0.4347703785963267,
          -0.9398151287733784,
          0.4950357210179923,
          0.4800437963115811,
          0.8282016946835207,
          0.0008638232858400742,
          0.8947718662025472,
          -0.7388662047798948,
          -0.7244205136277834,
          -1.0436174072116249,
          -0.30583914096101333,
          -0.8144962732005774,
          0.5923749632389562,
          0.9882575009645511,
          -1.5281723458094598,
          0.874250864706059,
          -0.45204143281161246,
          0.8068987810944247,
          0.28410008734849235,
          1.5517908672621392,
          -0.5057124791407088,
          0.7008348403356799,
          -0.12797976246664364,
          0.6393289239677991,
          -0.4281270518755398,
          -0.5252675809214842,
          -0.9401994595911041,
          -0.01297658993896751,
          -0.06836163379373286,
          1.6801609319042026,
          -1.599265119876865,
          0.7375891078115318,
          -0.06889510467951712,
          0.5805253856391505,
          -0.6058305951461466,
          -1.9080405994625778,
          -1.596579305185901,
          0.49248475294184624,
          0.7534647853327919,
          -0.8874422957908504,
          0.9537799052764699,
          1.2999088457279604,
          -0.03936343150833903,
          0.536088725542492,
          0.666016137641211,
          0.8020667031064855,
          -0.03837550627684842,
          -2.217797311811609,
          -0.6615233168351068,
          0.5423968297678927,
          -0.29740582382476405,
          1.9159748872217595,
          -0.010257753016069099,
          -0.6698239566159488,
          0.5516997270369369
         ]
        }
       ],
       "layout": {
        "legend": {
         "bgcolor": "#F5F6F9",
         "font": {
          "color": "#4D5663"
         }
        },
        "paper_bgcolor": "#F5F6F9",
        "plot_bgcolor": "#F5F6F9",
        "template": {
         "data": {
          "bar": [
           {
            "error_x": {
             "color": "#2a3f5f"
            },
            "error_y": {
             "color": "#2a3f5f"
            },
            "marker": {
             "line": {
              "color": "#E5ECF6",
              "width": 0.5
             }
            },
            "type": "bar"
           }
          ],
          "barpolar": [
           {
            "marker": {
             "line": {
              "color": "#E5ECF6",
              "width": 0.5
             }
            },
            "type": "barpolar"
           }
          ],
          "carpet": [
           {
            "aaxis": {
             "endlinecolor": "#2a3f5f",
             "gridcolor": "white",
             "linecolor": "white",
             "minorgridcolor": "white",
             "startlinecolor": "#2a3f5f"
            },
            "baxis": {
             "endlinecolor": "#2a3f5f",
             "gridcolor": "white",
             "linecolor": "white",
             "minorgridcolor": "white",
             "startlinecolor": "#2a3f5f"
            },
            "type": "carpet"
           }
          ],
          "choropleth": [
           {
            "colorbar": {
             "outlinewidth": 0,
             "ticks": ""
            },
            "type": "choropleth"
           }
          ],
          "contour": [
           {
            "colorbar": {
             "outlinewidth": 0,
             "ticks": ""
            },
            "colorscale": [
             [
              0,
              "#0d0887"
             ],
             [
              0.1111111111111111,
              "#46039f"
             ],
             [
              0.2222222222222222,
              "#7201a8"
             ],
             [
              0.3333333333333333,
              "#9c179e"
             ],
             [
              0.4444444444444444,
              "#bd3786"
             ],
             [
              0.5555555555555556,
              "#d8576b"
             ],
             [
              0.6666666666666666,
              "#ed7953"
             ],
             [
              0.7777777777777778,
              "#fb9f3a"
             ],
             [
              0.8888888888888888,
              "#fdca26"
             ],
             [
              1,
              "#f0f921"
             ]
            ],
            "type": "contour"
           }
          ],
          "contourcarpet": [
           {
            "colorbar": {
             "outlinewidth": 0,
             "ticks": ""
            },
            "type": "contourcarpet"
           }
          ],
          "heatmap": [
           {
            "colorbar": {
             "outlinewidth": 0,
             "ticks": ""
            },
            "colorscale": [
             [
              0,
              "#0d0887"
             ],
             [
              0.1111111111111111,
              "#46039f"
             ],
             [
              0.2222222222222222,
              "#7201a8"
             ],
             [
              0.3333333333333333,
              "#9c179e"
             ],
             [
              0.4444444444444444,
              "#bd3786"
             ],
             [
              0.5555555555555556,
              "#d8576b"
             ],
             [
              0.6666666666666666,
              "#ed7953"
             ],
             [
              0.7777777777777778,
              "#fb9f3a"
             ],
             [
              0.8888888888888888,
              "#fdca26"
             ],
             [
              1,
              "#f0f921"
             ]
            ],
            "type": "heatmap"
           }
          ],
          "heatmapgl": [
           {
            "colorbar": {
             "outlinewidth": 0,
             "ticks": ""
            },
            "colorscale": [
             [
              0,
              "#0d0887"
             ],
             [
              0.1111111111111111,
              "#46039f"
             ],
             [
              0.2222222222222222,
              "#7201a8"
             ],
             [
              0.3333333333333333,
              "#9c179e"
             ],
             [
              0.4444444444444444,
              "#bd3786"
             ],
             [
              0.5555555555555556,
              "#d8576b"
             ],
             [
              0.6666666666666666,
              "#ed7953"
             ],
             [
              0.7777777777777778,
              "#fb9f3a"
             ],
             [
              0.8888888888888888,
              "#fdca26"
             ],
             [
              1,
              "#f0f921"
             ]
            ],
            "type": "heatmapgl"
           }
          ],
          "histogram": [
           {
            "marker": {
             "colorbar": {
              "outlinewidth": 0,
              "ticks": ""
             }
            },
            "type": "histogram"
           }
          ],
          "histogram2d": [
           {
            "colorbar": {
             "outlinewidth": 0,
             "ticks": ""
            },
            "colorscale": [
             [
              0,
              "#0d0887"
             ],
             [
              0.1111111111111111,
              "#46039f"
             ],
             [
              0.2222222222222222,
              "#7201a8"
             ],
             [
              0.3333333333333333,
              "#9c179e"
             ],
             [
              0.4444444444444444,
              "#bd3786"
             ],
             [
              0.5555555555555556,
              "#d8576b"
             ],
             [
              0.6666666666666666,
              "#ed7953"
             ],
             [
              0.7777777777777778,
              "#fb9f3a"
             ],
             [
              0.8888888888888888,
              "#fdca26"
             ],
             [
              1,
              "#f0f921"
             ]
            ],
            "type": "histogram2d"
           }
          ],
          "histogram2dcontour": [
           {
            "colorbar": {
             "outlinewidth": 0,
             "ticks": ""
            },
            "colorscale": [
             [
              0,
              "#0d0887"
             ],
             [
              0.1111111111111111,
              "#46039f"
             ],
             [
              0.2222222222222222,
              "#7201a8"
             ],
             [
              0.3333333333333333,
              "#9c179e"
             ],
             [
              0.4444444444444444,
              "#bd3786"
             ],
             [
              0.5555555555555556,
              "#d8576b"
             ],
             [
              0.6666666666666666,
              "#ed7953"
             ],
             [
              0.7777777777777778,
              "#fb9f3a"
             ],
             [
              0.8888888888888888,
              "#fdca26"
             ],
             [
              1,
              "#f0f921"
             ]
            ],
            "type": "histogram2dcontour"
           }
          ],
          "mesh3d": [
           {
            "colorbar": {
             "outlinewidth": 0,
             "ticks": ""
            },
            "type": "mesh3d"
           }
          ],
          "parcoords": [
           {
            "line": {
             "colorbar": {
              "outlinewidth": 0,
              "ticks": ""
             }
            },
            "type": "parcoords"
           }
          ],
          "pie": [
           {
            "automargin": true,
            "type": "pie"
           }
          ],
          "scatter": [
           {
            "marker": {
             "colorbar": {
              "outlinewidth": 0,
              "ticks": ""
             }
            },
            "type": "scatter"
           }
          ],
          "scatter3d": [
           {
            "line": {
             "colorbar": {
              "outlinewidth": 0,
              "ticks": ""
             }
            },
            "marker": {
             "colorbar": {
              "outlinewidth": 0,
              "ticks": ""
             }
            },
            "type": "scatter3d"
           }
          ],
          "scattercarpet": [
           {
            "marker": {
             "colorbar": {
              "outlinewidth": 0,
              "ticks": ""
             }
            },
            "type": "scattercarpet"
           }
          ],
          "scattergeo": [
           {
            "marker": {
             "colorbar": {
              "outlinewidth": 0,
              "ticks": ""
             }
            },
            "type": "scattergeo"
           }
          ],
          "scattergl": [
           {
            "marker": {
             "colorbar": {
              "outlinewidth": 0,
              "ticks": ""
             }
            },
            "type": "scattergl"
           }
          ],
          "scattermapbox": [
           {
            "marker": {
             "colorbar": {
              "outlinewidth": 0,
              "ticks": ""
             }
            },
            "type": "scattermapbox"
           }
          ],
          "scatterpolar": [
           {
            "marker": {
             "colorbar": {
              "outlinewidth": 0,
              "ticks": ""
             }
            },
            "type": "scatterpolar"
           }
          ],
          "scatterpolargl": [
           {
            "marker": {
             "colorbar": {
              "outlinewidth": 0,
              "ticks": ""
             }
            },
            "type": "scatterpolargl"
           }
          ],
          "scatterternary": [
           {
            "marker": {
             "colorbar": {
              "outlinewidth": 0,
              "ticks": ""
             }
            },
            "type": "scatterternary"
           }
          ],
          "surface": [
           {
            "colorbar": {
             "outlinewidth": 0,
             "ticks": ""
            },
            "colorscale": [
             [
              0,
              "#0d0887"
             ],
             [
              0.1111111111111111,
              "#46039f"
             ],
             [
              0.2222222222222222,
              "#7201a8"
             ],
             [
              0.3333333333333333,
              "#9c179e"
             ],
             [
              0.4444444444444444,
              "#bd3786"
             ],
             [
              0.5555555555555556,
              "#d8576b"
             ],
             [
              0.6666666666666666,
              "#ed7953"
             ],
             [
              0.7777777777777778,
              "#fb9f3a"
             ],
             [
              0.8888888888888888,
              "#fdca26"
             ],
             [
              1,
              "#f0f921"
             ]
            ],
            "type": "surface"
           }
          ],
          "table": [
           {
            "cells": {
             "fill": {
              "color": "#EBF0F8"
             },
             "line": {
              "color": "white"
             }
            },
            "header": {
             "fill": {
              "color": "#C8D4E3"
             },
             "line": {
              "color": "white"
             }
            },
            "type": "table"
           }
          ]
         },
         "layout": {
          "annotationdefaults": {
           "arrowcolor": "#2a3f5f",
           "arrowhead": 0,
           "arrowwidth": 1
          },
          "autotypenumbers": "strict",
          "coloraxis": {
           "colorbar": {
            "outlinewidth": 0,
            "ticks": ""
           }
          },
          "colorscale": {
           "diverging": [
            [
             0,
             "#8e0152"
            ],
            [
             0.1,
             "#c51b7d"
            ],
            [
             0.2,
             "#de77ae"
            ],
            [
             0.3,
             "#f1b6da"
            ],
            [
             0.4,
             "#fde0ef"
            ],
            [
             0.5,
             "#f7f7f7"
            ],
            [
             0.6,
             "#e6f5d0"
            ],
            [
             0.7,
             "#b8e186"
            ],
            [
             0.8,
             "#7fbc41"
            ],
            [
             0.9,
             "#4d9221"
            ],
            [
             1,
             "#276419"
            ]
           ],
           "sequential": [
            [
             0,
             "#0d0887"
            ],
            [
             0.1111111111111111,
             "#46039f"
            ],
            [
             0.2222222222222222,
             "#7201a8"
            ],
            [
             0.3333333333333333,
             "#9c179e"
            ],
            [
             0.4444444444444444,
             "#bd3786"
            ],
            [
             0.5555555555555556,
             "#d8576b"
            ],
            [
             0.6666666666666666,
             "#ed7953"
            ],
            [
             0.7777777777777778,
             "#fb9f3a"
            ],
            [
             0.8888888888888888,
             "#fdca26"
            ],
            [
             1,
             "#f0f921"
            ]
           ],
           "sequentialminus": [
            [
             0,
             "#0d0887"
            ],
            [
             0.1111111111111111,
             "#46039f"
            ],
            [
             0.2222222222222222,
             "#7201a8"
            ],
            [
             0.3333333333333333,
             "#9c179e"
            ],
            [
             0.4444444444444444,
             "#bd3786"
            ],
            [
             0.5555555555555556,
             "#d8576b"
            ],
            [
             0.6666666666666666,
             "#ed7953"
            ],
            [
             0.7777777777777778,
             "#fb9f3a"
            ],
            [
             0.8888888888888888,
             "#fdca26"
            ],
            [
             1,
             "#f0f921"
            ]
           ]
          },
          "colorway": [
           "#636efa",
           "#EF553B",
           "#00cc96",
           "#ab63fa",
           "#FFA15A",
           "#19d3f3",
           "#FF6692",
           "#B6E880",
           "#FF97FF",
           "#FECB52"
          ],
          "font": {
           "color": "#2a3f5f"
          },
          "geo": {
           "bgcolor": "white",
           "lakecolor": "white",
           "landcolor": "#E5ECF6",
           "showlakes": true,
           "showland": true,
           "subunitcolor": "white"
          },
          "hoverlabel": {
           "align": "left"
          },
          "hovermode": "closest",
          "mapbox": {
           "style": "light"
          },
          "paper_bgcolor": "white",
          "plot_bgcolor": "#E5ECF6",
          "polar": {
           "angularaxis": {
            "gridcolor": "white",
            "linecolor": "white",
            "ticks": ""
           },
           "bgcolor": "#E5ECF6",
           "radialaxis": {
            "gridcolor": "white",
            "linecolor": "white",
            "ticks": ""
           }
          },
          "scene": {
           "xaxis": {
            "backgroundcolor": "#E5ECF6",
            "gridcolor": "white",
            "gridwidth": 2,
            "linecolor": "white",
            "showbackground": true,
            "ticks": "",
            "zerolinecolor": "white"
           },
           "yaxis": {
            "backgroundcolor": "#E5ECF6",
            "gridcolor": "white",
            "gridwidth": 2,
            "linecolor": "white",
            "showbackground": true,
            "ticks": "",
            "zerolinecolor": "white"
           },
           "zaxis": {
            "backgroundcolor": "#E5ECF6",
            "gridcolor": "white",
            "gridwidth": 2,
            "linecolor": "white",
            "showbackground": true,
            "ticks": "",
            "zerolinecolor": "white"
           }
          },
          "shapedefaults": {
           "line": {
            "color": "#2a3f5f"
           }
          },
          "ternary": {
           "aaxis": {
            "gridcolor": "white",
            "linecolor": "white",
            "ticks": ""
           },
           "baxis": {
            "gridcolor": "white",
            "linecolor": "white",
            "ticks": ""
           },
           "bgcolor": "#E5ECF6",
           "caxis": {
            "gridcolor": "white",
            "linecolor": "white",
            "ticks": ""
           }
          },
          "title": {
           "x": 0.05
          },
          "xaxis": {
           "automargin": true,
           "gridcolor": "white",
           "linecolor": "white",
           "ticks": "",
           "title": {
            "standoff": 15
           },
           "zerolinecolor": "white",
           "zerolinewidth": 2
          },
          "yaxis": {
           "automargin": true,
           "gridcolor": "white",
           "linecolor": "white",
           "ticks": "",
           "title": {
            "standoff": 15
           },
           "zerolinecolor": "white",
           "zerolinewidth": 2
          }
         }
        },
        "title": {
         "font": {
          "color": "#4D5663"
         }
        },
        "xaxis": {
         "gridcolor": "#E1E5ED",
         "showgrid": true,
         "tickfont": {
          "color": "#4D5663"
         },
         "title": {
          "font": {
           "color": "#4D5663"
          },
          "text": ""
         },
         "zerolinecolor": "#E1E5ED"
        },
        "yaxis": {
         "gridcolor": "#E1E5ED",
         "showgrid": true,
         "tickfont": {
          "color": "#4D5663"
         },
         "title": {
          "font": {
           "color": "#4D5663"
          },
          "text": ""
         },
         "zerolinecolor": "#E1E5ED"
        }
       }
      },
      "text/html": [
       "<div>                            <div id=\"5daec150-5876-4bf8-838f-12abf95ee30a\" class=\"plotly-graph-div\" style=\"height:525px; width:100%;\"></div>            <script type=\"text/javascript\">                require([\"plotly\"], function(Plotly) {                    window.PLOTLYENV=window.PLOTLYENV || {};\n",
       "                    window.PLOTLYENV.BASE_URL='https://plot.ly';                                    if (document.getElementById(\"5daec150-5876-4bf8-838f-12abf95ee30a\")) {                    Plotly.newPlot(                        \"5daec150-5876-4bf8-838f-12abf95ee30a\",                        [{\"boxpoints\": false, \"line\": {\"width\": 1.3}, \"marker\": {\"color\": \"rgba(255, 153, 51, 1.0)\"}, \"name\": \"A\", \"orientation\": \"v\", \"type\": \"box\", \"y\": [-0.2941236145979744, -1.2055757622417584, 1.6739059144807003, 0.28697682921847084, 0.41395886627795436, 0.3258350572180524, 0.5252390425920379, -0.5736684755822246, -0.5700688362477726, 0.3645225874268893, -1.1647288821832336, 0.08451189819558057, -0.744180002462252, -1.2151693534115133, -1.2344417644275725, -1.2727768086178122, -1.109210674025156, 1.8561357436671402, -0.5743628582238592, -1.2869710643656933, 0.5654720433196601, -0.06184951055573469, 1.5426557670599157, 1.5183339797624478, 1.1914744908087287, 0.6123027103271466, -1.1128315368989694, 0.34211525618759664, -1.5427770588082996, -1.8095088920475255, 0.8914290648608734, 0.5707299722117781, 0.4150615465660746, -0.15779149891157998, -0.37577490575303407, -1.3493202029071392, -2.149745000938564, -0.1665954222704084, -0.14825310781359657, 0.9726743509758792, -0.4263313438545262, -0.8371332285968943, -1.00910939339172, 0.9687066851117567, -0.31949200585851995, 0.3811634222615911, -0.8701558140039154, 0.4530440030691015, 0.17712571854006096, -1.2943118538026293, -0.9440276852622483, -1.6140737385993082, -0.5820649119257266, 2.024328108515571, 0.09159763211659076, 0.8699658570083942, -1.9701241141643424, 1.7690020942672438, 0.5602034891518604, 0.45164160230701056, -0.028028443485482134, 0.3885875044711814, 0.018490601080752518, 2.8676657947150765, -0.8816260097799625, 0.5214180441747942, -0.2093671541431842, 0.415228606814977, -1.7884617684009187, -1.1882225177627814, -0.684762457408276, -1.9832688668725418, 0.9310360124815191, -0.5457278756057826, -0.710547760985368, -0.5446929238244186, -0.19630294700548082, -1.44280738406763, -0.8331241658672963, -0.45235685481235416, -0.6728883540615982, 0.3344908135970183, 0.7970971944919325, 1.3589465498265694, 1.6675265431050559, -0.24149016625430927, 0.3735431989596485, 2.327748140643649, -0.1382155746471087, -0.7712757639353897, -0.4514863772912042, -0.46245415819363367, 1.6861611281399966, 0.3070846956990549, -0.7986246032710236, -0.37716556826567615, 0.027142910172499594, -0.16862571807318036, -2.610727992542222, 1.8581627120087132]}, {\"boxpoints\": false, \"line\": {\"width\": 1.3}, \"marker\": {\"color\": \"rgba(55, 128, 191, 1.0)\"}, \"name\": \"B\", \"orientation\": \"v\", \"type\": \"box\", \"y\": [1.1232035304834727, -0.027646444578447983, -0.08398900118924442, -0.15149207680460008, 1.3297811358905003, -0.3588283929141447, -0.09241960340912399, 0.4144283948863819, -0.3242812375394934, 2.3983374404567153, 0.06909517875539394, -0.9047885203720661, -0.3265029067093802, 1.7107990386995107, -0.10882256063664028, 0.4897875303308817, -1.0135894728524193, 1.469438190961238, 0.036116091249880994, -0.8489964394716256, 1.1045547892308794, -2.733992479927418, 0.32155595967427597, 1.1730656687096301, 0.08919563895231453, -0.25087110936678997, 0.3482220702050979, -1.7806719298663185, -0.4513396599289586, -1.9081904190159555, -0.3819735660336761, 0.8622929704051494, 0.6643974389859816, -0.10482717044736548, -0.2978187641213, 0.38498283608367456, -0.2923058128870225, -1.8272050682618728, 0.9994086669080886, 0.22725335504437277, 0.543937236379081, 0.07227911719372908, 1.5237616967102592, -0.9532437020079461, -0.15113803558243055, 0.2617176444724291, -0.24506613212165868, -0.5207569261079663, -0.8532011988899243, 1.0864728378980126, 0.4654840803605472, 0.09625462622839667, -0.7357046380750296, 0.030202365540960157, 0.9262509241518855, 1.9593338921574195, -1.3661245536871027, 0.7323140351673906, 0.006607641087876381, 1.7473651609919887, 0.4219988261940681, 1.4191862517842977, -0.7566038891150196, -0.41425090121806823, 3.0035553718893238, -1.3449509112854081, -0.44909665312229585, -0.14484253474706837, -1.62510198227339, 0.513343071179874, 0.10057721954931076, -0.3347821761196757, -0.2056135190586056, 1.522708283114086, -0.9610873885231529, 0.3801472992208391, -0.26196111219286417, 1.5602775206755128, -0.5837342554198951, 0.42352589486444703, -0.3595438735331036, 0.42050074494523526, 0.48865650230846835, -0.4435686363074531, -1.2356577354562504, -0.040859602804632925, 0.559282291459184, 0.12464642337136354, -0.15108892936597226, 1.7478728236278007, -0.30778670631463906, -0.19881792903994983, 0.9365043151652537, 0.0853259717415844, 0.4357469077004661, 0.9373712100633341, 0.8836339180532669, -1.1235502320579935, -0.9786059330900005, -0.45891658939469926]}, {\"boxpoints\": false, \"line\": {\"width\": 1.3}, \"marker\": {\"color\": \"rgba(50, 171, 96, 1.0)\"}, \"name\": \"C\", \"orientation\": \"v\", \"type\": \"box\", \"y\": [1.1294338268005901, -1.887572133913162, -1.085188366556874, 1.2441200502444267, 1.5459320960380774, -0.4988637936723765, -0.1577437548664111, 0.09020622464636908, -0.27151571164654525, -0.18975644415964288, -0.6699686461843579, 2.296747020407923, 0.05130330800056149, -2.4442640983583517, 1.2389016903456653, -0.18944434352683967, 0.6053072348106463, -1.2524285923701526, 1.3933747650509871, 0.49202062210322245, 0.257957107145455, 1.1220240799018353, -1.718931138709767, 0.5951710932559078, 0.11425858220558911, -0.8562861220154547, -1.4738005214000116, 0.07242468226824243, 1.809544160579259, -0.6873950236870673, -0.6536284677564498, -0.9602739090100308, -0.34724078991539603, 0.5388518809564495, -2.173526797590024, 0.8355229097644048, -0.897943250330798, 0.5450735887174946, -0.9372387110558424, -1.112549270349293, -0.702726815470619, 0.7325129076485717, -0.17369932388406342, 0.09773400489425473, -0.22942079872978982, 0.1703871787161514, -2.1665240120693823, -0.7153513931660893, -0.6420652181842549, 0.13465773936314834, 0.8088113190400273, 0.5531535072070709, -0.057563529228919684, -0.25600086262824917, -0.577007313856514, -0.8279579404389458, -0.8933546160692658, 0.5656854641293453, -0.8399717143319536, -0.32430624375610345, -1.0914288219776849, -0.18180695775916408, -0.9726438334197695, 0.30271857357350695, -0.15572541628244654, 1.3578671011251717, -0.6101904703382658, -0.6923693151136978, -0.43667702717984946, 0.7848023269101269, 0.3818528888035823, -1.0984175475606468, 1.0060225751515335, -1.2234840944513203, 0.9254079096802839, 0.47078473569527546, 2.437524598965109, 0.4824326534477051, -0.22873571010776006, 0.462812382296827, 1.9991883779041422, -0.24198131614206647, 0.10069737128065137, -0.9889128384993973, -0.9381482305703883, -1.9321036946732335, -0.4110046626450792, -1.0421297199384185, -1.6084817749223765, -0.296731532257138, -0.3804787106746805, 0.2838245966238775, -1.138381207628285, -1.2861171735396557, 0.6135467426774536, -1.0953398758579733, -1.8552417689885758, -0.8880496545159664, 1.2285245683523007, -0.906758092599867]}, {\"boxpoints\": false, \"line\": {\"width\": 1.3}, \"marker\": {\"color\": \"rgba(128, 0, 128, 1.0)\"}, \"name\": \"D\", \"orientation\": \"v\", \"type\": \"box\", \"y\": [-0.3005660290796793, 0.4690410684946249, -0.15686784605172588, 0.34597968254358424, -0.8765272729371686, 1.0578142148171377, 1.1517833751948285, -0.9059399369573186, 0.6559696282037321, 0.8660618634624208, 0.9298634275370239, -0.4036806650429973, 2.0831763476256464, 2.236332687234384, 0.1023211477173691, 0.673849289359737, 1.4058839722240843, -1.5472002402660305, 0.2242403905844482, 0.9577374008703127, 0.012576660713810802, -1.2054267184605332, -1.835374218557789, 0.820394938928055, -0.3678435146878748, 1.5680299954819024, 0.2567420393462134, -1.8412356071911151, 0.15224791026731652, 0.8689689475570724, 0.6199987051206256, 0.08520560340375176, 1.8672640839451167, 0.7216926846091692, -0.6353257802654373, -0.2307027271462637, -0.6565636798272065, -2.24020902822671, -0.8625622473890274, 1.0129263016287262, 0.3756742179574329, -1.0591502767295813, 0.3098859743806808, -0.120096595893609, 1.3990380568406269, -0.4347703785963267, -0.9398151287733784, 0.4950357210179923, 0.4800437963115811, 0.8282016946835207, 0.0008638232858400742, 0.8947718662025472, -0.7388662047798948, -0.7244205136277834, -1.0436174072116249, -0.30583914096101333, -0.8144962732005774, 0.5923749632389562, 0.9882575009645511, -1.5281723458094598, 0.874250864706059, -0.45204143281161246, 0.8068987810944247, 0.28410008734849235, 1.5517908672621392, -0.5057124791407088, 0.7008348403356799, -0.12797976246664364, 0.6393289239677991, -0.4281270518755398, -0.5252675809214842, -0.9401994595911041, -0.01297658993896751, -0.06836163379373286, 1.6801609319042026, -1.599265119876865, 0.7375891078115318, -0.06889510467951712, 0.5805253856391505, -0.6058305951461466, -1.9080405994625778, -1.596579305185901, 0.49248475294184624, 0.7534647853327919, -0.8874422957908504, 0.9537799052764699, 1.2999088457279604, -0.03936343150833903, 0.536088725542492, 0.666016137641211, 0.8020667031064855, -0.03837550627684842, -2.217797311811609, -0.6615233168351068, 0.5423968297678927, -0.29740582382476405, 1.9159748872217595, -0.010257753016069099, -0.6698239566159488, 0.5516997270369369]}],                        {\"legend\": {\"bgcolor\": \"#F5F6F9\", \"font\": {\"color\": \"#4D5663\"}}, \"paper_bgcolor\": \"#F5F6F9\", \"plot_bgcolor\": \"#F5F6F9\", \"template\": {\"data\": {\"bar\": [{\"error_x\": {\"color\": \"#2a3f5f\"}, \"error_y\": {\"color\": \"#2a3f5f\"}, \"marker\": {\"line\": {\"color\": \"#E5ECF6\", \"width\": 0.5}}, \"type\": \"bar\"}], \"barpolar\": [{\"marker\": {\"line\": {\"color\": \"#E5ECF6\", \"width\": 0.5}}, \"type\": \"barpolar\"}], \"carpet\": [{\"aaxis\": {\"endlinecolor\": \"#2a3f5f\", \"gridcolor\": \"white\", \"linecolor\": \"white\", \"minorgridcolor\": \"white\", \"startlinecolor\": \"#2a3f5f\"}, \"baxis\": {\"endlinecolor\": \"#2a3f5f\", \"gridcolor\": \"white\", \"linecolor\": \"white\", \"minorgridcolor\": \"white\", \"startlinecolor\": \"#2a3f5f\"}, \"type\": \"carpet\"}], \"choropleth\": [{\"colorbar\": {\"outlinewidth\": 0, \"ticks\": \"\"}, \"type\": \"choropleth\"}], \"contour\": [{\"colorbar\": {\"outlinewidth\": 0, \"ticks\": \"\"}, \"colorscale\": [[0.0, \"#0d0887\"], [0.1111111111111111, \"#46039f\"], [0.2222222222222222, \"#7201a8\"], [0.3333333333333333, \"#9c179e\"], [0.4444444444444444, \"#bd3786\"], [0.5555555555555556, \"#d8576b\"], [0.6666666666666666, \"#ed7953\"], [0.7777777777777778, \"#fb9f3a\"], [0.8888888888888888, \"#fdca26\"], [1.0, \"#f0f921\"]], \"type\": \"contour\"}], \"contourcarpet\": [{\"colorbar\": {\"outlinewidth\": 0, \"ticks\": \"\"}, \"type\": \"contourcarpet\"}], \"heatmap\": [{\"colorbar\": {\"outlinewidth\": 0, \"ticks\": \"\"}, \"colorscale\": [[0.0, \"#0d0887\"], [0.1111111111111111, \"#46039f\"], [0.2222222222222222, \"#7201a8\"], [0.3333333333333333, \"#9c179e\"], [0.4444444444444444, \"#bd3786\"], [0.5555555555555556, \"#d8576b\"], [0.6666666666666666, \"#ed7953\"], [0.7777777777777778, \"#fb9f3a\"], [0.8888888888888888, \"#fdca26\"], [1.0, \"#f0f921\"]], \"type\": \"heatmap\"}], \"heatmapgl\": [{\"colorbar\": {\"outlinewidth\": 0, \"ticks\": \"\"}, \"colorscale\": [[0.0, \"#0d0887\"], [0.1111111111111111, \"#46039f\"], [0.2222222222222222, \"#7201a8\"], [0.3333333333333333, \"#9c179e\"], [0.4444444444444444, \"#bd3786\"], [0.5555555555555556, \"#d8576b\"], [0.6666666666666666, \"#ed7953\"], [0.7777777777777778, \"#fb9f3a\"], [0.8888888888888888, \"#fdca26\"], [1.0, \"#f0f921\"]], \"type\": \"heatmapgl\"}], \"histogram\": [{\"marker\": {\"colorbar\": {\"outlinewidth\": 0, \"ticks\": \"\"}}, \"type\": \"histogram\"}], \"histogram2d\": [{\"colorbar\": {\"outlinewidth\": 0, \"ticks\": \"\"}, \"colorscale\": [[0.0, \"#0d0887\"], [0.1111111111111111, \"#46039f\"], [0.2222222222222222, \"#7201a8\"], [0.3333333333333333, \"#9c179e\"], [0.4444444444444444, \"#bd3786\"], [0.5555555555555556, \"#d8576b\"], [0.6666666666666666, \"#ed7953\"], [0.7777777777777778, \"#fb9f3a\"], [0.8888888888888888, \"#fdca26\"], [1.0, \"#f0f921\"]], \"type\": \"histogram2d\"}], \"histogram2dcontour\": [{\"colorbar\": {\"outlinewidth\": 0, \"ticks\": \"\"}, \"colorscale\": [[0.0, \"#0d0887\"], [0.1111111111111111, \"#46039f\"], [0.2222222222222222, \"#7201a8\"], [0.3333333333333333, \"#9c179e\"], [0.4444444444444444, \"#bd3786\"], [0.5555555555555556, \"#d8576b\"], [0.6666666666666666, \"#ed7953\"], [0.7777777777777778, \"#fb9f3a\"], [0.8888888888888888, \"#fdca26\"], [1.0, \"#f0f921\"]], \"type\": \"histogram2dcontour\"}], \"mesh3d\": [{\"colorbar\": {\"outlinewidth\": 0, \"ticks\": \"\"}, \"type\": \"mesh3d\"}], \"parcoords\": [{\"line\": {\"colorbar\": {\"outlinewidth\": 0, \"ticks\": \"\"}}, \"type\": \"parcoords\"}], \"pie\": [{\"automargin\": true, \"type\": \"pie\"}], \"scatter\": [{\"marker\": {\"colorbar\": {\"outlinewidth\": 0, \"ticks\": \"\"}}, \"type\": \"scatter\"}], \"scatter3d\": [{\"line\": {\"colorbar\": {\"outlinewidth\": 0, \"ticks\": \"\"}}, \"marker\": {\"colorbar\": {\"outlinewidth\": 0, \"ticks\": \"\"}}, \"type\": \"scatter3d\"}], \"scattercarpet\": [{\"marker\": {\"colorbar\": {\"outlinewidth\": 0, \"ticks\": \"\"}}, \"type\": \"scattercarpet\"}], \"scattergeo\": [{\"marker\": {\"colorbar\": {\"outlinewidth\": 0, \"ticks\": \"\"}}, \"type\": \"scattergeo\"}], \"scattergl\": [{\"marker\": {\"colorbar\": {\"outlinewidth\": 0, \"ticks\": \"\"}}, \"type\": \"scattergl\"}], \"scattermapbox\": [{\"marker\": {\"colorbar\": {\"outlinewidth\": 0, \"ticks\": \"\"}}, \"type\": \"scattermapbox\"}], \"scatterpolar\": [{\"marker\": {\"colorbar\": {\"outlinewidth\": 0, \"ticks\": \"\"}}, \"type\": \"scatterpolar\"}], \"scatterpolargl\": [{\"marker\": {\"colorbar\": {\"outlinewidth\": 0, \"ticks\": \"\"}}, \"type\": \"scatterpolargl\"}], \"scatterternary\": [{\"marker\": {\"colorbar\": {\"outlinewidth\": 0, \"ticks\": \"\"}}, \"type\": \"scatterternary\"}], \"surface\": [{\"colorbar\": {\"outlinewidth\": 0, \"ticks\": \"\"}, \"colorscale\": [[0.0, \"#0d0887\"], [0.1111111111111111, \"#46039f\"], [0.2222222222222222, \"#7201a8\"], [0.3333333333333333, \"#9c179e\"], [0.4444444444444444, \"#bd3786\"], [0.5555555555555556, \"#d8576b\"], [0.6666666666666666, \"#ed7953\"], [0.7777777777777778, \"#fb9f3a\"], [0.8888888888888888, \"#fdca26\"], [1.0, \"#f0f921\"]], \"type\": \"surface\"}], \"table\": [{\"cells\": {\"fill\": {\"color\": \"#EBF0F8\"}, \"line\": {\"color\": \"white\"}}, \"header\": {\"fill\": {\"color\": \"#C8D4E3\"}, \"line\": {\"color\": \"white\"}}, \"type\": \"table\"}]}, \"layout\": {\"annotationdefaults\": {\"arrowcolor\": \"#2a3f5f\", \"arrowhead\": 0, \"arrowwidth\": 1}, \"autotypenumbers\": \"strict\", \"coloraxis\": {\"colorbar\": {\"outlinewidth\": 0, \"ticks\": \"\"}}, \"colorscale\": {\"diverging\": [[0, \"#8e0152\"], [0.1, \"#c51b7d\"], [0.2, \"#de77ae\"], [0.3, \"#f1b6da\"], [0.4, \"#fde0ef\"], [0.5, \"#f7f7f7\"], [0.6, \"#e6f5d0\"], [0.7, \"#b8e186\"], [0.8, \"#7fbc41\"], [0.9, \"#4d9221\"], [1, \"#276419\"]], \"sequential\": [[0.0, \"#0d0887\"], [0.1111111111111111, \"#46039f\"], [0.2222222222222222, \"#7201a8\"], [0.3333333333333333, \"#9c179e\"], [0.4444444444444444, \"#bd3786\"], [0.5555555555555556, \"#d8576b\"], [0.6666666666666666, \"#ed7953\"], [0.7777777777777778, \"#fb9f3a\"], [0.8888888888888888, \"#fdca26\"], [1.0, \"#f0f921\"]], \"sequentialminus\": [[0.0, \"#0d0887\"], [0.1111111111111111, \"#46039f\"], [0.2222222222222222, \"#7201a8\"], [0.3333333333333333, \"#9c179e\"], [0.4444444444444444, \"#bd3786\"], [0.5555555555555556, \"#d8576b\"], [0.6666666666666666, \"#ed7953\"], [0.7777777777777778, \"#fb9f3a\"], [0.8888888888888888, \"#fdca26\"], [1.0, \"#f0f921\"]]}, \"colorway\": [\"#636efa\", \"#EF553B\", \"#00cc96\", \"#ab63fa\", \"#FFA15A\", \"#19d3f3\", \"#FF6692\", \"#B6E880\", \"#FF97FF\", \"#FECB52\"], \"font\": {\"color\": \"#2a3f5f\"}, \"geo\": {\"bgcolor\": \"white\", \"lakecolor\": \"white\", \"landcolor\": \"#E5ECF6\", \"showlakes\": true, \"showland\": true, \"subunitcolor\": \"white\"}, \"hoverlabel\": {\"align\": \"left\"}, \"hovermode\": \"closest\", \"mapbox\": {\"style\": \"light\"}, \"paper_bgcolor\": \"white\", \"plot_bgcolor\": \"#E5ECF6\", \"polar\": {\"angularaxis\": {\"gridcolor\": \"white\", \"linecolor\": \"white\", \"ticks\": \"\"}, \"bgcolor\": \"#E5ECF6\", \"radialaxis\": {\"gridcolor\": \"white\", \"linecolor\": \"white\", \"ticks\": \"\"}}, \"scene\": {\"xaxis\": {\"backgroundcolor\": \"#E5ECF6\", \"gridcolor\": \"white\", \"gridwidth\": 2, \"linecolor\": \"white\", \"showbackground\": true, \"ticks\": \"\", \"zerolinecolor\": \"white\"}, \"yaxis\": {\"backgroundcolor\": \"#E5ECF6\", \"gridcolor\": \"white\", \"gridwidth\": 2, \"linecolor\": \"white\", \"showbackground\": true, \"ticks\": \"\", \"zerolinecolor\": \"white\"}, \"zaxis\": {\"backgroundcolor\": \"#E5ECF6\", \"gridcolor\": \"white\", \"gridwidth\": 2, \"linecolor\": \"white\", \"showbackground\": true, \"ticks\": \"\", \"zerolinecolor\": \"white\"}}, \"shapedefaults\": {\"line\": {\"color\": \"#2a3f5f\"}}, \"ternary\": {\"aaxis\": {\"gridcolor\": \"white\", \"linecolor\": \"white\", \"ticks\": \"\"}, \"baxis\": {\"gridcolor\": \"white\", \"linecolor\": \"white\", \"ticks\": \"\"}, \"bgcolor\": \"#E5ECF6\", \"caxis\": {\"gridcolor\": \"white\", \"linecolor\": \"white\", \"ticks\": \"\"}}, \"title\": {\"x\": 0.05}, \"xaxis\": {\"automargin\": true, \"gridcolor\": \"white\", \"linecolor\": \"white\", \"ticks\": \"\", \"title\": {\"standoff\": 15}, \"zerolinecolor\": \"white\", \"zerolinewidth\": 2}, \"yaxis\": {\"automargin\": true, \"gridcolor\": \"white\", \"linecolor\": \"white\", \"ticks\": \"\", \"title\": {\"standoff\": 15}, \"zerolinecolor\": \"white\", \"zerolinewidth\": 2}}}, \"title\": {\"font\": {\"color\": \"#4D5663\"}}, \"xaxis\": {\"gridcolor\": \"#E1E5ED\", \"showgrid\": true, \"tickfont\": {\"color\": \"#4D5663\"}, \"title\": {\"font\": {\"color\": \"#4D5663\"}, \"text\": \"\"}, \"zerolinecolor\": \"#E1E5ED\"}, \"yaxis\": {\"gridcolor\": \"#E1E5ED\", \"showgrid\": true, \"tickfont\": {\"color\": \"#4D5663\"}, \"title\": {\"font\": {\"color\": \"#4D5663\"}, \"text\": \"\"}, \"zerolinecolor\": \"#E1E5ED\"}},                        {\"showLink\": true, \"linkText\": \"Export to plot.ly\", \"plotlyServerURL\": \"https://plot.ly\", \"responsive\": true}                    ).then(function(){\n",
       "                            \n",
       "var gd = document.getElementById('5daec150-5876-4bf8-838f-12abf95ee30a');\n",
       "var x = new MutationObserver(function (mutations, observer) {{\n",
       "        var display = window.getComputedStyle(gd).display;\n",
       "        if (!display || display === 'none') {{\n",
       "            console.log([gd, 'removed!']);\n",
       "            Plotly.purge(gd);\n",
       "            observer.disconnect();\n",
       "        }}\n",
       "}});\n",
       "\n",
       "// Listen for the removal of the full notebook cells\n",
       "var notebookContainer = gd.closest('#notebook-container');\n",
       "if (notebookContainer) {{\n",
       "    x.observe(notebookContainer, {childList: true});\n",
       "}}\n",
       "\n",
       "// Listen for the clearing of the current output cell\n",
       "var outputEl = gd.closest('.output');\n",
       "if (outputEl) {{\n",
       "    x.observe(outputEl, {childList: true});\n",
       "}}\n",
       "\n",
       "                        })                };                });            </script>        </div>"
      ]
     },
     "metadata": {},
     "output_type": "display_data"
    }
   ],
   "source": [
    "df.iplot(kind='box')"
   ]
  },
  {
   "cell_type": "code",
   "execution_count": 29,
   "metadata": {},
   "outputs": [],
   "source": [
    "#Criação de superfícies 3D"
   ]
  },
  {
   "cell_type": "code",
   "execution_count": 30,
   "metadata": {},
   "outputs": [],
   "source": [
    "df3 = pd.DataFrame({'x':[1,2,3,4,5], 'y':[10,20,30,40,50], 'z':[5,4,3,2,1]})"
   ]
  },
  {
   "cell_type": "code",
   "execution_count": 31,
   "metadata": {},
   "outputs": [
    {
     "data": {
      "text/html": [
       "<div>\n",
       "<style scoped>\n",
       "    .dataframe tbody tr th:only-of-type {\n",
       "        vertical-align: middle;\n",
       "    }\n",
       "\n",
       "    .dataframe tbody tr th {\n",
       "        vertical-align: top;\n",
       "    }\n",
       "\n",
       "    .dataframe thead th {\n",
       "        text-align: right;\n",
       "    }\n",
       "</style>\n",
       "<table border=\"1\" class=\"dataframe\">\n",
       "  <thead>\n",
       "    <tr style=\"text-align: right;\">\n",
       "      <th></th>\n",
       "      <th>x</th>\n",
       "      <th>y</th>\n",
       "      <th>z</th>\n",
       "    </tr>\n",
       "  </thead>\n",
       "  <tbody>\n",
       "    <tr>\n",
       "      <th>0</th>\n",
       "      <td>1</td>\n",
       "      <td>10</td>\n",
       "      <td>5</td>\n",
       "    </tr>\n",
       "    <tr>\n",
       "      <th>1</th>\n",
       "      <td>2</td>\n",
       "      <td>20</td>\n",
       "      <td>4</td>\n",
       "    </tr>\n",
       "    <tr>\n",
       "      <th>2</th>\n",
       "      <td>3</td>\n",
       "      <td>30</td>\n",
       "      <td>3</td>\n",
       "    </tr>\n",
       "    <tr>\n",
       "      <th>3</th>\n",
       "      <td>4</td>\n",
       "      <td>40</td>\n",
       "      <td>2</td>\n",
       "    </tr>\n",
       "    <tr>\n",
       "      <th>4</th>\n",
       "      <td>5</td>\n",
       "      <td>50</td>\n",
       "      <td>1</td>\n",
       "    </tr>\n",
       "  </tbody>\n",
       "</table>\n",
       "</div>"
      ],
      "text/plain": [
       "   x   y  z\n",
       "0  1  10  5\n",
       "1  2  20  4\n",
       "2  3  30  3\n",
       "3  4  40  2\n",
       "4  5  50  1"
      ]
     },
     "execution_count": 31,
     "metadata": {},
     "output_type": "execute_result"
    }
   ],
   "source": [
    "df3"
   ]
  },
  {
   "cell_type": "code",
   "execution_count": 32,
   "metadata": {},
   "outputs": [
    {
     "data": {
      "application/vnd.plotly.v1+json": {
       "config": {
        "linkText": "Export to plot.ly",
        "plotlyServerURL": "https://plot.ly",
        "showLink": true
       },
       "data": [
        {
         "colorscale": [
          [
           0,
           "rgb(255, 153, 51)"
          ],
          [
           0.1111111111111111,
           "rgb(55, 128, 191)"
          ],
          [
           0.2222222222222222,
           "rgb(50, 171, 96)"
          ],
          [
           0.3333333333333333,
           "rgb(128, 0, 128)"
          ],
          [
           0.4444444444444444,
           "rgb(219, 64, 82)"
          ],
          [
           0.5555555555555556,
           "rgb(0, 128, 128)"
          ],
          [
           0.6666666666666666,
           "rgb(255, 255, 51)"
          ],
          [
           0.7777777777777778,
           "rgb(128, 128, 0)"
          ],
          [
           0.8888888888888888,
           "rgb(251, 128, 114)"
          ],
          [
           1,
           "rgb(128, 177, 211)"
          ]
         ],
         "type": "surface",
         "x": [
          0,
          1,
          2,
          3,
          4
         ],
         "y": [
          "x",
          "y",
          "z"
         ],
         "z": [
          [
           1,
           2,
           3,
           4,
           5
          ],
          [
           10,
           20,
           30,
           40,
           50
          ],
          [
           5,
           4,
           3,
           2,
           1
          ]
         ]
        }
       ],
       "layout": {
        "legend": {
         "bgcolor": "#F5F6F9",
         "font": {
          "color": "#4D5663"
         }
        },
        "paper_bgcolor": "#F5F6F9",
        "plot_bgcolor": "#F5F6F9",
        "template": {
         "data": {
          "bar": [
           {
            "error_x": {
             "color": "#2a3f5f"
            },
            "error_y": {
             "color": "#2a3f5f"
            },
            "marker": {
             "line": {
              "color": "#E5ECF6",
              "width": 0.5
             }
            },
            "type": "bar"
           }
          ],
          "barpolar": [
           {
            "marker": {
             "line": {
              "color": "#E5ECF6",
              "width": 0.5
             }
            },
            "type": "barpolar"
           }
          ],
          "carpet": [
           {
            "aaxis": {
             "endlinecolor": "#2a3f5f",
             "gridcolor": "white",
             "linecolor": "white",
             "minorgridcolor": "white",
             "startlinecolor": "#2a3f5f"
            },
            "baxis": {
             "endlinecolor": "#2a3f5f",
             "gridcolor": "white",
             "linecolor": "white",
             "minorgridcolor": "white",
             "startlinecolor": "#2a3f5f"
            },
            "type": "carpet"
           }
          ],
          "choropleth": [
           {
            "colorbar": {
             "outlinewidth": 0,
             "ticks": ""
            },
            "type": "choropleth"
           }
          ],
          "contour": [
           {
            "colorbar": {
             "outlinewidth": 0,
             "ticks": ""
            },
            "colorscale": [
             [
              0,
              "#0d0887"
             ],
             [
              0.1111111111111111,
              "#46039f"
             ],
             [
              0.2222222222222222,
              "#7201a8"
             ],
             [
              0.3333333333333333,
              "#9c179e"
             ],
             [
              0.4444444444444444,
              "#bd3786"
             ],
             [
              0.5555555555555556,
              "#d8576b"
             ],
             [
              0.6666666666666666,
              "#ed7953"
             ],
             [
              0.7777777777777778,
              "#fb9f3a"
             ],
             [
              0.8888888888888888,
              "#fdca26"
             ],
             [
              1,
              "#f0f921"
             ]
            ],
            "type": "contour"
           }
          ],
          "contourcarpet": [
           {
            "colorbar": {
             "outlinewidth": 0,
             "ticks": ""
            },
            "type": "contourcarpet"
           }
          ],
          "heatmap": [
           {
            "colorbar": {
             "outlinewidth": 0,
             "ticks": ""
            },
            "colorscale": [
             [
              0,
              "#0d0887"
             ],
             [
              0.1111111111111111,
              "#46039f"
             ],
             [
              0.2222222222222222,
              "#7201a8"
             ],
             [
              0.3333333333333333,
              "#9c179e"
             ],
             [
              0.4444444444444444,
              "#bd3786"
             ],
             [
              0.5555555555555556,
              "#d8576b"
             ],
             [
              0.6666666666666666,
              "#ed7953"
             ],
             [
              0.7777777777777778,
              "#fb9f3a"
             ],
             [
              0.8888888888888888,
              "#fdca26"
             ],
             [
              1,
              "#f0f921"
             ]
            ],
            "type": "heatmap"
           }
          ],
          "heatmapgl": [
           {
            "colorbar": {
             "outlinewidth": 0,
             "ticks": ""
            },
            "colorscale": [
             [
              0,
              "#0d0887"
             ],
             [
              0.1111111111111111,
              "#46039f"
             ],
             [
              0.2222222222222222,
              "#7201a8"
             ],
             [
              0.3333333333333333,
              "#9c179e"
             ],
             [
              0.4444444444444444,
              "#bd3786"
             ],
             [
              0.5555555555555556,
              "#d8576b"
             ],
             [
              0.6666666666666666,
              "#ed7953"
             ],
             [
              0.7777777777777778,
              "#fb9f3a"
             ],
             [
              0.8888888888888888,
              "#fdca26"
             ],
             [
              1,
              "#f0f921"
             ]
            ],
            "type": "heatmapgl"
           }
          ],
          "histogram": [
           {
            "marker": {
             "colorbar": {
              "outlinewidth": 0,
              "ticks": ""
             }
            },
            "type": "histogram"
           }
          ],
          "histogram2d": [
           {
            "colorbar": {
             "outlinewidth": 0,
             "ticks": ""
            },
            "colorscale": [
             [
              0,
              "#0d0887"
             ],
             [
              0.1111111111111111,
              "#46039f"
             ],
             [
              0.2222222222222222,
              "#7201a8"
             ],
             [
              0.3333333333333333,
              "#9c179e"
             ],
             [
              0.4444444444444444,
              "#bd3786"
             ],
             [
              0.5555555555555556,
              "#d8576b"
             ],
             [
              0.6666666666666666,
              "#ed7953"
             ],
             [
              0.7777777777777778,
              "#fb9f3a"
             ],
             [
              0.8888888888888888,
              "#fdca26"
             ],
             [
              1,
              "#f0f921"
             ]
            ],
            "type": "histogram2d"
           }
          ],
          "histogram2dcontour": [
           {
            "colorbar": {
             "outlinewidth": 0,
             "ticks": ""
            },
            "colorscale": [
             [
              0,
              "#0d0887"
             ],
             [
              0.1111111111111111,
              "#46039f"
             ],
             [
              0.2222222222222222,
              "#7201a8"
             ],
             [
              0.3333333333333333,
              "#9c179e"
             ],
             [
              0.4444444444444444,
              "#bd3786"
             ],
             [
              0.5555555555555556,
              "#d8576b"
             ],
             [
              0.6666666666666666,
              "#ed7953"
             ],
             [
              0.7777777777777778,
              "#fb9f3a"
             ],
             [
              0.8888888888888888,
              "#fdca26"
             ],
             [
              1,
              "#f0f921"
             ]
            ],
            "type": "histogram2dcontour"
           }
          ],
          "mesh3d": [
           {
            "colorbar": {
             "outlinewidth": 0,
             "ticks": ""
            },
            "type": "mesh3d"
           }
          ],
          "parcoords": [
           {
            "line": {
             "colorbar": {
              "outlinewidth": 0,
              "ticks": ""
             }
            },
            "type": "parcoords"
           }
          ],
          "pie": [
           {
            "automargin": true,
            "type": "pie"
           }
          ],
          "scatter": [
           {
            "marker": {
             "colorbar": {
              "outlinewidth": 0,
              "ticks": ""
             }
            },
            "type": "scatter"
           }
          ],
          "scatter3d": [
           {
            "line": {
             "colorbar": {
              "outlinewidth": 0,
              "ticks": ""
             }
            },
            "marker": {
             "colorbar": {
              "outlinewidth": 0,
              "ticks": ""
             }
            },
            "type": "scatter3d"
           }
          ],
          "scattercarpet": [
           {
            "marker": {
             "colorbar": {
              "outlinewidth": 0,
              "ticks": ""
             }
            },
            "type": "scattercarpet"
           }
          ],
          "scattergeo": [
           {
            "marker": {
             "colorbar": {
              "outlinewidth": 0,
              "ticks": ""
             }
            },
            "type": "scattergeo"
           }
          ],
          "scattergl": [
           {
            "marker": {
             "colorbar": {
              "outlinewidth": 0,
              "ticks": ""
             }
            },
            "type": "scattergl"
           }
          ],
          "scattermapbox": [
           {
            "marker": {
             "colorbar": {
              "outlinewidth": 0,
              "ticks": ""
             }
            },
            "type": "scattermapbox"
           }
          ],
          "scatterpolar": [
           {
            "marker": {
             "colorbar": {
              "outlinewidth": 0,
              "ticks": ""
             }
            },
            "type": "scatterpolar"
           }
          ],
          "scatterpolargl": [
           {
            "marker": {
             "colorbar": {
              "outlinewidth": 0,
              "ticks": ""
             }
            },
            "type": "scatterpolargl"
           }
          ],
          "scatterternary": [
           {
            "marker": {
             "colorbar": {
              "outlinewidth": 0,
              "ticks": ""
             }
            },
            "type": "scatterternary"
           }
          ],
          "surface": [
           {
            "colorbar": {
             "outlinewidth": 0,
             "ticks": ""
            },
            "colorscale": [
             [
              0,
              "#0d0887"
             ],
             [
              0.1111111111111111,
              "#46039f"
             ],
             [
              0.2222222222222222,
              "#7201a8"
             ],
             [
              0.3333333333333333,
              "#9c179e"
             ],
             [
              0.4444444444444444,
              "#bd3786"
             ],
             [
              0.5555555555555556,
              "#d8576b"
             ],
             [
              0.6666666666666666,
              "#ed7953"
             ],
             [
              0.7777777777777778,
              "#fb9f3a"
             ],
             [
              0.8888888888888888,
              "#fdca26"
             ],
             [
              1,
              "#f0f921"
             ]
            ],
            "type": "surface"
           }
          ],
          "table": [
           {
            "cells": {
             "fill": {
              "color": "#EBF0F8"
             },
             "line": {
              "color": "white"
             }
            },
            "header": {
             "fill": {
              "color": "#C8D4E3"
             },
             "line": {
              "color": "white"
             }
            },
            "type": "table"
           }
          ]
         },
         "layout": {
          "annotationdefaults": {
           "arrowcolor": "#2a3f5f",
           "arrowhead": 0,
           "arrowwidth": 1
          },
          "autotypenumbers": "strict",
          "coloraxis": {
           "colorbar": {
            "outlinewidth": 0,
            "ticks": ""
           }
          },
          "colorscale": {
           "diverging": [
            [
             0,
             "#8e0152"
            ],
            [
             0.1,
             "#c51b7d"
            ],
            [
             0.2,
             "#de77ae"
            ],
            [
             0.3,
             "#f1b6da"
            ],
            [
             0.4,
             "#fde0ef"
            ],
            [
             0.5,
             "#f7f7f7"
            ],
            [
             0.6,
             "#e6f5d0"
            ],
            [
             0.7,
             "#b8e186"
            ],
            [
             0.8,
             "#7fbc41"
            ],
            [
             0.9,
             "#4d9221"
            ],
            [
             1,
             "#276419"
            ]
           ],
           "sequential": [
            [
             0,
             "#0d0887"
            ],
            [
             0.1111111111111111,
             "#46039f"
            ],
            [
             0.2222222222222222,
             "#7201a8"
            ],
            [
             0.3333333333333333,
             "#9c179e"
            ],
            [
             0.4444444444444444,
             "#bd3786"
            ],
            [
             0.5555555555555556,
             "#d8576b"
            ],
            [
             0.6666666666666666,
             "#ed7953"
            ],
            [
             0.7777777777777778,
             "#fb9f3a"
            ],
            [
             0.8888888888888888,
             "#fdca26"
            ],
            [
             1,
             "#f0f921"
            ]
           ],
           "sequentialminus": [
            [
             0,
             "#0d0887"
            ],
            [
             0.1111111111111111,
             "#46039f"
            ],
            [
             0.2222222222222222,
             "#7201a8"
            ],
            [
             0.3333333333333333,
             "#9c179e"
            ],
            [
             0.4444444444444444,
             "#bd3786"
            ],
            [
             0.5555555555555556,
             "#d8576b"
            ],
            [
             0.6666666666666666,
             "#ed7953"
            ],
            [
             0.7777777777777778,
             "#fb9f3a"
            ],
            [
             0.8888888888888888,
             "#fdca26"
            ],
            [
             1,
             "#f0f921"
            ]
           ]
          },
          "colorway": [
           "#636efa",
           "#EF553B",
           "#00cc96",
           "#ab63fa",
           "#FFA15A",
           "#19d3f3",
           "#FF6692",
           "#B6E880",
           "#FF97FF",
           "#FECB52"
          ],
          "font": {
           "color": "#2a3f5f"
          },
          "geo": {
           "bgcolor": "white",
           "lakecolor": "white",
           "landcolor": "#E5ECF6",
           "showlakes": true,
           "showland": true,
           "subunitcolor": "white"
          },
          "hoverlabel": {
           "align": "left"
          },
          "hovermode": "closest",
          "mapbox": {
           "style": "light"
          },
          "paper_bgcolor": "white",
          "plot_bgcolor": "#E5ECF6",
          "polar": {
           "angularaxis": {
            "gridcolor": "white",
            "linecolor": "white",
            "ticks": ""
           },
           "bgcolor": "#E5ECF6",
           "radialaxis": {
            "gridcolor": "white",
            "linecolor": "white",
            "ticks": ""
           }
          },
          "scene": {
           "xaxis": {
            "backgroundcolor": "#E5ECF6",
            "gridcolor": "white",
            "gridwidth": 2,
            "linecolor": "white",
            "showbackground": true,
            "ticks": "",
            "zerolinecolor": "white"
           },
           "yaxis": {
            "backgroundcolor": "#E5ECF6",
            "gridcolor": "white",
            "gridwidth": 2,
            "linecolor": "white",
            "showbackground": true,
            "ticks": "",
            "zerolinecolor": "white"
           },
           "zaxis": {
            "backgroundcolor": "#E5ECF6",
            "gridcolor": "white",
            "gridwidth": 2,
            "linecolor": "white",
            "showbackground": true,
            "ticks": "",
            "zerolinecolor": "white"
           }
          },
          "shapedefaults": {
           "line": {
            "color": "#2a3f5f"
           }
          },
          "ternary": {
           "aaxis": {
            "gridcolor": "white",
            "linecolor": "white",
            "ticks": ""
           },
           "baxis": {
            "gridcolor": "white",
            "linecolor": "white",
            "ticks": ""
           },
           "bgcolor": "#E5ECF6",
           "caxis": {
            "gridcolor": "white",
            "linecolor": "white",
            "ticks": ""
           }
          },
          "title": {
           "x": 0.05
          },
          "xaxis": {
           "automargin": true,
           "gridcolor": "white",
           "linecolor": "white",
           "ticks": "",
           "title": {
            "standoff": 15
           },
           "zerolinecolor": "white",
           "zerolinewidth": 2
          },
          "yaxis": {
           "automargin": true,
           "gridcolor": "white",
           "linecolor": "white",
           "ticks": "",
           "title": {
            "standoff": 15
           },
           "zerolinecolor": "white",
           "zerolinewidth": 2
          }
         }
        },
        "title": {
         "font": {
          "color": "#4D5663"
         }
        },
        "xaxis": {
         "gridcolor": "#E1E5ED",
         "showgrid": true,
         "tickfont": {
          "color": "#4D5663"
         },
         "title": {
          "font": {
           "color": "#4D5663"
          },
          "text": ""
         },
         "zerolinecolor": "#E1E5ED"
        },
        "yaxis": {
         "gridcolor": "#E1E5ED",
         "showgrid": true,
         "tickfont": {
          "color": "#4D5663"
         },
         "title": {
          "font": {
           "color": "#4D5663"
          },
          "text": ""
         },
         "zerolinecolor": "#E1E5ED"
        }
       }
      },
      "text/html": [
       "<div>                            <div id=\"c25c4f48-5d4a-45d5-96cf-85eb77b69c20\" class=\"plotly-graph-div\" style=\"height:525px; width:100%;\"></div>            <script type=\"text/javascript\">                require([\"plotly\"], function(Plotly) {                    window.PLOTLYENV=window.PLOTLYENV || {};\n",
       "                    window.PLOTLYENV.BASE_URL='https://plot.ly';                                    if (document.getElementById(\"c25c4f48-5d4a-45d5-96cf-85eb77b69c20\")) {                    Plotly.newPlot(                        \"c25c4f48-5d4a-45d5-96cf-85eb77b69c20\",                        [{\"colorscale\": [[0.0, \"rgb(255, 153, 51)\"], [0.1111111111111111, \"rgb(55, 128, 191)\"], [0.2222222222222222, \"rgb(50, 171, 96)\"], [0.3333333333333333, \"rgb(128, 0, 128)\"], [0.4444444444444444, \"rgb(219, 64, 82)\"], [0.5555555555555556, \"rgb(0, 128, 128)\"], [0.6666666666666666, \"rgb(255, 255, 51)\"], [0.7777777777777778, \"rgb(128, 128, 0)\"], [0.8888888888888888, \"rgb(251, 128, 114)\"], [1.0, \"rgb(128, 177, 211)\"]], \"type\": \"surface\", \"x\": [0, 1, 2, 3, 4], \"y\": [\"x\", \"y\", \"z\"], \"z\": [[1, 2, 3, 4, 5], [10, 20, 30, 40, 50], [5, 4, 3, 2, 1]]}],                        {\"legend\": {\"bgcolor\": \"#F5F6F9\", \"font\": {\"color\": \"#4D5663\"}}, \"paper_bgcolor\": \"#F5F6F9\", \"plot_bgcolor\": \"#F5F6F9\", \"template\": {\"data\": {\"bar\": [{\"error_x\": {\"color\": \"#2a3f5f\"}, \"error_y\": {\"color\": \"#2a3f5f\"}, \"marker\": {\"line\": {\"color\": \"#E5ECF6\", \"width\": 0.5}}, \"type\": \"bar\"}], \"barpolar\": [{\"marker\": {\"line\": {\"color\": \"#E5ECF6\", \"width\": 0.5}}, \"type\": \"barpolar\"}], \"carpet\": [{\"aaxis\": {\"endlinecolor\": \"#2a3f5f\", \"gridcolor\": \"white\", \"linecolor\": \"white\", \"minorgridcolor\": \"white\", \"startlinecolor\": \"#2a3f5f\"}, \"baxis\": {\"endlinecolor\": \"#2a3f5f\", \"gridcolor\": \"white\", \"linecolor\": \"white\", \"minorgridcolor\": \"white\", \"startlinecolor\": \"#2a3f5f\"}, \"type\": \"carpet\"}], \"choropleth\": [{\"colorbar\": {\"outlinewidth\": 0, \"ticks\": \"\"}, \"type\": \"choropleth\"}], \"contour\": [{\"colorbar\": {\"outlinewidth\": 0, \"ticks\": \"\"}, \"colorscale\": [[0.0, \"#0d0887\"], [0.1111111111111111, \"#46039f\"], [0.2222222222222222, \"#7201a8\"], [0.3333333333333333, \"#9c179e\"], [0.4444444444444444, \"#bd3786\"], [0.5555555555555556, \"#d8576b\"], [0.6666666666666666, \"#ed7953\"], [0.7777777777777778, \"#fb9f3a\"], [0.8888888888888888, \"#fdca26\"], [1.0, \"#f0f921\"]], \"type\": \"contour\"}], \"contourcarpet\": [{\"colorbar\": {\"outlinewidth\": 0, \"ticks\": \"\"}, \"type\": \"contourcarpet\"}], \"heatmap\": [{\"colorbar\": {\"outlinewidth\": 0, \"ticks\": \"\"}, \"colorscale\": [[0.0, \"#0d0887\"], [0.1111111111111111, \"#46039f\"], [0.2222222222222222, \"#7201a8\"], [0.3333333333333333, \"#9c179e\"], [0.4444444444444444, \"#bd3786\"], [0.5555555555555556, \"#d8576b\"], [0.6666666666666666, \"#ed7953\"], [0.7777777777777778, \"#fb9f3a\"], [0.8888888888888888, \"#fdca26\"], [1.0, \"#f0f921\"]], \"type\": \"heatmap\"}], \"heatmapgl\": [{\"colorbar\": {\"outlinewidth\": 0, \"ticks\": \"\"}, \"colorscale\": [[0.0, \"#0d0887\"], [0.1111111111111111, \"#46039f\"], [0.2222222222222222, \"#7201a8\"], [0.3333333333333333, \"#9c179e\"], [0.4444444444444444, \"#bd3786\"], [0.5555555555555556, \"#d8576b\"], [0.6666666666666666, \"#ed7953\"], [0.7777777777777778, \"#fb9f3a\"], [0.8888888888888888, \"#fdca26\"], [1.0, \"#f0f921\"]], \"type\": \"heatmapgl\"}], \"histogram\": [{\"marker\": {\"colorbar\": {\"outlinewidth\": 0, \"ticks\": \"\"}}, \"type\": \"histogram\"}], \"histogram2d\": [{\"colorbar\": {\"outlinewidth\": 0, \"ticks\": \"\"}, \"colorscale\": [[0.0, \"#0d0887\"], [0.1111111111111111, \"#46039f\"], [0.2222222222222222, \"#7201a8\"], [0.3333333333333333, \"#9c179e\"], [0.4444444444444444, \"#bd3786\"], [0.5555555555555556, \"#d8576b\"], [0.6666666666666666, \"#ed7953\"], [0.7777777777777778, \"#fb9f3a\"], [0.8888888888888888, \"#fdca26\"], [1.0, \"#f0f921\"]], \"type\": \"histogram2d\"}], \"histogram2dcontour\": [{\"colorbar\": {\"outlinewidth\": 0, \"ticks\": \"\"}, \"colorscale\": [[0.0, \"#0d0887\"], [0.1111111111111111, \"#46039f\"], [0.2222222222222222, \"#7201a8\"], [0.3333333333333333, \"#9c179e\"], [0.4444444444444444, \"#bd3786\"], [0.5555555555555556, \"#d8576b\"], [0.6666666666666666, \"#ed7953\"], [0.7777777777777778, \"#fb9f3a\"], [0.8888888888888888, \"#fdca26\"], [1.0, \"#f0f921\"]], \"type\": \"histogram2dcontour\"}], \"mesh3d\": [{\"colorbar\": {\"outlinewidth\": 0, \"ticks\": \"\"}, \"type\": \"mesh3d\"}], \"parcoords\": [{\"line\": {\"colorbar\": {\"outlinewidth\": 0, \"ticks\": \"\"}}, \"type\": \"parcoords\"}], \"pie\": [{\"automargin\": true, \"type\": \"pie\"}], \"scatter\": [{\"marker\": {\"colorbar\": {\"outlinewidth\": 0, \"ticks\": \"\"}}, \"type\": \"scatter\"}], \"scatter3d\": [{\"line\": {\"colorbar\": {\"outlinewidth\": 0, \"ticks\": \"\"}}, \"marker\": {\"colorbar\": {\"outlinewidth\": 0, \"ticks\": \"\"}}, \"type\": \"scatter3d\"}], \"scattercarpet\": [{\"marker\": {\"colorbar\": {\"outlinewidth\": 0, \"ticks\": \"\"}}, \"type\": \"scattercarpet\"}], \"scattergeo\": [{\"marker\": {\"colorbar\": {\"outlinewidth\": 0, \"ticks\": \"\"}}, \"type\": \"scattergeo\"}], \"scattergl\": [{\"marker\": {\"colorbar\": {\"outlinewidth\": 0, \"ticks\": \"\"}}, \"type\": \"scattergl\"}], \"scattermapbox\": [{\"marker\": {\"colorbar\": {\"outlinewidth\": 0, \"ticks\": \"\"}}, \"type\": \"scattermapbox\"}], \"scatterpolar\": [{\"marker\": {\"colorbar\": {\"outlinewidth\": 0, \"ticks\": \"\"}}, \"type\": \"scatterpolar\"}], \"scatterpolargl\": [{\"marker\": {\"colorbar\": {\"outlinewidth\": 0, \"ticks\": \"\"}}, \"type\": \"scatterpolargl\"}], \"scatterternary\": [{\"marker\": {\"colorbar\": {\"outlinewidth\": 0, \"ticks\": \"\"}}, \"type\": \"scatterternary\"}], \"surface\": [{\"colorbar\": {\"outlinewidth\": 0, \"ticks\": \"\"}, \"colorscale\": [[0.0, \"#0d0887\"], [0.1111111111111111, \"#46039f\"], [0.2222222222222222, \"#7201a8\"], [0.3333333333333333, \"#9c179e\"], [0.4444444444444444, \"#bd3786\"], [0.5555555555555556, \"#d8576b\"], [0.6666666666666666, \"#ed7953\"], [0.7777777777777778, \"#fb9f3a\"], [0.8888888888888888, \"#fdca26\"], [1.0, \"#f0f921\"]], \"type\": \"surface\"}], \"table\": [{\"cells\": {\"fill\": {\"color\": \"#EBF0F8\"}, \"line\": {\"color\": \"white\"}}, \"header\": {\"fill\": {\"color\": \"#C8D4E3\"}, \"line\": {\"color\": \"white\"}}, \"type\": \"table\"}]}, \"layout\": {\"annotationdefaults\": {\"arrowcolor\": \"#2a3f5f\", \"arrowhead\": 0, \"arrowwidth\": 1}, \"autotypenumbers\": \"strict\", \"coloraxis\": {\"colorbar\": {\"outlinewidth\": 0, \"ticks\": \"\"}}, \"colorscale\": {\"diverging\": [[0, \"#8e0152\"], [0.1, \"#c51b7d\"], [0.2, \"#de77ae\"], [0.3, \"#f1b6da\"], [0.4, \"#fde0ef\"], [0.5, \"#f7f7f7\"], [0.6, \"#e6f5d0\"], [0.7, \"#b8e186\"], [0.8, \"#7fbc41\"], [0.9, \"#4d9221\"], [1, \"#276419\"]], \"sequential\": [[0.0, \"#0d0887\"], [0.1111111111111111, \"#46039f\"], [0.2222222222222222, \"#7201a8\"], [0.3333333333333333, \"#9c179e\"], [0.4444444444444444, \"#bd3786\"], [0.5555555555555556, \"#d8576b\"], [0.6666666666666666, \"#ed7953\"], [0.7777777777777778, \"#fb9f3a\"], [0.8888888888888888, \"#fdca26\"], [1.0, \"#f0f921\"]], \"sequentialminus\": [[0.0, \"#0d0887\"], [0.1111111111111111, \"#46039f\"], [0.2222222222222222, \"#7201a8\"], [0.3333333333333333, \"#9c179e\"], [0.4444444444444444, \"#bd3786\"], [0.5555555555555556, \"#d8576b\"], [0.6666666666666666, \"#ed7953\"], [0.7777777777777778, \"#fb9f3a\"], [0.8888888888888888, \"#fdca26\"], [1.0, \"#f0f921\"]]}, \"colorway\": [\"#636efa\", \"#EF553B\", \"#00cc96\", \"#ab63fa\", \"#FFA15A\", \"#19d3f3\", \"#FF6692\", \"#B6E880\", \"#FF97FF\", \"#FECB52\"], \"font\": {\"color\": \"#2a3f5f\"}, \"geo\": {\"bgcolor\": \"white\", \"lakecolor\": \"white\", \"landcolor\": \"#E5ECF6\", \"showlakes\": true, \"showland\": true, \"subunitcolor\": \"white\"}, \"hoverlabel\": {\"align\": \"left\"}, \"hovermode\": \"closest\", \"mapbox\": {\"style\": \"light\"}, \"paper_bgcolor\": \"white\", \"plot_bgcolor\": \"#E5ECF6\", \"polar\": {\"angularaxis\": {\"gridcolor\": \"white\", \"linecolor\": \"white\", \"ticks\": \"\"}, \"bgcolor\": \"#E5ECF6\", \"radialaxis\": {\"gridcolor\": \"white\", \"linecolor\": \"white\", \"ticks\": \"\"}}, \"scene\": {\"xaxis\": {\"backgroundcolor\": \"#E5ECF6\", \"gridcolor\": \"white\", \"gridwidth\": 2, \"linecolor\": \"white\", \"showbackground\": true, \"ticks\": \"\", \"zerolinecolor\": \"white\"}, \"yaxis\": {\"backgroundcolor\": \"#E5ECF6\", \"gridcolor\": \"white\", \"gridwidth\": 2, \"linecolor\": \"white\", \"showbackground\": true, \"ticks\": \"\", \"zerolinecolor\": \"white\"}, \"zaxis\": {\"backgroundcolor\": \"#E5ECF6\", \"gridcolor\": \"white\", \"gridwidth\": 2, \"linecolor\": \"white\", \"showbackground\": true, \"ticks\": \"\", \"zerolinecolor\": \"white\"}}, \"shapedefaults\": {\"line\": {\"color\": \"#2a3f5f\"}}, \"ternary\": {\"aaxis\": {\"gridcolor\": \"white\", \"linecolor\": \"white\", \"ticks\": \"\"}, \"baxis\": {\"gridcolor\": \"white\", \"linecolor\": \"white\", \"ticks\": \"\"}, \"bgcolor\": \"#E5ECF6\", \"caxis\": {\"gridcolor\": \"white\", \"linecolor\": \"white\", \"ticks\": \"\"}}, \"title\": {\"x\": 0.05}, \"xaxis\": {\"automargin\": true, \"gridcolor\": \"white\", \"linecolor\": \"white\", \"ticks\": \"\", \"title\": {\"standoff\": 15}, \"zerolinecolor\": \"white\", \"zerolinewidth\": 2}, \"yaxis\": {\"automargin\": true, \"gridcolor\": \"white\", \"linecolor\": \"white\", \"ticks\": \"\", \"title\": {\"standoff\": 15}, \"zerolinecolor\": \"white\", \"zerolinewidth\": 2}}}, \"title\": {\"font\": {\"color\": \"#4D5663\"}}, \"xaxis\": {\"gridcolor\": \"#E1E5ED\", \"showgrid\": true, \"tickfont\": {\"color\": \"#4D5663\"}, \"title\": {\"font\": {\"color\": \"#4D5663\"}, \"text\": \"\"}, \"zerolinecolor\": \"#E1E5ED\"}, \"yaxis\": {\"gridcolor\": \"#E1E5ED\", \"showgrid\": true, \"tickfont\": {\"color\": \"#4D5663\"}, \"title\": {\"font\": {\"color\": \"#4D5663\"}, \"text\": \"\"}, \"zerolinecolor\": \"#E1E5ED\"}},                        {\"showLink\": true, \"linkText\": \"Export to plot.ly\", \"plotlyServerURL\": \"https://plot.ly\", \"responsive\": true}                    ).then(function(){\n",
       "                            \n",
       "var gd = document.getElementById('c25c4f48-5d4a-45d5-96cf-85eb77b69c20');\n",
       "var x = new MutationObserver(function (mutations, observer) {{\n",
       "        var display = window.getComputedStyle(gd).display;\n",
       "        if (!display || display === 'none') {{\n",
       "            console.log([gd, 'removed!']);\n",
       "            Plotly.purge(gd);\n",
       "            observer.disconnect();\n",
       "        }}\n",
       "}});\n",
       "\n",
       "// Listen for the removal of the full notebook cells\n",
       "var notebookContainer = gd.closest('#notebook-container');\n",
       "if (notebookContainer) {{\n",
       "    x.observe(notebookContainer, {childList: true});\n",
       "}}\n",
       "\n",
       "// Listen for the clearing of the current output cell\n",
       "var outputEl = gd.closest('.output');\n",
       "if (outputEl) {{\n",
       "    x.observe(outputEl, {childList: true});\n",
       "}}\n",
       "\n",
       "                        })                };                });            </script>        </div>"
      ]
     },
     "metadata": {},
     "output_type": "display_data"
    }
   ],
   "source": [
    "df3.iplot(kind='surface')"
   ]
  },
  {
   "cell_type": "code",
   "execution_count": 33,
   "metadata": {},
   "outputs": [
    {
     "name": "stderr",
     "output_type": "stream",
     "text": [
      "C:\\Users\\Guilherme\\anaconda3\\lib\\site-packages\\cufflinks\\plotlytools.py:849: FutureWarning:\n",
      "\n",
      "The pandas.np module is deprecated and will be removed from pandas in a future version. Import numpy directly instead\n",
      "\n",
      "C:\\Users\\Guilherme\\anaconda3\\lib\\site-packages\\cufflinks\\plotlytools.py:850: FutureWarning:\n",
      "\n",
      "The pandas.np module is deprecated and will be removed from pandas in a future version. Import numpy directly instead\n",
      "\n"
     ]
    },
    {
     "data": {
      "application/vnd.plotly.v1+json": {
       "config": {
        "linkText": "Export to plot.ly",
        "plotlyServerURL": "https://plot.ly",
        "showLink": true
       },
       "data": [
        {
         "line": {
          "color": "rgba(255, 153, 51, 1.0)",
          "dash": "solid",
          "shape": "linear",
          "width": 1.3
         },
         "mode": "lines",
         "name": "A",
         "text": "",
         "type": "scatter",
         "x": [
          0,
          1,
          2,
          3,
          4,
          5,
          6,
          7,
          8,
          9,
          10,
          11,
          12,
          13,
          14,
          15,
          16,
          17,
          18,
          19,
          20,
          21,
          22,
          23,
          24,
          25,
          26,
          27,
          28,
          29,
          30,
          31,
          32,
          33,
          34,
          35,
          36,
          37,
          38,
          39,
          40,
          41,
          42,
          43,
          44,
          45,
          46,
          47,
          48,
          49,
          50,
          51,
          52,
          53,
          54,
          55,
          56,
          57,
          58,
          59,
          60,
          61,
          62,
          63,
          64,
          65,
          66,
          67,
          68,
          69,
          70,
          71,
          72,
          73,
          74,
          75,
          76,
          77,
          78,
          79,
          80,
          81,
          82,
          83,
          84,
          85,
          86,
          87,
          88,
          89,
          90,
          91,
          92,
          93,
          94,
          95,
          96,
          97,
          98,
          99
         ],
         "y": [
          -0.2941236145979744,
          -1.2055757622417584,
          1.6739059144807003,
          0.28697682921847084,
          0.41395886627795436,
          0.3258350572180524,
          0.5252390425920379,
          -0.5736684755822246,
          -0.5700688362477726,
          0.3645225874268893,
          -1.1647288821832336,
          0.08451189819558057,
          -0.744180002462252,
          -1.2151693534115133,
          -1.2344417644275725,
          -1.2727768086178122,
          -1.109210674025156,
          1.8561357436671402,
          -0.5743628582238592,
          -1.2869710643656933,
          0.5654720433196601,
          -0.06184951055573469,
          1.5426557670599157,
          1.5183339797624478,
          1.1914744908087287,
          0.6123027103271466,
          -1.1128315368989694,
          0.34211525618759664,
          -1.5427770588082996,
          -1.8095088920475255,
          0.8914290648608734,
          0.5707299722117781,
          0.4150615465660746,
          -0.15779149891157998,
          -0.37577490575303407,
          -1.3493202029071392,
          -2.149745000938564,
          -0.1665954222704084,
          -0.14825310781359657,
          0.9726743509758792,
          -0.4263313438545262,
          -0.8371332285968943,
          -1.00910939339172,
          0.9687066851117567,
          -0.31949200585851995,
          0.3811634222615911,
          -0.8701558140039154,
          0.4530440030691015,
          0.17712571854006096,
          -1.2943118538026293,
          -0.9440276852622483,
          -1.6140737385993082,
          -0.5820649119257266,
          2.024328108515571,
          0.09159763211659076,
          0.8699658570083942,
          -1.9701241141643424,
          1.7690020942672438,
          0.5602034891518604,
          0.45164160230701056,
          -0.028028443485482134,
          0.3885875044711814,
          0.018490601080752518,
          2.8676657947150765,
          -0.8816260097799625,
          0.5214180441747942,
          -0.2093671541431842,
          0.415228606814977,
          -1.7884617684009187,
          -1.1882225177627814,
          -0.684762457408276,
          -1.9832688668725418,
          0.9310360124815191,
          -0.5457278756057826,
          -0.710547760985368,
          -0.5446929238244186,
          -0.19630294700548082,
          -1.44280738406763,
          -0.8331241658672963,
          -0.45235685481235416,
          -0.6728883540615982,
          0.3344908135970183,
          0.7970971944919325,
          1.3589465498265694,
          1.6675265431050559,
          -0.24149016625430927,
          0.3735431989596485,
          2.327748140643649,
          -0.1382155746471087,
          -0.7712757639353897,
          -0.4514863772912042,
          -0.46245415819363367,
          1.6861611281399966,
          0.3070846956990549,
          -0.7986246032710236,
          -0.37716556826567615,
          0.027142910172499594,
          -0.16862571807318036,
          -2.610727992542222,
          1.8581627120087132
         ]
        },
        {
         "line": {
          "color": "rgba(55, 128, 191, 1.0)",
          "dash": "solid",
          "shape": "linear",
          "width": 1.3
         },
         "mode": "lines",
         "name": "B",
         "text": "",
         "type": "scatter",
         "x": [
          0,
          1,
          2,
          3,
          4,
          5,
          6,
          7,
          8,
          9,
          10,
          11,
          12,
          13,
          14,
          15,
          16,
          17,
          18,
          19,
          20,
          21,
          22,
          23,
          24,
          25,
          26,
          27,
          28,
          29,
          30,
          31,
          32,
          33,
          34,
          35,
          36,
          37,
          38,
          39,
          40,
          41,
          42,
          43,
          44,
          45,
          46,
          47,
          48,
          49,
          50,
          51,
          52,
          53,
          54,
          55,
          56,
          57,
          58,
          59,
          60,
          61,
          62,
          63,
          64,
          65,
          66,
          67,
          68,
          69,
          70,
          71,
          72,
          73,
          74,
          75,
          76,
          77,
          78,
          79,
          80,
          81,
          82,
          83,
          84,
          85,
          86,
          87,
          88,
          89,
          90,
          91,
          92,
          93,
          94,
          95,
          96,
          97,
          98,
          99
         ],
         "y": [
          1.1232035304834727,
          -0.027646444578447983,
          -0.08398900118924442,
          -0.15149207680460008,
          1.3297811358905003,
          -0.3588283929141447,
          -0.09241960340912399,
          0.4144283948863819,
          -0.3242812375394934,
          2.3983374404567153,
          0.06909517875539394,
          -0.9047885203720661,
          -0.3265029067093802,
          1.7107990386995107,
          -0.10882256063664028,
          0.4897875303308817,
          -1.0135894728524193,
          1.469438190961238,
          0.036116091249880994,
          -0.8489964394716256,
          1.1045547892308794,
          -2.733992479927418,
          0.32155595967427597,
          1.1730656687096301,
          0.08919563895231453,
          -0.25087110936678997,
          0.3482220702050979,
          -1.7806719298663185,
          -0.4513396599289586,
          -1.9081904190159555,
          -0.3819735660336761,
          0.8622929704051494,
          0.6643974389859816,
          -0.10482717044736548,
          -0.2978187641213,
          0.38498283608367456,
          -0.2923058128870225,
          -1.8272050682618728,
          0.9994086669080886,
          0.22725335504437277,
          0.543937236379081,
          0.07227911719372908,
          1.5237616967102592,
          -0.9532437020079461,
          -0.15113803558243055,
          0.2617176444724291,
          -0.24506613212165868,
          -0.5207569261079663,
          -0.8532011988899243,
          1.0864728378980126,
          0.4654840803605472,
          0.09625462622839667,
          -0.7357046380750296,
          0.030202365540960157,
          0.9262509241518855,
          1.9593338921574195,
          -1.3661245536871027,
          0.7323140351673906,
          0.006607641087876381,
          1.7473651609919887,
          0.4219988261940681,
          1.4191862517842977,
          -0.7566038891150196,
          -0.41425090121806823,
          3.0035553718893238,
          -1.3449509112854081,
          -0.44909665312229585,
          -0.14484253474706837,
          -1.62510198227339,
          0.513343071179874,
          0.10057721954931076,
          -0.3347821761196757,
          -0.2056135190586056,
          1.522708283114086,
          -0.9610873885231529,
          0.3801472992208391,
          -0.26196111219286417,
          1.5602775206755128,
          -0.5837342554198951,
          0.42352589486444703,
          -0.3595438735331036,
          0.42050074494523526,
          0.48865650230846835,
          -0.4435686363074531,
          -1.2356577354562504,
          -0.040859602804632925,
          0.559282291459184,
          0.12464642337136354,
          -0.15108892936597226,
          1.7478728236278007,
          -0.30778670631463906,
          -0.19881792903994983,
          0.9365043151652537,
          0.0853259717415844,
          0.4357469077004661,
          0.9373712100633341,
          0.8836339180532669,
          -1.1235502320579935,
          -0.9786059330900005,
          -0.45891658939469926
         ]
        },
        {
         "connectgaps": false,
         "fill": "tozeroy",
         "line": {
          "color": "green",
          "dash": "solid",
          "shape": "linear",
          "width": 0.5
         },
         "mode": "lines",
         "name": "Spread",
         "showlegend": false,
         "type": "scatter",
         "x": [
          0,
          1,
          2,
          3,
          4,
          5,
          6,
          7,
          8,
          9,
          10,
          11,
          12,
          13,
          14,
          15,
          16,
          17,
          18,
          19,
          20,
          21,
          22,
          23,
          24,
          25,
          26,
          27,
          28,
          29,
          30,
          31,
          32,
          33,
          34,
          35,
          36,
          37,
          38,
          39,
          40,
          41,
          42,
          43,
          44,
          45,
          46,
          47,
          48,
          49,
          50,
          51,
          52,
          53,
          54,
          55,
          56,
          57,
          58,
          59,
          60,
          61,
          62,
          63,
          64,
          65,
          66,
          67,
          68,
          69,
          70,
          71,
          72,
          73,
          74,
          75,
          76,
          77,
          78,
          79,
          80,
          81,
          82,
          83,
          84,
          85,
          86,
          87,
          88,
          89,
          90,
          91,
          92,
          93,
          94,
          95,
          96,
          97,
          98,
          99
         ],
         "xaxis": "x2",
         "y": [
          "",
          "",
          1.7578949156699446,
          0.4384689060230709,
          "",
          0.6846634501321971,
          0.6176586460011619,
          "",
          "",
          "",
          "",
          0.9893004185676467,
          "",
          "",
          "",
          "",
          "",
          0.3866975527059022,
          "",
          "",
          "",
          2.6721429693716834,
          1.2210998073856398,
          0.34526831105281763,
          1.1022788518564142,
          0.8631738196939365,
          "",
          2.122787186053915,
          "",
          0.09868152696843002,
          1.2734026308945494,
          "",
          "",
          "",
          "",
          "",
          "",
          1.6606096459914643,
          "",
          0.7454209959315063,
          "",
          "",
          "",
          1.9219503871197028,
          "",
          0.11944577778916199,
          "",
          0.9738009291770677,
          1.0303269174299852,
          "",
          "",
          "",
          0.153639726149303,
          1.9941257429746106,
          "",
          "",
          "",
          1.0366880590998533,
          0.553595848063984,
          "",
          "",
          "",
          0.7750944901957721,
          3.2819166959331447,
          "",
          1.8663689554602023,
          0.23972949897911167,
          0.5600711415620454,
          "",
          "",
          "",
          "",
          1.1366495315401246,
          "",
          0.2505396275377849,
          "",
          0.06565816518738335,
          "",
          "",
          "",
          "",
          "",
          0.30844069218346415,
          1.8025151861340225,
          2.903184278561306,
          "",
          "",
          2.2031017172722853,
          0.012873354718863556,
          "",
          "",
          "",
          0.749656812974743,
          0.22175872395747048,
          "",
          "",
          "",
          0.9549245139848132,
          "",
          2.3170793014034126
         ],
         "yaxis": "y2"
        },
        {
         "connectgaps": false,
         "fill": "tozeroy",
         "line": {
          "color": "red",
          "dash": "solid",
          "shape": "linear",
          "width": 0.5
         },
         "mode": "lines",
         "name": "Spread",
         "showlegend": false,
         "type": "scatter",
         "x": [
          0,
          1,
          2,
          3,
          4,
          5,
          6,
          7,
          8,
          9,
          10,
          11,
          12,
          13,
          14,
          15,
          16,
          17,
          18,
          19,
          20,
          21,
          22,
          23,
          24,
          25,
          26,
          27,
          28,
          29,
          30,
          31,
          32,
          33,
          34,
          35,
          36,
          37,
          38,
          39,
          40,
          41,
          42,
          43,
          44,
          45,
          46,
          47,
          48,
          49,
          50,
          51,
          52,
          53,
          54,
          55,
          56,
          57,
          58,
          59,
          60,
          61,
          62,
          63,
          64,
          65,
          66,
          67,
          68,
          69,
          70,
          71,
          72,
          73,
          74,
          75,
          76,
          77,
          78,
          79,
          80,
          81,
          82,
          83,
          84,
          85,
          86,
          87,
          88,
          89,
          90,
          91,
          92,
          93,
          94,
          95,
          96,
          97,
          98,
          99
         ],
         "xaxis": "x2",
         "y": [
          -1.417327145081447,
          -1.1779293176633105,
          "",
          "",
          -0.915822269612546,
          "",
          "",
          -0.9880968704686064,
          -0.2457875987082792,
          -2.033814853029826,
          -1.2338240609386275,
          "",
          -0.4176770957528718,
          -2.9259683921110238,
          -1.1256192037909323,
          -1.7625643389486938,
          -0.09562120117273665,
          "",
          -0.6104789494737403,
          -0.4379746248940677,
          -0.5390827459112193,
          "",
          "",
          "",
          "",
          "",
          -1.4610536071040672,
          "",
          -1.091437398879341,
          "",
          "",
          -0.2915629981933713,
          -0.249335892419907,
          -0.052964328464214505,
          -0.07795614163173409,
          -1.7343030389908138,
          -1.8574391880515417,
          "",
          -1.1476617747216853,
          "",
          -0.9702685802336072,
          -0.9094123457906234,
          -2.5328710901019793,
          "",
          -0.1683539702760894,
          "",
          -0.6250896818822567,
          "",
          "",
          -2.380784691700642,
          -1.4095117656227956,
          -1.710328364827705,
          "",
          "",
          -0.8346532920352947,
          -1.0893680351490254,
          -0.6039995604772397,
          "",
          "",
          -1.295723558684978,
          -0.4500272696795502,
          -1.0305987473131162,
          "",
          "",
          -3.885181381669286,
          "",
          "",
          "",
          -0.16335978612752866,
          -1.7015655889426555,
          -0.7853396769575868,
          -1.6484866907528661,
          "",
          -2.0684361587198685,
          "",
          -0.9248402230452577,
          "",
          -3.003084904743143,
          -0.24938991044740122,
          -0.8758827496768011,
          -0.3133444805284946,
          -0.08600993134821694,
          "",
          "",
          "",
          -0.20063056344967634,
          -0.18573909249953546,
          "",
          "",
          -2.5191485875631905,
          -0.14369967097656516,
          -0.26363622915368384,
          "",
          "",
          -1.2343715109714897,
          -1.3145367783290103,
          -0.8564910078807673,
          "",
          -1.6321220594522214,
          ""
         ],
         "yaxis": "y2"
        }
       ],
       "layout": {
        "hovermode": "x",
        "legend": {
         "bgcolor": "#F5F6F9",
         "font": {
          "color": "#4D5663"
         }
        },
        "paper_bgcolor": "#F5F6F9",
        "plot_bgcolor": "#F5F6F9",
        "template": {
         "data": {
          "bar": [
           {
            "error_x": {
             "color": "#2a3f5f"
            },
            "error_y": {
             "color": "#2a3f5f"
            },
            "marker": {
             "line": {
              "color": "#E5ECF6",
              "width": 0.5
             }
            },
            "type": "bar"
           }
          ],
          "barpolar": [
           {
            "marker": {
             "line": {
              "color": "#E5ECF6",
              "width": 0.5
             }
            },
            "type": "barpolar"
           }
          ],
          "carpet": [
           {
            "aaxis": {
             "endlinecolor": "#2a3f5f",
             "gridcolor": "white",
             "linecolor": "white",
             "minorgridcolor": "white",
             "startlinecolor": "#2a3f5f"
            },
            "baxis": {
             "endlinecolor": "#2a3f5f",
             "gridcolor": "white",
             "linecolor": "white",
             "minorgridcolor": "white",
             "startlinecolor": "#2a3f5f"
            },
            "type": "carpet"
           }
          ],
          "choropleth": [
           {
            "colorbar": {
             "outlinewidth": 0,
             "ticks": ""
            },
            "type": "choropleth"
           }
          ],
          "contour": [
           {
            "colorbar": {
             "outlinewidth": 0,
             "ticks": ""
            },
            "colorscale": [
             [
              0,
              "#0d0887"
             ],
             [
              0.1111111111111111,
              "#46039f"
             ],
             [
              0.2222222222222222,
              "#7201a8"
             ],
             [
              0.3333333333333333,
              "#9c179e"
             ],
             [
              0.4444444444444444,
              "#bd3786"
             ],
             [
              0.5555555555555556,
              "#d8576b"
             ],
             [
              0.6666666666666666,
              "#ed7953"
             ],
             [
              0.7777777777777778,
              "#fb9f3a"
             ],
             [
              0.8888888888888888,
              "#fdca26"
             ],
             [
              1,
              "#f0f921"
             ]
            ],
            "type": "contour"
           }
          ],
          "contourcarpet": [
           {
            "colorbar": {
             "outlinewidth": 0,
             "ticks": ""
            },
            "type": "contourcarpet"
           }
          ],
          "heatmap": [
           {
            "colorbar": {
             "outlinewidth": 0,
             "ticks": ""
            },
            "colorscale": [
             [
              0,
              "#0d0887"
             ],
             [
              0.1111111111111111,
              "#46039f"
             ],
             [
              0.2222222222222222,
              "#7201a8"
             ],
             [
              0.3333333333333333,
              "#9c179e"
             ],
             [
              0.4444444444444444,
              "#bd3786"
             ],
             [
              0.5555555555555556,
              "#d8576b"
             ],
             [
              0.6666666666666666,
              "#ed7953"
             ],
             [
              0.7777777777777778,
              "#fb9f3a"
             ],
             [
              0.8888888888888888,
              "#fdca26"
             ],
             [
              1,
              "#f0f921"
             ]
            ],
            "type": "heatmap"
           }
          ],
          "heatmapgl": [
           {
            "colorbar": {
             "outlinewidth": 0,
             "ticks": ""
            },
            "colorscale": [
             [
              0,
              "#0d0887"
             ],
             [
              0.1111111111111111,
              "#46039f"
             ],
             [
              0.2222222222222222,
              "#7201a8"
             ],
             [
              0.3333333333333333,
              "#9c179e"
             ],
             [
              0.4444444444444444,
              "#bd3786"
             ],
             [
              0.5555555555555556,
              "#d8576b"
             ],
             [
              0.6666666666666666,
              "#ed7953"
             ],
             [
              0.7777777777777778,
              "#fb9f3a"
             ],
             [
              0.8888888888888888,
              "#fdca26"
             ],
             [
              1,
              "#f0f921"
             ]
            ],
            "type": "heatmapgl"
           }
          ],
          "histogram": [
           {
            "marker": {
             "colorbar": {
              "outlinewidth": 0,
              "ticks": ""
             }
            },
            "type": "histogram"
           }
          ],
          "histogram2d": [
           {
            "colorbar": {
             "outlinewidth": 0,
             "ticks": ""
            },
            "colorscale": [
             [
              0,
              "#0d0887"
             ],
             [
              0.1111111111111111,
              "#46039f"
             ],
             [
              0.2222222222222222,
              "#7201a8"
             ],
             [
              0.3333333333333333,
              "#9c179e"
             ],
             [
              0.4444444444444444,
              "#bd3786"
             ],
             [
              0.5555555555555556,
              "#d8576b"
             ],
             [
              0.6666666666666666,
              "#ed7953"
             ],
             [
              0.7777777777777778,
              "#fb9f3a"
             ],
             [
              0.8888888888888888,
              "#fdca26"
             ],
             [
              1,
              "#f0f921"
             ]
            ],
            "type": "histogram2d"
           }
          ],
          "histogram2dcontour": [
           {
            "colorbar": {
             "outlinewidth": 0,
             "ticks": ""
            },
            "colorscale": [
             [
              0,
              "#0d0887"
             ],
             [
              0.1111111111111111,
              "#46039f"
             ],
             [
              0.2222222222222222,
              "#7201a8"
             ],
             [
              0.3333333333333333,
              "#9c179e"
             ],
             [
              0.4444444444444444,
              "#bd3786"
             ],
             [
              0.5555555555555556,
              "#d8576b"
             ],
             [
              0.6666666666666666,
              "#ed7953"
             ],
             [
              0.7777777777777778,
              "#fb9f3a"
             ],
             [
              0.8888888888888888,
              "#fdca26"
             ],
             [
              1,
              "#f0f921"
             ]
            ],
            "type": "histogram2dcontour"
           }
          ],
          "mesh3d": [
           {
            "colorbar": {
             "outlinewidth": 0,
             "ticks": ""
            },
            "type": "mesh3d"
           }
          ],
          "parcoords": [
           {
            "line": {
             "colorbar": {
              "outlinewidth": 0,
              "ticks": ""
             }
            },
            "type": "parcoords"
           }
          ],
          "pie": [
           {
            "automargin": true,
            "type": "pie"
           }
          ],
          "scatter": [
           {
            "marker": {
             "colorbar": {
              "outlinewidth": 0,
              "ticks": ""
             }
            },
            "type": "scatter"
           }
          ],
          "scatter3d": [
           {
            "line": {
             "colorbar": {
              "outlinewidth": 0,
              "ticks": ""
             }
            },
            "marker": {
             "colorbar": {
              "outlinewidth": 0,
              "ticks": ""
             }
            },
            "type": "scatter3d"
           }
          ],
          "scattercarpet": [
           {
            "marker": {
             "colorbar": {
              "outlinewidth": 0,
              "ticks": ""
             }
            },
            "type": "scattercarpet"
           }
          ],
          "scattergeo": [
           {
            "marker": {
             "colorbar": {
              "outlinewidth": 0,
              "ticks": ""
             }
            },
            "type": "scattergeo"
           }
          ],
          "scattergl": [
           {
            "marker": {
             "colorbar": {
              "outlinewidth": 0,
              "ticks": ""
             }
            },
            "type": "scattergl"
           }
          ],
          "scattermapbox": [
           {
            "marker": {
             "colorbar": {
              "outlinewidth": 0,
              "ticks": ""
             }
            },
            "type": "scattermapbox"
           }
          ],
          "scatterpolar": [
           {
            "marker": {
             "colorbar": {
              "outlinewidth": 0,
              "ticks": ""
             }
            },
            "type": "scatterpolar"
           }
          ],
          "scatterpolargl": [
           {
            "marker": {
             "colorbar": {
              "outlinewidth": 0,
              "ticks": ""
             }
            },
            "type": "scatterpolargl"
           }
          ],
          "scatterternary": [
           {
            "marker": {
             "colorbar": {
              "outlinewidth": 0,
              "ticks": ""
             }
            },
            "type": "scatterternary"
           }
          ],
          "surface": [
           {
            "colorbar": {
             "outlinewidth": 0,
             "ticks": ""
            },
            "colorscale": [
             [
              0,
              "#0d0887"
             ],
             [
              0.1111111111111111,
              "#46039f"
             ],
             [
              0.2222222222222222,
              "#7201a8"
             ],
             [
              0.3333333333333333,
              "#9c179e"
             ],
             [
              0.4444444444444444,
              "#bd3786"
             ],
             [
              0.5555555555555556,
              "#d8576b"
             ],
             [
              0.6666666666666666,
              "#ed7953"
             ],
             [
              0.7777777777777778,
              "#fb9f3a"
             ],
             [
              0.8888888888888888,
              "#fdca26"
             ],
             [
              1,
              "#f0f921"
             ]
            ],
            "type": "surface"
           }
          ],
          "table": [
           {
            "cells": {
             "fill": {
              "color": "#EBF0F8"
             },
             "line": {
              "color": "white"
             }
            },
            "header": {
             "fill": {
              "color": "#C8D4E3"
             },
             "line": {
              "color": "white"
             }
            },
            "type": "table"
           }
          ]
         },
         "layout": {
          "annotationdefaults": {
           "arrowcolor": "#2a3f5f",
           "arrowhead": 0,
           "arrowwidth": 1
          },
          "autotypenumbers": "strict",
          "coloraxis": {
           "colorbar": {
            "outlinewidth": 0,
            "ticks": ""
           }
          },
          "colorscale": {
           "diverging": [
            [
             0,
             "#8e0152"
            ],
            [
             0.1,
             "#c51b7d"
            ],
            [
             0.2,
             "#de77ae"
            ],
            [
             0.3,
             "#f1b6da"
            ],
            [
             0.4,
             "#fde0ef"
            ],
            [
             0.5,
             "#f7f7f7"
            ],
            [
             0.6,
             "#e6f5d0"
            ],
            [
             0.7,
             "#b8e186"
            ],
            [
             0.8,
             "#7fbc41"
            ],
            [
             0.9,
             "#4d9221"
            ],
            [
             1,
             "#276419"
            ]
           ],
           "sequential": [
            [
             0,
             "#0d0887"
            ],
            [
             0.1111111111111111,
             "#46039f"
            ],
            [
             0.2222222222222222,
             "#7201a8"
            ],
            [
             0.3333333333333333,
             "#9c179e"
            ],
            [
             0.4444444444444444,
             "#bd3786"
            ],
            [
             0.5555555555555556,
             "#d8576b"
            ],
            [
             0.6666666666666666,
             "#ed7953"
            ],
            [
             0.7777777777777778,
             "#fb9f3a"
            ],
            [
             0.8888888888888888,
             "#fdca26"
            ],
            [
             1,
             "#f0f921"
            ]
           ],
           "sequentialminus": [
            [
             0,
             "#0d0887"
            ],
            [
             0.1111111111111111,
             "#46039f"
            ],
            [
             0.2222222222222222,
             "#7201a8"
            ],
            [
             0.3333333333333333,
             "#9c179e"
            ],
            [
             0.4444444444444444,
             "#bd3786"
            ],
            [
             0.5555555555555556,
             "#d8576b"
            ],
            [
             0.6666666666666666,
             "#ed7953"
            ],
            [
             0.7777777777777778,
             "#fb9f3a"
            ],
            [
             0.8888888888888888,
             "#fdca26"
            ],
            [
             1,
             "#f0f921"
            ]
           ]
          },
          "colorway": [
           "#636efa",
           "#EF553B",
           "#00cc96",
           "#ab63fa",
           "#FFA15A",
           "#19d3f3",
           "#FF6692",
           "#B6E880",
           "#FF97FF",
           "#FECB52"
          ],
          "font": {
           "color": "#2a3f5f"
          },
          "geo": {
           "bgcolor": "white",
           "lakecolor": "white",
           "landcolor": "#E5ECF6",
           "showlakes": true,
           "showland": true,
           "subunitcolor": "white"
          },
          "hoverlabel": {
           "align": "left"
          },
          "hovermode": "closest",
          "mapbox": {
           "style": "light"
          },
          "paper_bgcolor": "white",
          "plot_bgcolor": "#E5ECF6",
          "polar": {
           "angularaxis": {
            "gridcolor": "white",
            "linecolor": "white",
            "ticks": ""
           },
           "bgcolor": "#E5ECF6",
           "radialaxis": {
            "gridcolor": "white",
            "linecolor": "white",
            "ticks": ""
           }
          },
          "scene": {
           "xaxis": {
            "backgroundcolor": "#E5ECF6",
            "gridcolor": "white",
            "gridwidth": 2,
            "linecolor": "white",
            "showbackground": true,
            "ticks": "",
            "zerolinecolor": "white"
           },
           "yaxis": {
            "backgroundcolor": "#E5ECF6",
            "gridcolor": "white",
            "gridwidth": 2,
            "linecolor": "white",
            "showbackground": true,
            "ticks": "",
            "zerolinecolor": "white"
           },
           "zaxis": {
            "backgroundcolor": "#E5ECF6",
            "gridcolor": "white",
            "gridwidth": 2,
            "linecolor": "white",
            "showbackground": true,
            "ticks": "",
            "zerolinecolor": "white"
           }
          },
          "shapedefaults": {
           "line": {
            "color": "#2a3f5f"
           }
          },
          "ternary": {
           "aaxis": {
            "gridcolor": "white",
            "linecolor": "white",
            "ticks": ""
           },
           "baxis": {
            "gridcolor": "white",
            "linecolor": "white",
            "ticks": ""
           },
           "bgcolor": "#E5ECF6",
           "caxis": {
            "gridcolor": "white",
            "linecolor": "white",
            "ticks": ""
           }
          },
          "title": {
           "x": 0.05
          },
          "xaxis": {
           "automargin": true,
           "gridcolor": "white",
           "linecolor": "white",
           "ticks": "",
           "title": {
            "standoff": 15
           },
           "zerolinecolor": "white",
           "zerolinewidth": 2
          },
          "yaxis": {
           "automargin": true,
           "gridcolor": "white",
           "linecolor": "white",
           "ticks": "",
           "title": {
            "standoff": 15
           },
           "zerolinecolor": "white",
           "zerolinewidth": 2
          }
         }
        },
        "title": {
         "font": {
          "color": "#4D5663"
         }
        },
        "xaxis": {
         "gridcolor": "#E1E5ED",
         "showgrid": true,
         "tickfont": {
          "color": "#4D5663"
         },
         "title": {
          "font": {
           "color": "#4D5663"
          },
          "text": ""
         },
         "zerolinecolor": "#E1E5ED"
        },
        "xaxis2": {
         "anchor": "y2",
         "gridcolor": "#E1E5ED",
         "showgrid": true,
         "showticklabels": false,
         "tickfont": {
          "color": "#4D5663"
         },
         "title": {
          "font": {
           "color": "#4D5663"
          },
          "text": ""
         },
         "zerolinecolor": "#E1E5ED"
        },
        "yaxis": {
         "domain": [
          0.3,
          1
         ],
         "gridcolor": "#E1E5ED",
         "showgrid": true,
         "tickfont": {
          "color": "#4D5663"
         },
         "title": {
          "font": {
           "color": "#4D5663"
          },
          "text": ""
         },
         "zerolinecolor": "#E1E5ED"
        },
        "yaxis2": {
         "domain": [
          0,
          0.25
         ],
         "gridcolor": "#E1E5ED",
         "showgrid": true,
         "tickfont": {
          "color": "#4D5663"
         },
         "title": {
          "font": {
           "color": "#4D5663"
          },
          "text": "Spread"
         },
         "zerolinecolor": "#E1E5ED"
        }
       }
      },
      "text/html": [
       "<div>                            <div id=\"457e5b35-448d-425d-86ce-8903cfa6ac84\" class=\"plotly-graph-div\" style=\"height:525px; width:100%;\"></div>            <script type=\"text/javascript\">                require([\"plotly\"], function(Plotly) {                    window.PLOTLYENV=window.PLOTLYENV || {};\n",
       "                    window.PLOTLYENV.BASE_URL='https://plot.ly';                                    if (document.getElementById(\"457e5b35-448d-425d-86ce-8903cfa6ac84\")) {                    Plotly.newPlot(                        \"457e5b35-448d-425d-86ce-8903cfa6ac84\",                        [{\"line\": {\"color\": \"rgba(255, 153, 51, 1.0)\", \"dash\": \"solid\", \"shape\": \"linear\", \"width\": 1.3}, \"mode\": \"lines\", \"name\": \"A\", \"text\": \"\", \"type\": \"scatter\", \"x\": [0, 1, 2, 3, 4, 5, 6, 7, 8, 9, 10, 11, 12, 13, 14, 15, 16, 17, 18, 19, 20, 21, 22, 23, 24, 25, 26, 27, 28, 29, 30, 31, 32, 33, 34, 35, 36, 37, 38, 39, 40, 41, 42, 43, 44, 45, 46, 47, 48, 49, 50, 51, 52, 53, 54, 55, 56, 57, 58, 59, 60, 61, 62, 63, 64, 65, 66, 67, 68, 69, 70, 71, 72, 73, 74, 75, 76, 77, 78, 79, 80, 81, 82, 83, 84, 85, 86, 87, 88, 89, 90, 91, 92, 93, 94, 95, 96, 97, 98, 99], \"y\": [-0.2941236145979744, -1.2055757622417584, 1.6739059144807003, 0.28697682921847084, 0.41395886627795436, 0.3258350572180524, 0.5252390425920379, -0.5736684755822246, -0.5700688362477726, 0.3645225874268893, -1.1647288821832336, 0.08451189819558057, -0.744180002462252, -1.2151693534115133, -1.2344417644275725, -1.2727768086178122, -1.109210674025156, 1.8561357436671402, -0.5743628582238592, -1.2869710643656933, 0.5654720433196601, -0.06184951055573469, 1.5426557670599157, 1.5183339797624478, 1.1914744908087287, 0.6123027103271466, -1.1128315368989694, 0.34211525618759664, -1.5427770588082996, -1.8095088920475255, 0.8914290648608734, 0.5707299722117781, 0.4150615465660746, -0.15779149891157998, -0.37577490575303407, -1.3493202029071392, -2.149745000938564, -0.1665954222704084, -0.14825310781359657, 0.9726743509758792, -0.4263313438545262, -0.8371332285968943, -1.00910939339172, 0.9687066851117567, -0.31949200585851995, 0.3811634222615911, -0.8701558140039154, 0.4530440030691015, 0.17712571854006096, -1.2943118538026293, -0.9440276852622483, -1.6140737385993082, -0.5820649119257266, 2.024328108515571, 0.09159763211659076, 0.8699658570083942, -1.9701241141643424, 1.7690020942672438, 0.5602034891518604, 0.45164160230701056, -0.028028443485482134, 0.3885875044711814, 0.018490601080752518, 2.8676657947150765, -0.8816260097799625, 0.5214180441747942, -0.2093671541431842, 0.415228606814977, -1.7884617684009187, -1.1882225177627814, -0.684762457408276, -1.9832688668725418, 0.9310360124815191, -0.5457278756057826, -0.710547760985368, -0.5446929238244186, -0.19630294700548082, -1.44280738406763, -0.8331241658672963, -0.45235685481235416, -0.6728883540615982, 0.3344908135970183, 0.7970971944919325, 1.3589465498265694, 1.6675265431050559, -0.24149016625430927, 0.3735431989596485, 2.327748140643649, -0.1382155746471087, -0.7712757639353897, -0.4514863772912042, -0.46245415819363367, 1.6861611281399966, 0.3070846956990549, -0.7986246032710236, -0.37716556826567615, 0.027142910172499594, -0.16862571807318036, -2.610727992542222, 1.8581627120087132]}, {\"line\": {\"color\": \"rgba(55, 128, 191, 1.0)\", \"dash\": \"solid\", \"shape\": \"linear\", \"width\": 1.3}, \"mode\": \"lines\", \"name\": \"B\", \"text\": \"\", \"type\": \"scatter\", \"x\": [0, 1, 2, 3, 4, 5, 6, 7, 8, 9, 10, 11, 12, 13, 14, 15, 16, 17, 18, 19, 20, 21, 22, 23, 24, 25, 26, 27, 28, 29, 30, 31, 32, 33, 34, 35, 36, 37, 38, 39, 40, 41, 42, 43, 44, 45, 46, 47, 48, 49, 50, 51, 52, 53, 54, 55, 56, 57, 58, 59, 60, 61, 62, 63, 64, 65, 66, 67, 68, 69, 70, 71, 72, 73, 74, 75, 76, 77, 78, 79, 80, 81, 82, 83, 84, 85, 86, 87, 88, 89, 90, 91, 92, 93, 94, 95, 96, 97, 98, 99], \"y\": [1.1232035304834727, -0.027646444578447983, -0.08398900118924442, -0.15149207680460008, 1.3297811358905003, -0.3588283929141447, -0.09241960340912399, 0.4144283948863819, -0.3242812375394934, 2.3983374404567153, 0.06909517875539394, -0.9047885203720661, -0.3265029067093802, 1.7107990386995107, -0.10882256063664028, 0.4897875303308817, -1.0135894728524193, 1.469438190961238, 0.036116091249880994, -0.8489964394716256, 1.1045547892308794, -2.733992479927418, 0.32155595967427597, 1.1730656687096301, 0.08919563895231453, -0.25087110936678997, 0.3482220702050979, -1.7806719298663185, -0.4513396599289586, -1.9081904190159555, -0.3819735660336761, 0.8622929704051494, 0.6643974389859816, -0.10482717044736548, -0.2978187641213, 0.38498283608367456, -0.2923058128870225, -1.8272050682618728, 0.9994086669080886, 0.22725335504437277, 0.543937236379081, 0.07227911719372908, 1.5237616967102592, -0.9532437020079461, -0.15113803558243055, 0.2617176444724291, -0.24506613212165868, -0.5207569261079663, -0.8532011988899243, 1.0864728378980126, 0.4654840803605472, 0.09625462622839667, -0.7357046380750296, 0.030202365540960157, 0.9262509241518855, 1.9593338921574195, -1.3661245536871027, 0.7323140351673906, 0.006607641087876381, 1.7473651609919887, 0.4219988261940681, 1.4191862517842977, -0.7566038891150196, -0.41425090121806823, 3.0035553718893238, -1.3449509112854081, -0.44909665312229585, -0.14484253474706837, -1.62510198227339, 0.513343071179874, 0.10057721954931076, -0.3347821761196757, -0.2056135190586056, 1.522708283114086, -0.9610873885231529, 0.3801472992208391, -0.26196111219286417, 1.5602775206755128, -0.5837342554198951, 0.42352589486444703, -0.3595438735331036, 0.42050074494523526, 0.48865650230846835, -0.4435686363074531, -1.2356577354562504, -0.040859602804632925, 0.559282291459184, 0.12464642337136354, -0.15108892936597226, 1.7478728236278007, -0.30778670631463906, -0.19881792903994983, 0.9365043151652537, 0.0853259717415844, 0.4357469077004661, 0.9373712100633341, 0.8836339180532669, -1.1235502320579935, -0.9786059330900005, -0.45891658939469926]}, {\"connectgaps\": false, \"fill\": \"tozeroy\", \"line\": {\"color\": \"green\", \"dash\": \"solid\", \"shape\": \"linear\", \"width\": 0.5}, \"mode\": \"lines\", \"name\": \"Spread\", \"showlegend\": false, \"type\": \"scatter\", \"x\": [0, 1, 2, 3, 4, 5, 6, 7, 8, 9, 10, 11, 12, 13, 14, 15, 16, 17, 18, 19, 20, 21, 22, 23, 24, 25, 26, 27, 28, 29, 30, 31, 32, 33, 34, 35, 36, 37, 38, 39, 40, 41, 42, 43, 44, 45, 46, 47, 48, 49, 50, 51, 52, 53, 54, 55, 56, 57, 58, 59, 60, 61, 62, 63, 64, 65, 66, 67, 68, 69, 70, 71, 72, 73, 74, 75, 76, 77, 78, 79, 80, 81, 82, 83, 84, 85, 86, 87, 88, 89, 90, 91, 92, 93, 94, 95, 96, 97, 98, 99], \"xaxis\": \"x2\", \"y\": [\"\", \"\", 1.7578949156699446, 0.4384689060230709, \"\", 0.6846634501321971, 0.6176586460011619, \"\", \"\", \"\", \"\", 0.9893004185676467, \"\", \"\", \"\", \"\", \"\", 0.3866975527059022, \"\", \"\", \"\", 2.6721429693716834, 1.2210998073856398, 0.34526831105281763, 1.1022788518564142, 0.8631738196939365, \"\", 2.122787186053915, \"\", 0.09868152696843002, 1.2734026308945494, \"\", \"\", \"\", \"\", \"\", \"\", 1.6606096459914643, \"\", 0.7454209959315063, \"\", \"\", \"\", 1.9219503871197028, \"\", 0.11944577778916199, \"\", 0.9738009291770677, 1.0303269174299852, \"\", \"\", \"\", 0.153639726149303, 1.9941257429746106, \"\", \"\", \"\", 1.0366880590998533, 0.553595848063984, \"\", \"\", \"\", 0.7750944901957721, 3.2819166959331447, \"\", 1.8663689554602023, 0.23972949897911167, 0.5600711415620454, \"\", \"\", \"\", \"\", 1.1366495315401246, \"\", 0.2505396275377849, \"\", 0.06565816518738335, \"\", \"\", \"\", \"\", \"\", 0.30844069218346415, 1.8025151861340225, 2.903184278561306, \"\", \"\", 2.2031017172722853, 0.012873354718863556, \"\", \"\", \"\", 0.749656812974743, 0.22175872395747048, \"\", \"\", \"\", 0.9549245139848132, \"\", 2.3170793014034126], \"yaxis\": \"y2\"}, {\"connectgaps\": false, \"fill\": \"tozeroy\", \"line\": {\"color\": \"red\", \"dash\": \"solid\", \"shape\": \"linear\", \"width\": 0.5}, \"mode\": \"lines\", \"name\": \"Spread\", \"showlegend\": false, \"type\": \"scatter\", \"x\": [0, 1, 2, 3, 4, 5, 6, 7, 8, 9, 10, 11, 12, 13, 14, 15, 16, 17, 18, 19, 20, 21, 22, 23, 24, 25, 26, 27, 28, 29, 30, 31, 32, 33, 34, 35, 36, 37, 38, 39, 40, 41, 42, 43, 44, 45, 46, 47, 48, 49, 50, 51, 52, 53, 54, 55, 56, 57, 58, 59, 60, 61, 62, 63, 64, 65, 66, 67, 68, 69, 70, 71, 72, 73, 74, 75, 76, 77, 78, 79, 80, 81, 82, 83, 84, 85, 86, 87, 88, 89, 90, 91, 92, 93, 94, 95, 96, 97, 98, 99], \"xaxis\": \"x2\", \"y\": [-1.417327145081447, -1.1779293176633105, \"\", \"\", -0.915822269612546, \"\", \"\", -0.9880968704686064, -0.2457875987082792, -2.033814853029826, -1.2338240609386275, \"\", -0.4176770957528718, -2.9259683921110238, -1.1256192037909323, -1.7625643389486938, -0.09562120117273665, \"\", -0.6104789494737403, -0.4379746248940677, -0.5390827459112193, \"\", \"\", \"\", \"\", \"\", -1.4610536071040672, \"\", -1.091437398879341, \"\", \"\", -0.2915629981933713, -0.249335892419907, -0.052964328464214505, -0.07795614163173409, -1.7343030389908138, -1.8574391880515417, \"\", -1.1476617747216853, \"\", -0.9702685802336072, -0.9094123457906234, -2.5328710901019793, \"\", -0.1683539702760894, \"\", -0.6250896818822567, \"\", \"\", -2.380784691700642, -1.4095117656227956, -1.710328364827705, \"\", \"\", -0.8346532920352947, -1.0893680351490254, -0.6039995604772397, \"\", \"\", -1.295723558684978, -0.4500272696795502, -1.0305987473131162, \"\", \"\", -3.885181381669286, \"\", \"\", \"\", -0.16335978612752866, -1.7015655889426555, -0.7853396769575868, -1.6484866907528661, \"\", -2.0684361587198685, \"\", -0.9248402230452577, \"\", -3.003084904743143, -0.24938991044740122, -0.8758827496768011, -0.3133444805284946, -0.08600993134821694, \"\", \"\", \"\", -0.20063056344967634, -0.18573909249953546, \"\", \"\", -2.5191485875631905, -0.14369967097656516, -0.26363622915368384, \"\", \"\", -1.2343715109714897, -1.3145367783290103, -0.8564910078807673, \"\", -1.6321220594522214, \"\"], \"yaxis\": \"y2\"}],                        {\"hovermode\": \"x\", \"legend\": {\"bgcolor\": \"#F5F6F9\", \"font\": {\"color\": \"#4D5663\"}}, \"paper_bgcolor\": \"#F5F6F9\", \"plot_bgcolor\": \"#F5F6F9\", \"template\": {\"data\": {\"bar\": [{\"error_x\": {\"color\": \"#2a3f5f\"}, \"error_y\": {\"color\": \"#2a3f5f\"}, \"marker\": {\"line\": {\"color\": \"#E5ECF6\", \"width\": 0.5}}, \"type\": \"bar\"}], \"barpolar\": [{\"marker\": {\"line\": {\"color\": \"#E5ECF6\", \"width\": 0.5}}, \"type\": \"barpolar\"}], \"carpet\": [{\"aaxis\": {\"endlinecolor\": \"#2a3f5f\", \"gridcolor\": \"white\", \"linecolor\": \"white\", \"minorgridcolor\": \"white\", \"startlinecolor\": \"#2a3f5f\"}, \"baxis\": {\"endlinecolor\": \"#2a3f5f\", \"gridcolor\": \"white\", \"linecolor\": \"white\", \"minorgridcolor\": \"white\", \"startlinecolor\": \"#2a3f5f\"}, \"type\": \"carpet\"}], \"choropleth\": [{\"colorbar\": {\"outlinewidth\": 0, \"ticks\": \"\"}, \"type\": \"choropleth\"}], \"contour\": [{\"colorbar\": {\"outlinewidth\": 0, \"ticks\": \"\"}, \"colorscale\": [[0.0, \"#0d0887\"], [0.1111111111111111, \"#46039f\"], [0.2222222222222222, \"#7201a8\"], [0.3333333333333333, \"#9c179e\"], [0.4444444444444444, \"#bd3786\"], [0.5555555555555556, \"#d8576b\"], [0.6666666666666666, \"#ed7953\"], [0.7777777777777778, \"#fb9f3a\"], [0.8888888888888888, \"#fdca26\"], [1.0, \"#f0f921\"]], \"type\": \"contour\"}], \"contourcarpet\": [{\"colorbar\": {\"outlinewidth\": 0, \"ticks\": \"\"}, \"type\": \"contourcarpet\"}], \"heatmap\": [{\"colorbar\": {\"outlinewidth\": 0, \"ticks\": \"\"}, \"colorscale\": [[0.0, \"#0d0887\"], [0.1111111111111111, \"#46039f\"], [0.2222222222222222, \"#7201a8\"], [0.3333333333333333, \"#9c179e\"], [0.4444444444444444, \"#bd3786\"], [0.5555555555555556, \"#d8576b\"], [0.6666666666666666, \"#ed7953\"], [0.7777777777777778, \"#fb9f3a\"], [0.8888888888888888, \"#fdca26\"], [1.0, \"#f0f921\"]], \"type\": \"heatmap\"}], \"heatmapgl\": [{\"colorbar\": {\"outlinewidth\": 0, \"ticks\": \"\"}, \"colorscale\": [[0.0, \"#0d0887\"], [0.1111111111111111, \"#46039f\"], [0.2222222222222222, \"#7201a8\"], [0.3333333333333333, \"#9c179e\"], [0.4444444444444444, \"#bd3786\"], [0.5555555555555556, \"#d8576b\"], [0.6666666666666666, \"#ed7953\"], [0.7777777777777778, \"#fb9f3a\"], [0.8888888888888888, \"#fdca26\"], [1.0, \"#f0f921\"]], \"type\": \"heatmapgl\"}], \"histogram\": [{\"marker\": {\"colorbar\": {\"outlinewidth\": 0, \"ticks\": \"\"}}, \"type\": \"histogram\"}], \"histogram2d\": [{\"colorbar\": {\"outlinewidth\": 0, \"ticks\": \"\"}, \"colorscale\": [[0.0, \"#0d0887\"], [0.1111111111111111, \"#46039f\"], [0.2222222222222222, \"#7201a8\"], [0.3333333333333333, \"#9c179e\"], [0.4444444444444444, \"#bd3786\"], [0.5555555555555556, \"#d8576b\"], [0.6666666666666666, \"#ed7953\"], [0.7777777777777778, \"#fb9f3a\"], [0.8888888888888888, \"#fdca26\"], [1.0, \"#f0f921\"]], \"type\": \"histogram2d\"}], \"histogram2dcontour\": [{\"colorbar\": {\"outlinewidth\": 0, \"ticks\": \"\"}, \"colorscale\": [[0.0, \"#0d0887\"], [0.1111111111111111, \"#46039f\"], [0.2222222222222222, \"#7201a8\"], [0.3333333333333333, \"#9c179e\"], [0.4444444444444444, \"#bd3786\"], [0.5555555555555556, \"#d8576b\"], [0.6666666666666666, \"#ed7953\"], [0.7777777777777778, \"#fb9f3a\"], [0.8888888888888888, \"#fdca26\"], [1.0, \"#f0f921\"]], \"type\": \"histogram2dcontour\"}], \"mesh3d\": [{\"colorbar\": {\"outlinewidth\": 0, \"ticks\": \"\"}, \"type\": \"mesh3d\"}], \"parcoords\": [{\"line\": {\"colorbar\": {\"outlinewidth\": 0, \"ticks\": \"\"}}, \"type\": \"parcoords\"}], \"pie\": [{\"automargin\": true, \"type\": \"pie\"}], \"scatter\": [{\"marker\": {\"colorbar\": {\"outlinewidth\": 0, \"ticks\": \"\"}}, \"type\": \"scatter\"}], \"scatter3d\": [{\"line\": {\"colorbar\": {\"outlinewidth\": 0, \"ticks\": \"\"}}, \"marker\": {\"colorbar\": {\"outlinewidth\": 0, \"ticks\": \"\"}}, \"type\": \"scatter3d\"}], \"scattercarpet\": [{\"marker\": {\"colorbar\": {\"outlinewidth\": 0, \"ticks\": \"\"}}, \"type\": \"scattercarpet\"}], \"scattergeo\": [{\"marker\": {\"colorbar\": {\"outlinewidth\": 0, \"ticks\": \"\"}}, \"type\": \"scattergeo\"}], \"scattergl\": [{\"marker\": {\"colorbar\": {\"outlinewidth\": 0, \"ticks\": \"\"}}, \"type\": \"scattergl\"}], \"scattermapbox\": [{\"marker\": {\"colorbar\": {\"outlinewidth\": 0, \"ticks\": \"\"}}, \"type\": \"scattermapbox\"}], \"scatterpolar\": [{\"marker\": {\"colorbar\": {\"outlinewidth\": 0, \"ticks\": \"\"}}, \"type\": \"scatterpolar\"}], \"scatterpolargl\": [{\"marker\": {\"colorbar\": {\"outlinewidth\": 0, \"ticks\": \"\"}}, \"type\": \"scatterpolargl\"}], \"scatterternary\": [{\"marker\": {\"colorbar\": {\"outlinewidth\": 0, \"ticks\": \"\"}}, \"type\": \"scatterternary\"}], \"surface\": [{\"colorbar\": {\"outlinewidth\": 0, \"ticks\": \"\"}, \"colorscale\": [[0.0, \"#0d0887\"], [0.1111111111111111, \"#46039f\"], [0.2222222222222222, \"#7201a8\"], [0.3333333333333333, \"#9c179e\"], [0.4444444444444444, \"#bd3786\"], [0.5555555555555556, \"#d8576b\"], [0.6666666666666666, \"#ed7953\"], [0.7777777777777778, \"#fb9f3a\"], [0.8888888888888888, \"#fdca26\"], [1.0, \"#f0f921\"]], \"type\": \"surface\"}], \"table\": [{\"cells\": {\"fill\": {\"color\": \"#EBF0F8\"}, \"line\": {\"color\": \"white\"}}, \"header\": {\"fill\": {\"color\": \"#C8D4E3\"}, \"line\": {\"color\": \"white\"}}, \"type\": \"table\"}]}, \"layout\": {\"annotationdefaults\": {\"arrowcolor\": \"#2a3f5f\", \"arrowhead\": 0, \"arrowwidth\": 1}, \"autotypenumbers\": \"strict\", \"coloraxis\": {\"colorbar\": {\"outlinewidth\": 0, \"ticks\": \"\"}}, \"colorscale\": {\"diverging\": [[0, \"#8e0152\"], [0.1, \"#c51b7d\"], [0.2, \"#de77ae\"], [0.3, \"#f1b6da\"], [0.4, \"#fde0ef\"], [0.5, \"#f7f7f7\"], [0.6, \"#e6f5d0\"], [0.7, \"#b8e186\"], [0.8, \"#7fbc41\"], [0.9, \"#4d9221\"], [1, \"#276419\"]], \"sequential\": [[0.0, \"#0d0887\"], [0.1111111111111111, \"#46039f\"], [0.2222222222222222, \"#7201a8\"], [0.3333333333333333, \"#9c179e\"], [0.4444444444444444, \"#bd3786\"], [0.5555555555555556, \"#d8576b\"], [0.6666666666666666, \"#ed7953\"], [0.7777777777777778, \"#fb9f3a\"], [0.8888888888888888, \"#fdca26\"], [1.0, \"#f0f921\"]], \"sequentialminus\": [[0.0, \"#0d0887\"], [0.1111111111111111, \"#46039f\"], [0.2222222222222222, \"#7201a8\"], [0.3333333333333333, \"#9c179e\"], [0.4444444444444444, \"#bd3786\"], [0.5555555555555556, \"#d8576b\"], [0.6666666666666666, \"#ed7953\"], [0.7777777777777778, \"#fb9f3a\"], [0.8888888888888888, \"#fdca26\"], [1.0, \"#f0f921\"]]}, \"colorway\": [\"#636efa\", \"#EF553B\", \"#00cc96\", \"#ab63fa\", \"#FFA15A\", \"#19d3f3\", \"#FF6692\", \"#B6E880\", \"#FF97FF\", \"#FECB52\"], \"font\": {\"color\": \"#2a3f5f\"}, \"geo\": {\"bgcolor\": \"white\", \"lakecolor\": \"white\", \"landcolor\": \"#E5ECF6\", \"showlakes\": true, \"showland\": true, \"subunitcolor\": \"white\"}, \"hoverlabel\": {\"align\": \"left\"}, \"hovermode\": \"closest\", \"mapbox\": {\"style\": \"light\"}, \"paper_bgcolor\": \"white\", \"plot_bgcolor\": \"#E5ECF6\", \"polar\": {\"angularaxis\": {\"gridcolor\": \"white\", \"linecolor\": \"white\", \"ticks\": \"\"}, \"bgcolor\": \"#E5ECF6\", \"radialaxis\": {\"gridcolor\": \"white\", \"linecolor\": \"white\", \"ticks\": \"\"}}, \"scene\": {\"xaxis\": {\"backgroundcolor\": \"#E5ECF6\", \"gridcolor\": \"white\", \"gridwidth\": 2, \"linecolor\": \"white\", \"showbackground\": true, \"ticks\": \"\", \"zerolinecolor\": \"white\"}, \"yaxis\": {\"backgroundcolor\": \"#E5ECF6\", \"gridcolor\": \"white\", \"gridwidth\": 2, \"linecolor\": \"white\", \"showbackground\": true, \"ticks\": \"\", \"zerolinecolor\": \"white\"}, \"zaxis\": {\"backgroundcolor\": \"#E5ECF6\", \"gridcolor\": \"white\", \"gridwidth\": 2, \"linecolor\": \"white\", \"showbackground\": true, \"ticks\": \"\", \"zerolinecolor\": \"white\"}}, \"shapedefaults\": {\"line\": {\"color\": \"#2a3f5f\"}}, \"ternary\": {\"aaxis\": {\"gridcolor\": \"white\", \"linecolor\": \"white\", \"ticks\": \"\"}, \"baxis\": {\"gridcolor\": \"white\", \"linecolor\": \"white\", \"ticks\": \"\"}, \"bgcolor\": \"#E5ECF6\", \"caxis\": {\"gridcolor\": \"white\", \"linecolor\": \"white\", \"ticks\": \"\"}}, \"title\": {\"x\": 0.05}, \"xaxis\": {\"automargin\": true, \"gridcolor\": \"white\", \"linecolor\": \"white\", \"ticks\": \"\", \"title\": {\"standoff\": 15}, \"zerolinecolor\": \"white\", \"zerolinewidth\": 2}, \"yaxis\": {\"automargin\": true, \"gridcolor\": \"white\", \"linecolor\": \"white\", \"ticks\": \"\", \"title\": {\"standoff\": 15}, \"zerolinecolor\": \"white\", \"zerolinewidth\": 2}}}, \"title\": {\"font\": {\"color\": \"#4D5663\"}}, \"xaxis\": {\"gridcolor\": \"#E1E5ED\", \"showgrid\": true, \"tickfont\": {\"color\": \"#4D5663\"}, \"title\": {\"font\": {\"color\": \"#4D5663\"}, \"text\": \"\"}, \"zerolinecolor\": \"#E1E5ED\"}, \"xaxis2\": {\"anchor\": \"y2\", \"gridcolor\": \"#E1E5ED\", \"showgrid\": true, \"showticklabels\": false, \"tickfont\": {\"color\": \"#4D5663\"}, \"title\": {\"font\": {\"color\": \"#4D5663\"}, \"text\": \"\"}, \"zerolinecolor\": \"#E1E5ED\"}, \"yaxis\": {\"domain\": [0.3, 1], \"gridcolor\": \"#E1E5ED\", \"showgrid\": true, \"tickfont\": {\"color\": \"#4D5663\"}, \"title\": {\"font\": {\"color\": \"#4D5663\"}, \"text\": \"\"}, \"zerolinecolor\": \"#E1E5ED\"}, \"yaxis2\": {\"domain\": [0, 0.25], \"gridcolor\": \"#E1E5ED\", \"showgrid\": true, \"tickfont\": {\"color\": \"#4D5663\"}, \"title\": {\"font\": {\"color\": \"#4D5663\"}, \"text\": \"Spread\"}, \"zerolinecolor\": \"#E1E5ED\"}},                        {\"showLink\": true, \"linkText\": \"Export to plot.ly\", \"plotlyServerURL\": \"https://plot.ly\", \"responsive\": true}                    ).then(function(){\n",
       "                            \n",
       "var gd = document.getElementById('457e5b35-448d-425d-86ce-8903cfa6ac84');\n",
       "var x = new MutationObserver(function (mutations, observer) {{\n",
       "        var display = window.getComputedStyle(gd).display;\n",
       "        if (!display || display === 'none') {{\n",
       "            console.log([gd, 'removed!']);\n",
       "            Plotly.purge(gd);\n",
       "            observer.disconnect();\n",
       "        }}\n",
       "}});\n",
       "\n",
       "// Listen for the removal of the full notebook cells\n",
       "var notebookContainer = gd.closest('#notebook-container');\n",
       "if (notebookContainer) {{\n",
       "    x.observe(notebookContainer, {childList: true});\n",
       "}}\n",
       "\n",
       "// Listen for the clearing of the current output cell\n",
       "var outputEl = gd.closest('.output');\n",
       "if (outputEl) {{\n",
       "    x.observe(outputEl, {childList: true});\n",
       "}}\n",
       "\n",
       "                        })                };                });            </script>        </div>"
      ]
     },
     "metadata": {},
     "output_type": "display_data"
    }
   ],
   "source": [
    "df[['A', 'B']].iplot(kind='spread')"
   ]
  },
  {
   "cell_type": "code",
   "execution_count": 36,
   "metadata": {},
   "outputs": [
    {
     "data": {
      "application/vnd.plotly.v1+json": {
       "config": {
        "linkText": "Export to plot.ly",
        "plotlyServerURL": "https://plot.ly",
        "showLink": true
       },
       "data": [
        {
         "histfunc": "count",
         "histnorm": "",
         "marker": {
          "color": "rgba(255, 153, 51, 1.0)",
          "line": {
           "color": "#4D5663",
           "width": 1.3
          }
         },
         "name": "A",
         "nbinsx": 50,
         "opacity": 0.8,
         "orientation": "v",
         "type": "histogram",
         "x": [
          -0.2941236145979744,
          -1.2055757622417584,
          1.6739059144807003,
          0.28697682921847084,
          0.41395886627795436,
          0.3258350572180524,
          0.5252390425920379,
          -0.5736684755822246,
          -0.5700688362477726,
          0.3645225874268893,
          -1.1647288821832336,
          0.08451189819558057,
          -0.744180002462252,
          -1.2151693534115133,
          -1.2344417644275725,
          -1.2727768086178122,
          -1.109210674025156,
          1.8561357436671402,
          -0.5743628582238592,
          -1.2869710643656933,
          0.5654720433196601,
          -0.06184951055573469,
          1.5426557670599157,
          1.5183339797624478,
          1.1914744908087287,
          0.6123027103271466,
          -1.1128315368989694,
          0.34211525618759664,
          -1.5427770588082996,
          -1.8095088920475255,
          0.8914290648608734,
          0.5707299722117781,
          0.4150615465660746,
          -0.15779149891157998,
          -0.37577490575303407,
          -1.3493202029071392,
          -2.149745000938564,
          -0.1665954222704084,
          -0.14825310781359657,
          0.9726743509758792,
          -0.4263313438545262,
          -0.8371332285968943,
          -1.00910939339172,
          0.9687066851117567,
          -0.31949200585851995,
          0.3811634222615911,
          -0.8701558140039154,
          0.4530440030691015,
          0.17712571854006096,
          -1.2943118538026293,
          -0.9440276852622483,
          -1.6140737385993082,
          -0.5820649119257266,
          2.024328108515571,
          0.09159763211659076,
          0.8699658570083942,
          -1.9701241141643424,
          1.7690020942672438,
          0.5602034891518604,
          0.45164160230701056,
          -0.028028443485482134,
          0.3885875044711814,
          0.018490601080752518,
          2.8676657947150765,
          -0.8816260097799625,
          0.5214180441747942,
          -0.2093671541431842,
          0.415228606814977,
          -1.7884617684009187,
          -1.1882225177627814,
          -0.684762457408276,
          -1.9832688668725418,
          0.9310360124815191,
          -0.5457278756057826,
          -0.710547760985368,
          -0.5446929238244186,
          -0.19630294700548082,
          -1.44280738406763,
          -0.8331241658672963,
          -0.45235685481235416,
          -0.6728883540615982,
          0.3344908135970183,
          0.7970971944919325,
          1.3589465498265694,
          1.6675265431050559,
          -0.24149016625430927,
          0.3735431989596485,
          2.327748140643649,
          -0.1382155746471087,
          -0.7712757639353897,
          -0.4514863772912042,
          -0.46245415819363367,
          1.6861611281399966,
          0.3070846956990549,
          -0.7986246032710236,
          -0.37716556826567615,
          0.027142910172499594,
          -0.16862571807318036,
          -2.610727992542222,
          1.8581627120087132
         ]
        }
       ],
       "layout": {
        "barmode": "overlay",
        "legend": {
         "bgcolor": "#F5F6F9",
         "font": {
          "color": "#4D5663"
         }
        },
        "paper_bgcolor": "#F5F6F9",
        "plot_bgcolor": "#F5F6F9",
        "template": {
         "data": {
          "bar": [
           {
            "error_x": {
             "color": "#2a3f5f"
            },
            "error_y": {
             "color": "#2a3f5f"
            },
            "marker": {
             "line": {
              "color": "#E5ECF6",
              "width": 0.5
             }
            },
            "type": "bar"
           }
          ],
          "barpolar": [
           {
            "marker": {
             "line": {
              "color": "#E5ECF6",
              "width": 0.5
             }
            },
            "type": "barpolar"
           }
          ],
          "carpet": [
           {
            "aaxis": {
             "endlinecolor": "#2a3f5f",
             "gridcolor": "white",
             "linecolor": "white",
             "minorgridcolor": "white",
             "startlinecolor": "#2a3f5f"
            },
            "baxis": {
             "endlinecolor": "#2a3f5f",
             "gridcolor": "white",
             "linecolor": "white",
             "minorgridcolor": "white",
             "startlinecolor": "#2a3f5f"
            },
            "type": "carpet"
           }
          ],
          "choropleth": [
           {
            "colorbar": {
             "outlinewidth": 0,
             "ticks": ""
            },
            "type": "choropleth"
           }
          ],
          "contour": [
           {
            "colorbar": {
             "outlinewidth": 0,
             "ticks": ""
            },
            "colorscale": [
             [
              0,
              "#0d0887"
             ],
             [
              0.1111111111111111,
              "#46039f"
             ],
             [
              0.2222222222222222,
              "#7201a8"
             ],
             [
              0.3333333333333333,
              "#9c179e"
             ],
             [
              0.4444444444444444,
              "#bd3786"
             ],
             [
              0.5555555555555556,
              "#d8576b"
             ],
             [
              0.6666666666666666,
              "#ed7953"
             ],
             [
              0.7777777777777778,
              "#fb9f3a"
             ],
             [
              0.8888888888888888,
              "#fdca26"
             ],
             [
              1,
              "#f0f921"
             ]
            ],
            "type": "contour"
           }
          ],
          "contourcarpet": [
           {
            "colorbar": {
             "outlinewidth": 0,
             "ticks": ""
            },
            "type": "contourcarpet"
           }
          ],
          "heatmap": [
           {
            "colorbar": {
             "outlinewidth": 0,
             "ticks": ""
            },
            "colorscale": [
             [
              0,
              "#0d0887"
             ],
             [
              0.1111111111111111,
              "#46039f"
             ],
             [
              0.2222222222222222,
              "#7201a8"
             ],
             [
              0.3333333333333333,
              "#9c179e"
             ],
             [
              0.4444444444444444,
              "#bd3786"
             ],
             [
              0.5555555555555556,
              "#d8576b"
             ],
             [
              0.6666666666666666,
              "#ed7953"
             ],
             [
              0.7777777777777778,
              "#fb9f3a"
             ],
             [
              0.8888888888888888,
              "#fdca26"
             ],
             [
              1,
              "#f0f921"
             ]
            ],
            "type": "heatmap"
           }
          ],
          "heatmapgl": [
           {
            "colorbar": {
             "outlinewidth": 0,
             "ticks": ""
            },
            "colorscale": [
             [
              0,
              "#0d0887"
             ],
             [
              0.1111111111111111,
              "#46039f"
             ],
             [
              0.2222222222222222,
              "#7201a8"
             ],
             [
              0.3333333333333333,
              "#9c179e"
             ],
             [
              0.4444444444444444,
              "#bd3786"
             ],
             [
              0.5555555555555556,
              "#d8576b"
             ],
             [
              0.6666666666666666,
              "#ed7953"
             ],
             [
              0.7777777777777778,
              "#fb9f3a"
             ],
             [
              0.8888888888888888,
              "#fdca26"
             ],
             [
              1,
              "#f0f921"
             ]
            ],
            "type": "heatmapgl"
           }
          ],
          "histogram": [
           {
            "marker": {
             "colorbar": {
              "outlinewidth": 0,
              "ticks": ""
             }
            },
            "type": "histogram"
           }
          ],
          "histogram2d": [
           {
            "colorbar": {
             "outlinewidth": 0,
             "ticks": ""
            },
            "colorscale": [
             [
              0,
              "#0d0887"
             ],
             [
              0.1111111111111111,
              "#46039f"
             ],
             [
              0.2222222222222222,
              "#7201a8"
             ],
             [
              0.3333333333333333,
              "#9c179e"
             ],
             [
              0.4444444444444444,
              "#bd3786"
             ],
             [
              0.5555555555555556,
              "#d8576b"
             ],
             [
              0.6666666666666666,
              "#ed7953"
             ],
             [
              0.7777777777777778,
              "#fb9f3a"
             ],
             [
              0.8888888888888888,
              "#fdca26"
             ],
             [
              1,
              "#f0f921"
             ]
            ],
            "type": "histogram2d"
           }
          ],
          "histogram2dcontour": [
           {
            "colorbar": {
             "outlinewidth": 0,
             "ticks": ""
            },
            "colorscale": [
             [
              0,
              "#0d0887"
             ],
             [
              0.1111111111111111,
              "#46039f"
             ],
             [
              0.2222222222222222,
              "#7201a8"
             ],
             [
              0.3333333333333333,
              "#9c179e"
             ],
             [
              0.4444444444444444,
              "#bd3786"
             ],
             [
              0.5555555555555556,
              "#d8576b"
             ],
             [
              0.6666666666666666,
              "#ed7953"
             ],
             [
              0.7777777777777778,
              "#fb9f3a"
             ],
             [
              0.8888888888888888,
              "#fdca26"
             ],
             [
              1,
              "#f0f921"
             ]
            ],
            "type": "histogram2dcontour"
           }
          ],
          "mesh3d": [
           {
            "colorbar": {
             "outlinewidth": 0,
             "ticks": ""
            },
            "type": "mesh3d"
           }
          ],
          "parcoords": [
           {
            "line": {
             "colorbar": {
              "outlinewidth": 0,
              "ticks": ""
             }
            },
            "type": "parcoords"
           }
          ],
          "pie": [
           {
            "automargin": true,
            "type": "pie"
           }
          ],
          "scatter": [
           {
            "marker": {
             "colorbar": {
              "outlinewidth": 0,
              "ticks": ""
             }
            },
            "type": "scatter"
           }
          ],
          "scatter3d": [
           {
            "line": {
             "colorbar": {
              "outlinewidth": 0,
              "ticks": ""
             }
            },
            "marker": {
             "colorbar": {
              "outlinewidth": 0,
              "ticks": ""
             }
            },
            "type": "scatter3d"
           }
          ],
          "scattercarpet": [
           {
            "marker": {
             "colorbar": {
              "outlinewidth": 0,
              "ticks": ""
             }
            },
            "type": "scattercarpet"
           }
          ],
          "scattergeo": [
           {
            "marker": {
             "colorbar": {
              "outlinewidth": 0,
              "ticks": ""
             }
            },
            "type": "scattergeo"
           }
          ],
          "scattergl": [
           {
            "marker": {
             "colorbar": {
              "outlinewidth": 0,
              "ticks": ""
             }
            },
            "type": "scattergl"
           }
          ],
          "scattermapbox": [
           {
            "marker": {
             "colorbar": {
              "outlinewidth": 0,
              "ticks": ""
             }
            },
            "type": "scattermapbox"
           }
          ],
          "scatterpolar": [
           {
            "marker": {
             "colorbar": {
              "outlinewidth": 0,
              "ticks": ""
             }
            },
            "type": "scatterpolar"
           }
          ],
          "scatterpolargl": [
           {
            "marker": {
             "colorbar": {
              "outlinewidth": 0,
              "ticks": ""
             }
            },
            "type": "scatterpolargl"
           }
          ],
          "scatterternary": [
           {
            "marker": {
             "colorbar": {
              "outlinewidth": 0,
              "ticks": ""
             }
            },
            "type": "scatterternary"
           }
          ],
          "surface": [
           {
            "colorbar": {
             "outlinewidth": 0,
             "ticks": ""
            },
            "colorscale": [
             [
              0,
              "#0d0887"
             ],
             [
              0.1111111111111111,
              "#46039f"
             ],
             [
              0.2222222222222222,
              "#7201a8"
             ],
             [
              0.3333333333333333,
              "#9c179e"
             ],
             [
              0.4444444444444444,
              "#bd3786"
             ],
             [
              0.5555555555555556,
              "#d8576b"
             ],
             [
              0.6666666666666666,
              "#ed7953"
             ],
             [
              0.7777777777777778,
              "#fb9f3a"
             ],
             [
              0.8888888888888888,
              "#fdca26"
             ],
             [
              1,
              "#f0f921"
             ]
            ],
            "type": "surface"
           }
          ],
          "table": [
           {
            "cells": {
             "fill": {
              "color": "#EBF0F8"
             },
             "line": {
              "color": "white"
             }
            },
            "header": {
             "fill": {
              "color": "#C8D4E3"
             },
             "line": {
              "color": "white"
             }
            },
            "type": "table"
           }
          ]
         },
         "layout": {
          "annotationdefaults": {
           "arrowcolor": "#2a3f5f",
           "arrowhead": 0,
           "arrowwidth": 1
          },
          "autotypenumbers": "strict",
          "coloraxis": {
           "colorbar": {
            "outlinewidth": 0,
            "ticks": ""
           }
          },
          "colorscale": {
           "diverging": [
            [
             0,
             "#8e0152"
            ],
            [
             0.1,
             "#c51b7d"
            ],
            [
             0.2,
             "#de77ae"
            ],
            [
             0.3,
             "#f1b6da"
            ],
            [
             0.4,
             "#fde0ef"
            ],
            [
             0.5,
             "#f7f7f7"
            ],
            [
             0.6,
             "#e6f5d0"
            ],
            [
             0.7,
             "#b8e186"
            ],
            [
             0.8,
             "#7fbc41"
            ],
            [
             0.9,
             "#4d9221"
            ],
            [
             1,
             "#276419"
            ]
           ],
           "sequential": [
            [
             0,
             "#0d0887"
            ],
            [
             0.1111111111111111,
             "#46039f"
            ],
            [
             0.2222222222222222,
             "#7201a8"
            ],
            [
             0.3333333333333333,
             "#9c179e"
            ],
            [
             0.4444444444444444,
             "#bd3786"
            ],
            [
             0.5555555555555556,
             "#d8576b"
            ],
            [
             0.6666666666666666,
             "#ed7953"
            ],
            [
             0.7777777777777778,
             "#fb9f3a"
            ],
            [
             0.8888888888888888,
             "#fdca26"
            ],
            [
             1,
             "#f0f921"
            ]
           ],
           "sequentialminus": [
            [
             0,
             "#0d0887"
            ],
            [
             0.1111111111111111,
             "#46039f"
            ],
            [
             0.2222222222222222,
             "#7201a8"
            ],
            [
             0.3333333333333333,
             "#9c179e"
            ],
            [
             0.4444444444444444,
             "#bd3786"
            ],
            [
             0.5555555555555556,
             "#d8576b"
            ],
            [
             0.6666666666666666,
             "#ed7953"
            ],
            [
             0.7777777777777778,
             "#fb9f3a"
            ],
            [
             0.8888888888888888,
             "#fdca26"
            ],
            [
             1,
             "#f0f921"
            ]
           ]
          },
          "colorway": [
           "#636efa",
           "#EF553B",
           "#00cc96",
           "#ab63fa",
           "#FFA15A",
           "#19d3f3",
           "#FF6692",
           "#B6E880",
           "#FF97FF",
           "#FECB52"
          ],
          "font": {
           "color": "#2a3f5f"
          },
          "geo": {
           "bgcolor": "white",
           "lakecolor": "white",
           "landcolor": "#E5ECF6",
           "showlakes": true,
           "showland": true,
           "subunitcolor": "white"
          },
          "hoverlabel": {
           "align": "left"
          },
          "hovermode": "closest",
          "mapbox": {
           "style": "light"
          },
          "paper_bgcolor": "white",
          "plot_bgcolor": "#E5ECF6",
          "polar": {
           "angularaxis": {
            "gridcolor": "white",
            "linecolor": "white",
            "ticks": ""
           },
           "bgcolor": "#E5ECF6",
           "radialaxis": {
            "gridcolor": "white",
            "linecolor": "white",
            "ticks": ""
           }
          },
          "scene": {
           "xaxis": {
            "backgroundcolor": "#E5ECF6",
            "gridcolor": "white",
            "gridwidth": 2,
            "linecolor": "white",
            "showbackground": true,
            "ticks": "",
            "zerolinecolor": "white"
           },
           "yaxis": {
            "backgroundcolor": "#E5ECF6",
            "gridcolor": "white",
            "gridwidth": 2,
            "linecolor": "white",
            "showbackground": true,
            "ticks": "",
            "zerolinecolor": "white"
           },
           "zaxis": {
            "backgroundcolor": "#E5ECF6",
            "gridcolor": "white",
            "gridwidth": 2,
            "linecolor": "white",
            "showbackground": true,
            "ticks": "",
            "zerolinecolor": "white"
           }
          },
          "shapedefaults": {
           "line": {
            "color": "#2a3f5f"
           }
          },
          "ternary": {
           "aaxis": {
            "gridcolor": "white",
            "linecolor": "white",
            "ticks": ""
           },
           "baxis": {
            "gridcolor": "white",
            "linecolor": "white",
            "ticks": ""
           },
           "bgcolor": "#E5ECF6",
           "caxis": {
            "gridcolor": "white",
            "linecolor": "white",
            "ticks": ""
           }
          },
          "title": {
           "x": 0.05
          },
          "xaxis": {
           "automargin": true,
           "gridcolor": "white",
           "linecolor": "white",
           "ticks": "",
           "title": {
            "standoff": 15
           },
           "zerolinecolor": "white",
           "zerolinewidth": 2
          },
          "yaxis": {
           "automargin": true,
           "gridcolor": "white",
           "linecolor": "white",
           "ticks": "",
           "title": {
            "standoff": 15
           },
           "zerolinecolor": "white",
           "zerolinewidth": 2
          }
         }
        },
        "title": {
         "font": {
          "color": "#4D5663"
         }
        },
        "xaxis": {
         "gridcolor": "#E1E5ED",
         "showgrid": true,
         "tickfont": {
          "color": "#4D5663"
         },
         "title": {
          "font": {
           "color": "#4D5663"
          },
          "text": ""
         },
         "zerolinecolor": "#E1E5ED"
        },
        "yaxis": {
         "gridcolor": "#E1E5ED",
         "showgrid": true,
         "tickfont": {
          "color": "#4D5663"
         },
         "title": {
          "font": {
           "color": "#4D5663"
          },
          "text": ""
         },
         "zerolinecolor": "#E1E5ED"
        }
       }
      },
      "text/html": [
       "<div>                            <div id=\"8f0cb242-45b7-45c6-8972-3e2f29096522\" class=\"plotly-graph-div\" style=\"height:525px; width:100%;\"></div>            <script type=\"text/javascript\">                require([\"plotly\"], function(Plotly) {                    window.PLOTLYENV=window.PLOTLYENV || {};\n",
       "                    window.PLOTLYENV.BASE_URL='https://plot.ly';                                    if (document.getElementById(\"8f0cb242-45b7-45c6-8972-3e2f29096522\")) {                    Plotly.newPlot(                        \"8f0cb242-45b7-45c6-8972-3e2f29096522\",                        [{\"histfunc\": \"count\", \"histnorm\": \"\", \"marker\": {\"color\": \"rgba(255, 153, 51, 1.0)\", \"line\": {\"color\": \"#4D5663\", \"width\": 1.3}}, \"name\": \"A\", \"nbinsx\": 50, \"opacity\": 0.8, \"orientation\": \"v\", \"type\": \"histogram\", \"x\": [-0.2941236145979744, -1.2055757622417584, 1.6739059144807003, 0.28697682921847084, 0.41395886627795436, 0.3258350572180524, 0.5252390425920379, -0.5736684755822246, -0.5700688362477726, 0.3645225874268893, -1.1647288821832336, 0.08451189819558057, -0.744180002462252, -1.2151693534115133, -1.2344417644275725, -1.2727768086178122, -1.109210674025156, 1.8561357436671402, -0.5743628582238592, -1.2869710643656933, 0.5654720433196601, -0.06184951055573469, 1.5426557670599157, 1.5183339797624478, 1.1914744908087287, 0.6123027103271466, -1.1128315368989694, 0.34211525618759664, -1.5427770588082996, -1.8095088920475255, 0.8914290648608734, 0.5707299722117781, 0.4150615465660746, -0.15779149891157998, -0.37577490575303407, -1.3493202029071392, -2.149745000938564, -0.1665954222704084, -0.14825310781359657, 0.9726743509758792, -0.4263313438545262, -0.8371332285968943, -1.00910939339172, 0.9687066851117567, -0.31949200585851995, 0.3811634222615911, -0.8701558140039154, 0.4530440030691015, 0.17712571854006096, -1.2943118538026293, -0.9440276852622483, -1.6140737385993082, -0.5820649119257266, 2.024328108515571, 0.09159763211659076, 0.8699658570083942, -1.9701241141643424, 1.7690020942672438, 0.5602034891518604, 0.45164160230701056, -0.028028443485482134, 0.3885875044711814, 0.018490601080752518, 2.8676657947150765, -0.8816260097799625, 0.5214180441747942, -0.2093671541431842, 0.415228606814977, -1.7884617684009187, -1.1882225177627814, -0.684762457408276, -1.9832688668725418, 0.9310360124815191, -0.5457278756057826, -0.710547760985368, -0.5446929238244186, -0.19630294700548082, -1.44280738406763, -0.8331241658672963, -0.45235685481235416, -0.6728883540615982, 0.3344908135970183, 0.7970971944919325, 1.3589465498265694, 1.6675265431050559, -0.24149016625430927, 0.3735431989596485, 2.327748140643649, -0.1382155746471087, -0.7712757639353897, -0.4514863772912042, -0.46245415819363367, 1.6861611281399966, 0.3070846956990549, -0.7986246032710236, -0.37716556826567615, 0.027142910172499594, -0.16862571807318036, -2.610727992542222, 1.8581627120087132]}],                        {\"barmode\": \"overlay\", \"legend\": {\"bgcolor\": \"#F5F6F9\", \"font\": {\"color\": \"#4D5663\"}}, \"paper_bgcolor\": \"#F5F6F9\", \"plot_bgcolor\": \"#F5F6F9\", \"template\": {\"data\": {\"bar\": [{\"error_x\": {\"color\": \"#2a3f5f\"}, \"error_y\": {\"color\": \"#2a3f5f\"}, \"marker\": {\"line\": {\"color\": \"#E5ECF6\", \"width\": 0.5}}, \"type\": \"bar\"}], \"barpolar\": [{\"marker\": {\"line\": {\"color\": \"#E5ECF6\", \"width\": 0.5}}, \"type\": \"barpolar\"}], \"carpet\": [{\"aaxis\": {\"endlinecolor\": \"#2a3f5f\", \"gridcolor\": \"white\", \"linecolor\": \"white\", \"minorgridcolor\": \"white\", \"startlinecolor\": \"#2a3f5f\"}, \"baxis\": {\"endlinecolor\": \"#2a3f5f\", \"gridcolor\": \"white\", \"linecolor\": \"white\", \"minorgridcolor\": \"white\", \"startlinecolor\": \"#2a3f5f\"}, \"type\": \"carpet\"}], \"choropleth\": [{\"colorbar\": {\"outlinewidth\": 0, \"ticks\": \"\"}, \"type\": \"choropleth\"}], \"contour\": [{\"colorbar\": {\"outlinewidth\": 0, \"ticks\": \"\"}, \"colorscale\": [[0.0, \"#0d0887\"], [0.1111111111111111, \"#46039f\"], [0.2222222222222222, \"#7201a8\"], [0.3333333333333333, \"#9c179e\"], [0.4444444444444444, \"#bd3786\"], [0.5555555555555556, \"#d8576b\"], [0.6666666666666666, \"#ed7953\"], [0.7777777777777778, \"#fb9f3a\"], [0.8888888888888888, \"#fdca26\"], [1.0, \"#f0f921\"]], \"type\": \"contour\"}], \"contourcarpet\": [{\"colorbar\": {\"outlinewidth\": 0, \"ticks\": \"\"}, \"type\": \"contourcarpet\"}], \"heatmap\": [{\"colorbar\": {\"outlinewidth\": 0, \"ticks\": \"\"}, \"colorscale\": [[0.0, \"#0d0887\"], [0.1111111111111111, \"#46039f\"], [0.2222222222222222, \"#7201a8\"], [0.3333333333333333, \"#9c179e\"], [0.4444444444444444, \"#bd3786\"], [0.5555555555555556, \"#d8576b\"], [0.6666666666666666, \"#ed7953\"], [0.7777777777777778, \"#fb9f3a\"], [0.8888888888888888, \"#fdca26\"], [1.0, \"#f0f921\"]], \"type\": \"heatmap\"}], \"heatmapgl\": [{\"colorbar\": {\"outlinewidth\": 0, \"ticks\": \"\"}, \"colorscale\": [[0.0, \"#0d0887\"], [0.1111111111111111, \"#46039f\"], [0.2222222222222222, \"#7201a8\"], [0.3333333333333333, \"#9c179e\"], [0.4444444444444444, \"#bd3786\"], [0.5555555555555556, \"#d8576b\"], [0.6666666666666666, \"#ed7953\"], [0.7777777777777778, \"#fb9f3a\"], [0.8888888888888888, \"#fdca26\"], [1.0, \"#f0f921\"]], \"type\": \"heatmapgl\"}], \"histogram\": [{\"marker\": {\"colorbar\": {\"outlinewidth\": 0, \"ticks\": \"\"}}, \"type\": \"histogram\"}], \"histogram2d\": [{\"colorbar\": {\"outlinewidth\": 0, \"ticks\": \"\"}, \"colorscale\": [[0.0, \"#0d0887\"], [0.1111111111111111, \"#46039f\"], [0.2222222222222222, \"#7201a8\"], [0.3333333333333333, \"#9c179e\"], [0.4444444444444444, \"#bd3786\"], [0.5555555555555556, \"#d8576b\"], [0.6666666666666666, \"#ed7953\"], [0.7777777777777778, \"#fb9f3a\"], [0.8888888888888888, \"#fdca26\"], [1.0, \"#f0f921\"]], \"type\": \"histogram2d\"}], \"histogram2dcontour\": [{\"colorbar\": {\"outlinewidth\": 0, \"ticks\": \"\"}, \"colorscale\": [[0.0, \"#0d0887\"], [0.1111111111111111, \"#46039f\"], [0.2222222222222222, \"#7201a8\"], [0.3333333333333333, \"#9c179e\"], [0.4444444444444444, \"#bd3786\"], [0.5555555555555556, \"#d8576b\"], [0.6666666666666666, \"#ed7953\"], [0.7777777777777778, \"#fb9f3a\"], [0.8888888888888888, \"#fdca26\"], [1.0, \"#f0f921\"]], \"type\": \"histogram2dcontour\"}], \"mesh3d\": [{\"colorbar\": {\"outlinewidth\": 0, \"ticks\": \"\"}, \"type\": \"mesh3d\"}], \"parcoords\": [{\"line\": {\"colorbar\": {\"outlinewidth\": 0, \"ticks\": \"\"}}, \"type\": \"parcoords\"}], \"pie\": [{\"automargin\": true, \"type\": \"pie\"}], \"scatter\": [{\"marker\": {\"colorbar\": {\"outlinewidth\": 0, \"ticks\": \"\"}}, \"type\": \"scatter\"}], \"scatter3d\": [{\"line\": {\"colorbar\": {\"outlinewidth\": 0, \"ticks\": \"\"}}, \"marker\": {\"colorbar\": {\"outlinewidth\": 0, \"ticks\": \"\"}}, \"type\": \"scatter3d\"}], \"scattercarpet\": [{\"marker\": {\"colorbar\": {\"outlinewidth\": 0, \"ticks\": \"\"}}, \"type\": \"scattercarpet\"}], \"scattergeo\": [{\"marker\": {\"colorbar\": {\"outlinewidth\": 0, \"ticks\": \"\"}}, \"type\": \"scattergeo\"}], \"scattergl\": [{\"marker\": {\"colorbar\": {\"outlinewidth\": 0, \"ticks\": \"\"}}, \"type\": \"scattergl\"}], \"scattermapbox\": [{\"marker\": {\"colorbar\": {\"outlinewidth\": 0, \"ticks\": \"\"}}, \"type\": \"scattermapbox\"}], \"scatterpolar\": [{\"marker\": {\"colorbar\": {\"outlinewidth\": 0, \"ticks\": \"\"}}, \"type\": \"scatterpolar\"}], \"scatterpolargl\": [{\"marker\": {\"colorbar\": {\"outlinewidth\": 0, \"ticks\": \"\"}}, \"type\": \"scatterpolargl\"}], \"scatterternary\": [{\"marker\": {\"colorbar\": {\"outlinewidth\": 0, \"ticks\": \"\"}}, \"type\": \"scatterternary\"}], \"surface\": [{\"colorbar\": {\"outlinewidth\": 0, \"ticks\": \"\"}, \"colorscale\": [[0.0, \"#0d0887\"], [0.1111111111111111, \"#46039f\"], [0.2222222222222222, \"#7201a8\"], [0.3333333333333333, \"#9c179e\"], [0.4444444444444444, \"#bd3786\"], [0.5555555555555556, \"#d8576b\"], [0.6666666666666666, \"#ed7953\"], [0.7777777777777778, \"#fb9f3a\"], [0.8888888888888888, \"#fdca26\"], [1.0, \"#f0f921\"]], \"type\": \"surface\"}], \"table\": [{\"cells\": {\"fill\": {\"color\": \"#EBF0F8\"}, \"line\": {\"color\": \"white\"}}, \"header\": {\"fill\": {\"color\": \"#C8D4E3\"}, \"line\": {\"color\": \"white\"}}, \"type\": \"table\"}]}, \"layout\": {\"annotationdefaults\": {\"arrowcolor\": \"#2a3f5f\", \"arrowhead\": 0, \"arrowwidth\": 1}, \"autotypenumbers\": \"strict\", \"coloraxis\": {\"colorbar\": {\"outlinewidth\": 0, \"ticks\": \"\"}}, \"colorscale\": {\"diverging\": [[0, \"#8e0152\"], [0.1, \"#c51b7d\"], [0.2, \"#de77ae\"], [0.3, \"#f1b6da\"], [0.4, \"#fde0ef\"], [0.5, \"#f7f7f7\"], [0.6, \"#e6f5d0\"], [0.7, \"#b8e186\"], [0.8, \"#7fbc41\"], [0.9, \"#4d9221\"], [1, \"#276419\"]], \"sequential\": [[0.0, \"#0d0887\"], [0.1111111111111111, \"#46039f\"], [0.2222222222222222, \"#7201a8\"], [0.3333333333333333, \"#9c179e\"], [0.4444444444444444, \"#bd3786\"], [0.5555555555555556, \"#d8576b\"], [0.6666666666666666, \"#ed7953\"], [0.7777777777777778, \"#fb9f3a\"], [0.8888888888888888, \"#fdca26\"], [1.0, \"#f0f921\"]], \"sequentialminus\": [[0.0, \"#0d0887\"], [0.1111111111111111, \"#46039f\"], [0.2222222222222222, \"#7201a8\"], [0.3333333333333333, \"#9c179e\"], [0.4444444444444444, \"#bd3786\"], [0.5555555555555556, \"#d8576b\"], [0.6666666666666666, \"#ed7953\"], [0.7777777777777778, \"#fb9f3a\"], [0.8888888888888888, \"#fdca26\"], [1.0, \"#f0f921\"]]}, \"colorway\": [\"#636efa\", \"#EF553B\", \"#00cc96\", \"#ab63fa\", \"#FFA15A\", \"#19d3f3\", \"#FF6692\", \"#B6E880\", \"#FF97FF\", \"#FECB52\"], \"font\": {\"color\": \"#2a3f5f\"}, \"geo\": {\"bgcolor\": \"white\", \"lakecolor\": \"white\", \"landcolor\": \"#E5ECF6\", \"showlakes\": true, \"showland\": true, \"subunitcolor\": \"white\"}, \"hoverlabel\": {\"align\": \"left\"}, \"hovermode\": \"closest\", \"mapbox\": {\"style\": \"light\"}, \"paper_bgcolor\": \"white\", \"plot_bgcolor\": \"#E5ECF6\", \"polar\": {\"angularaxis\": {\"gridcolor\": \"white\", \"linecolor\": \"white\", \"ticks\": \"\"}, \"bgcolor\": \"#E5ECF6\", \"radialaxis\": {\"gridcolor\": \"white\", \"linecolor\": \"white\", \"ticks\": \"\"}}, \"scene\": {\"xaxis\": {\"backgroundcolor\": \"#E5ECF6\", \"gridcolor\": \"white\", \"gridwidth\": 2, \"linecolor\": \"white\", \"showbackground\": true, \"ticks\": \"\", \"zerolinecolor\": \"white\"}, \"yaxis\": {\"backgroundcolor\": \"#E5ECF6\", \"gridcolor\": \"white\", \"gridwidth\": 2, \"linecolor\": \"white\", \"showbackground\": true, \"ticks\": \"\", \"zerolinecolor\": \"white\"}, \"zaxis\": {\"backgroundcolor\": \"#E5ECF6\", \"gridcolor\": \"white\", \"gridwidth\": 2, \"linecolor\": \"white\", \"showbackground\": true, \"ticks\": \"\", \"zerolinecolor\": \"white\"}}, \"shapedefaults\": {\"line\": {\"color\": \"#2a3f5f\"}}, \"ternary\": {\"aaxis\": {\"gridcolor\": \"white\", \"linecolor\": \"white\", \"ticks\": \"\"}, \"baxis\": {\"gridcolor\": \"white\", \"linecolor\": \"white\", \"ticks\": \"\"}, \"bgcolor\": \"#E5ECF6\", \"caxis\": {\"gridcolor\": \"white\", \"linecolor\": \"white\", \"ticks\": \"\"}}, \"title\": {\"x\": 0.05}, \"xaxis\": {\"automargin\": true, \"gridcolor\": \"white\", \"linecolor\": \"white\", \"ticks\": \"\", \"title\": {\"standoff\": 15}, \"zerolinecolor\": \"white\", \"zerolinewidth\": 2}, \"yaxis\": {\"automargin\": true, \"gridcolor\": \"white\", \"linecolor\": \"white\", \"ticks\": \"\", \"title\": {\"standoff\": 15}, \"zerolinecolor\": \"white\", \"zerolinewidth\": 2}}}, \"title\": {\"font\": {\"color\": \"#4D5663\"}}, \"xaxis\": {\"gridcolor\": \"#E1E5ED\", \"showgrid\": true, \"tickfont\": {\"color\": \"#4D5663\"}, \"title\": {\"font\": {\"color\": \"#4D5663\"}, \"text\": \"\"}, \"zerolinecolor\": \"#E1E5ED\"}, \"yaxis\": {\"gridcolor\": \"#E1E5ED\", \"showgrid\": true, \"tickfont\": {\"color\": \"#4D5663\"}, \"title\": {\"font\": {\"color\": \"#4D5663\"}, \"text\": \"\"}, \"zerolinecolor\": \"#E1E5ED\"}},                        {\"showLink\": true, \"linkText\": \"Export to plot.ly\", \"plotlyServerURL\": \"https://plot.ly\", \"responsive\": true}                    ).then(function(){\n",
       "                            \n",
       "var gd = document.getElementById('8f0cb242-45b7-45c6-8972-3e2f29096522');\n",
       "var x = new MutationObserver(function (mutations, observer) {{\n",
       "        var display = window.getComputedStyle(gd).display;\n",
       "        if (!display || display === 'none') {{\n",
       "            console.log([gd, 'removed!']);\n",
       "            Plotly.purge(gd);\n",
       "            observer.disconnect();\n",
       "        }}\n",
       "}});\n",
       "\n",
       "// Listen for the removal of the full notebook cells\n",
       "var notebookContainer = gd.closest('#notebook-container');\n",
       "if (notebookContainer) {{\n",
       "    x.observe(notebookContainer, {childList: true});\n",
       "}}\n",
       "\n",
       "// Listen for the clearing of the current output cell\n",
       "var outputEl = gd.closest('.output');\n",
       "if (outputEl) {{\n",
       "    x.observe(outputEl, {childList: true});\n",
       "}}\n",
       "\n",
       "                        })                };                });            </script>        </div>"
      ]
     },
     "metadata": {},
     "output_type": "display_data"
    }
   ],
   "source": [
    "df['A'].iplot(kind='hist', bins=50)"
   ]
  },
  {
   "cell_type": "code",
   "execution_count": 38,
   "metadata": {},
   "outputs": [
    {
     "data": {
      "application/vnd.plotly.v1+json": {
       "config": {
        "linkText": "Export to plot.ly",
        "plotlyServerURL": "https://plot.ly",
        "showLink": true
       },
       "data": [
        {
         "marker": {
          "color": [
           "rgb(255, 153, 51)",
           "rgb(55, 128, 191)",
           "rgb(50, 171, 96)",
           "rgb(128, 0, 128)",
           "rgb(219, 64, 82)",
           "rgb(0, 128, 128)",
           "rgb(255, 255, 51)",
           "rgb(128, 128, 0)",
           "rgb(251, 128, 114)",
           "rgb(128, 177, 211)"
          ],
          "line": {
           "width": 1.3
          },
          "size": [
           85,
           23,
           39,
           87,
           93,
           51,
           58,
           63,
           56,
           58,
           48,
           109,
           63,
           12,
           87,
           58,
           74,
           36,
           90,
           72,
           67,
           85,
           26,
           74,
           64,
           44,
           31,
           63,
           99,
           47,
           48,
           42,
           54,
           73,
           17,
           79,
           43,
           73,
           42,
           39,
           47,
           77,
           58,
           64,
           57,
           65,
           17,
           47,
           48,
           64,
           78,
           73,
           60,
           56,
           50,
           45,
           43,
           73,
           44,
           55,
           39,
           58,
           42,
           68,
           58,
           89,
           49,
           47,
           53,
           78,
           69,
           39,
           82,
           37,
           81,
           71,
           112,
           71,
           57,
           71,
           103,
           57,
           64,
           41,
           42,
           22,
           53,
           40,
           29,
           55,
           54,
           67,
           38,
           35,
           74,
           39,
           24,
           43,
           87,
           43
          ],
          "symbol": "circle"
         },
         "mode": "markers",
         "text": "",
         "type": "scatter",
         "x": [
          -0.2941236145979744,
          -1.2055757622417584,
          1.6739059144807003,
          0.28697682921847084,
          0.41395886627795436,
          0.3258350572180524,
          0.5252390425920379,
          -0.5736684755822246,
          -0.5700688362477726,
          0.3645225874268893,
          -1.1647288821832336,
          0.08451189819558057,
          -0.744180002462252,
          -1.2151693534115133,
          -1.2344417644275725,
          -1.2727768086178122,
          -1.109210674025156,
          1.8561357436671402,
          -0.5743628582238592,
          -1.2869710643656933,
          0.5654720433196601,
          -0.06184951055573469,
          1.5426557670599157,
          1.5183339797624478,
          1.1914744908087287,
          0.6123027103271466,
          -1.1128315368989694,
          0.34211525618759664,
          -1.5427770588082996,
          -1.8095088920475255,
          0.8914290648608734,
          0.5707299722117781,
          0.4150615465660746,
          -0.15779149891157998,
          -0.37577490575303407,
          -1.3493202029071392,
          -2.149745000938564,
          -0.1665954222704084,
          -0.14825310781359657,
          0.9726743509758792,
          -0.4263313438545262,
          -0.8371332285968943,
          -1.00910939339172,
          0.9687066851117567,
          -0.31949200585851995,
          0.3811634222615911,
          -0.8701558140039154,
          0.4530440030691015,
          0.17712571854006096,
          -1.2943118538026293,
          -0.9440276852622483,
          -1.6140737385993082,
          -0.5820649119257266,
          2.024328108515571,
          0.09159763211659076,
          0.8699658570083942,
          -1.9701241141643424,
          1.7690020942672438,
          0.5602034891518604,
          0.45164160230701056,
          -0.028028443485482134,
          0.3885875044711814,
          0.018490601080752518,
          2.8676657947150765,
          -0.8816260097799625,
          0.5214180441747942,
          -0.2093671541431842,
          0.415228606814977,
          -1.7884617684009187,
          -1.1882225177627814,
          -0.684762457408276,
          -1.9832688668725418,
          0.9310360124815191,
          -0.5457278756057826,
          -0.710547760985368,
          -0.5446929238244186,
          -0.19630294700548082,
          -1.44280738406763,
          -0.8331241658672963,
          -0.45235685481235416,
          -0.6728883540615982,
          0.3344908135970183,
          0.7970971944919325,
          1.3589465498265694,
          1.6675265431050559,
          -0.24149016625430927,
          0.3735431989596485,
          2.327748140643649,
          -0.1382155746471087,
          -0.7712757639353897,
          -0.4514863772912042,
          -0.46245415819363367,
          1.6861611281399966,
          0.3070846956990549,
          -0.7986246032710236,
          -0.37716556826567615,
          0.027142910172499594,
          -0.16862571807318036,
          -2.610727992542222,
          1.8581627120087132
         ],
         "y": [
          1.1232035304834727,
          -0.027646444578447983,
          -0.08398900118924442,
          -0.15149207680460008,
          1.3297811358905003,
          -0.3588283929141447,
          -0.09241960340912399,
          0.4144283948863819,
          -0.3242812375394934,
          2.3983374404567153,
          0.06909517875539394,
          -0.9047885203720661,
          -0.3265029067093802,
          1.7107990386995107,
          -0.10882256063664028,
          0.4897875303308817,
          -1.0135894728524193,
          1.469438190961238,
          0.036116091249880994,
          -0.8489964394716256,
          1.1045547892308794,
          -2.733992479927418,
          0.32155595967427597,
          1.1730656687096301,
          0.08919563895231453,
          -0.25087110936678997,
          0.3482220702050979,
          -1.7806719298663185,
          -0.4513396599289586,
          -1.9081904190159555,
          -0.3819735660336761,
          0.8622929704051494,
          0.6643974389859816,
          -0.10482717044736548,
          -0.2978187641213,
          0.38498283608367456,
          -0.2923058128870225,
          -1.8272050682618728,
          0.9994086669080886,
          0.22725335504437277,
          0.543937236379081,
          0.07227911719372908,
          1.5237616967102592,
          -0.9532437020079461,
          -0.15113803558243055,
          0.2617176444724291,
          -0.24506613212165868,
          -0.5207569261079663,
          -0.8532011988899243,
          1.0864728378980126,
          0.4654840803605472,
          0.09625462622839667,
          -0.7357046380750296,
          0.030202365540960157,
          0.9262509241518855,
          1.9593338921574195,
          -1.3661245536871027,
          0.7323140351673906,
          0.006607641087876381,
          1.7473651609919887,
          0.4219988261940681,
          1.4191862517842977,
          -0.7566038891150196,
          -0.41425090121806823,
          3.0035553718893238,
          -1.3449509112854081,
          -0.44909665312229585,
          -0.14484253474706837,
          -1.62510198227339,
          0.513343071179874,
          0.10057721954931076,
          -0.3347821761196757,
          -0.2056135190586056,
          1.522708283114086,
          -0.9610873885231529,
          0.3801472992208391,
          -0.26196111219286417,
          1.5602775206755128,
          -0.5837342554198951,
          0.42352589486444703,
          -0.3595438735331036,
          0.42050074494523526,
          0.48865650230846835,
          -0.4435686363074531,
          -1.2356577354562504,
          -0.040859602804632925,
          0.559282291459184,
          0.12464642337136354,
          -0.15108892936597226,
          1.7478728236278007,
          -0.30778670631463906,
          -0.19881792903994983,
          0.9365043151652537,
          0.0853259717415844,
          0.4357469077004661,
          0.9373712100633341,
          0.8836339180532669,
          -1.1235502320579935,
          -0.9786059330900005,
          -0.45891658939469926
         ]
        }
       ],
       "layout": {
        "legend": {
         "bgcolor": "#F5F6F9",
         "font": {
          "color": "#4D5663"
         }
        },
        "paper_bgcolor": "#F5F6F9",
        "plot_bgcolor": "#F5F6F9",
        "template": {
         "data": {
          "bar": [
           {
            "error_x": {
             "color": "#2a3f5f"
            },
            "error_y": {
             "color": "#2a3f5f"
            },
            "marker": {
             "line": {
              "color": "#E5ECF6",
              "width": 0.5
             }
            },
            "type": "bar"
           }
          ],
          "barpolar": [
           {
            "marker": {
             "line": {
              "color": "#E5ECF6",
              "width": 0.5
             }
            },
            "type": "barpolar"
           }
          ],
          "carpet": [
           {
            "aaxis": {
             "endlinecolor": "#2a3f5f",
             "gridcolor": "white",
             "linecolor": "white",
             "minorgridcolor": "white",
             "startlinecolor": "#2a3f5f"
            },
            "baxis": {
             "endlinecolor": "#2a3f5f",
             "gridcolor": "white",
             "linecolor": "white",
             "minorgridcolor": "white",
             "startlinecolor": "#2a3f5f"
            },
            "type": "carpet"
           }
          ],
          "choropleth": [
           {
            "colorbar": {
             "outlinewidth": 0,
             "ticks": ""
            },
            "type": "choropleth"
           }
          ],
          "contour": [
           {
            "colorbar": {
             "outlinewidth": 0,
             "ticks": ""
            },
            "colorscale": [
             [
              0,
              "#0d0887"
             ],
             [
              0.1111111111111111,
              "#46039f"
             ],
             [
              0.2222222222222222,
              "#7201a8"
             ],
             [
              0.3333333333333333,
              "#9c179e"
             ],
             [
              0.4444444444444444,
              "#bd3786"
             ],
             [
              0.5555555555555556,
              "#d8576b"
             ],
             [
              0.6666666666666666,
              "#ed7953"
             ],
             [
              0.7777777777777778,
              "#fb9f3a"
             ],
             [
              0.8888888888888888,
              "#fdca26"
             ],
             [
              1,
              "#f0f921"
             ]
            ],
            "type": "contour"
           }
          ],
          "contourcarpet": [
           {
            "colorbar": {
             "outlinewidth": 0,
             "ticks": ""
            },
            "type": "contourcarpet"
           }
          ],
          "heatmap": [
           {
            "colorbar": {
             "outlinewidth": 0,
             "ticks": ""
            },
            "colorscale": [
             [
              0,
              "#0d0887"
             ],
             [
              0.1111111111111111,
              "#46039f"
             ],
             [
              0.2222222222222222,
              "#7201a8"
             ],
             [
              0.3333333333333333,
              "#9c179e"
             ],
             [
              0.4444444444444444,
              "#bd3786"
             ],
             [
              0.5555555555555556,
              "#d8576b"
             ],
             [
              0.6666666666666666,
              "#ed7953"
             ],
             [
              0.7777777777777778,
              "#fb9f3a"
             ],
             [
              0.8888888888888888,
              "#fdca26"
             ],
             [
              1,
              "#f0f921"
             ]
            ],
            "type": "heatmap"
           }
          ],
          "heatmapgl": [
           {
            "colorbar": {
             "outlinewidth": 0,
             "ticks": ""
            },
            "colorscale": [
             [
              0,
              "#0d0887"
             ],
             [
              0.1111111111111111,
              "#46039f"
             ],
             [
              0.2222222222222222,
              "#7201a8"
             ],
             [
              0.3333333333333333,
              "#9c179e"
             ],
             [
              0.4444444444444444,
              "#bd3786"
             ],
             [
              0.5555555555555556,
              "#d8576b"
             ],
             [
              0.6666666666666666,
              "#ed7953"
             ],
             [
              0.7777777777777778,
              "#fb9f3a"
             ],
             [
              0.8888888888888888,
              "#fdca26"
             ],
             [
              1,
              "#f0f921"
             ]
            ],
            "type": "heatmapgl"
           }
          ],
          "histogram": [
           {
            "marker": {
             "colorbar": {
              "outlinewidth": 0,
              "ticks": ""
             }
            },
            "type": "histogram"
           }
          ],
          "histogram2d": [
           {
            "colorbar": {
             "outlinewidth": 0,
             "ticks": ""
            },
            "colorscale": [
             [
              0,
              "#0d0887"
             ],
             [
              0.1111111111111111,
              "#46039f"
             ],
             [
              0.2222222222222222,
              "#7201a8"
             ],
             [
              0.3333333333333333,
              "#9c179e"
             ],
             [
              0.4444444444444444,
              "#bd3786"
             ],
             [
              0.5555555555555556,
              "#d8576b"
             ],
             [
              0.6666666666666666,
              "#ed7953"
             ],
             [
              0.7777777777777778,
              "#fb9f3a"
             ],
             [
              0.8888888888888888,
              "#fdca26"
             ],
             [
              1,
              "#f0f921"
             ]
            ],
            "type": "histogram2d"
           }
          ],
          "histogram2dcontour": [
           {
            "colorbar": {
             "outlinewidth": 0,
             "ticks": ""
            },
            "colorscale": [
             [
              0,
              "#0d0887"
             ],
             [
              0.1111111111111111,
              "#46039f"
             ],
             [
              0.2222222222222222,
              "#7201a8"
             ],
             [
              0.3333333333333333,
              "#9c179e"
             ],
             [
              0.4444444444444444,
              "#bd3786"
             ],
             [
              0.5555555555555556,
              "#d8576b"
             ],
             [
              0.6666666666666666,
              "#ed7953"
             ],
             [
              0.7777777777777778,
              "#fb9f3a"
             ],
             [
              0.8888888888888888,
              "#fdca26"
             ],
             [
              1,
              "#f0f921"
             ]
            ],
            "type": "histogram2dcontour"
           }
          ],
          "mesh3d": [
           {
            "colorbar": {
             "outlinewidth": 0,
             "ticks": ""
            },
            "type": "mesh3d"
           }
          ],
          "parcoords": [
           {
            "line": {
             "colorbar": {
              "outlinewidth": 0,
              "ticks": ""
             }
            },
            "type": "parcoords"
           }
          ],
          "pie": [
           {
            "automargin": true,
            "type": "pie"
           }
          ],
          "scatter": [
           {
            "marker": {
             "colorbar": {
              "outlinewidth": 0,
              "ticks": ""
             }
            },
            "type": "scatter"
           }
          ],
          "scatter3d": [
           {
            "line": {
             "colorbar": {
              "outlinewidth": 0,
              "ticks": ""
             }
            },
            "marker": {
             "colorbar": {
              "outlinewidth": 0,
              "ticks": ""
             }
            },
            "type": "scatter3d"
           }
          ],
          "scattercarpet": [
           {
            "marker": {
             "colorbar": {
              "outlinewidth": 0,
              "ticks": ""
             }
            },
            "type": "scattercarpet"
           }
          ],
          "scattergeo": [
           {
            "marker": {
             "colorbar": {
              "outlinewidth": 0,
              "ticks": ""
             }
            },
            "type": "scattergeo"
           }
          ],
          "scattergl": [
           {
            "marker": {
             "colorbar": {
              "outlinewidth": 0,
              "ticks": ""
             }
            },
            "type": "scattergl"
           }
          ],
          "scattermapbox": [
           {
            "marker": {
             "colorbar": {
              "outlinewidth": 0,
              "ticks": ""
             }
            },
            "type": "scattermapbox"
           }
          ],
          "scatterpolar": [
           {
            "marker": {
             "colorbar": {
              "outlinewidth": 0,
              "ticks": ""
             }
            },
            "type": "scatterpolar"
           }
          ],
          "scatterpolargl": [
           {
            "marker": {
             "colorbar": {
              "outlinewidth": 0,
              "ticks": ""
             }
            },
            "type": "scatterpolargl"
           }
          ],
          "scatterternary": [
           {
            "marker": {
             "colorbar": {
              "outlinewidth": 0,
              "ticks": ""
             }
            },
            "type": "scatterternary"
           }
          ],
          "surface": [
           {
            "colorbar": {
             "outlinewidth": 0,
             "ticks": ""
            },
            "colorscale": [
             [
              0,
              "#0d0887"
             ],
             [
              0.1111111111111111,
              "#46039f"
             ],
             [
              0.2222222222222222,
              "#7201a8"
             ],
             [
              0.3333333333333333,
              "#9c179e"
             ],
             [
              0.4444444444444444,
              "#bd3786"
             ],
             [
              0.5555555555555556,
              "#d8576b"
             ],
             [
              0.6666666666666666,
              "#ed7953"
             ],
             [
              0.7777777777777778,
              "#fb9f3a"
             ],
             [
              0.8888888888888888,
              "#fdca26"
             ],
             [
              1,
              "#f0f921"
             ]
            ],
            "type": "surface"
           }
          ],
          "table": [
           {
            "cells": {
             "fill": {
              "color": "#EBF0F8"
             },
             "line": {
              "color": "white"
             }
            },
            "header": {
             "fill": {
              "color": "#C8D4E3"
             },
             "line": {
              "color": "white"
             }
            },
            "type": "table"
           }
          ]
         },
         "layout": {
          "annotationdefaults": {
           "arrowcolor": "#2a3f5f",
           "arrowhead": 0,
           "arrowwidth": 1
          },
          "autotypenumbers": "strict",
          "coloraxis": {
           "colorbar": {
            "outlinewidth": 0,
            "ticks": ""
           }
          },
          "colorscale": {
           "diverging": [
            [
             0,
             "#8e0152"
            ],
            [
             0.1,
             "#c51b7d"
            ],
            [
             0.2,
             "#de77ae"
            ],
            [
             0.3,
             "#f1b6da"
            ],
            [
             0.4,
             "#fde0ef"
            ],
            [
             0.5,
             "#f7f7f7"
            ],
            [
             0.6,
             "#e6f5d0"
            ],
            [
             0.7,
             "#b8e186"
            ],
            [
             0.8,
             "#7fbc41"
            ],
            [
             0.9,
             "#4d9221"
            ],
            [
             1,
             "#276419"
            ]
           ],
           "sequential": [
            [
             0,
             "#0d0887"
            ],
            [
             0.1111111111111111,
             "#46039f"
            ],
            [
             0.2222222222222222,
             "#7201a8"
            ],
            [
             0.3333333333333333,
             "#9c179e"
            ],
            [
             0.4444444444444444,
             "#bd3786"
            ],
            [
             0.5555555555555556,
             "#d8576b"
            ],
            [
             0.6666666666666666,
             "#ed7953"
            ],
            [
             0.7777777777777778,
             "#fb9f3a"
            ],
            [
             0.8888888888888888,
             "#fdca26"
            ],
            [
             1,
             "#f0f921"
            ]
           ],
           "sequentialminus": [
            [
             0,
             "#0d0887"
            ],
            [
             0.1111111111111111,
             "#46039f"
            ],
            [
             0.2222222222222222,
             "#7201a8"
            ],
            [
             0.3333333333333333,
             "#9c179e"
            ],
            [
             0.4444444444444444,
             "#bd3786"
            ],
            [
             0.5555555555555556,
             "#d8576b"
            ],
            [
             0.6666666666666666,
             "#ed7953"
            ],
            [
             0.7777777777777778,
             "#fb9f3a"
            ],
            [
             0.8888888888888888,
             "#fdca26"
            ],
            [
             1,
             "#f0f921"
            ]
           ]
          },
          "colorway": [
           "#636efa",
           "#EF553B",
           "#00cc96",
           "#ab63fa",
           "#FFA15A",
           "#19d3f3",
           "#FF6692",
           "#B6E880",
           "#FF97FF",
           "#FECB52"
          ],
          "font": {
           "color": "#2a3f5f"
          },
          "geo": {
           "bgcolor": "white",
           "lakecolor": "white",
           "landcolor": "#E5ECF6",
           "showlakes": true,
           "showland": true,
           "subunitcolor": "white"
          },
          "hoverlabel": {
           "align": "left"
          },
          "hovermode": "closest",
          "mapbox": {
           "style": "light"
          },
          "paper_bgcolor": "white",
          "plot_bgcolor": "#E5ECF6",
          "polar": {
           "angularaxis": {
            "gridcolor": "white",
            "linecolor": "white",
            "ticks": ""
           },
           "bgcolor": "#E5ECF6",
           "radialaxis": {
            "gridcolor": "white",
            "linecolor": "white",
            "ticks": ""
           }
          },
          "scene": {
           "xaxis": {
            "backgroundcolor": "#E5ECF6",
            "gridcolor": "white",
            "gridwidth": 2,
            "linecolor": "white",
            "showbackground": true,
            "ticks": "",
            "zerolinecolor": "white"
           },
           "yaxis": {
            "backgroundcolor": "#E5ECF6",
            "gridcolor": "white",
            "gridwidth": 2,
            "linecolor": "white",
            "showbackground": true,
            "ticks": "",
            "zerolinecolor": "white"
           },
           "zaxis": {
            "backgroundcolor": "#E5ECF6",
            "gridcolor": "white",
            "gridwidth": 2,
            "linecolor": "white",
            "showbackground": true,
            "ticks": "",
            "zerolinecolor": "white"
           }
          },
          "shapedefaults": {
           "line": {
            "color": "#2a3f5f"
           }
          },
          "ternary": {
           "aaxis": {
            "gridcolor": "white",
            "linecolor": "white",
            "ticks": ""
           },
           "baxis": {
            "gridcolor": "white",
            "linecolor": "white",
            "ticks": ""
           },
           "bgcolor": "#E5ECF6",
           "caxis": {
            "gridcolor": "white",
            "linecolor": "white",
            "ticks": ""
           }
          },
          "title": {
           "x": 0.05
          },
          "xaxis": {
           "automargin": true,
           "gridcolor": "white",
           "linecolor": "white",
           "ticks": "",
           "title": {
            "standoff": 15
           },
           "zerolinecolor": "white",
           "zerolinewidth": 2
          },
          "yaxis": {
           "automargin": true,
           "gridcolor": "white",
           "linecolor": "white",
           "ticks": "",
           "title": {
            "standoff": 15
           },
           "zerolinecolor": "white",
           "zerolinewidth": 2
          }
         }
        },
        "title": {
         "font": {
          "color": "#4D5663"
         }
        },
        "xaxis": {
         "gridcolor": "#E1E5ED",
         "showgrid": true,
         "tickfont": {
          "color": "#4D5663"
         },
         "title": {
          "font": {
           "color": "#4D5663"
          },
          "text": ""
         },
         "zerolinecolor": "#E1E5ED"
        },
        "yaxis": {
         "gridcolor": "#E1E5ED",
         "showgrid": true,
         "tickfont": {
          "color": "#4D5663"
         },
         "title": {
          "font": {
           "color": "#4D5663"
          },
          "text": ""
         },
         "zerolinecolor": "#E1E5ED"
        }
       }
      },
      "text/html": [
       "<div>                            <div id=\"f4e4abfc-3f5c-4beb-b1b0-c8c08a8da004\" class=\"plotly-graph-div\" style=\"height:525px; width:100%;\"></div>            <script type=\"text/javascript\">                require([\"plotly\"], function(Plotly) {                    window.PLOTLYENV=window.PLOTLYENV || {};\n",
       "                    window.PLOTLYENV.BASE_URL='https://plot.ly';                                    if (document.getElementById(\"f4e4abfc-3f5c-4beb-b1b0-c8c08a8da004\")) {                    Plotly.newPlot(                        \"f4e4abfc-3f5c-4beb-b1b0-c8c08a8da004\",                        [{\"marker\": {\"color\": [\"rgb(255, 153, 51)\", \"rgb(55, 128, 191)\", \"rgb(50, 171, 96)\", \"rgb(128, 0, 128)\", \"rgb(219, 64, 82)\", \"rgb(0, 128, 128)\", \"rgb(255, 255, 51)\", \"rgb(128, 128, 0)\", \"rgb(251, 128, 114)\", \"rgb(128, 177, 211)\"], \"line\": {\"width\": 1.3}, \"size\": [85, 23, 39, 87, 93, 51, 58, 63, 56, 58, 48, 109, 63, 12, 87, 58, 74, 36, 90, 72, 67, 85, 26, 74, 64, 44, 31, 63, 99, 47, 48, 42, 54, 73, 17, 79, 43, 73, 42, 39, 47, 77, 58, 64, 57, 65, 17, 47, 48, 64, 78, 73, 60, 56, 50, 45, 43, 73, 44, 55, 39, 58, 42, 68, 58, 89, 49, 47, 53, 78, 69, 39, 82, 37, 81, 71, 112, 71, 57, 71, 103, 57, 64, 41, 42, 22, 53, 40, 29, 55, 54, 67, 38, 35, 74, 39, 24, 43, 87, 43], \"symbol\": \"circle\"}, \"mode\": \"markers\", \"text\": \"\", \"type\": \"scatter\", \"x\": [-0.2941236145979744, -1.2055757622417584, 1.6739059144807003, 0.28697682921847084, 0.41395886627795436, 0.3258350572180524, 0.5252390425920379, -0.5736684755822246, -0.5700688362477726, 0.3645225874268893, -1.1647288821832336, 0.08451189819558057, -0.744180002462252, -1.2151693534115133, -1.2344417644275725, -1.2727768086178122, -1.109210674025156, 1.8561357436671402, -0.5743628582238592, -1.2869710643656933, 0.5654720433196601, -0.06184951055573469, 1.5426557670599157, 1.5183339797624478, 1.1914744908087287, 0.6123027103271466, -1.1128315368989694, 0.34211525618759664, -1.5427770588082996, -1.8095088920475255, 0.8914290648608734, 0.5707299722117781, 0.4150615465660746, -0.15779149891157998, -0.37577490575303407, -1.3493202029071392, -2.149745000938564, -0.1665954222704084, -0.14825310781359657, 0.9726743509758792, -0.4263313438545262, -0.8371332285968943, -1.00910939339172, 0.9687066851117567, -0.31949200585851995, 0.3811634222615911, -0.8701558140039154, 0.4530440030691015, 0.17712571854006096, -1.2943118538026293, -0.9440276852622483, -1.6140737385993082, -0.5820649119257266, 2.024328108515571, 0.09159763211659076, 0.8699658570083942, -1.9701241141643424, 1.7690020942672438, 0.5602034891518604, 0.45164160230701056, -0.028028443485482134, 0.3885875044711814, 0.018490601080752518, 2.8676657947150765, -0.8816260097799625, 0.5214180441747942, -0.2093671541431842, 0.415228606814977, -1.7884617684009187, -1.1882225177627814, -0.684762457408276, -1.9832688668725418, 0.9310360124815191, -0.5457278756057826, -0.710547760985368, -0.5446929238244186, -0.19630294700548082, -1.44280738406763, -0.8331241658672963, -0.45235685481235416, -0.6728883540615982, 0.3344908135970183, 0.7970971944919325, 1.3589465498265694, 1.6675265431050559, -0.24149016625430927, 0.3735431989596485, 2.327748140643649, -0.1382155746471087, -0.7712757639353897, -0.4514863772912042, -0.46245415819363367, 1.6861611281399966, 0.3070846956990549, -0.7986246032710236, -0.37716556826567615, 0.027142910172499594, -0.16862571807318036, -2.610727992542222, 1.8581627120087132], \"y\": [1.1232035304834727, -0.027646444578447983, -0.08398900118924442, -0.15149207680460008, 1.3297811358905003, -0.3588283929141447, -0.09241960340912399, 0.4144283948863819, -0.3242812375394934, 2.3983374404567153, 0.06909517875539394, -0.9047885203720661, -0.3265029067093802, 1.7107990386995107, -0.10882256063664028, 0.4897875303308817, -1.0135894728524193, 1.469438190961238, 0.036116091249880994, -0.8489964394716256, 1.1045547892308794, -2.733992479927418, 0.32155595967427597, 1.1730656687096301, 0.08919563895231453, -0.25087110936678997, 0.3482220702050979, -1.7806719298663185, -0.4513396599289586, -1.9081904190159555, -0.3819735660336761, 0.8622929704051494, 0.6643974389859816, -0.10482717044736548, -0.2978187641213, 0.38498283608367456, -0.2923058128870225, -1.8272050682618728, 0.9994086669080886, 0.22725335504437277, 0.543937236379081, 0.07227911719372908, 1.5237616967102592, -0.9532437020079461, -0.15113803558243055, 0.2617176444724291, -0.24506613212165868, -0.5207569261079663, -0.8532011988899243, 1.0864728378980126, 0.4654840803605472, 0.09625462622839667, -0.7357046380750296, 0.030202365540960157, 0.9262509241518855, 1.9593338921574195, -1.3661245536871027, 0.7323140351673906, 0.006607641087876381, 1.7473651609919887, 0.4219988261940681, 1.4191862517842977, -0.7566038891150196, -0.41425090121806823, 3.0035553718893238, -1.3449509112854081, -0.44909665312229585, -0.14484253474706837, -1.62510198227339, 0.513343071179874, 0.10057721954931076, -0.3347821761196757, -0.2056135190586056, 1.522708283114086, -0.9610873885231529, 0.3801472992208391, -0.26196111219286417, 1.5602775206755128, -0.5837342554198951, 0.42352589486444703, -0.3595438735331036, 0.42050074494523526, 0.48865650230846835, -0.4435686363074531, -1.2356577354562504, -0.040859602804632925, 0.559282291459184, 0.12464642337136354, -0.15108892936597226, 1.7478728236278007, -0.30778670631463906, -0.19881792903994983, 0.9365043151652537, 0.0853259717415844, 0.4357469077004661, 0.9373712100633341, 0.8836339180532669, -1.1235502320579935, -0.9786059330900005, -0.45891658939469926]}],                        {\"legend\": {\"bgcolor\": \"#F5F6F9\", \"font\": {\"color\": \"#4D5663\"}}, \"paper_bgcolor\": \"#F5F6F9\", \"plot_bgcolor\": \"#F5F6F9\", \"template\": {\"data\": {\"bar\": [{\"error_x\": {\"color\": \"#2a3f5f\"}, \"error_y\": {\"color\": \"#2a3f5f\"}, \"marker\": {\"line\": {\"color\": \"#E5ECF6\", \"width\": 0.5}}, \"type\": \"bar\"}], \"barpolar\": [{\"marker\": {\"line\": {\"color\": \"#E5ECF6\", \"width\": 0.5}}, \"type\": \"barpolar\"}], \"carpet\": [{\"aaxis\": {\"endlinecolor\": \"#2a3f5f\", \"gridcolor\": \"white\", \"linecolor\": \"white\", \"minorgridcolor\": \"white\", \"startlinecolor\": \"#2a3f5f\"}, \"baxis\": {\"endlinecolor\": \"#2a3f5f\", \"gridcolor\": \"white\", \"linecolor\": \"white\", \"minorgridcolor\": \"white\", \"startlinecolor\": \"#2a3f5f\"}, \"type\": \"carpet\"}], \"choropleth\": [{\"colorbar\": {\"outlinewidth\": 0, \"ticks\": \"\"}, \"type\": \"choropleth\"}], \"contour\": [{\"colorbar\": {\"outlinewidth\": 0, \"ticks\": \"\"}, \"colorscale\": [[0.0, \"#0d0887\"], [0.1111111111111111, \"#46039f\"], [0.2222222222222222, \"#7201a8\"], [0.3333333333333333, \"#9c179e\"], [0.4444444444444444, \"#bd3786\"], [0.5555555555555556, \"#d8576b\"], [0.6666666666666666, \"#ed7953\"], [0.7777777777777778, \"#fb9f3a\"], [0.8888888888888888, \"#fdca26\"], [1.0, \"#f0f921\"]], \"type\": \"contour\"}], \"contourcarpet\": [{\"colorbar\": {\"outlinewidth\": 0, \"ticks\": \"\"}, \"type\": \"contourcarpet\"}], \"heatmap\": [{\"colorbar\": {\"outlinewidth\": 0, \"ticks\": \"\"}, \"colorscale\": [[0.0, \"#0d0887\"], [0.1111111111111111, \"#46039f\"], [0.2222222222222222, \"#7201a8\"], [0.3333333333333333, \"#9c179e\"], [0.4444444444444444, \"#bd3786\"], [0.5555555555555556, \"#d8576b\"], [0.6666666666666666, \"#ed7953\"], [0.7777777777777778, \"#fb9f3a\"], [0.8888888888888888, \"#fdca26\"], [1.0, \"#f0f921\"]], \"type\": \"heatmap\"}], \"heatmapgl\": [{\"colorbar\": {\"outlinewidth\": 0, \"ticks\": \"\"}, \"colorscale\": [[0.0, \"#0d0887\"], [0.1111111111111111, \"#46039f\"], [0.2222222222222222, \"#7201a8\"], [0.3333333333333333, \"#9c179e\"], [0.4444444444444444, \"#bd3786\"], [0.5555555555555556, \"#d8576b\"], [0.6666666666666666, \"#ed7953\"], [0.7777777777777778, \"#fb9f3a\"], [0.8888888888888888, \"#fdca26\"], [1.0, \"#f0f921\"]], \"type\": \"heatmapgl\"}], \"histogram\": [{\"marker\": {\"colorbar\": {\"outlinewidth\": 0, \"ticks\": \"\"}}, \"type\": \"histogram\"}], \"histogram2d\": [{\"colorbar\": {\"outlinewidth\": 0, \"ticks\": \"\"}, \"colorscale\": [[0.0, \"#0d0887\"], [0.1111111111111111, \"#46039f\"], [0.2222222222222222, \"#7201a8\"], [0.3333333333333333, \"#9c179e\"], [0.4444444444444444, \"#bd3786\"], [0.5555555555555556, \"#d8576b\"], [0.6666666666666666, \"#ed7953\"], [0.7777777777777778, \"#fb9f3a\"], [0.8888888888888888, \"#fdca26\"], [1.0, \"#f0f921\"]], \"type\": \"histogram2d\"}], \"histogram2dcontour\": [{\"colorbar\": {\"outlinewidth\": 0, \"ticks\": \"\"}, \"colorscale\": [[0.0, \"#0d0887\"], [0.1111111111111111, \"#46039f\"], [0.2222222222222222, \"#7201a8\"], [0.3333333333333333, \"#9c179e\"], [0.4444444444444444, \"#bd3786\"], [0.5555555555555556, \"#d8576b\"], [0.6666666666666666, \"#ed7953\"], [0.7777777777777778, \"#fb9f3a\"], [0.8888888888888888, \"#fdca26\"], [1.0, \"#f0f921\"]], \"type\": \"histogram2dcontour\"}], \"mesh3d\": [{\"colorbar\": {\"outlinewidth\": 0, \"ticks\": \"\"}, \"type\": \"mesh3d\"}], \"parcoords\": [{\"line\": {\"colorbar\": {\"outlinewidth\": 0, \"ticks\": \"\"}}, \"type\": \"parcoords\"}], \"pie\": [{\"automargin\": true, \"type\": \"pie\"}], \"scatter\": [{\"marker\": {\"colorbar\": {\"outlinewidth\": 0, \"ticks\": \"\"}}, \"type\": \"scatter\"}], \"scatter3d\": [{\"line\": {\"colorbar\": {\"outlinewidth\": 0, \"ticks\": \"\"}}, \"marker\": {\"colorbar\": {\"outlinewidth\": 0, \"ticks\": \"\"}}, \"type\": \"scatter3d\"}], \"scattercarpet\": [{\"marker\": {\"colorbar\": {\"outlinewidth\": 0, \"ticks\": \"\"}}, \"type\": \"scattercarpet\"}], \"scattergeo\": [{\"marker\": {\"colorbar\": {\"outlinewidth\": 0, \"ticks\": \"\"}}, \"type\": \"scattergeo\"}], \"scattergl\": [{\"marker\": {\"colorbar\": {\"outlinewidth\": 0, \"ticks\": \"\"}}, \"type\": \"scattergl\"}], \"scattermapbox\": [{\"marker\": {\"colorbar\": {\"outlinewidth\": 0, \"ticks\": \"\"}}, \"type\": \"scattermapbox\"}], \"scatterpolar\": [{\"marker\": {\"colorbar\": {\"outlinewidth\": 0, \"ticks\": \"\"}}, \"type\": \"scatterpolar\"}], \"scatterpolargl\": [{\"marker\": {\"colorbar\": {\"outlinewidth\": 0, \"ticks\": \"\"}}, \"type\": \"scatterpolargl\"}], \"scatterternary\": [{\"marker\": {\"colorbar\": {\"outlinewidth\": 0, \"ticks\": \"\"}}, \"type\": \"scatterternary\"}], \"surface\": [{\"colorbar\": {\"outlinewidth\": 0, \"ticks\": \"\"}, \"colorscale\": [[0.0, \"#0d0887\"], [0.1111111111111111, \"#46039f\"], [0.2222222222222222, \"#7201a8\"], [0.3333333333333333, \"#9c179e\"], [0.4444444444444444, \"#bd3786\"], [0.5555555555555556, \"#d8576b\"], [0.6666666666666666, \"#ed7953\"], [0.7777777777777778, \"#fb9f3a\"], [0.8888888888888888, \"#fdca26\"], [1.0, \"#f0f921\"]], \"type\": \"surface\"}], \"table\": [{\"cells\": {\"fill\": {\"color\": \"#EBF0F8\"}, \"line\": {\"color\": \"white\"}}, \"header\": {\"fill\": {\"color\": \"#C8D4E3\"}, \"line\": {\"color\": \"white\"}}, \"type\": \"table\"}]}, \"layout\": {\"annotationdefaults\": {\"arrowcolor\": \"#2a3f5f\", \"arrowhead\": 0, \"arrowwidth\": 1}, \"autotypenumbers\": \"strict\", \"coloraxis\": {\"colorbar\": {\"outlinewidth\": 0, \"ticks\": \"\"}}, \"colorscale\": {\"diverging\": [[0, \"#8e0152\"], [0.1, \"#c51b7d\"], [0.2, \"#de77ae\"], [0.3, \"#f1b6da\"], [0.4, \"#fde0ef\"], [0.5, \"#f7f7f7\"], [0.6, \"#e6f5d0\"], [0.7, \"#b8e186\"], [0.8, \"#7fbc41\"], [0.9, \"#4d9221\"], [1, \"#276419\"]], \"sequential\": [[0.0, \"#0d0887\"], [0.1111111111111111, \"#46039f\"], [0.2222222222222222, \"#7201a8\"], [0.3333333333333333, \"#9c179e\"], [0.4444444444444444, \"#bd3786\"], [0.5555555555555556, \"#d8576b\"], [0.6666666666666666, \"#ed7953\"], [0.7777777777777778, \"#fb9f3a\"], [0.8888888888888888, \"#fdca26\"], [1.0, \"#f0f921\"]], \"sequentialminus\": [[0.0, \"#0d0887\"], [0.1111111111111111, \"#46039f\"], [0.2222222222222222, \"#7201a8\"], [0.3333333333333333, \"#9c179e\"], [0.4444444444444444, \"#bd3786\"], [0.5555555555555556, \"#d8576b\"], [0.6666666666666666, \"#ed7953\"], [0.7777777777777778, \"#fb9f3a\"], [0.8888888888888888, \"#fdca26\"], [1.0, \"#f0f921\"]]}, \"colorway\": [\"#636efa\", \"#EF553B\", \"#00cc96\", \"#ab63fa\", \"#FFA15A\", \"#19d3f3\", \"#FF6692\", \"#B6E880\", \"#FF97FF\", \"#FECB52\"], \"font\": {\"color\": \"#2a3f5f\"}, \"geo\": {\"bgcolor\": \"white\", \"lakecolor\": \"white\", \"landcolor\": \"#E5ECF6\", \"showlakes\": true, \"showland\": true, \"subunitcolor\": \"white\"}, \"hoverlabel\": {\"align\": \"left\"}, \"hovermode\": \"closest\", \"mapbox\": {\"style\": \"light\"}, \"paper_bgcolor\": \"white\", \"plot_bgcolor\": \"#E5ECF6\", \"polar\": {\"angularaxis\": {\"gridcolor\": \"white\", \"linecolor\": \"white\", \"ticks\": \"\"}, \"bgcolor\": \"#E5ECF6\", \"radialaxis\": {\"gridcolor\": \"white\", \"linecolor\": \"white\", \"ticks\": \"\"}}, \"scene\": {\"xaxis\": {\"backgroundcolor\": \"#E5ECF6\", \"gridcolor\": \"white\", \"gridwidth\": 2, \"linecolor\": \"white\", \"showbackground\": true, \"ticks\": \"\", \"zerolinecolor\": \"white\"}, \"yaxis\": {\"backgroundcolor\": \"#E5ECF6\", \"gridcolor\": \"white\", \"gridwidth\": 2, \"linecolor\": \"white\", \"showbackground\": true, \"ticks\": \"\", \"zerolinecolor\": \"white\"}, \"zaxis\": {\"backgroundcolor\": \"#E5ECF6\", \"gridcolor\": \"white\", \"gridwidth\": 2, \"linecolor\": \"white\", \"showbackground\": true, \"ticks\": \"\", \"zerolinecolor\": \"white\"}}, \"shapedefaults\": {\"line\": {\"color\": \"#2a3f5f\"}}, \"ternary\": {\"aaxis\": {\"gridcolor\": \"white\", \"linecolor\": \"white\", \"ticks\": \"\"}, \"baxis\": {\"gridcolor\": \"white\", \"linecolor\": \"white\", \"ticks\": \"\"}, \"bgcolor\": \"#E5ECF6\", \"caxis\": {\"gridcolor\": \"white\", \"linecolor\": \"white\", \"ticks\": \"\"}}, \"title\": {\"x\": 0.05}, \"xaxis\": {\"automargin\": true, \"gridcolor\": \"white\", \"linecolor\": \"white\", \"ticks\": \"\", \"title\": {\"standoff\": 15}, \"zerolinecolor\": \"white\", \"zerolinewidth\": 2}, \"yaxis\": {\"automargin\": true, \"gridcolor\": \"white\", \"linecolor\": \"white\", \"ticks\": \"\", \"title\": {\"standoff\": 15}, \"zerolinecolor\": \"white\", \"zerolinewidth\": 2}}}, \"title\": {\"font\": {\"color\": \"#4D5663\"}}, \"xaxis\": {\"gridcolor\": \"#E1E5ED\", \"showgrid\": true, \"tickfont\": {\"color\": \"#4D5663\"}, \"title\": {\"font\": {\"color\": \"#4D5663\"}, \"text\": \"\"}, \"zerolinecolor\": \"#E1E5ED\"}, \"yaxis\": {\"gridcolor\": \"#E1E5ED\", \"showgrid\": true, \"tickfont\": {\"color\": \"#4D5663\"}, \"title\": {\"font\": {\"color\": \"#4D5663\"}, \"text\": \"\"}, \"zerolinecolor\": \"#E1E5ED\"}},                        {\"showLink\": true, \"linkText\": \"Export to plot.ly\", \"plotlyServerURL\": \"https://plot.ly\", \"responsive\": true}                    ).then(function(){\n",
       "                            \n",
       "var gd = document.getElementById('f4e4abfc-3f5c-4beb-b1b0-c8c08a8da004');\n",
       "var x = new MutationObserver(function (mutations, observer) {{\n",
       "        var display = window.getComputedStyle(gd).display;\n",
       "        if (!display || display === 'none') {{\n",
       "            console.log([gd, 'removed!']);\n",
       "            Plotly.purge(gd);\n",
       "            observer.disconnect();\n",
       "        }}\n",
       "}});\n",
       "\n",
       "// Listen for the removal of the full notebook cells\n",
       "var notebookContainer = gd.closest('#notebook-container');\n",
       "if (notebookContainer) {{\n",
       "    x.observe(notebookContainer, {childList: true});\n",
       "}}\n",
       "\n",
       "// Listen for the clearing of the current output cell\n",
       "var outputEl = gd.closest('.output');\n",
       "if (outputEl) {{\n",
       "    x.observe(outputEl, {childList: true});\n",
       "}}\n",
       "\n",
       "                        })                };                });            </script>        </div>"
      ]
     },
     "metadata": {},
     "output_type": "display_data"
    }
   ],
   "source": [
    "df.iplot(kind='bubble', x='A', y='B', size='C')"
   ]
  },
  {
   "cell_type": "code",
   "execution_count": 39,
   "metadata": {},
   "outputs": [
    {
     "data": {
      "application/vnd.plotly.v1+json": {
       "config": {
        "linkText": "Export to plot.ly",
        "plotlyServerURL": "https://plot.ly",
        "showLink": true
       },
       "data": [
        {
         "histfunc": "count",
         "histnorm": "",
         "marker": {
          "color": "rgba(255, 153, 51, 1.0)",
          "line": {
           "color": "#4D5663",
           "width": 1.3
          }
         },
         "name": "A",
         "nbinsx": 10,
         "opacity": 0.8,
         "orientation": "v",
         "type": "histogram",
         "x": [
          -0.2941236145979744,
          -1.2055757622417584,
          1.6739059144807003,
          0.28697682921847084,
          0.41395886627795436,
          0.3258350572180524,
          0.5252390425920379,
          -0.5736684755822246,
          -0.5700688362477726,
          0.3645225874268893,
          -1.1647288821832336,
          0.08451189819558057,
          -0.744180002462252,
          -1.2151693534115133,
          -1.2344417644275725,
          -1.2727768086178122,
          -1.109210674025156,
          1.8561357436671402,
          -0.5743628582238592,
          -1.2869710643656933,
          0.5654720433196601,
          -0.06184951055573469,
          1.5426557670599157,
          1.5183339797624478,
          1.1914744908087287,
          0.6123027103271466,
          -1.1128315368989694,
          0.34211525618759664,
          -1.5427770588082996,
          -1.8095088920475255,
          0.8914290648608734,
          0.5707299722117781,
          0.4150615465660746,
          -0.15779149891157998,
          -0.37577490575303407,
          -1.3493202029071392,
          -2.149745000938564,
          -0.1665954222704084,
          -0.14825310781359657,
          0.9726743509758792,
          -0.4263313438545262,
          -0.8371332285968943,
          -1.00910939339172,
          0.9687066851117567,
          -0.31949200585851995,
          0.3811634222615911,
          -0.8701558140039154,
          0.4530440030691015,
          0.17712571854006096,
          -1.2943118538026293,
          -0.9440276852622483,
          -1.6140737385993082,
          -0.5820649119257266,
          2.024328108515571,
          0.09159763211659076,
          0.8699658570083942,
          -1.9701241141643424,
          1.7690020942672438,
          0.5602034891518604,
          0.45164160230701056,
          -0.028028443485482134,
          0.3885875044711814,
          0.018490601080752518,
          2.8676657947150765,
          -0.8816260097799625,
          0.5214180441747942,
          -0.2093671541431842,
          0.415228606814977,
          -1.7884617684009187,
          -1.1882225177627814,
          -0.684762457408276,
          -1.9832688668725418,
          0.9310360124815191,
          -0.5457278756057826,
          -0.710547760985368,
          -0.5446929238244186,
          -0.19630294700548082,
          -1.44280738406763,
          -0.8331241658672963,
          -0.45235685481235416,
          -0.6728883540615982,
          0.3344908135970183,
          0.7970971944919325,
          1.3589465498265694,
          1.6675265431050559,
          -0.24149016625430927,
          0.3735431989596485,
          2.327748140643649,
          -0.1382155746471087,
          -0.7712757639353897,
          -0.4514863772912042,
          -0.46245415819363367,
          1.6861611281399966,
          0.3070846956990549,
          -0.7986246032710236,
          -0.37716556826567615,
          0.027142910172499594,
          -0.16862571807318036,
          -2.610727992542222,
          1.8581627120087132
         ],
         "xaxis": "x",
         "yaxis": "y"
        },
        {
         "line": {
          "color": "rgba(128, 128, 128, 1.0)",
          "dash": "solid",
          "shape": "linear",
          "width": 1.3
         },
         "marker": {
          "size": 2,
          "symbol": "circle"
         },
         "mode": "markers",
         "name": "A",
         "text": "",
         "type": "scatter",
         "x": [
          1.1232035304834727,
          -0.027646444578447983,
          -0.08398900118924442,
          -0.15149207680460008,
          1.3297811358905003,
          -0.3588283929141447,
          -0.09241960340912399,
          0.4144283948863819,
          -0.3242812375394934,
          2.3983374404567153,
          0.06909517875539394,
          -0.9047885203720661,
          -0.3265029067093802,
          1.7107990386995107,
          -0.10882256063664028,
          0.4897875303308817,
          -1.0135894728524193,
          1.469438190961238,
          0.036116091249880994,
          -0.8489964394716256,
          1.1045547892308794,
          -2.733992479927418,
          0.32155595967427597,
          1.1730656687096301,
          0.08919563895231453,
          -0.25087110936678997,
          0.3482220702050979,
          -1.7806719298663185,
          -0.4513396599289586,
          -1.9081904190159555,
          -0.3819735660336761,
          0.8622929704051494,
          0.6643974389859816,
          -0.10482717044736548,
          -0.2978187641213,
          0.38498283608367456,
          -0.2923058128870225,
          -1.8272050682618728,
          0.9994086669080886,
          0.22725335504437277,
          0.543937236379081,
          0.07227911719372908,
          1.5237616967102592,
          -0.9532437020079461,
          -0.15113803558243055,
          0.2617176444724291,
          -0.24506613212165868,
          -0.5207569261079663,
          -0.8532011988899243,
          1.0864728378980126,
          0.4654840803605472,
          0.09625462622839667,
          -0.7357046380750296,
          0.030202365540960157,
          0.9262509241518855,
          1.9593338921574195,
          -1.3661245536871027,
          0.7323140351673906,
          0.006607641087876381,
          1.7473651609919887,
          0.4219988261940681,
          1.4191862517842977,
          -0.7566038891150196,
          -0.41425090121806823,
          3.0035553718893238,
          -1.3449509112854081,
          -0.44909665312229585,
          -0.14484253474706837,
          -1.62510198227339,
          0.513343071179874,
          0.10057721954931076,
          -0.3347821761196757,
          -0.2056135190586056,
          1.522708283114086,
          -0.9610873885231529,
          0.3801472992208391,
          -0.26196111219286417,
          1.5602775206755128,
          -0.5837342554198951,
          0.42352589486444703,
          -0.3595438735331036,
          0.42050074494523526,
          0.48865650230846835,
          -0.4435686363074531,
          -1.2356577354562504,
          -0.040859602804632925,
          0.559282291459184,
          0.12464642337136354,
          -0.15108892936597226,
          1.7478728236278007,
          -0.30778670631463906,
          -0.19881792903994983,
          0.9365043151652537,
          0.0853259717415844,
          0.4357469077004661,
          0.9373712100633341,
          0.8836339180532669,
          -1.1235502320579935,
          -0.9786059330900005,
          -0.45891658939469926
         ],
         "xaxis": "x2",
         "y": [
          -0.2941236145979744,
          -1.2055757622417584,
          1.6739059144807003,
          0.28697682921847084,
          0.41395886627795436,
          0.3258350572180524,
          0.5252390425920379,
          -0.5736684755822246,
          -0.5700688362477726,
          0.3645225874268893,
          -1.1647288821832336,
          0.08451189819558057,
          -0.744180002462252,
          -1.2151693534115133,
          -1.2344417644275725,
          -1.2727768086178122,
          -1.109210674025156,
          1.8561357436671402,
          -0.5743628582238592,
          -1.2869710643656933,
          0.5654720433196601,
          -0.06184951055573469,
          1.5426557670599157,
          1.5183339797624478,
          1.1914744908087287,
          0.6123027103271466,
          -1.1128315368989694,
          0.34211525618759664,
          -1.5427770588082996,
          -1.8095088920475255,
          0.8914290648608734,
          0.5707299722117781,
          0.4150615465660746,
          -0.15779149891157998,
          -0.37577490575303407,
          -1.3493202029071392,
          -2.149745000938564,
          -0.1665954222704084,
          -0.14825310781359657,
          0.9726743509758792,
          -0.4263313438545262,
          -0.8371332285968943,
          -1.00910939339172,
          0.9687066851117567,
          -0.31949200585851995,
          0.3811634222615911,
          -0.8701558140039154,
          0.4530440030691015,
          0.17712571854006096,
          -1.2943118538026293,
          -0.9440276852622483,
          -1.6140737385993082,
          -0.5820649119257266,
          2.024328108515571,
          0.09159763211659076,
          0.8699658570083942,
          -1.9701241141643424,
          1.7690020942672438,
          0.5602034891518604,
          0.45164160230701056,
          -0.028028443485482134,
          0.3885875044711814,
          0.018490601080752518,
          2.8676657947150765,
          -0.8816260097799625,
          0.5214180441747942,
          -0.2093671541431842,
          0.415228606814977,
          -1.7884617684009187,
          -1.1882225177627814,
          -0.684762457408276,
          -1.9832688668725418,
          0.9310360124815191,
          -0.5457278756057826,
          -0.710547760985368,
          -0.5446929238244186,
          -0.19630294700548082,
          -1.44280738406763,
          -0.8331241658672963,
          -0.45235685481235416,
          -0.6728883540615982,
          0.3344908135970183,
          0.7970971944919325,
          1.3589465498265694,
          1.6675265431050559,
          -0.24149016625430927,
          0.3735431989596485,
          2.327748140643649,
          -0.1382155746471087,
          -0.7712757639353897,
          -0.4514863772912042,
          -0.46245415819363367,
          1.6861611281399966,
          0.3070846956990549,
          -0.7986246032710236,
          -0.37716556826567615,
          0.027142910172499594,
          -0.16862571807318036,
          -2.610727992542222,
          1.8581627120087132
         ],
         "yaxis": "y2"
        },
        {
         "line": {
          "color": "rgba(128, 128, 128, 1.0)",
          "dash": "solid",
          "shape": "linear",
          "width": 1.3
         },
         "marker": {
          "size": 2,
          "symbol": "circle"
         },
         "mode": "markers",
         "name": "A",
         "text": "",
         "type": "scatter",
         "x": [
          1.1294338268005901,
          -1.887572133913162,
          -1.085188366556874,
          1.2441200502444267,
          1.5459320960380774,
          -0.4988637936723765,
          -0.1577437548664111,
          0.09020622464636908,
          -0.27151571164654525,
          -0.18975644415964288,
          -0.6699686461843579,
          2.296747020407923,
          0.05130330800056149,
          -2.4442640983583517,
          1.2389016903456653,
          -0.18944434352683967,
          0.6053072348106463,
          -1.2524285923701526,
          1.3933747650509871,
          0.49202062210322245,
          0.257957107145455,
          1.1220240799018353,
          -1.718931138709767,
          0.5951710932559078,
          0.11425858220558911,
          -0.8562861220154547,
          -1.4738005214000116,
          0.07242468226824243,
          1.809544160579259,
          -0.6873950236870673,
          -0.6536284677564498,
          -0.9602739090100308,
          -0.34724078991539603,
          0.5388518809564495,
          -2.173526797590024,
          0.8355229097644048,
          -0.897943250330798,
          0.5450735887174946,
          -0.9372387110558424,
          -1.112549270349293,
          -0.702726815470619,
          0.7325129076485717,
          -0.17369932388406342,
          0.09773400489425473,
          -0.22942079872978982,
          0.1703871787161514,
          -2.1665240120693823,
          -0.7153513931660893,
          -0.6420652181842549,
          0.13465773936314834,
          0.8088113190400273,
          0.5531535072070709,
          -0.057563529228919684,
          -0.25600086262824917,
          -0.577007313856514,
          -0.8279579404389458,
          -0.8933546160692658,
          0.5656854641293453,
          -0.8399717143319536,
          -0.32430624375610345,
          -1.0914288219776849,
          -0.18180695775916408,
          -0.9726438334197695,
          0.30271857357350695,
          -0.15572541628244654,
          1.3578671011251717,
          -0.6101904703382658,
          -0.6923693151136978,
          -0.43667702717984946,
          0.7848023269101269,
          0.3818528888035823,
          -1.0984175475606468,
          1.0060225751515335,
          -1.2234840944513203,
          0.9254079096802839,
          0.47078473569527546,
          2.437524598965109,
          0.4824326534477051,
          -0.22873571010776006,
          0.462812382296827,
          1.9991883779041422,
          -0.24198131614206647,
          0.10069737128065137,
          -0.9889128384993973,
          -0.9381482305703883,
          -1.9321036946732335,
          -0.4110046626450792,
          -1.0421297199384185,
          -1.6084817749223765,
          -0.296731532257138,
          -0.3804787106746805,
          0.2838245966238775,
          -1.138381207628285,
          -1.2861171735396557,
          0.6135467426774536,
          -1.0953398758579733,
          -1.8552417689885758,
          -0.8880496545159664,
          1.2285245683523007,
          -0.906758092599867
         ],
         "xaxis": "x3",
         "y": [
          -0.2941236145979744,
          -1.2055757622417584,
          1.6739059144807003,
          0.28697682921847084,
          0.41395886627795436,
          0.3258350572180524,
          0.5252390425920379,
          -0.5736684755822246,
          -0.5700688362477726,
          0.3645225874268893,
          -1.1647288821832336,
          0.08451189819558057,
          -0.744180002462252,
          -1.2151693534115133,
          -1.2344417644275725,
          -1.2727768086178122,
          -1.109210674025156,
          1.8561357436671402,
          -0.5743628582238592,
          -1.2869710643656933,
          0.5654720433196601,
          -0.06184951055573469,
          1.5426557670599157,
          1.5183339797624478,
          1.1914744908087287,
          0.6123027103271466,
          -1.1128315368989694,
          0.34211525618759664,
          -1.5427770588082996,
          -1.8095088920475255,
          0.8914290648608734,
          0.5707299722117781,
          0.4150615465660746,
          -0.15779149891157998,
          -0.37577490575303407,
          -1.3493202029071392,
          -2.149745000938564,
          -0.1665954222704084,
          -0.14825310781359657,
          0.9726743509758792,
          -0.4263313438545262,
          -0.8371332285968943,
          -1.00910939339172,
          0.9687066851117567,
          -0.31949200585851995,
          0.3811634222615911,
          -0.8701558140039154,
          0.4530440030691015,
          0.17712571854006096,
          -1.2943118538026293,
          -0.9440276852622483,
          -1.6140737385993082,
          -0.5820649119257266,
          2.024328108515571,
          0.09159763211659076,
          0.8699658570083942,
          -1.9701241141643424,
          1.7690020942672438,
          0.5602034891518604,
          0.45164160230701056,
          -0.028028443485482134,
          0.3885875044711814,
          0.018490601080752518,
          2.8676657947150765,
          -0.8816260097799625,
          0.5214180441747942,
          -0.2093671541431842,
          0.415228606814977,
          -1.7884617684009187,
          -1.1882225177627814,
          -0.684762457408276,
          -1.9832688668725418,
          0.9310360124815191,
          -0.5457278756057826,
          -0.710547760985368,
          -0.5446929238244186,
          -0.19630294700548082,
          -1.44280738406763,
          -0.8331241658672963,
          -0.45235685481235416,
          -0.6728883540615982,
          0.3344908135970183,
          0.7970971944919325,
          1.3589465498265694,
          1.6675265431050559,
          -0.24149016625430927,
          0.3735431989596485,
          2.327748140643649,
          -0.1382155746471087,
          -0.7712757639353897,
          -0.4514863772912042,
          -0.46245415819363367,
          1.6861611281399966,
          0.3070846956990549,
          -0.7986246032710236,
          -0.37716556826567615,
          0.027142910172499594,
          -0.16862571807318036,
          -2.610727992542222,
          1.8581627120087132
         ],
         "yaxis": "y3"
        },
        {
         "line": {
          "color": "rgba(128, 128, 128, 1.0)",
          "dash": "solid",
          "shape": "linear",
          "width": 1.3
         },
         "marker": {
          "size": 2,
          "symbol": "circle"
         },
         "mode": "markers",
         "name": "A",
         "text": "",
         "type": "scatter",
         "x": [
          -0.3005660290796793,
          0.4690410684946249,
          -0.15686784605172588,
          0.34597968254358424,
          -0.8765272729371686,
          1.0578142148171377,
          1.1517833751948285,
          -0.9059399369573186,
          0.6559696282037321,
          0.8660618634624208,
          0.9298634275370239,
          -0.4036806650429973,
          2.0831763476256464,
          2.236332687234384,
          0.1023211477173691,
          0.673849289359737,
          1.4058839722240843,
          -1.5472002402660305,
          0.2242403905844482,
          0.9577374008703127,
          0.012576660713810802,
          -1.2054267184605332,
          -1.835374218557789,
          0.820394938928055,
          -0.3678435146878748,
          1.5680299954819024,
          0.2567420393462134,
          -1.8412356071911151,
          0.15224791026731652,
          0.8689689475570724,
          0.6199987051206256,
          0.08520560340375176,
          1.8672640839451167,
          0.7216926846091692,
          -0.6353257802654373,
          -0.2307027271462637,
          -0.6565636798272065,
          -2.24020902822671,
          -0.8625622473890274,
          1.0129263016287262,
          0.3756742179574329,
          -1.0591502767295813,
          0.3098859743806808,
          -0.120096595893609,
          1.3990380568406269,
          -0.4347703785963267,
          -0.9398151287733784,
          0.4950357210179923,
          0.4800437963115811,
          0.8282016946835207,
          0.0008638232858400742,
          0.8947718662025472,
          -0.7388662047798948,
          -0.7244205136277834,
          -1.0436174072116249,
          -0.30583914096101333,
          -0.8144962732005774,
          0.5923749632389562,
          0.9882575009645511,
          -1.5281723458094598,
          0.874250864706059,
          -0.45204143281161246,
          0.8068987810944247,
          0.28410008734849235,
          1.5517908672621392,
          -0.5057124791407088,
          0.7008348403356799,
          -0.12797976246664364,
          0.6393289239677991,
          -0.4281270518755398,
          -0.5252675809214842,
          -0.9401994595911041,
          -0.01297658993896751,
          -0.06836163379373286,
          1.6801609319042026,
          -1.599265119876865,
          0.7375891078115318,
          -0.06889510467951712,
          0.5805253856391505,
          -0.6058305951461466,
          -1.9080405994625778,
          -1.596579305185901,
          0.49248475294184624,
          0.7534647853327919,
          -0.8874422957908504,
          0.9537799052764699,
          1.2999088457279604,
          -0.03936343150833903,
          0.536088725542492,
          0.666016137641211,
          0.8020667031064855,
          -0.03837550627684842,
          -2.217797311811609,
          -0.6615233168351068,
          0.5423968297678927,
          -0.29740582382476405,
          1.9159748872217595,
          -0.010257753016069099,
          -0.6698239566159488,
          0.5516997270369369
         ],
         "xaxis": "x4",
         "y": [
          -0.2941236145979744,
          -1.2055757622417584,
          1.6739059144807003,
          0.28697682921847084,
          0.41395886627795436,
          0.3258350572180524,
          0.5252390425920379,
          -0.5736684755822246,
          -0.5700688362477726,
          0.3645225874268893,
          -1.1647288821832336,
          0.08451189819558057,
          -0.744180002462252,
          -1.2151693534115133,
          -1.2344417644275725,
          -1.2727768086178122,
          -1.109210674025156,
          1.8561357436671402,
          -0.5743628582238592,
          -1.2869710643656933,
          0.5654720433196601,
          -0.06184951055573469,
          1.5426557670599157,
          1.5183339797624478,
          1.1914744908087287,
          0.6123027103271466,
          -1.1128315368989694,
          0.34211525618759664,
          -1.5427770588082996,
          -1.8095088920475255,
          0.8914290648608734,
          0.5707299722117781,
          0.4150615465660746,
          -0.15779149891157998,
          -0.37577490575303407,
          -1.3493202029071392,
          -2.149745000938564,
          -0.1665954222704084,
          -0.14825310781359657,
          0.9726743509758792,
          -0.4263313438545262,
          -0.8371332285968943,
          -1.00910939339172,
          0.9687066851117567,
          -0.31949200585851995,
          0.3811634222615911,
          -0.8701558140039154,
          0.4530440030691015,
          0.17712571854006096,
          -1.2943118538026293,
          -0.9440276852622483,
          -1.6140737385993082,
          -0.5820649119257266,
          2.024328108515571,
          0.09159763211659076,
          0.8699658570083942,
          -1.9701241141643424,
          1.7690020942672438,
          0.5602034891518604,
          0.45164160230701056,
          -0.028028443485482134,
          0.3885875044711814,
          0.018490601080752518,
          2.8676657947150765,
          -0.8816260097799625,
          0.5214180441747942,
          -0.2093671541431842,
          0.415228606814977,
          -1.7884617684009187,
          -1.1882225177627814,
          -0.684762457408276,
          -1.9832688668725418,
          0.9310360124815191,
          -0.5457278756057826,
          -0.710547760985368,
          -0.5446929238244186,
          -0.19630294700548082,
          -1.44280738406763,
          -0.8331241658672963,
          -0.45235685481235416,
          -0.6728883540615982,
          0.3344908135970183,
          0.7970971944919325,
          1.3589465498265694,
          1.6675265431050559,
          -0.24149016625430927,
          0.3735431989596485,
          2.327748140643649,
          -0.1382155746471087,
          -0.7712757639353897,
          -0.4514863772912042,
          -0.46245415819363367,
          1.6861611281399966,
          0.3070846956990549,
          -0.7986246032710236,
          -0.37716556826567615,
          0.027142910172499594,
          -0.16862571807318036,
          -2.610727992542222,
          1.8581627120087132
         ],
         "yaxis": "y4"
        },
        {
         "line": {
          "color": "rgba(128, 128, 128, 1.0)",
          "dash": "solid",
          "shape": "linear",
          "width": 1.3
         },
         "marker": {
          "size": 2,
          "symbol": "circle"
         },
         "mode": "markers",
         "name": "B",
         "text": "",
         "type": "scatter",
         "x": [
          -0.2941236145979744,
          -1.2055757622417584,
          1.6739059144807003,
          0.28697682921847084,
          0.41395886627795436,
          0.3258350572180524,
          0.5252390425920379,
          -0.5736684755822246,
          -0.5700688362477726,
          0.3645225874268893,
          -1.1647288821832336,
          0.08451189819558057,
          -0.744180002462252,
          -1.2151693534115133,
          -1.2344417644275725,
          -1.2727768086178122,
          -1.109210674025156,
          1.8561357436671402,
          -0.5743628582238592,
          -1.2869710643656933,
          0.5654720433196601,
          -0.06184951055573469,
          1.5426557670599157,
          1.5183339797624478,
          1.1914744908087287,
          0.6123027103271466,
          -1.1128315368989694,
          0.34211525618759664,
          -1.5427770588082996,
          -1.8095088920475255,
          0.8914290648608734,
          0.5707299722117781,
          0.4150615465660746,
          -0.15779149891157998,
          -0.37577490575303407,
          -1.3493202029071392,
          -2.149745000938564,
          -0.1665954222704084,
          -0.14825310781359657,
          0.9726743509758792,
          -0.4263313438545262,
          -0.8371332285968943,
          -1.00910939339172,
          0.9687066851117567,
          -0.31949200585851995,
          0.3811634222615911,
          -0.8701558140039154,
          0.4530440030691015,
          0.17712571854006096,
          -1.2943118538026293,
          -0.9440276852622483,
          -1.6140737385993082,
          -0.5820649119257266,
          2.024328108515571,
          0.09159763211659076,
          0.8699658570083942,
          -1.9701241141643424,
          1.7690020942672438,
          0.5602034891518604,
          0.45164160230701056,
          -0.028028443485482134,
          0.3885875044711814,
          0.018490601080752518,
          2.8676657947150765,
          -0.8816260097799625,
          0.5214180441747942,
          -0.2093671541431842,
          0.415228606814977,
          -1.7884617684009187,
          -1.1882225177627814,
          -0.684762457408276,
          -1.9832688668725418,
          0.9310360124815191,
          -0.5457278756057826,
          -0.710547760985368,
          -0.5446929238244186,
          -0.19630294700548082,
          -1.44280738406763,
          -0.8331241658672963,
          -0.45235685481235416,
          -0.6728883540615982,
          0.3344908135970183,
          0.7970971944919325,
          1.3589465498265694,
          1.6675265431050559,
          -0.24149016625430927,
          0.3735431989596485,
          2.327748140643649,
          -0.1382155746471087,
          -0.7712757639353897,
          -0.4514863772912042,
          -0.46245415819363367,
          1.6861611281399966,
          0.3070846956990549,
          -0.7986246032710236,
          -0.37716556826567615,
          0.027142910172499594,
          -0.16862571807318036,
          -2.610727992542222,
          1.8581627120087132
         ],
         "xaxis": "x5",
         "y": [
          1.1232035304834727,
          -0.027646444578447983,
          -0.08398900118924442,
          -0.15149207680460008,
          1.3297811358905003,
          -0.3588283929141447,
          -0.09241960340912399,
          0.4144283948863819,
          -0.3242812375394934,
          2.3983374404567153,
          0.06909517875539394,
          -0.9047885203720661,
          -0.3265029067093802,
          1.7107990386995107,
          -0.10882256063664028,
          0.4897875303308817,
          -1.0135894728524193,
          1.469438190961238,
          0.036116091249880994,
          -0.8489964394716256,
          1.1045547892308794,
          -2.733992479927418,
          0.32155595967427597,
          1.1730656687096301,
          0.08919563895231453,
          -0.25087110936678997,
          0.3482220702050979,
          -1.7806719298663185,
          -0.4513396599289586,
          -1.9081904190159555,
          -0.3819735660336761,
          0.8622929704051494,
          0.6643974389859816,
          -0.10482717044736548,
          -0.2978187641213,
          0.38498283608367456,
          -0.2923058128870225,
          -1.8272050682618728,
          0.9994086669080886,
          0.22725335504437277,
          0.543937236379081,
          0.07227911719372908,
          1.5237616967102592,
          -0.9532437020079461,
          -0.15113803558243055,
          0.2617176444724291,
          -0.24506613212165868,
          -0.5207569261079663,
          -0.8532011988899243,
          1.0864728378980126,
          0.4654840803605472,
          0.09625462622839667,
          -0.7357046380750296,
          0.030202365540960157,
          0.9262509241518855,
          1.9593338921574195,
          -1.3661245536871027,
          0.7323140351673906,
          0.006607641087876381,
          1.7473651609919887,
          0.4219988261940681,
          1.4191862517842977,
          -0.7566038891150196,
          -0.41425090121806823,
          3.0035553718893238,
          -1.3449509112854081,
          -0.44909665312229585,
          -0.14484253474706837,
          -1.62510198227339,
          0.513343071179874,
          0.10057721954931076,
          -0.3347821761196757,
          -0.2056135190586056,
          1.522708283114086,
          -0.9610873885231529,
          0.3801472992208391,
          -0.26196111219286417,
          1.5602775206755128,
          -0.5837342554198951,
          0.42352589486444703,
          -0.3595438735331036,
          0.42050074494523526,
          0.48865650230846835,
          -0.4435686363074531,
          -1.2356577354562504,
          -0.040859602804632925,
          0.559282291459184,
          0.12464642337136354,
          -0.15108892936597226,
          1.7478728236278007,
          -0.30778670631463906,
          -0.19881792903994983,
          0.9365043151652537,
          0.0853259717415844,
          0.4357469077004661,
          0.9373712100633341,
          0.8836339180532669,
          -1.1235502320579935,
          -0.9786059330900005,
          -0.45891658939469926
         ],
         "yaxis": "y5"
        },
        {
         "histfunc": "count",
         "histnorm": "",
         "marker": {
          "color": "rgba(55, 128, 191, 1.0)",
          "line": {
           "color": "#4D5663",
           "width": 1.3
          }
         },
         "name": "B",
         "nbinsx": 10,
         "opacity": 0.8,
         "orientation": "v",
         "type": "histogram",
         "x": [
          1.1232035304834727,
          -0.027646444578447983,
          -0.08398900118924442,
          -0.15149207680460008,
          1.3297811358905003,
          -0.3588283929141447,
          -0.09241960340912399,
          0.4144283948863819,
          -0.3242812375394934,
          2.3983374404567153,
          0.06909517875539394,
          -0.9047885203720661,
          -0.3265029067093802,
          1.7107990386995107,
          -0.10882256063664028,
          0.4897875303308817,
          -1.0135894728524193,
          1.469438190961238,
          0.036116091249880994,
          -0.8489964394716256,
          1.1045547892308794,
          -2.733992479927418,
          0.32155595967427597,
          1.1730656687096301,
          0.08919563895231453,
          -0.25087110936678997,
          0.3482220702050979,
          -1.7806719298663185,
          -0.4513396599289586,
          -1.9081904190159555,
          -0.3819735660336761,
          0.8622929704051494,
          0.6643974389859816,
          -0.10482717044736548,
          -0.2978187641213,
          0.38498283608367456,
          -0.2923058128870225,
          -1.8272050682618728,
          0.9994086669080886,
          0.22725335504437277,
          0.543937236379081,
          0.07227911719372908,
          1.5237616967102592,
          -0.9532437020079461,
          -0.15113803558243055,
          0.2617176444724291,
          -0.24506613212165868,
          -0.5207569261079663,
          -0.8532011988899243,
          1.0864728378980126,
          0.4654840803605472,
          0.09625462622839667,
          -0.7357046380750296,
          0.030202365540960157,
          0.9262509241518855,
          1.9593338921574195,
          -1.3661245536871027,
          0.7323140351673906,
          0.006607641087876381,
          1.7473651609919887,
          0.4219988261940681,
          1.4191862517842977,
          -0.7566038891150196,
          -0.41425090121806823,
          3.0035553718893238,
          -1.3449509112854081,
          -0.44909665312229585,
          -0.14484253474706837,
          -1.62510198227339,
          0.513343071179874,
          0.10057721954931076,
          -0.3347821761196757,
          -0.2056135190586056,
          1.522708283114086,
          -0.9610873885231529,
          0.3801472992208391,
          -0.26196111219286417,
          1.5602775206755128,
          -0.5837342554198951,
          0.42352589486444703,
          -0.3595438735331036,
          0.42050074494523526,
          0.48865650230846835,
          -0.4435686363074531,
          -1.2356577354562504,
          -0.040859602804632925,
          0.559282291459184,
          0.12464642337136354,
          -0.15108892936597226,
          1.7478728236278007,
          -0.30778670631463906,
          -0.19881792903994983,
          0.9365043151652537,
          0.0853259717415844,
          0.4357469077004661,
          0.9373712100633341,
          0.8836339180532669,
          -1.1235502320579935,
          -0.9786059330900005,
          -0.45891658939469926
         ],
         "xaxis": "x6",
         "yaxis": "y6"
        },
        {
         "line": {
          "color": "rgba(128, 128, 128, 1.0)",
          "dash": "solid",
          "shape": "linear",
          "width": 1.3
         },
         "marker": {
          "size": 2,
          "symbol": "circle"
         },
         "mode": "markers",
         "name": "B",
         "text": "",
         "type": "scatter",
         "x": [
          1.1294338268005901,
          -1.887572133913162,
          -1.085188366556874,
          1.2441200502444267,
          1.5459320960380774,
          -0.4988637936723765,
          -0.1577437548664111,
          0.09020622464636908,
          -0.27151571164654525,
          -0.18975644415964288,
          -0.6699686461843579,
          2.296747020407923,
          0.05130330800056149,
          -2.4442640983583517,
          1.2389016903456653,
          -0.18944434352683967,
          0.6053072348106463,
          -1.2524285923701526,
          1.3933747650509871,
          0.49202062210322245,
          0.257957107145455,
          1.1220240799018353,
          -1.718931138709767,
          0.5951710932559078,
          0.11425858220558911,
          -0.8562861220154547,
          -1.4738005214000116,
          0.07242468226824243,
          1.809544160579259,
          -0.6873950236870673,
          -0.6536284677564498,
          -0.9602739090100308,
          -0.34724078991539603,
          0.5388518809564495,
          -2.173526797590024,
          0.8355229097644048,
          -0.897943250330798,
          0.5450735887174946,
          -0.9372387110558424,
          -1.112549270349293,
          -0.702726815470619,
          0.7325129076485717,
          -0.17369932388406342,
          0.09773400489425473,
          -0.22942079872978982,
          0.1703871787161514,
          -2.1665240120693823,
          -0.7153513931660893,
          -0.6420652181842549,
          0.13465773936314834,
          0.8088113190400273,
          0.5531535072070709,
          -0.057563529228919684,
          -0.25600086262824917,
          -0.577007313856514,
          -0.8279579404389458,
          -0.8933546160692658,
          0.5656854641293453,
          -0.8399717143319536,
          -0.32430624375610345,
          -1.0914288219776849,
          -0.18180695775916408,
          -0.9726438334197695,
          0.30271857357350695,
          -0.15572541628244654,
          1.3578671011251717,
          -0.6101904703382658,
          -0.6923693151136978,
          -0.43667702717984946,
          0.7848023269101269,
          0.3818528888035823,
          -1.0984175475606468,
          1.0060225751515335,
          -1.2234840944513203,
          0.9254079096802839,
          0.47078473569527546,
          2.437524598965109,
          0.4824326534477051,
          -0.22873571010776006,
          0.462812382296827,
          1.9991883779041422,
          -0.24198131614206647,
          0.10069737128065137,
          -0.9889128384993973,
          -0.9381482305703883,
          -1.9321036946732335,
          -0.4110046626450792,
          -1.0421297199384185,
          -1.6084817749223765,
          -0.296731532257138,
          -0.3804787106746805,
          0.2838245966238775,
          -1.138381207628285,
          -1.2861171735396557,
          0.6135467426774536,
          -1.0953398758579733,
          -1.8552417689885758,
          -0.8880496545159664,
          1.2285245683523007,
          -0.906758092599867
         ],
         "xaxis": "x7",
         "y": [
          1.1232035304834727,
          -0.027646444578447983,
          -0.08398900118924442,
          -0.15149207680460008,
          1.3297811358905003,
          -0.3588283929141447,
          -0.09241960340912399,
          0.4144283948863819,
          -0.3242812375394934,
          2.3983374404567153,
          0.06909517875539394,
          -0.9047885203720661,
          -0.3265029067093802,
          1.7107990386995107,
          -0.10882256063664028,
          0.4897875303308817,
          -1.0135894728524193,
          1.469438190961238,
          0.036116091249880994,
          -0.8489964394716256,
          1.1045547892308794,
          -2.733992479927418,
          0.32155595967427597,
          1.1730656687096301,
          0.08919563895231453,
          -0.25087110936678997,
          0.3482220702050979,
          -1.7806719298663185,
          -0.4513396599289586,
          -1.9081904190159555,
          -0.3819735660336761,
          0.8622929704051494,
          0.6643974389859816,
          -0.10482717044736548,
          -0.2978187641213,
          0.38498283608367456,
          -0.2923058128870225,
          -1.8272050682618728,
          0.9994086669080886,
          0.22725335504437277,
          0.543937236379081,
          0.07227911719372908,
          1.5237616967102592,
          -0.9532437020079461,
          -0.15113803558243055,
          0.2617176444724291,
          -0.24506613212165868,
          -0.5207569261079663,
          -0.8532011988899243,
          1.0864728378980126,
          0.4654840803605472,
          0.09625462622839667,
          -0.7357046380750296,
          0.030202365540960157,
          0.9262509241518855,
          1.9593338921574195,
          -1.3661245536871027,
          0.7323140351673906,
          0.006607641087876381,
          1.7473651609919887,
          0.4219988261940681,
          1.4191862517842977,
          -0.7566038891150196,
          -0.41425090121806823,
          3.0035553718893238,
          -1.3449509112854081,
          -0.44909665312229585,
          -0.14484253474706837,
          -1.62510198227339,
          0.513343071179874,
          0.10057721954931076,
          -0.3347821761196757,
          -0.2056135190586056,
          1.522708283114086,
          -0.9610873885231529,
          0.3801472992208391,
          -0.26196111219286417,
          1.5602775206755128,
          -0.5837342554198951,
          0.42352589486444703,
          -0.3595438735331036,
          0.42050074494523526,
          0.48865650230846835,
          -0.4435686363074531,
          -1.2356577354562504,
          -0.040859602804632925,
          0.559282291459184,
          0.12464642337136354,
          -0.15108892936597226,
          1.7478728236278007,
          -0.30778670631463906,
          -0.19881792903994983,
          0.9365043151652537,
          0.0853259717415844,
          0.4357469077004661,
          0.9373712100633341,
          0.8836339180532669,
          -1.1235502320579935,
          -0.9786059330900005,
          -0.45891658939469926
         ],
         "yaxis": "y7"
        },
        {
         "line": {
          "color": "rgba(128, 128, 128, 1.0)",
          "dash": "solid",
          "shape": "linear",
          "width": 1.3
         },
         "marker": {
          "size": 2,
          "symbol": "circle"
         },
         "mode": "markers",
         "name": "B",
         "text": "",
         "type": "scatter",
         "x": [
          -0.3005660290796793,
          0.4690410684946249,
          -0.15686784605172588,
          0.34597968254358424,
          -0.8765272729371686,
          1.0578142148171377,
          1.1517833751948285,
          -0.9059399369573186,
          0.6559696282037321,
          0.8660618634624208,
          0.9298634275370239,
          -0.4036806650429973,
          2.0831763476256464,
          2.236332687234384,
          0.1023211477173691,
          0.673849289359737,
          1.4058839722240843,
          -1.5472002402660305,
          0.2242403905844482,
          0.9577374008703127,
          0.012576660713810802,
          -1.2054267184605332,
          -1.835374218557789,
          0.820394938928055,
          -0.3678435146878748,
          1.5680299954819024,
          0.2567420393462134,
          -1.8412356071911151,
          0.15224791026731652,
          0.8689689475570724,
          0.6199987051206256,
          0.08520560340375176,
          1.8672640839451167,
          0.7216926846091692,
          -0.6353257802654373,
          -0.2307027271462637,
          -0.6565636798272065,
          -2.24020902822671,
          -0.8625622473890274,
          1.0129263016287262,
          0.3756742179574329,
          -1.0591502767295813,
          0.3098859743806808,
          -0.120096595893609,
          1.3990380568406269,
          -0.4347703785963267,
          -0.9398151287733784,
          0.4950357210179923,
          0.4800437963115811,
          0.8282016946835207,
          0.0008638232858400742,
          0.8947718662025472,
          -0.7388662047798948,
          -0.7244205136277834,
          -1.0436174072116249,
          -0.30583914096101333,
          -0.8144962732005774,
          0.5923749632389562,
          0.9882575009645511,
          -1.5281723458094598,
          0.874250864706059,
          -0.45204143281161246,
          0.8068987810944247,
          0.28410008734849235,
          1.5517908672621392,
          -0.5057124791407088,
          0.7008348403356799,
          -0.12797976246664364,
          0.6393289239677991,
          -0.4281270518755398,
          -0.5252675809214842,
          -0.9401994595911041,
          -0.01297658993896751,
          -0.06836163379373286,
          1.6801609319042026,
          -1.599265119876865,
          0.7375891078115318,
          -0.06889510467951712,
          0.5805253856391505,
          -0.6058305951461466,
          -1.9080405994625778,
          -1.596579305185901,
          0.49248475294184624,
          0.7534647853327919,
          -0.8874422957908504,
          0.9537799052764699,
          1.2999088457279604,
          -0.03936343150833903,
          0.536088725542492,
          0.666016137641211,
          0.8020667031064855,
          -0.03837550627684842,
          -2.217797311811609,
          -0.6615233168351068,
          0.5423968297678927,
          -0.29740582382476405,
          1.9159748872217595,
          -0.010257753016069099,
          -0.6698239566159488,
          0.5516997270369369
         ],
         "xaxis": "x8",
         "y": [
          1.1232035304834727,
          -0.027646444578447983,
          -0.08398900118924442,
          -0.15149207680460008,
          1.3297811358905003,
          -0.3588283929141447,
          -0.09241960340912399,
          0.4144283948863819,
          -0.3242812375394934,
          2.3983374404567153,
          0.06909517875539394,
          -0.9047885203720661,
          -0.3265029067093802,
          1.7107990386995107,
          -0.10882256063664028,
          0.4897875303308817,
          -1.0135894728524193,
          1.469438190961238,
          0.036116091249880994,
          -0.8489964394716256,
          1.1045547892308794,
          -2.733992479927418,
          0.32155595967427597,
          1.1730656687096301,
          0.08919563895231453,
          -0.25087110936678997,
          0.3482220702050979,
          -1.7806719298663185,
          -0.4513396599289586,
          -1.9081904190159555,
          -0.3819735660336761,
          0.8622929704051494,
          0.6643974389859816,
          -0.10482717044736548,
          -0.2978187641213,
          0.38498283608367456,
          -0.2923058128870225,
          -1.8272050682618728,
          0.9994086669080886,
          0.22725335504437277,
          0.543937236379081,
          0.07227911719372908,
          1.5237616967102592,
          -0.9532437020079461,
          -0.15113803558243055,
          0.2617176444724291,
          -0.24506613212165868,
          -0.5207569261079663,
          -0.8532011988899243,
          1.0864728378980126,
          0.4654840803605472,
          0.09625462622839667,
          -0.7357046380750296,
          0.030202365540960157,
          0.9262509241518855,
          1.9593338921574195,
          -1.3661245536871027,
          0.7323140351673906,
          0.006607641087876381,
          1.7473651609919887,
          0.4219988261940681,
          1.4191862517842977,
          -0.7566038891150196,
          -0.41425090121806823,
          3.0035553718893238,
          -1.3449509112854081,
          -0.44909665312229585,
          -0.14484253474706837,
          -1.62510198227339,
          0.513343071179874,
          0.10057721954931076,
          -0.3347821761196757,
          -0.2056135190586056,
          1.522708283114086,
          -0.9610873885231529,
          0.3801472992208391,
          -0.26196111219286417,
          1.5602775206755128,
          -0.5837342554198951,
          0.42352589486444703,
          -0.3595438735331036,
          0.42050074494523526,
          0.48865650230846835,
          -0.4435686363074531,
          -1.2356577354562504,
          -0.040859602804632925,
          0.559282291459184,
          0.12464642337136354,
          -0.15108892936597226,
          1.7478728236278007,
          -0.30778670631463906,
          -0.19881792903994983,
          0.9365043151652537,
          0.0853259717415844,
          0.4357469077004661,
          0.9373712100633341,
          0.8836339180532669,
          -1.1235502320579935,
          -0.9786059330900005,
          -0.45891658939469926
         ],
         "yaxis": "y8"
        },
        {
         "line": {
          "color": "rgba(128, 128, 128, 1.0)",
          "dash": "solid",
          "shape": "linear",
          "width": 1.3
         },
         "marker": {
          "size": 2,
          "symbol": "circle"
         },
         "mode": "markers",
         "name": "C",
         "text": "",
         "type": "scatter",
         "x": [
          -0.2941236145979744,
          -1.2055757622417584,
          1.6739059144807003,
          0.28697682921847084,
          0.41395886627795436,
          0.3258350572180524,
          0.5252390425920379,
          -0.5736684755822246,
          -0.5700688362477726,
          0.3645225874268893,
          -1.1647288821832336,
          0.08451189819558057,
          -0.744180002462252,
          -1.2151693534115133,
          -1.2344417644275725,
          -1.2727768086178122,
          -1.109210674025156,
          1.8561357436671402,
          -0.5743628582238592,
          -1.2869710643656933,
          0.5654720433196601,
          -0.06184951055573469,
          1.5426557670599157,
          1.5183339797624478,
          1.1914744908087287,
          0.6123027103271466,
          -1.1128315368989694,
          0.34211525618759664,
          -1.5427770588082996,
          -1.8095088920475255,
          0.8914290648608734,
          0.5707299722117781,
          0.4150615465660746,
          -0.15779149891157998,
          -0.37577490575303407,
          -1.3493202029071392,
          -2.149745000938564,
          -0.1665954222704084,
          -0.14825310781359657,
          0.9726743509758792,
          -0.4263313438545262,
          -0.8371332285968943,
          -1.00910939339172,
          0.9687066851117567,
          -0.31949200585851995,
          0.3811634222615911,
          -0.8701558140039154,
          0.4530440030691015,
          0.17712571854006096,
          -1.2943118538026293,
          -0.9440276852622483,
          -1.6140737385993082,
          -0.5820649119257266,
          2.024328108515571,
          0.09159763211659076,
          0.8699658570083942,
          -1.9701241141643424,
          1.7690020942672438,
          0.5602034891518604,
          0.45164160230701056,
          -0.028028443485482134,
          0.3885875044711814,
          0.018490601080752518,
          2.8676657947150765,
          -0.8816260097799625,
          0.5214180441747942,
          -0.2093671541431842,
          0.415228606814977,
          -1.7884617684009187,
          -1.1882225177627814,
          -0.684762457408276,
          -1.9832688668725418,
          0.9310360124815191,
          -0.5457278756057826,
          -0.710547760985368,
          -0.5446929238244186,
          -0.19630294700548082,
          -1.44280738406763,
          -0.8331241658672963,
          -0.45235685481235416,
          -0.6728883540615982,
          0.3344908135970183,
          0.7970971944919325,
          1.3589465498265694,
          1.6675265431050559,
          -0.24149016625430927,
          0.3735431989596485,
          2.327748140643649,
          -0.1382155746471087,
          -0.7712757639353897,
          -0.4514863772912042,
          -0.46245415819363367,
          1.6861611281399966,
          0.3070846956990549,
          -0.7986246032710236,
          -0.37716556826567615,
          0.027142910172499594,
          -0.16862571807318036,
          -2.610727992542222,
          1.8581627120087132
         ],
         "xaxis": "x9",
         "y": [
          1.1294338268005901,
          -1.887572133913162,
          -1.085188366556874,
          1.2441200502444267,
          1.5459320960380774,
          -0.4988637936723765,
          -0.1577437548664111,
          0.09020622464636908,
          -0.27151571164654525,
          -0.18975644415964288,
          -0.6699686461843579,
          2.296747020407923,
          0.05130330800056149,
          -2.4442640983583517,
          1.2389016903456653,
          -0.18944434352683967,
          0.6053072348106463,
          -1.2524285923701526,
          1.3933747650509871,
          0.49202062210322245,
          0.257957107145455,
          1.1220240799018353,
          -1.718931138709767,
          0.5951710932559078,
          0.11425858220558911,
          -0.8562861220154547,
          -1.4738005214000116,
          0.07242468226824243,
          1.809544160579259,
          -0.6873950236870673,
          -0.6536284677564498,
          -0.9602739090100308,
          -0.34724078991539603,
          0.5388518809564495,
          -2.173526797590024,
          0.8355229097644048,
          -0.897943250330798,
          0.5450735887174946,
          -0.9372387110558424,
          -1.112549270349293,
          -0.702726815470619,
          0.7325129076485717,
          -0.17369932388406342,
          0.09773400489425473,
          -0.22942079872978982,
          0.1703871787161514,
          -2.1665240120693823,
          -0.7153513931660893,
          -0.6420652181842549,
          0.13465773936314834,
          0.8088113190400273,
          0.5531535072070709,
          -0.057563529228919684,
          -0.25600086262824917,
          -0.577007313856514,
          -0.8279579404389458,
          -0.8933546160692658,
          0.5656854641293453,
          -0.8399717143319536,
          -0.32430624375610345,
          -1.0914288219776849,
          -0.18180695775916408,
          -0.9726438334197695,
          0.30271857357350695,
          -0.15572541628244654,
          1.3578671011251717,
          -0.6101904703382658,
          -0.6923693151136978,
          -0.43667702717984946,
          0.7848023269101269,
          0.3818528888035823,
          -1.0984175475606468,
          1.0060225751515335,
          -1.2234840944513203,
          0.9254079096802839,
          0.47078473569527546,
          2.437524598965109,
          0.4824326534477051,
          -0.22873571010776006,
          0.462812382296827,
          1.9991883779041422,
          -0.24198131614206647,
          0.10069737128065137,
          -0.9889128384993973,
          -0.9381482305703883,
          -1.9321036946732335,
          -0.4110046626450792,
          -1.0421297199384185,
          -1.6084817749223765,
          -0.296731532257138,
          -0.3804787106746805,
          0.2838245966238775,
          -1.138381207628285,
          -1.2861171735396557,
          0.6135467426774536,
          -1.0953398758579733,
          -1.8552417689885758,
          -0.8880496545159664,
          1.2285245683523007,
          -0.906758092599867
         ],
         "yaxis": "y9"
        },
        {
         "line": {
          "color": "rgba(128, 128, 128, 1.0)",
          "dash": "solid",
          "shape": "linear",
          "width": 1.3
         },
         "marker": {
          "size": 2,
          "symbol": "circle"
         },
         "mode": "markers",
         "name": "C",
         "text": "",
         "type": "scatter",
         "x": [
          1.1232035304834727,
          -0.027646444578447983,
          -0.08398900118924442,
          -0.15149207680460008,
          1.3297811358905003,
          -0.3588283929141447,
          -0.09241960340912399,
          0.4144283948863819,
          -0.3242812375394934,
          2.3983374404567153,
          0.06909517875539394,
          -0.9047885203720661,
          -0.3265029067093802,
          1.7107990386995107,
          -0.10882256063664028,
          0.4897875303308817,
          -1.0135894728524193,
          1.469438190961238,
          0.036116091249880994,
          -0.8489964394716256,
          1.1045547892308794,
          -2.733992479927418,
          0.32155595967427597,
          1.1730656687096301,
          0.08919563895231453,
          -0.25087110936678997,
          0.3482220702050979,
          -1.7806719298663185,
          -0.4513396599289586,
          -1.9081904190159555,
          -0.3819735660336761,
          0.8622929704051494,
          0.6643974389859816,
          -0.10482717044736548,
          -0.2978187641213,
          0.38498283608367456,
          -0.2923058128870225,
          -1.8272050682618728,
          0.9994086669080886,
          0.22725335504437277,
          0.543937236379081,
          0.07227911719372908,
          1.5237616967102592,
          -0.9532437020079461,
          -0.15113803558243055,
          0.2617176444724291,
          -0.24506613212165868,
          -0.5207569261079663,
          -0.8532011988899243,
          1.0864728378980126,
          0.4654840803605472,
          0.09625462622839667,
          -0.7357046380750296,
          0.030202365540960157,
          0.9262509241518855,
          1.9593338921574195,
          -1.3661245536871027,
          0.7323140351673906,
          0.006607641087876381,
          1.7473651609919887,
          0.4219988261940681,
          1.4191862517842977,
          -0.7566038891150196,
          -0.41425090121806823,
          3.0035553718893238,
          -1.3449509112854081,
          -0.44909665312229585,
          -0.14484253474706837,
          -1.62510198227339,
          0.513343071179874,
          0.10057721954931076,
          -0.3347821761196757,
          -0.2056135190586056,
          1.522708283114086,
          -0.9610873885231529,
          0.3801472992208391,
          -0.26196111219286417,
          1.5602775206755128,
          -0.5837342554198951,
          0.42352589486444703,
          -0.3595438735331036,
          0.42050074494523526,
          0.48865650230846835,
          -0.4435686363074531,
          -1.2356577354562504,
          -0.040859602804632925,
          0.559282291459184,
          0.12464642337136354,
          -0.15108892936597226,
          1.7478728236278007,
          -0.30778670631463906,
          -0.19881792903994983,
          0.9365043151652537,
          0.0853259717415844,
          0.4357469077004661,
          0.9373712100633341,
          0.8836339180532669,
          -1.1235502320579935,
          -0.9786059330900005,
          -0.45891658939469926
         ],
         "xaxis": "x10",
         "y": [
          1.1294338268005901,
          -1.887572133913162,
          -1.085188366556874,
          1.2441200502444267,
          1.5459320960380774,
          -0.4988637936723765,
          -0.1577437548664111,
          0.09020622464636908,
          -0.27151571164654525,
          -0.18975644415964288,
          -0.6699686461843579,
          2.296747020407923,
          0.05130330800056149,
          -2.4442640983583517,
          1.2389016903456653,
          -0.18944434352683967,
          0.6053072348106463,
          -1.2524285923701526,
          1.3933747650509871,
          0.49202062210322245,
          0.257957107145455,
          1.1220240799018353,
          -1.718931138709767,
          0.5951710932559078,
          0.11425858220558911,
          -0.8562861220154547,
          -1.4738005214000116,
          0.07242468226824243,
          1.809544160579259,
          -0.6873950236870673,
          -0.6536284677564498,
          -0.9602739090100308,
          -0.34724078991539603,
          0.5388518809564495,
          -2.173526797590024,
          0.8355229097644048,
          -0.897943250330798,
          0.5450735887174946,
          -0.9372387110558424,
          -1.112549270349293,
          -0.702726815470619,
          0.7325129076485717,
          -0.17369932388406342,
          0.09773400489425473,
          -0.22942079872978982,
          0.1703871787161514,
          -2.1665240120693823,
          -0.7153513931660893,
          -0.6420652181842549,
          0.13465773936314834,
          0.8088113190400273,
          0.5531535072070709,
          -0.057563529228919684,
          -0.25600086262824917,
          -0.577007313856514,
          -0.8279579404389458,
          -0.8933546160692658,
          0.5656854641293453,
          -0.8399717143319536,
          -0.32430624375610345,
          -1.0914288219776849,
          -0.18180695775916408,
          -0.9726438334197695,
          0.30271857357350695,
          -0.15572541628244654,
          1.3578671011251717,
          -0.6101904703382658,
          -0.6923693151136978,
          -0.43667702717984946,
          0.7848023269101269,
          0.3818528888035823,
          -1.0984175475606468,
          1.0060225751515335,
          -1.2234840944513203,
          0.9254079096802839,
          0.47078473569527546,
          2.437524598965109,
          0.4824326534477051,
          -0.22873571010776006,
          0.462812382296827,
          1.9991883779041422,
          -0.24198131614206647,
          0.10069737128065137,
          -0.9889128384993973,
          -0.9381482305703883,
          -1.9321036946732335,
          -0.4110046626450792,
          -1.0421297199384185,
          -1.6084817749223765,
          -0.296731532257138,
          -0.3804787106746805,
          0.2838245966238775,
          -1.138381207628285,
          -1.2861171735396557,
          0.6135467426774536,
          -1.0953398758579733,
          -1.8552417689885758,
          -0.8880496545159664,
          1.2285245683523007,
          -0.906758092599867
         ],
         "yaxis": "y10"
        },
        {
         "histfunc": "count",
         "histnorm": "",
         "marker": {
          "color": "rgba(50, 171, 96, 1.0)",
          "line": {
           "color": "#4D5663",
           "width": 1.3
          }
         },
         "name": "C",
         "nbinsx": 10,
         "opacity": 0.8,
         "orientation": "v",
         "type": "histogram",
         "x": [
          1.1294338268005901,
          -1.887572133913162,
          -1.085188366556874,
          1.2441200502444267,
          1.5459320960380774,
          -0.4988637936723765,
          -0.1577437548664111,
          0.09020622464636908,
          -0.27151571164654525,
          -0.18975644415964288,
          -0.6699686461843579,
          2.296747020407923,
          0.05130330800056149,
          -2.4442640983583517,
          1.2389016903456653,
          -0.18944434352683967,
          0.6053072348106463,
          -1.2524285923701526,
          1.3933747650509871,
          0.49202062210322245,
          0.257957107145455,
          1.1220240799018353,
          -1.718931138709767,
          0.5951710932559078,
          0.11425858220558911,
          -0.8562861220154547,
          -1.4738005214000116,
          0.07242468226824243,
          1.809544160579259,
          -0.6873950236870673,
          -0.6536284677564498,
          -0.9602739090100308,
          -0.34724078991539603,
          0.5388518809564495,
          -2.173526797590024,
          0.8355229097644048,
          -0.897943250330798,
          0.5450735887174946,
          -0.9372387110558424,
          -1.112549270349293,
          -0.702726815470619,
          0.7325129076485717,
          -0.17369932388406342,
          0.09773400489425473,
          -0.22942079872978982,
          0.1703871787161514,
          -2.1665240120693823,
          -0.7153513931660893,
          -0.6420652181842549,
          0.13465773936314834,
          0.8088113190400273,
          0.5531535072070709,
          -0.057563529228919684,
          -0.25600086262824917,
          -0.577007313856514,
          -0.8279579404389458,
          -0.8933546160692658,
          0.5656854641293453,
          -0.8399717143319536,
          -0.32430624375610345,
          -1.0914288219776849,
          -0.18180695775916408,
          -0.9726438334197695,
          0.30271857357350695,
          -0.15572541628244654,
          1.3578671011251717,
          -0.6101904703382658,
          -0.6923693151136978,
          -0.43667702717984946,
          0.7848023269101269,
          0.3818528888035823,
          -1.0984175475606468,
          1.0060225751515335,
          -1.2234840944513203,
          0.9254079096802839,
          0.47078473569527546,
          2.437524598965109,
          0.4824326534477051,
          -0.22873571010776006,
          0.462812382296827,
          1.9991883779041422,
          -0.24198131614206647,
          0.10069737128065137,
          -0.9889128384993973,
          -0.9381482305703883,
          -1.9321036946732335,
          -0.4110046626450792,
          -1.0421297199384185,
          -1.6084817749223765,
          -0.296731532257138,
          -0.3804787106746805,
          0.2838245966238775,
          -1.138381207628285,
          -1.2861171735396557,
          0.6135467426774536,
          -1.0953398758579733,
          -1.8552417689885758,
          -0.8880496545159664,
          1.2285245683523007,
          -0.906758092599867
         ],
         "xaxis": "x11",
         "yaxis": "y11"
        },
        {
         "line": {
          "color": "rgba(128, 128, 128, 1.0)",
          "dash": "solid",
          "shape": "linear",
          "width": 1.3
         },
         "marker": {
          "size": 2,
          "symbol": "circle"
         },
         "mode": "markers",
         "name": "C",
         "text": "",
         "type": "scatter",
         "x": [
          -0.3005660290796793,
          0.4690410684946249,
          -0.15686784605172588,
          0.34597968254358424,
          -0.8765272729371686,
          1.0578142148171377,
          1.1517833751948285,
          -0.9059399369573186,
          0.6559696282037321,
          0.8660618634624208,
          0.9298634275370239,
          -0.4036806650429973,
          2.0831763476256464,
          2.236332687234384,
          0.1023211477173691,
          0.673849289359737,
          1.4058839722240843,
          -1.5472002402660305,
          0.2242403905844482,
          0.9577374008703127,
          0.012576660713810802,
          -1.2054267184605332,
          -1.835374218557789,
          0.820394938928055,
          -0.3678435146878748,
          1.5680299954819024,
          0.2567420393462134,
          -1.8412356071911151,
          0.15224791026731652,
          0.8689689475570724,
          0.6199987051206256,
          0.08520560340375176,
          1.8672640839451167,
          0.7216926846091692,
          -0.6353257802654373,
          -0.2307027271462637,
          -0.6565636798272065,
          -2.24020902822671,
          -0.8625622473890274,
          1.0129263016287262,
          0.3756742179574329,
          -1.0591502767295813,
          0.3098859743806808,
          -0.120096595893609,
          1.3990380568406269,
          -0.4347703785963267,
          -0.9398151287733784,
          0.4950357210179923,
          0.4800437963115811,
          0.8282016946835207,
          0.0008638232858400742,
          0.8947718662025472,
          -0.7388662047798948,
          -0.7244205136277834,
          -1.0436174072116249,
          -0.30583914096101333,
          -0.8144962732005774,
          0.5923749632389562,
          0.9882575009645511,
          -1.5281723458094598,
          0.874250864706059,
          -0.45204143281161246,
          0.8068987810944247,
          0.28410008734849235,
          1.5517908672621392,
          -0.5057124791407088,
          0.7008348403356799,
          -0.12797976246664364,
          0.6393289239677991,
          -0.4281270518755398,
          -0.5252675809214842,
          -0.9401994595911041,
          -0.01297658993896751,
          -0.06836163379373286,
          1.6801609319042026,
          -1.599265119876865,
          0.7375891078115318,
          -0.06889510467951712,
          0.5805253856391505,
          -0.6058305951461466,
          -1.9080405994625778,
          -1.596579305185901,
          0.49248475294184624,
          0.7534647853327919,
          -0.8874422957908504,
          0.9537799052764699,
          1.2999088457279604,
          -0.03936343150833903,
          0.536088725542492,
          0.666016137641211,
          0.8020667031064855,
          -0.03837550627684842,
          -2.217797311811609,
          -0.6615233168351068,
          0.5423968297678927,
          -0.29740582382476405,
          1.9159748872217595,
          -0.010257753016069099,
          -0.6698239566159488,
          0.5516997270369369
         ],
         "xaxis": "x12",
         "y": [
          1.1294338268005901,
          -1.887572133913162,
          -1.085188366556874,
          1.2441200502444267,
          1.5459320960380774,
          -0.4988637936723765,
          -0.1577437548664111,
          0.09020622464636908,
          -0.27151571164654525,
          -0.18975644415964288,
          -0.6699686461843579,
          2.296747020407923,
          0.05130330800056149,
          -2.4442640983583517,
          1.2389016903456653,
          -0.18944434352683967,
          0.6053072348106463,
          -1.2524285923701526,
          1.3933747650509871,
          0.49202062210322245,
          0.257957107145455,
          1.1220240799018353,
          -1.718931138709767,
          0.5951710932559078,
          0.11425858220558911,
          -0.8562861220154547,
          -1.4738005214000116,
          0.07242468226824243,
          1.809544160579259,
          -0.6873950236870673,
          -0.6536284677564498,
          -0.9602739090100308,
          -0.34724078991539603,
          0.5388518809564495,
          -2.173526797590024,
          0.8355229097644048,
          -0.897943250330798,
          0.5450735887174946,
          -0.9372387110558424,
          -1.112549270349293,
          -0.702726815470619,
          0.7325129076485717,
          -0.17369932388406342,
          0.09773400489425473,
          -0.22942079872978982,
          0.1703871787161514,
          -2.1665240120693823,
          -0.7153513931660893,
          -0.6420652181842549,
          0.13465773936314834,
          0.8088113190400273,
          0.5531535072070709,
          -0.057563529228919684,
          -0.25600086262824917,
          -0.577007313856514,
          -0.8279579404389458,
          -0.8933546160692658,
          0.5656854641293453,
          -0.8399717143319536,
          -0.32430624375610345,
          -1.0914288219776849,
          -0.18180695775916408,
          -0.9726438334197695,
          0.30271857357350695,
          -0.15572541628244654,
          1.3578671011251717,
          -0.6101904703382658,
          -0.6923693151136978,
          -0.43667702717984946,
          0.7848023269101269,
          0.3818528888035823,
          -1.0984175475606468,
          1.0060225751515335,
          -1.2234840944513203,
          0.9254079096802839,
          0.47078473569527546,
          2.437524598965109,
          0.4824326534477051,
          -0.22873571010776006,
          0.462812382296827,
          1.9991883779041422,
          -0.24198131614206647,
          0.10069737128065137,
          -0.9889128384993973,
          -0.9381482305703883,
          -1.9321036946732335,
          -0.4110046626450792,
          -1.0421297199384185,
          -1.6084817749223765,
          -0.296731532257138,
          -0.3804787106746805,
          0.2838245966238775,
          -1.138381207628285,
          -1.2861171735396557,
          0.6135467426774536,
          -1.0953398758579733,
          -1.8552417689885758,
          -0.8880496545159664,
          1.2285245683523007,
          -0.906758092599867
         ],
         "yaxis": "y12"
        },
        {
         "line": {
          "color": "rgba(128, 128, 128, 1.0)",
          "dash": "solid",
          "shape": "linear",
          "width": 1.3
         },
         "marker": {
          "size": 2,
          "symbol": "circle"
         },
         "mode": "markers",
         "name": "D",
         "text": "",
         "type": "scatter",
         "x": [
          -0.2941236145979744,
          -1.2055757622417584,
          1.6739059144807003,
          0.28697682921847084,
          0.41395886627795436,
          0.3258350572180524,
          0.5252390425920379,
          -0.5736684755822246,
          -0.5700688362477726,
          0.3645225874268893,
          -1.1647288821832336,
          0.08451189819558057,
          -0.744180002462252,
          -1.2151693534115133,
          -1.2344417644275725,
          -1.2727768086178122,
          -1.109210674025156,
          1.8561357436671402,
          -0.5743628582238592,
          -1.2869710643656933,
          0.5654720433196601,
          -0.06184951055573469,
          1.5426557670599157,
          1.5183339797624478,
          1.1914744908087287,
          0.6123027103271466,
          -1.1128315368989694,
          0.34211525618759664,
          -1.5427770588082996,
          -1.8095088920475255,
          0.8914290648608734,
          0.5707299722117781,
          0.4150615465660746,
          -0.15779149891157998,
          -0.37577490575303407,
          -1.3493202029071392,
          -2.149745000938564,
          -0.1665954222704084,
          -0.14825310781359657,
          0.9726743509758792,
          -0.4263313438545262,
          -0.8371332285968943,
          -1.00910939339172,
          0.9687066851117567,
          -0.31949200585851995,
          0.3811634222615911,
          -0.8701558140039154,
          0.4530440030691015,
          0.17712571854006096,
          -1.2943118538026293,
          -0.9440276852622483,
          -1.6140737385993082,
          -0.5820649119257266,
          2.024328108515571,
          0.09159763211659076,
          0.8699658570083942,
          -1.9701241141643424,
          1.7690020942672438,
          0.5602034891518604,
          0.45164160230701056,
          -0.028028443485482134,
          0.3885875044711814,
          0.018490601080752518,
          2.8676657947150765,
          -0.8816260097799625,
          0.5214180441747942,
          -0.2093671541431842,
          0.415228606814977,
          -1.7884617684009187,
          -1.1882225177627814,
          -0.684762457408276,
          -1.9832688668725418,
          0.9310360124815191,
          -0.5457278756057826,
          -0.710547760985368,
          -0.5446929238244186,
          -0.19630294700548082,
          -1.44280738406763,
          -0.8331241658672963,
          -0.45235685481235416,
          -0.6728883540615982,
          0.3344908135970183,
          0.7970971944919325,
          1.3589465498265694,
          1.6675265431050559,
          -0.24149016625430927,
          0.3735431989596485,
          2.327748140643649,
          -0.1382155746471087,
          -0.7712757639353897,
          -0.4514863772912042,
          -0.46245415819363367,
          1.6861611281399966,
          0.3070846956990549,
          -0.7986246032710236,
          -0.37716556826567615,
          0.027142910172499594,
          -0.16862571807318036,
          -2.610727992542222,
          1.8581627120087132
         ],
         "xaxis": "x13",
         "y": [
          -0.3005660290796793,
          0.4690410684946249,
          -0.15686784605172588,
          0.34597968254358424,
          -0.8765272729371686,
          1.0578142148171377,
          1.1517833751948285,
          -0.9059399369573186,
          0.6559696282037321,
          0.8660618634624208,
          0.9298634275370239,
          -0.4036806650429973,
          2.0831763476256464,
          2.236332687234384,
          0.1023211477173691,
          0.673849289359737,
          1.4058839722240843,
          -1.5472002402660305,
          0.2242403905844482,
          0.9577374008703127,
          0.012576660713810802,
          -1.2054267184605332,
          -1.835374218557789,
          0.820394938928055,
          -0.3678435146878748,
          1.5680299954819024,
          0.2567420393462134,
          -1.8412356071911151,
          0.15224791026731652,
          0.8689689475570724,
          0.6199987051206256,
          0.08520560340375176,
          1.8672640839451167,
          0.7216926846091692,
          -0.6353257802654373,
          -0.2307027271462637,
          -0.6565636798272065,
          -2.24020902822671,
          -0.8625622473890274,
          1.0129263016287262,
          0.3756742179574329,
          -1.0591502767295813,
          0.3098859743806808,
          -0.120096595893609,
          1.3990380568406269,
          -0.4347703785963267,
          -0.9398151287733784,
          0.4950357210179923,
          0.4800437963115811,
          0.8282016946835207,
          0.0008638232858400742,
          0.8947718662025472,
          -0.7388662047798948,
          -0.7244205136277834,
          -1.0436174072116249,
          -0.30583914096101333,
          -0.8144962732005774,
          0.5923749632389562,
          0.9882575009645511,
          -1.5281723458094598,
          0.874250864706059,
          -0.45204143281161246,
          0.8068987810944247,
          0.28410008734849235,
          1.5517908672621392,
          -0.5057124791407088,
          0.7008348403356799,
          -0.12797976246664364,
          0.6393289239677991,
          -0.4281270518755398,
          -0.5252675809214842,
          -0.9401994595911041,
          -0.01297658993896751,
          -0.06836163379373286,
          1.6801609319042026,
          -1.599265119876865,
          0.7375891078115318,
          -0.06889510467951712,
          0.5805253856391505,
          -0.6058305951461466,
          -1.9080405994625778,
          -1.596579305185901,
          0.49248475294184624,
          0.7534647853327919,
          -0.8874422957908504,
          0.9537799052764699,
          1.2999088457279604,
          -0.03936343150833903,
          0.536088725542492,
          0.666016137641211,
          0.8020667031064855,
          -0.03837550627684842,
          -2.217797311811609,
          -0.6615233168351068,
          0.5423968297678927,
          -0.29740582382476405,
          1.9159748872217595,
          -0.010257753016069099,
          -0.6698239566159488,
          0.5516997270369369
         ],
         "yaxis": "y13"
        },
        {
         "line": {
          "color": "rgba(128, 128, 128, 1.0)",
          "dash": "solid",
          "shape": "linear",
          "width": 1.3
         },
         "marker": {
          "size": 2,
          "symbol": "circle"
         },
         "mode": "markers",
         "name": "D",
         "text": "",
         "type": "scatter",
         "x": [
          1.1232035304834727,
          -0.027646444578447983,
          -0.08398900118924442,
          -0.15149207680460008,
          1.3297811358905003,
          -0.3588283929141447,
          -0.09241960340912399,
          0.4144283948863819,
          -0.3242812375394934,
          2.3983374404567153,
          0.06909517875539394,
          -0.9047885203720661,
          -0.3265029067093802,
          1.7107990386995107,
          -0.10882256063664028,
          0.4897875303308817,
          -1.0135894728524193,
          1.469438190961238,
          0.036116091249880994,
          -0.8489964394716256,
          1.1045547892308794,
          -2.733992479927418,
          0.32155595967427597,
          1.1730656687096301,
          0.08919563895231453,
          -0.25087110936678997,
          0.3482220702050979,
          -1.7806719298663185,
          -0.4513396599289586,
          -1.9081904190159555,
          -0.3819735660336761,
          0.8622929704051494,
          0.6643974389859816,
          -0.10482717044736548,
          -0.2978187641213,
          0.38498283608367456,
          -0.2923058128870225,
          -1.8272050682618728,
          0.9994086669080886,
          0.22725335504437277,
          0.543937236379081,
          0.07227911719372908,
          1.5237616967102592,
          -0.9532437020079461,
          -0.15113803558243055,
          0.2617176444724291,
          -0.24506613212165868,
          -0.5207569261079663,
          -0.8532011988899243,
          1.0864728378980126,
          0.4654840803605472,
          0.09625462622839667,
          -0.7357046380750296,
          0.030202365540960157,
          0.9262509241518855,
          1.9593338921574195,
          -1.3661245536871027,
          0.7323140351673906,
          0.006607641087876381,
          1.7473651609919887,
          0.4219988261940681,
          1.4191862517842977,
          -0.7566038891150196,
          -0.41425090121806823,
          3.0035553718893238,
          -1.3449509112854081,
          -0.44909665312229585,
          -0.14484253474706837,
          -1.62510198227339,
          0.513343071179874,
          0.10057721954931076,
          -0.3347821761196757,
          -0.2056135190586056,
          1.522708283114086,
          -0.9610873885231529,
          0.3801472992208391,
          -0.26196111219286417,
          1.5602775206755128,
          -0.5837342554198951,
          0.42352589486444703,
          -0.3595438735331036,
          0.42050074494523526,
          0.48865650230846835,
          -0.4435686363074531,
          -1.2356577354562504,
          -0.040859602804632925,
          0.559282291459184,
          0.12464642337136354,
          -0.15108892936597226,
          1.7478728236278007,
          -0.30778670631463906,
          -0.19881792903994983,
          0.9365043151652537,
          0.0853259717415844,
          0.4357469077004661,
          0.9373712100633341,
          0.8836339180532669,
          -1.1235502320579935,
          -0.9786059330900005,
          -0.45891658939469926
         ],
         "xaxis": "x14",
         "y": [
          -0.3005660290796793,
          0.4690410684946249,
          -0.15686784605172588,
          0.34597968254358424,
          -0.8765272729371686,
          1.0578142148171377,
          1.1517833751948285,
          -0.9059399369573186,
          0.6559696282037321,
          0.8660618634624208,
          0.9298634275370239,
          -0.4036806650429973,
          2.0831763476256464,
          2.236332687234384,
          0.1023211477173691,
          0.673849289359737,
          1.4058839722240843,
          -1.5472002402660305,
          0.2242403905844482,
          0.9577374008703127,
          0.012576660713810802,
          -1.2054267184605332,
          -1.835374218557789,
          0.820394938928055,
          -0.3678435146878748,
          1.5680299954819024,
          0.2567420393462134,
          -1.8412356071911151,
          0.15224791026731652,
          0.8689689475570724,
          0.6199987051206256,
          0.08520560340375176,
          1.8672640839451167,
          0.7216926846091692,
          -0.6353257802654373,
          -0.2307027271462637,
          -0.6565636798272065,
          -2.24020902822671,
          -0.8625622473890274,
          1.0129263016287262,
          0.3756742179574329,
          -1.0591502767295813,
          0.3098859743806808,
          -0.120096595893609,
          1.3990380568406269,
          -0.4347703785963267,
          -0.9398151287733784,
          0.4950357210179923,
          0.4800437963115811,
          0.8282016946835207,
          0.0008638232858400742,
          0.8947718662025472,
          -0.7388662047798948,
          -0.7244205136277834,
          -1.0436174072116249,
          -0.30583914096101333,
          -0.8144962732005774,
          0.5923749632389562,
          0.9882575009645511,
          -1.5281723458094598,
          0.874250864706059,
          -0.45204143281161246,
          0.8068987810944247,
          0.28410008734849235,
          1.5517908672621392,
          -0.5057124791407088,
          0.7008348403356799,
          -0.12797976246664364,
          0.6393289239677991,
          -0.4281270518755398,
          -0.5252675809214842,
          -0.9401994595911041,
          -0.01297658993896751,
          -0.06836163379373286,
          1.6801609319042026,
          -1.599265119876865,
          0.7375891078115318,
          -0.06889510467951712,
          0.5805253856391505,
          -0.6058305951461466,
          -1.9080405994625778,
          -1.596579305185901,
          0.49248475294184624,
          0.7534647853327919,
          -0.8874422957908504,
          0.9537799052764699,
          1.2999088457279604,
          -0.03936343150833903,
          0.536088725542492,
          0.666016137641211,
          0.8020667031064855,
          -0.03837550627684842,
          -2.217797311811609,
          -0.6615233168351068,
          0.5423968297678927,
          -0.29740582382476405,
          1.9159748872217595,
          -0.010257753016069099,
          -0.6698239566159488,
          0.5516997270369369
         ],
         "yaxis": "y14"
        },
        {
         "line": {
          "color": "rgba(128, 128, 128, 1.0)",
          "dash": "solid",
          "shape": "linear",
          "width": 1.3
         },
         "marker": {
          "size": 2,
          "symbol": "circle"
         },
         "mode": "markers",
         "name": "D",
         "text": "",
         "type": "scatter",
         "x": [
          1.1294338268005901,
          -1.887572133913162,
          -1.085188366556874,
          1.2441200502444267,
          1.5459320960380774,
          -0.4988637936723765,
          -0.1577437548664111,
          0.09020622464636908,
          -0.27151571164654525,
          -0.18975644415964288,
          -0.6699686461843579,
          2.296747020407923,
          0.05130330800056149,
          -2.4442640983583517,
          1.2389016903456653,
          -0.18944434352683967,
          0.6053072348106463,
          -1.2524285923701526,
          1.3933747650509871,
          0.49202062210322245,
          0.257957107145455,
          1.1220240799018353,
          -1.718931138709767,
          0.5951710932559078,
          0.11425858220558911,
          -0.8562861220154547,
          -1.4738005214000116,
          0.07242468226824243,
          1.809544160579259,
          -0.6873950236870673,
          -0.6536284677564498,
          -0.9602739090100308,
          -0.34724078991539603,
          0.5388518809564495,
          -2.173526797590024,
          0.8355229097644048,
          -0.897943250330798,
          0.5450735887174946,
          -0.9372387110558424,
          -1.112549270349293,
          -0.702726815470619,
          0.7325129076485717,
          -0.17369932388406342,
          0.09773400489425473,
          -0.22942079872978982,
          0.1703871787161514,
          -2.1665240120693823,
          -0.7153513931660893,
          -0.6420652181842549,
          0.13465773936314834,
          0.8088113190400273,
          0.5531535072070709,
          -0.057563529228919684,
          -0.25600086262824917,
          -0.577007313856514,
          -0.8279579404389458,
          -0.8933546160692658,
          0.5656854641293453,
          -0.8399717143319536,
          -0.32430624375610345,
          -1.0914288219776849,
          -0.18180695775916408,
          -0.9726438334197695,
          0.30271857357350695,
          -0.15572541628244654,
          1.3578671011251717,
          -0.6101904703382658,
          -0.6923693151136978,
          -0.43667702717984946,
          0.7848023269101269,
          0.3818528888035823,
          -1.0984175475606468,
          1.0060225751515335,
          -1.2234840944513203,
          0.9254079096802839,
          0.47078473569527546,
          2.437524598965109,
          0.4824326534477051,
          -0.22873571010776006,
          0.462812382296827,
          1.9991883779041422,
          -0.24198131614206647,
          0.10069737128065137,
          -0.9889128384993973,
          -0.9381482305703883,
          -1.9321036946732335,
          -0.4110046626450792,
          -1.0421297199384185,
          -1.6084817749223765,
          -0.296731532257138,
          -0.3804787106746805,
          0.2838245966238775,
          -1.138381207628285,
          -1.2861171735396557,
          0.6135467426774536,
          -1.0953398758579733,
          -1.8552417689885758,
          -0.8880496545159664,
          1.2285245683523007,
          -0.906758092599867
         ],
         "xaxis": "x15",
         "y": [
          -0.3005660290796793,
          0.4690410684946249,
          -0.15686784605172588,
          0.34597968254358424,
          -0.8765272729371686,
          1.0578142148171377,
          1.1517833751948285,
          -0.9059399369573186,
          0.6559696282037321,
          0.8660618634624208,
          0.9298634275370239,
          -0.4036806650429973,
          2.0831763476256464,
          2.236332687234384,
          0.1023211477173691,
          0.673849289359737,
          1.4058839722240843,
          -1.5472002402660305,
          0.2242403905844482,
          0.9577374008703127,
          0.012576660713810802,
          -1.2054267184605332,
          -1.835374218557789,
          0.820394938928055,
          -0.3678435146878748,
          1.5680299954819024,
          0.2567420393462134,
          -1.8412356071911151,
          0.15224791026731652,
          0.8689689475570724,
          0.6199987051206256,
          0.08520560340375176,
          1.8672640839451167,
          0.7216926846091692,
          -0.6353257802654373,
          -0.2307027271462637,
          -0.6565636798272065,
          -2.24020902822671,
          -0.8625622473890274,
          1.0129263016287262,
          0.3756742179574329,
          -1.0591502767295813,
          0.3098859743806808,
          -0.120096595893609,
          1.3990380568406269,
          -0.4347703785963267,
          -0.9398151287733784,
          0.4950357210179923,
          0.4800437963115811,
          0.8282016946835207,
          0.0008638232858400742,
          0.8947718662025472,
          -0.7388662047798948,
          -0.7244205136277834,
          -1.0436174072116249,
          -0.30583914096101333,
          -0.8144962732005774,
          0.5923749632389562,
          0.9882575009645511,
          -1.5281723458094598,
          0.874250864706059,
          -0.45204143281161246,
          0.8068987810944247,
          0.28410008734849235,
          1.5517908672621392,
          -0.5057124791407088,
          0.7008348403356799,
          -0.12797976246664364,
          0.6393289239677991,
          -0.4281270518755398,
          -0.5252675809214842,
          -0.9401994595911041,
          -0.01297658993896751,
          -0.06836163379373286,
          1.6801609319042026,
          -1.599265119876865,
          0.7375891078115318,
          -0.06889510467951712,
          0.5805253856391505,
          -0.6058305951461466,
          -1.9080405994625778,
          -1.596579305185901,
          0.49248475294184624,
          0.7534647853327919,
          -0.8874422957908504,
          0.9537799052764699,
          1.2999088457279604,
          -0.03936343150833903,
          0.536088725542492,
          0.666016137641211,
          0.8020667031064855,
          -0.03837550627684842,
          -2.217797311811609,
          -0.6615233168351068,
          0.5423968297678927,
          -0.29740582382476405,
          1.9159748872217595,
          -0.010257753016069099,
          -0.6698239566159488,
          0.5516997270369369
         ],
         "yaxis": "y15"
        },
        {
         "histfunc": "count",
         "histnorm": "",
         "marker": {
          "color": "rgba(128, 0, 128, 1.0)",
          "line": {
           "color": "#4D5663",
           "width": 1.3
          }
         },
         "name": "D",
         "nbinsx": 10,
         "opacity": 0.8,
         "orientation": "v",
         "type": "histogram",
         "x": [
          -0.3005660290796793,
          0.4690410684946249,
          -0.15686784605172588,
          0.34597968254358424,
          -0.8765272729371686,
          1.0578142148171377,
          1.1517833751948285,
          -0.9059399369573186,
          0.6559696282037321,
          0.8660618634624208,
          0.9298634275370239,
          -0.4036806650429973,
          2.0831763476256464,
          2.236332687234384,
          0.1023211477173691,
          0.673849289359737,
          1.4058839722240843,
          -1.5472002402660305,
          0.2242403905844482,
          0.9577374008703127,
          0.012576660713810802,
          -1.2054267184605332,
          -1.835374218557789,
          0.820394938928055,
          -0.3678435146878748,
          1.5680299954819024,
          0.2567420393462134,
          -1.8412356071911151,
          0.15224791026731652,
          0.8689689475570724,
          0.6199987051206256,
          0.08520560340375176,
          1.8672640839451167,
          0.7216926846091692,
          -0.6353257802654373,
          -0.2307027271462637,
          -0.6565636798272065,
          -2.24020902822671,
          -0.8625622473890274,
          1.0129263016287262,
          0.3756742179574329,
          -1.0591502767295813,
          0.3098859743806808,
          -0.120096595893609,
          1.3990380568406269,
          -0.4347703785963267,
          -0.9398151287733784,
          0.4950357210179923,
          0.4800437963115811,
          0.8282016946835207,
          0.0008638232858400742,
          0.8947718662025472,
          -0.7388662047798948,
          -0.7244205136277834,
          -1.0436174072116249,
          -0.30583914096101333,
          -0.8144962732005774,
          0.5923749632389562,
          0.9882575009645511,
          -1.5281723458094598,
          0.874250864706059,
          -0.45204143281161246,
          0.8068987810944247,
          0.28410008734849235,
          1.5517908672621392,
          -0.5057124791407088,
          0.7008348403356799,
          -0.12797976246664364,
          0.6393289239677991,
          -0.4281270518755398,
          -0.5252675809214842,
          -0.9401994595911041,
          -0.01297658993896751,
          -0.06836163379373286,
          1.6801609319042026,
          -1.599265119876865,
          0.7375891078115318,
          -0.06889510467951712,
          0.5805253856391505,
          -0.6058305951461466,
          -1.9080405994625778,
          -1.596579305185901,
          0.49248475294184624,
          0.7534647853327919,
          -0.8874422957908504,
          0.9537799052764699,
          1.2999088457279604,
          -0.03936343150833903,
          0.536088725542492,
          0.666016137641211,
          0.8020667031064855,
          -0.03837550627684842,
          -2.217797311811609,
          -0.6615233168351068,
          0.5423968297678927,
          -0.29740582382476405,
          1.9159748872217595,
          -0.010257753016069099,
          -0.6698239566159488,
          0.5516997270369369
         ],
         "xaxis": "x16",
         "yaxis": "y16"
        }
       ],
       "layout": {
        "bargap": 0.02,
        "legend": {
         "bgcolor": "#F5F6F9",
         "font": {
          "color": "#4D5663"
         }
        },
        "paper_bgcolor": "#F5F6F9",
        "plot_bgcolor": "#F5F6F9",
        "showlegend": false,
        "template": {
         "data": {
          "bar": [
           {
            "error_x": {
             "color": "#2a3f5f"
            },
            "error_y": {
             "color": "#2a3f5f"
            },
            "marker": {
             "line": {
              "color": "#E5ECF6",
              "width": 0.5
             }
            },
            "type": "bar"
           }
          ],
          "barpolar": [
           {
            "marker": {
             "line": {
              "color": "#E5ECF6",
              "width": 0.5
             }
            },
            "type": "barpolar"
           }
          ],
          "carpet": [
           {
            "aaxis": {
             "endlinecolor": "#2a3f5f",
             "gridcolor": "white",
             "linecolor": "white",
             "minorgridcolor": "white",
             "startlinecolor": "#2a3f5f"
            },
            "baxis": {
             "endlinecolor": "#2a3f5f",
             "gridcolor": "white",
             "linecolor": "white",
             "minorgridcolor": "white",
             "startlinecolor": "#2a3f5f"
            },
            "type": "carpet"
           }
          ],
          "choropleth": [
           {
            "colorbar": {
             "outlinewidth": 0,
             "ticks": ""
            },
            "type": "choropleth"
           }
          ],
          "contour": [
           {
            "colorbar": {
             "outlinewidth": 0,
             "ticks": ""
            },
            "colorscale": [
             [
              0,
              "#0d0887"
             ],
             [
              0.1111111111111111,
              "#46039f"
             ],
             [
              0.2222222222222222,
              "#7201a8"
             ],
             [
              0.3333333333333333,
              "#9c179e"
             ],
             [
              0.4444444444444444,
              "#bd3786"
             ],
             [
              0.5555555555555556,
              "#d8576b"
             ],
             [
              0.6666666666666666,
              "#ed7953"
             ],
             [
              0.7777777777777778,
              "#fb9f3a"
             ],
             [
              0.8888888888888888,
              "#fdca26"
             ],
             [
              1,
              "#f0f921"
             ]
            ],
            "type": "contour"
           }
          ],
          "contourcarpet": [
           {
            "colorbar": {
             "outlinewidth": 0,
             "ticks": ""
            },
            "type": "contourcarpet"
           }
          ],
          "heatmap": [
           {
            "colorbar": {
             "outlinewidth": 0,
             "ticks": ""
            },
            "colorscale": [
             [
              0,
              "#0d0887"
             ],
             [
              0.1111111111111111,
              "#46039f"
             ],
             [
              0.2222222222222222,
              "#7201a8"
             ],
             [
              0.3333333333333333,
              "#9c179e"
             ],
             [
              0.4444444444444444,
              "#bd3786"
             ],
             [
              0.5555555555555556,
              "#d8576b"
             ],
             [
              0.6666666666666666,
              "#ed7953"
             ],
             [
              0.7777777777777778,
              "#fb9f3a"
             ],
             [
              0.8888888888888888,
              "#fdca26"
             ],
             [
              1,
              "#f0f921"
             ]
            ],
            "type": "heatmap"
           }
          ],
          "heatmapgl": [
           {
            "colorbar": {
             "outlinewidth": 0,
             "ticks": ""
            },
            "colorscale": [
             [
              0,
              "#0d0887"
             ],
             [
              0.1111111111111111,
              "#46039f"
             ],
             [
              0.2222222222222222,
              "#7201a8"
             ],
             [
              0.3333333333333333,
              "#9c179e"
             ],
             [
              0.4444444444444444,
              "#bd3786"
             ],
             [
              0.5555555555555556,
              "#d8576b"
             ],
             [
              0.6666666666666666,
              "#ed7953"
             ],
             [
              0.7777777777777778,
              "#fb9f3a"
             ],
             [
              0.8888888888888888,
              "#fdca26"
             ],
             [
              1,
              "#f0f921"
             ]
            ],
            "type": "heatmapgl"
           }
          ],
          "histogram": [
           {
            "marker": {
             "colorbar": {
              "outlinewidth": 0,
              "ticks": ""
             }
            },
            "type": "histogram"
           }
          ],
          "histogram2d": [
           {
            "colorbar": {
             "outlinewidth": 0,
             "ticks": ""
            },
            "colorscale": [
             [
              0,
              "#0d0887"
             ],
             [
              0.1111111111111111,
              "#46039f"
             ],
             [
              0.2222222222222222,
              "#7201a8"
             ],
             [
              0.3333333333333333,
              "#9c179e"
             ],
             [
              0.4444444444444444,
              "#bd3786"
             ],
             [
              0.5555555555555556,
              "#d8576b"
             ],
             [
              0.6666666666666666,
              "#ed7953"
             ],
             [
              0.7777777777777778,
              "#fb9f3a"
             ],
             [
              0.8888888888888888,
              "#fdca26"
             ],
             [
              1,
              "#f0f921"
             ]
            ],
            "type": "histogram2d"
           }
          ],
          "histogram2dcontour": [
           {
            "colorbar": {
             "outlinewidth": 0,
             "ticks": ""
            },
            "colorscale": [
             [
              0,
              "#0d0887"
             ],
             [
              0.1111111111111111,
              "#46039f"
             ],
             [
              0.2222222222222222,
              "#7201a8"
             ],
             [
              0.3333333333333333,
              "#9c179e"
             ],
             [
              0.4444444444444444,
              "#bd3786"
             ],
             [
              0.5555555555555556,
              "#d8576b"
             ],
             [
              0.6666666666666666,
              "#ed7953"
             ],
             [
              0.7777777777777778,
              "#fb9f3a"
             ],
             [
              0.8888888888888888,
              "#fdca26"
             ],
             [
              1,
              "#f0f921"
             ]
            ],
            "type": "histogram2dcontour"
           }
          ],
          "mesh3d": [
           {
            "colorbar": {
             "outlinewidth": 0,
             "ticks": ""
            },
            "type": "mesh3d"
           }
          ],
          "parcoords": [
           {
            "line": {
             "colorbar": {
              "outlinewidth": 0,
              "ticks": ""
             }
            },
            "type": "parcoords"
           }
          ],
          "pie": [
           {
            "automargin": true,
            "type": "pie"
           }
          ],
          "scatter": [
           {
            "marker": {
             "colorbar": {
              "outlinewidth": 0,
              "ticks": ""
             }
            },
            "type": "scatter"
           }
          ],
          "scatter3d": [
           {
            "line": {
             "colorbar": {
              "outlinewidth": 0,
              "ticks": ""
             }
            },
            "marker": {
             "colorbar": {
              "outlinewidth": 0,
              "ticks": ""
             }
            },
            "type": "scatter3d"
           }
          ],
          "scattercarpet": [
           {
            "marker": {
             "colorbar": {
              "outlinewidth": 0,
              "ticks": ""
             }
            },
            "type": "scattercarpet"
           }
          ],
          "scattergeo": [
           {
            "marker": {
             "colorbar": {
              "outlinewidth": 0,
              "ticks": ""
             }
            },
            "type": "scattergeo"
           }
          ],
          "scattergl": [
           {
            "marker": {
             "colorbar": {
              "outlinewidth": 0,
              "ticks": ""
             }
            },
            "type": "scattergl"
           }
          ],
          "scattermapbox": [
           {
            "marker": {
             "colorbar": {
              "outlinewidth": 0,
              "ticks": ""
             }
            },
            "type": "scattermapbox"
           }
          ],
          "scatterpolar": [
           {
            "marker": {
             "colorbar": {
              "outlinewidth": 0,
              "ticks": ""
             }
            },
            "type": "scatterpolar"
           }
          ],
          "scatterpolargl": [
           {
            "marker": {
             "colorbar": {
              "outlinewidth": 0,
              "ticks": ""
             }
            },
            "type": "scatterpolargl"
           }
          ],
          "scatterternary": [
           {
            "marker": {
             "colorbar": {
              "outlinewidth": 0,
              "ticks": ""
             }
            },
            "type": "scatterternary"
           }
          ],
          "surface": [
           {
            "colorbar": {
             "outlinewidth": 0,
             "ticks": ""
            },
            "colorscale": [
             [
              0,
              "#0d0887"
             ],
             [
              0.1111111111111111,
              "#46039f"
             ],
             [
              0.2222222222222222,
              "#7201a8"
             ],
             [
              0.3333333333333333,
              "#9c179e"
             ],
             [
              0.4444444444444444,
              "#bd3786"
             ],
             [
              0.5555555555555556,
              "#d8576b"
             ],
             [
              0.6666666666666666,
              "#ed7953"
             ],
             [
              0.7777777777777778,
              "#fb9f3a"
             ],
             [
              0.8888888888888888,
              "#fdca26"
             ],
             [
              1,
              "#f0f921"
             ]
            ],
            "type": "surface"
           }
          ],
          "table": [
           {
            "cells": {
             "fill": {
              "color": "#EBF0F8"
             },
             "line": {
              "color": "white"
             }
            },
            "header": {
             "fill": {
              "color": "#C8D4E3"
             },
             "line": {
              "color": "white"
             }
            },
            "type": "table"
           }
          ]
         },
         "layout": {
          "annotationdefaults": {
           "arrowcolor": "#2a3f5f",
           "arrowhead": 0,
           "arrowwidth": 1
          },
          "autotypenumbers": "strict",
          "coloraxis": {
           "colorbar": {
            "outlinewidth": 0,
            "ticks": ""
           }
          },
          "colorscale": {
           "diverging": [
            [
             0,
             "#8e0152"
            ],
            [
             0.1,
             "#c51b7d"
            ],
            [
             0.2,
             "#de77ae"
            ],
            [
             0.3,
             "#f1b6da"
            ],
            [
             0.4,
             "#fde0ef"
            ],
            [
             0.5,
             "#f7f7f7"
            ],
            [
             0.6,
             "#e6f5d0"
            ],
            [
             0.7,
             "#b8e186"
            ],
            [
             0.8,
             "#7fbc41"
            ],
            [
             0.9,
             "#4d9221"
            ],
            [
             1,
             "#276419"
            ]
           ],
           "sequential": [
            [
             0,
             "#0d0887"
            ],
            [
             0.1111111111111111,
             "#46039f"
            ],
            [
             0.2222222222222222,
             "#7201a8"
            ],
            [
             0.3333333333333333,
             "#9c179e"
            ],
            [
             0.4444444444444444,
             "#bd3786"
            ],
            [
             0.5555555555555556,
             "#d8576b"
            ],
            [
             0.6666666666666666,
             "#ed7953"
            ],
            [
             0.7777777777777778,
             "#fb9f3a"
            ],
            [
             0.8888888888888888,
             "#fdca26"
            ],
            [
             1,
             "#f0f921"
            ]
           ],
           "sequentialminus": [
            [
             0,
             "#0d0887"
            ],
            [
             0.1111111111111111,
             "#46039f"
            ],
            [
             0.2222222222222222,
             "#7201a8"
            ],
            [
             0.3333333333333333,
             "#9c179e"
            ],
            [
             0.4444444444444444,
             "#bd3786"
            ],
            [
             0.5555555555555556,
             "#d8576b"
            ],
            [
             0.6666666666666666,
             "#ed7953"
            ],
            [
             0.7777777777777778,
             "#fb9f3a"
            ],
            [
             0.8888888888888888,
             "#fdca26"
            ],
            [
             1,
             "#f0f921"
            ]
           ]
          },
          "colorway": [
           "#636efa",
           "#EF553B",
           "#00cc96",
           "#ab63fa",
           "#FFA15A",
           "#19d3f3",
           "#FF6692",
           "#B6E880",
           "#FF97FF",
           "#FECB52"
          ],
          "font": {
           "color": "#2a3f5f"
          },
          "geo": {
           "bgcolor": "white",
           "lakecolor": "white",
           "landcolor": "#E5ECF6",
           "showlakes": true,
           "showland": true,
           "subunitcolor": "white"
          },
          "hoverlabel": {
           "align": "left"
          },
          "hovermode": "closest",
          "mapbox": {
           "style": "light"
          },
          "paper_bgcolor": "white",
          "plot_bgcolor": "#E5ECF6",
          "polar": {
           "angularaxis": {
            "gridcolor": "white",
            "linecolor": "white",
            "ticks": ""
           },
           "bgcolor": "#E5ECF6",
           "radialaxis": {
            "gridcolor": "white",
            "linecolor": "white",
            "ticks": ""
           }
          },
          "scene": {
           "xaxis": {
            "backgroundcolor": "#E5ECF6",
            "gridcolor": "white",
            "gridwidth": 2,
            "linecolor": "white",
            "showbackground": true,
            "ticks": "",
            "zerolinecolor": "white"
           },
           "yaxis": {
            "backgroundcolor": "#E5ECF6",
            "gridcolor": "white",
            "gridwidth": 2,
            "linecolor": "white",
            "showbackground": true,
            "ticks": "",
            "zerolinecolor": "white"
           },
           "zaxis": {
            "backgroundcolor": "#E5ECF6",
            "gridcolor": "white",
            "gridwidth": 2,
            "linecolor": "white",
            "showbackground": true,
            "ticks": "",
            "zerolinecolor": "white"
           }
          },
          "shapedefaults": {
           "line": {
            "color": "#2a3f5f"
           }
          },
          "ternary": {
           "aaxis": {
            "gridcolor": "white",
            "linecolor": "white",
            "ticks": ""
           },
           "baxis": {
            "gridcolor": "white",
            "linecolor": "white",
            "ticks": ""
           },
           "bgcolor": "#E5ECF6",
           "caxis": {
            "gridcolor": "white",
            "linecolor": "white",
            "ticks": ""
           }
          },
          "title": {
           "x": 0.05
          },
          "xaxis": {
           "automargin": true,
           "gridcolor": "white",
           "linecolor": "white",
           "ticks": "",
           "title": {
            "standoff": 15
           },
           "zerolinecolor": "white",
           "zerolinewidth": 2
          },
          "yaxis": {
           "automargin": true,
           "gridcolor": "white",
           "linecolor": "white",
           "ticks": "",
           "title": {
            "standoff": 15
           },
           "zerolinecolor": "white",
           "zerolinewidth": 2
          }
         }
        },
        "title": {
         "font": {
          "color": "#4D5663"
         }
        },
        "xaxis": {
         "anchor": "y",
         "domain": [
          0,
          0.2125
         ],
         "gridcolor": "#E1E5ED",
         "showgrid": false,
         "tickfont": {
          "color": "#4D5663"
         },
         "title": {
          "font": {
           "color": "#4D5663"
          },
          "text": ""
         },
         "zerolinecolor": "#E1E5ED"
        },
        "xaxis10": {
         "anchor": "y10",
         "domain": [
          0.2625,
          0.475
         ],
         "gridcolor": "#E1E5ED",
         "showgrid": false,
         "tickfont": {
          "color": "#4D5663"
         },
         "title": {
          "font": {
           "color": "#4D5663"
          },
          "text": ""
         },
         "zerolinecolor": "#E1E5ED"
        },
        "xaxis11": {
         "anchor": "y11",
         "domain": [
          0.525,
          0.7375
         ],
         "gridcolor": "#E1E5ED",
         "showgrid": false,
         "tickfont": {
          "color": "#4D5663"
         },
         "title": {
          "font": {
           "color": "#4D5663"
          },
          "text": ""
         },
         "zerolinecolor": "#E1E5ED"
        },
        "xaxis12": {
         "anchor": "y12",
         "domain": [
          0.7875,
          1
         ],
         "gridcolor": "#E1E5ED",
         "showgrid": false,
         "tickfont": {
          "color": "#4D5663"
         },
         "title": {
          "font": {
           "color": "#4D5663"
          },
          "text": ""
         },
         "zerolinecolor": "#E1E5ED"
        },
        "xaxis13": {
         "anchor": "y13",
         "domain": [
          0,
          0.2125
         ],
         "gridcolor": "#E1E5ED",
         "showgrid": false,
         "tickfont": {
          "color": "#4D5663"
         },
         "title": {
          "font": {
           "color": "#4D5663"
          },
          "text": ""
         },
         "zerolinecolor": "#E1E5ED"
        },
        "xaxis14": {
         "anchor": "y14",
         "domain": [
          0.2625,
          0.475
         ],
         "gridcolor": "#E1E5ED",
         "showgrid": false,
         "tickfont": {
          "color": "#4D5663"
         },
         "title": {
          "font": {
           "color": "#4D5663"
          },
          "text": ""
         },
         "zerolinecolor": "#E1E5ED"
        },
        "xaxis15": {
         "anchor": "y15",
         "domain": [
          0.525,
          0.7375
         ],
         "gridcolor": "#E1E5ED",
         "showgrid": false,
         "tickfont": {
          "color": "#4D5663"
         },
         "title": {
          "font": {
           "color": "#4D5663"
          },
          "text": ""
         },
         "zerolinecolor": "#E1E5ED"
        },
        "xaxis16": {
         "anchor": "y16",
         "domain": [
          0.7875,
          1
         ],
         "gridcolor": "#E1E5ED",
         "showgrid": false,
         "tickfont": {
          "color": "#4D5663"
         },
         "title": {
          "font": {
           "color": "#4D5663"
          },
          "text": ""
         },
         "zerolinecolor": "#E1E5ED"
        },
        "xaxis2": {
         "anchor": "y2",
         "domain": [
          0.2625,
          0.475
         ],
         "gridcolor": "#E1E5ED",
         "showgrid": false,
         "tickfont": {
          "color": "#4D5663"
         },
         "title": {
          "font": {
           "color": "#4D5663"
          },
          "text": ""
         },
         "zerolinecolor": "#E1E5ED"
        },
        "xaxis3": {
         "anchor": "y3",
         "domain": [
          0.525,
          0.7375
         ],
         "gridcolor": "#E1E5ED",
         "showgrid": false,
         "tickfont": {
          "color": "#4D5663"
         },
         "title": {
          "font": {
           "color": "#4D5663"
          },
          "text": ""
         },
         "zerolinecolor": "#E1E5ED"
        },
        "xaxis4": {
         "anchor": "y4",
         "domain": [
          0.7875,
          1
         ],
         "gridcolor": "#E1E5ED",
         "showgrid": false,
         "tickfont": {
          "color": "#4D5663"
         },
         "title": {
          "font": {
           "color": "#4D5663"
          },
          "text": ""
         },
         "zerolinecolor": "#E1E5ED"
        },
        "xaxis5": {
         "anchor": "y5",
         "domain": [
          0,
          0.2125
         ],
         "gridcolor": "#E1E5ED",
         "showgrid": false,
         "tickfont": {
          "color": "#4D5663"
         },
         "title": {
          "font": {
           "color": "#4D5663"
          },
          "text": ""
         },
         "zerolinecolor": "#E1E5ED"
        },
        "xaxis6": {
         "anchor": "y6",
         "domain": [
          0.2625,
          0.475
         ],
         "gridcolor": "#E1E5ED",
         "showgrid": false,
         "tickfont": {
          "color": "#4D5663"
         },
         "title": {
          "font": {
           "color": "#4D5663"
          },
          "text": ""
         },
         "zerolinecolor": "#E1E5ED"
        },
        "xaxis7": {
         "anchor": "y7",
         "domain": [
          0.525,
          0.7375
         ],
         "gridcolor": "#E1E5ED",
         "showgrid": false,
         "tickfont": {
          "color": "#4D5663"
         },
         "title": {
          "font": {
           "color": "#4D5663"
          },
          "text": ""
         },
         "zerolinecolor": "#E1E5ED"
        },
        "xaxis8": {
         "anchor": "y8",
         "domain": [
          0.7875,
          1
         ],
         "gridcolor": "#E1E5ED",
         "showgrid": false,
         "tickfont": {
          "color": "#4D5663"
         },
         "title": {
          "font": {
           "color": "#4D5663"
          },
          "text": ""
         },
         "zerolinecolor": "#E1E5ED"
        },
        "xaxis9": {
         "anchor": "y9",
         "domain": [
          0,
          0.2125
         ],
         "gridcolor": "#E1E5ED",
         "showgrid": false,
         "tickfont": {
          "color": "#4D5663"
         },
         "title": {
          "font": {
           "color": "#4D5663"
          },
          "text": ""
         },
         "zerolinecolor": "#E1E5ED"
        },
        "yaxis": {
         "anchor": "x",
         "domain": [
          0.8025,
          1
         ],
         "gridcolor": "#E1E5ED",
         "showgrid": false,
         "tickfont": {
          "color": "#4D5663"
         },
         "title": {
          "font": {
           "color": "#4D5663"
          },
          "text": ""
         },
         "zerolinecolor": "#E1E5ED"
        },
        "yaxis10": {
         "anchor": "x10",
         "domain": [
          0.2675,
          0.465
         ],
         "gridcolor": "#E1E5ED",
         "showgrid": false,
         "tickfont": {
          "color": "#4D5663"
         },
         "title": {
          "font": {
           "color": "#4D5663"
          },
          "text": ""
         },
         "zerolinecolor": "#E1E5ED"
        },
        "yaxis11": {
         "anchor": "x11",
         "domain": [
          0.2675,
          0.465
         ],
         "gridcolor": "#E1E5ED",
         "showgrid": false,
         "tickfont": {
          "color": "#4D5663"
         },
         "title": {
          "font": {
           "color": "#4D5663"
          },
          "text": ""
         },
         "zerolinecolor": "#E1E5ED"
        },
        "yaxis12": {
         "anchor": "x12",
         "domain": [
          0.2675,
          0.465
         ],
         "gridcolor": "#E1E5ED",
         "showgrid": false,
         "tickfont": {
          "color": "#4D5663"
         },
         "title": {
          "font": {
           "color": "#4D5663"
          },
          "text": ""
         },
         "zerolinecolor": "#E1E5ED"
        },
        "yaxis13": {
         "anchor": "x13",
         "domain": [
          0,
          0.1975
         ],
         "gridcolor": "#E1E5ED",
         "showgrid": false,
         "tickfont": {
          "color": "#4D5663"
         },
         "title": {
          "font": {
           "color": "#4D5663"
          },
          "text": ""
         },
         "zerolinecolor": "#E1E5ED"
        },
        "yaxis14": {
         "anchor": "x14",
         "domain": [
          0,
          0.1975
         ],
         "gridcolor": "#E1E5ED",
         "showgrid": false,
         "tickfont": {
          "color": "#4D5663"
         },
         "title": {
          "font": {
           "color": "#4D5663"
          },
          "text": ""
         },
         "zerolinecolor": "#E1E5ED"
        },
        "yaxis15": {
         "anchor": "x15",
         "domain": [
          0,
          0.1975
         ],
         "gridcolor": "#E1E5ED",
         "showgrid": false,
         "tickfont": {
          "color": "#4D5663"
         },
         "title": {
          "font": {
           "color": "#4D5663"
          },
          "text": ""
         },
         "zerolinecolor": "#E1E5ED"
        },
        "yaxis16": {
         "anchor": "x16",
         "domain": [
          0,
          0.1975
         ],
         "gridcolor": "#E1E5ED",
         "showgrid": false,
         "tickfont": {
          "color": "#4D5663"
         },
         "title": {
          "font": {
           "color": "#4D5663"
          },
          "text": ""
         },
         "zerolinecolor": "#E1E5ED"
        },
        "yaxis2": {
         "anchor": "x2",
         "domain": [
          0.8025,
          1
         ],
         "gridcolor": "#E1E5ED",
         "showgrid": false,
         "tickfont": {
          "color": "#4D5663"
         },
         "title": {
          "font": {
           "color": "#4D5663"
          },
          "text": ""
         },
         "zerolinecolor": "#E1E5ED"
        },
        "yaxis3": {
         "anchor": "x3",
         "domain": [
          0.8025,
          1
         ],
         "gridcolor": "#E1E5ED",
         "showgrid": false,
         "tickfont": {
          "color": "#4D5663"
         },
         "title": {
          "font": {
           "color": "#4D5663"
          },
          "text": ""
         },
         "zerolinecolor": "#E1E5ED"
        },
        "yaxis4": {
         "anchor": "x4",
         "domain": [
          0.8025,
          1
         ],
         "gridcolor": "#E1E5ED",
         "showgrid": false,
         "tickfont": {
          "color": "#4D5663"
         },
         "title": {
          "font": {
           "color": "#4D5663"
          },
          "text": ""
         },
         "zerolinecolor": "#E1E5ED"
        },
        "yaxis5": {
         "anchor": "x5",
         "domain": [
          0.535,
          0.7325
         ],
         "gridcolor": "#E1E5ED",
         "showgrid": false,
         "tickfont": {
          "color": "#4D5663"
         },
         "title": {
          "font": {
           "color": "#4D5663"
          },
          "text": ""
         },
         "zerolinecolor": "#E1E5ED"
        },
        "yaxis6": {
         "anchor": "x6",
         "domain": [
          0.535,
          0.7325
         ],
         "gridcolor": "#E1E5ED",
         "showgrid": false,
         "tickfont": {
          "color": "#4D5663"
         },
         "title": {
          "font": {
           "color": "#4D5663"
          },
          "text": ""
         },
         "zerolinecolor": "#E1E5ED"
        },
        "yaxis7": {
         "anchor": "x7",
         "domain": [
          0.535,
          0.7325
         ],
         "gridcolor": "#E1E5ED",
         "showgrid": false,
         "tickfont": {
          "color": "#4D5663"
         },
         "title": {
          "font": {
           "color": "#4D5663"
          },
          "text": ""
         },
         "zerolinecolor": "#E1E5ED"
        },
        "yaxis8": {
         "anchor": "x8",
         "domain": [
          0.535,
          0.7325
         ],
         "gridcolor": "#E1E5ED",
         "showgrid": false,
         "tickfont": {
          "color": "#4D5663"
         },
         "title": {
          "font": {
           "color": "#4D5663"
          },
          "text": ""
         },
         "zerolinecolor": "#E1E5ED"
        },
        "yaxis9": {
         "anchor": "x9",
         "domain": [
          0.2675,
          0.465
         ],
         "gridcolor": "#E1E5ED",
         "showgrid": false,
         "tickfont": {
          "color": "#4D5663"
         },
         "title": {
          "font": {
           "color": "#4D5663"
          },
          "text": ""
         },
         "zerolinecolor": "#E1E5ED"
        }
       }
      },
      "text/html": [
       "<div>                            <div id=\"c8e48d0d-aad0-4a4b-84e4-f035e5d77cc6\" class=\"plotly-graph-div\" style=\"height:525px; width:100%;\"></div>            <script type=\"text/javascript\">                require([\"plotly\"], function(Plotly) {                    window.PLOTLYENV=window.PLOTLYENV || {};\n",
       "                    window.PLOTLYENV.BASE_URL='https://plot.ly';                                    if (document.getElementById(\"c8e48d0d-aad0-4a4b-84e4-f035e5d77cc6\")) {                    Plotly.newPlot(                        \"c8e48d0d-aad0-4a4b-84e4-f035e5d77cc6\",                        [{\"histfunc\": \"count\", \"histnorm\": \"\", \"marker\": {\"color\": \"rgba(255, 153, 51, 1.0)\", \"line\": {\"color\": \"#4D5663\", \"width\": 1.3}}, \"name\": \"A\", \"nbinsx\": 10, \"opacity\": 0.8, \"orientation\": \"v\", \"type\": \"histogram\", \"x\": [-0.2941236145979744, -1.2055757622417584, 1.6739059144807003, 0.28697682921847084, 0.41395886627795436, 0.3258350572180524, 0.5252390425920379, -0.5736684755822246, -0.5700688362477726, 0.3645225874268893, -1.1647288821832336, 0.08451189819558057, -0.744180002462252, -1.2151693534115133, -1.2344417644275725, -1.2727768086178122, -1.109210674025156, 1.8561357436671402, -0.5743628582238592, -1.2869710643656933, 0.5654720433196601, -0.06184951055573469, 1.5426557670599157, 1.5183339797624478, 1.1914744908087287, 0.6123027103271466, -1.1128315368989694, 0.34211525618759664, -1.5427770588082996, -1.8095088920475255, 0.8914290648608734, 0.5707299722117781, 0.4150615465660746, -0.15779149891157998, -0.37577490575303407, -1.3493202029071392, -2.149745000938564, -0.1665954222704084, -0.14825310781359657, 0.9726743509758792, -0.4263313438545262, -0.8371332285968943, -1.00910939339172, 0.9687066851117567, -0.31949200585851995, 0.3811634222615911, -0.8701558140039154, 0.4530440030691015, 0.17712571854006096, -1.2943118538026293, -0.9440276852622483, -1.6140737385993082, -0.5820649119257266, 2.024328108515571, 0.09159763211659076, 0.8699658570083942, -1.9701241141643424, 1.7690020942672438, 0.5602034891518604, 0.45164160230701056, -0.028028443485482134, 0.3885875044711814, 0.018490601080752518, 2.8676657947150765, -0.8816260097799625, 0.5214180441747942, -0.2093671541431842, 0.415228606814977, -1.7884617684009187, -1.1882225177627814, -0.684762457408276, -1.9832688668725418, 0.9310360124815191, -0.5457278756057826, -0.710547760985368, -0.5446929238244186, -0.19630294700548082, -1.44280738406763, -0.8331241658672963, -0.45235685481235416, -0.6728883540615982, 0.3344908135970183, 0.7970971944919325, 1.3589465498265694, 1.6675265431050559, -0.24149016625430927, 0.3735431989596485, 2.327748140643649, -0.1382155746471087, -0.7712757639353897, -0.4514863772912042, -0.46245415819363367, 1.6861611281399966, 0.3070846956990549, -0.7986246032710236, -0.37716556826567615, 0.027142910172499594, -0.16862571807318036, -2.610727992542222, 1.8581627120087132], \"xaxis\": \"x\", \"yaxis\": \"y\"}, {\"line\": {\"color\": \"rgba(128, 128, 128, 1.0)\", \"dash\": \"solid\", \"shape\": \"linear\", \"width\": 1.3}, \"marker\": {\"size\": 2, \"symbol\": \"circle\"}, \"mode\": \"markers\", \"name\": \"A\", \"text\": \"\", \"type\": \"scatter\", \"x\": [1.1232035304834727, -0.027646444578447983, -0.08398900118924442, -0.15149207680460008, 1.3297811358905003, -0.3588283929141447, -0.09241960340912399, 0.4144283948863819, -0.3242812375394934, 2.3983374404567153, 0.06909517875539394, -0.9047885203720661, -0.3265029067093802, 1.7107990386995107, -0.10882256063664028, 0.4897875303308817, -1.0135894728524193, 1.469438190961238, 0.036116091249880994, -0.8489964394716256, 1.1045547892308794, -2.733992479927418, 0.32155595967427597, 1.1730656687096301, 0.08919563895231453, -0.25087110936678997, 0.3482220702050979, -1.7806719298663185, -0.4513396599289586, -1.9081904190159555, -0.3819735660336761, 0.8622929704051494, 0.6643974389859816, -0.10482717044736548, -0.2978187641213, 0.38498283608367456, -0.2923058128870225, -1.8272050682618728, 0.9994086669080886, 0.22725335504437277, 0.543937236379081, 0.07227911719372908, 1.5237616967102592, -0.9532437020079461, -0.15113803558243055, 0.2617176444724291, -0.24506613212165868, -0.5207569261079663, -0.8532011988899243, 1.0864728378980126, 0.4654840803605472, 0.09625462622839667, -0.7357046380750296, 0.030202365540960157, 0.9262509241518855, 1.9593338921574195, -1.3661245536871027, 0.7323140351673906, 0.006607641087876381, 1.7473651609919887, 0.4219988261940681, 1.4191862517842977, -0.7566038891150196, -0.41425090121806823, 3.0035553718893238, -1.3449509112854081, -0.44909665312229585, -0.14484253474706837, -1.62510198227339, 0.513343071179874, 0.10057721954931076, -0.3347821761196757, -0.2056135190586056, 1.522708283114086, -0.9610873885231529, 0.3801472992208391, -0.26196111219286417, 1.5602775206755128, -0.5837342554198951, 0.42352589486444703, -0.3595438735331036, 0.42050074494523526, 0.48865650230846835, -0.4435686363074531, -1.2356577354562504, -0.040859602804632925, 0.559282291459184, 0.12464642337136354, -0.15108892936597226, 1.7478728236278007, -0.30778670631463906, -0.19881792903994983, 0.9365043151652537, 0.0853259717415844, 0.4357469077004661, 0.9373712100633341, 0.8836339180532669, -1.1235502320579935, -0.9786059330900005, -0.45891658939469926], \"xaxis\": \"x2\", \"y\": [-0.2941236145979744, -1.2055757622417584, 1.6739059144807003, 0.28697682921847084, 0.41395886627795436, 0.3258350572180524, 0.5252390425920379, -0.5736684755822246, -0.5700688362477726, 0.3645225874268893, -1.1647288821832336, 0.08451189819558057, -0.744180002462252, -1.2151693534115133, -1.2344417644275725, -1.2727768086178122, -1.109210674025156, 1.8561357436671402, -0.5743628582238592, -1.2869710643656933, 0.5654720433196601, -0.06184951055573469, 1.5426557670599157, 1.5183339797624478, 1.1914744908087287, 0.6123027103271466, -1.1128315368989694, 0.34211525618759664, -1.5427770588082996, -1.8095088920475255, 0.8914290648608734, 0.5707299722117781, 0.4150615465660746, -0.15779149891157998, -0.37577490575303407, -1.3493202029071392, -2.149745000938564, -0.1665954222704084, -0.14825310781359657, 0.9726743509758792, -0.4263313438545262, -0.8371332285968943, -1.00910939339172, 0.9687066851117567, -0.31949200585851995, 0.3811634222615911, -0.8701558140039154, 0.4530440030691015, 0.17712571854006096, -1.2943118538026293, -0.9440276852622483, -1.6140737385993082, -0.5820649119257266, 2.024328108515571, 0.09159763211659076, 0.8699658570083942, -1.9701241141643424, 1.7690020942672438, 0.5602034891518604, 0.45164160230701056, -0.028028443485482134, 0.3885875044711814, 0.018490601080752518, 2.8676657947150765, -0.8816260097799625, 0.5214180441747942, -0.2093671541431842, 0.415228606814977, -1.7884617684009187, -1.1882225177627814, -0.684762457408276, -1.9832688668725418, 0.9310360124815191, -0.5457278756057826, -0.710547760985368, -0.5446929238244186, -0.19630294700548082, -1.44280738406763, -0.8331241658672963, -0.45235685481235416, -0.6728883540615982, 0.3344908135970183, 0.7970971944919325, 1.3589465498265694, 1.6675265431050559, -0.24149016625430927, 0.3735431989596485, 2.327748140643649, -0.1382155746471087, -0.7712757639353897, -0.4514863772912042, -0.46245415819363367, 1.6861611281399966, 0.3070846956990549, -0.7986246032710236, -0.37716556826567615, 0.027142910172499594, -0.16862571807318036, -2.610727992542222, 1.8581627120087132], \"yaxis\": \"y2\"}, {\"line\": {\"color\": \"rgba(128, 128, 128, 1.0)\", \"dash\": \"solid\", \"shape\": \"linear\", \"width\": 1.3}, \"marker\": {\"size\": 2, \"symbol\": \"circle\"}, \"mode\": \"markers\", \"name\": \"A\", \"text\": \"\", \"type\": \"scatter\", \"x\": [1.1294338268005901, -1.887572133913162, -1.085188366556874, 1.2441200502444267, 1.5459320960380774, -0.4988637936723765, -0.1577437548664111, 0.09020622464636908, -0.27151571164654525, -0.18975644415964288, -0.6699686461843579, 2.296747020407923, 0.05130330800056149, -2.4442640983583517, 1.2389016903456653, -0.18944434352683967, 0.6053072348106463, -1.2524285923701526, 1.3933747650509871, 0.49202062210322245, 0.257957107145455, 1.1220240799018353, -1.718931138709767, 0.5951710932559078, 0.11425858220558911, -0.8562861220154547, -1.4738005214000116, 0.07242468226824243, 1.809544160579259, -0.6873950236870673, -0.6536284677564498, -0.9602739090100308, -0.34724078991539603, 0.5388518809564495, -2.173526797590024, 0.8355229097644048, -0.897943250330798, 0.5450735887174946, -0.9372387110558424, -1.112549270349293, -0.702726815470619, 0.7325129076485717, -0.17369932388406342, 0.09773400489425473, -0.22942079872978982, 0.1703871787161514, -2.1665240120693823, -0.7153513931660893, -0.6420652181842549, 0.13465773936314834, 0.8088113190400273, 0.5531535072070709, -0.057563529228919684, -0.25600086262824917, -0.577007313856514, -0.8279579404389458, -0.8933546160692658, 0.5656854641293453, -0.8399717143319536, -0.32430624375610345, -1.0914288219776849, -0.18180695775916408, -0.9726438334197695, 0.30271857357350695, -0.15572541628244654, 1.3578671011251717, -0.6101904703382658, -0.6923693151136978, -0.43667702717984946, 0.7848023269101269, 0.3818528888035823, -1.0984175475606468, 1.0060225751515335, -1.2234840944513203, 0.9254079096802839, 0.47078473569527546, 2.437524598965109, 0.4824326534477051, -0.22873571010776006, 0.462812382296827, 1.9991883779041422, -0.24198131614206647, 0.10069737128065137, -0.9889128384993973, -0.9381482305703883, -1.9321036946732335, -0.4110046626450792, -1.0421297199384185, -1.6084817749223765, -0.296731532257138, -0.3804787106746805, 0.2838245966238775, -1.138381207628285, -1.2861171735396557, 0.6135467426774536, -1.0953398758579733, -1.8552417689885758, -0.8880496545159664, 1.2285245683523007, -0.906758092599867], \"xaxis\": \"x3\", \"y\": [-0.2941236145979744, -1.2055757622417584, 1.6739059144807003, 0.28697682921847084, 0.41395886627795436, 0.3258350572180524, 0.5252390425920379, -0.5736684755822246, -0.5700688362477726, 0.3645225874268893, -1.1647288821832336, 0.08451189819558057, -0.744180002462252, -1.2151693534115133, -1.2344417644275725, -1.2727768086178122, -1.109210674025156, 1.8561357436671402, -0.5743628582238592, -1.2869710643656933, 0.5654720433196601, -0.06184951055573469, 1.5426557670599157, 1.5183339797624478, 1.1914744908087287, 0.6123027103271466, -1.1128315368989694, 0.34211525618759664, -1.5427770588082996, -1.8095088920475255, 0.8914290648608734, 0.5707299722117781, 0.4150615465660746, -0.15779149891157998, -0.37577490575303407, -1.3493202029071392, -2.149745000938564, -0.1665954222704084, -0.14825310781359657, 0.9726743509758792, -0.4263313438545262, -0.8371332285968943, -1.00910939339172, 0.9687066851117567, -0.31949200585851995, 0.3811634222615911, -0.8701558140039154, 0.4530440030691015, 0.17712571854006096, -1.2943118538026293, -0.9440276852622483, -1.6140737385993082, -0.5820649119257266, 2.024328108515571, 0.09159763211659076, 0.8699658570083942, -1.9701241141643424, 1.7690020942672438, 0.5602034891518604, 0.45164160230701056, -0.028028443485482134, 0.3885875044711814, 0.018490601080752518, 2.8676657947150765, -0.8816260097799625, 0.5214180441747942, -0.2093671541431842, 0.415228606814977, -1.7884617684009187, -1.1882225177627814, -0.684762457408276, -1.9832688668725418, 0.9310360124815191, -0.5457278756057826, -0.710547760985368, -0.5446929238244186, -0.19630294700548082, -1.44280738406763, -0.8331241658672963, -0.45235685481235416, -0.6728883540615982, 0.3344908135970183, 0.7970971944919325, 1.3589465498265694, 1.6675265431050559, -0.24149016625430927, 0.3735431989596485, 2.327748140643649, -0.1382155746471087, -0.7712757639353897, -0.4514863772912042, -0.46245415819363367, 1.6861611281399966, 0.3070846956990549, -0.7986246032710236, -0.37716556826567615, 0.027142910172499594, -0.16862571807318036, -2.610727992542222, 1.8581627120087132], \"yaxis\": \"y3\"}, {\"line\": {\"color\": \"rgba(128, 128, 128, 1.0)\", \"dash\": \"solid\", \"shape\": \"linear\", \"width\": 1.3}, \"marker\": {\"size\": 2, \"symbol\": \"circle\"}, \"mode\": \"markers\", \"name\": \"A\", \"text\": \"\", \"type\": \"scatter\", \"x\": [-0.3005660290796793, 0.4690410684946249, -0.15686784605172588, 0.34597968254358424, -0.8765272729371686, 1.0578142148171377, 1.1517833751948285, -0.9059399369573186, 0.6559696282037321, 0.8660618634624208, 0.9298634275370239, -0.4036806650429973, 2.0831763476256464, 2.236332687234384, 0.1023211477173691, 0.673849289359737, 1.4058839722240843, -1.5472002402660305, 0.2242403905844482, 0.9577374008703127, 0.012576660713810802, -1.2054267184605332, -1.835374218557789, 0.820394938928055, -0.3678435146878748, 1.5680299954819024, 0.2567420393462134, -1.8412356071911151, 0.15224791026731652, 0.8689689475570724, 0.6199987051206256, 0.08520560340375176, 1.8672640839451167, 0.7216926846091692, -0.6353257802654373, -0.2307027271462637, -0.6565636798272065, -2.24020902822671, -0.8625622473890274, 1.0129263016287262, 0.3756742179574329, -1.0591502767295813, 0.3098859743806808, -0.120096595893609, 1.3990380568406269, -0.4347703785963267, -0.9398151287733784, 0.4950357210179923, 0.4800437963115811, 0.8282016946835207, 0.0008638232858400742, 0.8947718662025472, -0.7388662047798948, -0.7244205136277834, -1.0436174072116249, -0.30583914096101333, -0.8144962732005774, 0.5923749632389562, 0.9882575009645511, -1.5281723458094598, 0.874250864706059, -0.45204143281161246, 0.8068987810944247, 0.28410008734849235, 1.5517908672621392, -0.5057124791407088, 0.7008348403356799, -0.12797976246664364, 0.6393289239677991, -0.4281270518755398, -0.5252675809214842, -0.9401994595911041, -0.01297658993896751, -0.06836163379373286, 1.6801609319042026, -1.599265119876865, 0.7375891078115318, -0.06889510467951712, 0.5805253856391505, -0.6058305951461466, -1.9080405994625778, -1.596579305185901, 0.49248475294184624, 0.7534647853327919, -0.8874422957908504, 0.9537799052764699, 1.2999088457279604, -0.03936343150833903, 0.536088725542492, 0.666016137641211, 0.8020667031064855, -0.03837550627684842, -2.217797311811609, -0.6615233168351068, 0.5423968297678927, -0.29740582382476405, 1.9159748872217595, -0.010257753016069099, -0.6698239566159488, 0.5516997270369369], \"xaxis\": \"x4\", \"y\": [-0.2941236145979744, -1.2055757622417584, 1.6739059144807003, 0.28697682921847084, 0.41395886627795436, 0.3258350572180524, 0.5252390425920379, -0.5736684755822246, -0.5700688362477726, 0.3645225874268893, -1.1647288821832336, 0.08451189819558057, -0.744180002462252, -1.2151693534115133, -1.2344417644275725, -1.2727768086178122, -1.109210674025156, 1.8561357436671402, -0.5743628582238592, -1.2869710643656933, 0.5654720433196601, -0.06184951055573469, 1.5426557670599157, 1.5183339797624478, 1.1914744908087287, 0.6123027103271466, -1.1128315368989694, 0.34211525618759664, -1.5427770588082996, -1.8095088920475255, 0.8914290648608734, 0.5707299722117781, 0.4150615465660746, -0.15779149891157998, -0.37577490575303407, -1.3493202029071392, -2.149745000938564, -0.1665954222704084, -0.14825310781359657, 0.9726743509758792, -0.4263313438545262, -0.8371332285968943, -1.00910939339172, 0.9687066851117567, -0.31949200585851995, 0.3811634222615911, -0.8701558140039154, 0.4530440030691015, 0.17712571854006096, -1.2943118538026293, -0.9440276852622483, -1.6140737385993082, -0.5820649119257266, 2.024328108515571, 0.09159763211659076, 0.8699658570083942, -1.9701241141643424, 1.7690020942672438, 0.5602034891518604, 0.45164160230701056, -0.028028443485482134, 0.3885875044711814, 0.018490601080752518, 2.8676657947150765, -0.8816260097799625, 0.5214180441747942, -0.2093671541431842, 0.415228606814977, -1.7884617684009187, -1.1882225177627814, -0.684762457408276, -1.9832688668725418, 0.9310360124815191, -0.5457278756057826, -0.710547760985368, -0.5446929238244186, -0.19630294700548082, -1.44280738406763, -0.8331241658672963, -0.45235685481235416, -0.6728883540615982, 0.3344908135970183, 0.7970971944919325, 1.3589465498265694, 1.6675265431050559, -0.24149016625430927, 0.3735431989596485, 2.327748140643649, -0.1382155746471087, -0.7712757639353897, -0.4514863772912042, -0.46245415819363367, 1.6861611281399966, 0.3070846956990549, -0.7986246032710236, -0.37716556826567615, 0.027142910172499594, -0.16862571807318036, -2.610727992542222, 1.8581627120087132], \"yaxis\": \"y4\"}, {\"line\": {\"color\": \"rgba(128, 128, 128, 1.0)\", \"dash\": \"solid\", \"shape\": \"linear\", \"width\": 1.3}, \"marker\": {\"size\": 2, \"symbol\": \"circle\"}, \"mode\": \"markers\", \"name\": \"B\", \"text\": \"\", \"type\": \"scatter\", \"x\": [-0.2941236145979744, -1.2055757622417584, 1.6739059144807003, 0.28697682921847084, 0.41395886627795436, 0.3258350572180524, 0.5252390425920379, -0.5736684755822246, -0.5700688362477726, 0.3645225874268893, -1.1647288821832336, 0.08451189819558057, -0.744180002462252, -1.2151693534115133, -1.2344417644275725, -1.2727768086178122, -1.109210674025156, 1.8561357436671402, -0.5743628582238592, -1.2869710643656933, 0.5654720433196601, -0.06184951055573469, 1.5426557670599157, 1.5183339797624478, 1.1914744908087287, 0.6123027103271466, -1.1128315368989694, 0.34211525618759664, -1.5427770588082996, -1.8095088920475255, 0.8914290648608734, 0.5707299722117781, 0.4150615465660746, -0.15779149891157998, -0.37577490575303407, -1.3493202029071392, -2.149745000938564, -0.1665954222704084, -0.14825310781359657, 0.9726743509758792, -0.4263313438545262, -0.8371332285968943, -1.00910939339172, 0.9687066851117567, -0.31949200585851995, 0.3811634222615911, -0.8701558140039154, 0.4530440030691015, 0.17712571854006096, -1.2943118538026293, -0.9440276852622483, -1.6140737385993082, -0.5820649119257266, 2.024328108515571, 0.09159763211659076, 0.8699658570083942, -1.9701241141643424, 1.7690020942672438, 0.5602034891518604, 0.45164160230701056, -0.028028443485482134, 0.3885875044711814, 0.018490601080752518, 2.8676657947150765, -0.8816260097799625, 0.5214180441747942, -0.2093671541431842, 0.415228606814977, -1.7884617684009187, -1.1882225177627814, -0.684762457408276, -1.9832688668725418, 0.9310360124815191, -0.5457278756057826, -0.710547760985368, -0.5446929238244186, -0.19630294700548082, -1.44280738406763, -0.8331241658672963, -0.45235685481235416, -0.6728883540615982, 0.3344908135970183, 0.7970971944919325, 1.3589465498265694, 1.6675265431050559, -0.24149016625430927, 0.3735431989596485, 2.327748140643649, -0.1382155746471087, -0.7712757639353897, -0.4514863772912042, -0.46245415819363367, 1.6861611281399966, 0.3070846956990549, -0.7986246032710236, -0.37716556826567615, 0.027142910172499594, -0.16862571807318036, -2.610727992542222, 1.8581627120087132], \"xaxis\": \"x5\", \"y\": [1.1232035304834727, -0.027646444578447983, -0.08398900118924442, -0.15149207680460008, 1.3297811358905003, -0.3588283929141447, -0.09241960340912399, 0.4144283948863819, -0.3242812375394934, 2.3983374404567153, 0.06909517875539394, -0.9047885203720661, -0.3265029067093802, 1.7107990386995107, -0.10882256063664028, 0.4897875303308817, -1.0135894728524193, 1.469438190961238, 0.036116091249880994, -0.8489964394716256, 1.1045547892308794, -2.733992479927418, 0.32155595967427597, 1.1730656687096301, 0.08919563895231453, -0.25087110936678997, 0.3482220702050979, -1.7806719298663185, -0.4513396599289586, -1.9081904190159555, -0.3819735660336761, 0.8622929704051494, 0.6643974389859816, -0.10482717044736548, -0.2978187641213, 0.38498283608367456, -0.2923058128870225, -1.8272050682618728, 0.9994086669080886, 0.22725335504437277, 0.543937236379081, 0.07227911719372908, 1.5237616967102592, -0.9532437020079461, -0.15113803558243055, 0.2617176444724291, -0.24506613212165868, -0.5207569261079663, -0.8532011988899243, 1.0864728378980126, 0.4654840803605472, 0.09625462622839667, -0.7357046380750296, 0.030202365540960157, 0.9262509241518855, 1.9593338921574195, -1.3661245536871027, 0.7323140351673906, 0.006607641087876381, 1.7473651609919887, 0.4219988261940681, 1.4191862517842977, -0.7566038891150196, -0.41425090121806823, 3.0035553718893238, -1.3449509112854081, -0.44909665312229585, -0.14484253474706837, -1.62510198227339, 0.513343071179874, 0.10057721954931076, -0.3347821761196757, -0.2056135190586056, 1.522708283114086, -0.9610873885231529, 0.3801472992208391, -0.26196111219286417, 1.5602775206755128, -0.5837342554198951, 0.42352589486444703, -0.3595438735331036, 0.42050074494523526, 0.48865650230846835, -0.4435686363074531, -1.2356577354562504, -0.040859602804632925, 0.559282291459184, 0.12464642337136354, -0.15108892936597226, 1.7478728236278007, -0.30778670631463906, -0.19881792903994983, 0.9365043151652537, 0.0853259717415844, 0.4357469077004661, 0.9373712100633341, 0.8836339180532669, -1.1235502320579935, -0.9786059330900005, -0.45891658939469926], \"yaxis\": \"y5\"}, {\"histfunc\": \"count\", \"histnorm\": \"\", \"marker\": {\"color\": \"rgba(55, 128, 191, 1.0)\", \"line\": {\"color\": \"#4D5663\", \"width\": 1.3}}, \"name\": \"B\", \"nbinsx\": 10, \"opacity\": 0.8, \"orientation\": \"v\", \"type\": \"histogram\", \"x\": [1.1232035304834727, -0.027646444578447983, -0.08398900118924442, -0.15149207680460008, 1.3297811358905003, -0.3588283929141447, -0.09241960340912399, 0.4144283948863819, -0.3242812375394934, 2.3983374404567153, 0.06909517875539394, -0.9047885203720661, -0.3265029067093802, 1.7107990386995107, -0.10882256063664028, 0.4897875303308817, -1.0135894728524193, 1.469438190961238, 0.036116091249880994, -0.8489964394716256, 1.1045547892308794, -2.733992479927418, 0.32155595967427597, 1.1730656687096301, 0.08919563895231453, -0.25087110936678997, 0.3482220702050979, -1.7806719298663185, -0.4513396599289586, -1.9081904190159555, -0.3819735660336761, 0.8622929704051494, 0.6643974389859816, -0.10482717044736548, -0.2978187641213, 0.38498283608367456, -0.2923058128870225, -1.8272050682618728, 0.9994086669080886, 0.22725335504437277, 0.543937236379081, 0.07227911719372908, 1.5237616967102592, -0.9532437020079461, -0.15113803558243055, 0.2617176444724291, -0.24506613212165868, -0.5207569261079663, -0.8532011988899243, 1.0864728378980126, 0.4654840803605472, 0.09625462622839667, -0.7357046380750296, 0.030202365540960157, 0.9262509241518855, 1.9593338921574195, -1.3661245536871027, 0.7323140351673906, 0.006607641087876381, 1.7473651609919887, 0.4219988261940681, 1.4191862517842977, -0.7566038891150196, -0.41425090121806823, 3.0035553718893238, -1.3449509112854081, -0.44909665312229585, -0.14484253474706837, -1.62510198227339, 0.513343071179874, 0.10057721954931076, -0.3347821761196757, -0.2056135190586056, 1.522708283114086, -0.9610873885231529, 0.3801472992208391, -0.26196111219286417, 1.5602775206755128, -0.5837342554198951, 0.42352589486444703, -0.3595438735331036, 0.42050074494523526, 0.48865650230846835, -0.4435686363074531, -1.2356577354562504, -0.040859602804632925, 0.559282291459184, 0.12464642337136354, -0.15108892936597226, 1.7478728236278007, -0.30778670631463906, -0.19881792903994983, 0.9365043151652537, 0.0853259717415844, 0.4357469077004661, 0.9373712100633341, 0.8836339180532669, -1.1235502320579935, -0.9786059330900005, -0.45891658939469926], \"xaxis\": \"x6\", \"yaxis\": \"y6\"}, {\"line\": {\"color\": \"rgba(128, 128, 128, 1.0)\", \"dash\": \"solid\", \"shape\": \"linear\", \"width\": 1.3}, \"marker\": {\"size\": 2, \"symbol\": \"circle\"}, \"mode\": \"markers\", \"name\": \"B\", \"text\": \"\", \"type\": \"scatter\", \"x\": [1.1294338268005901, -1.887572133913162, -1.085188366556874, 1.2441200502444267, 1.5459320960380774, -0.4988637936723765, -0.1577437548664111, 0.09020622464636908, -0.27151571164654525, -0.18975644415964288, -0.6699686461843579, 2.296747020407923, 0.05130330800056149, -2.4442640983583517, 1.2389016903456653, -0.18944434352683967, 0.6053072348106463, -1.2524285923701526, 1.3933747650509871, 0.49202062210322245, 0.257957107145455, 1.1220240799018353, -1.718931138709767, 0.5951710932559078, 0.11425858220558911, -0.8562861220154547, -1.4738005214000116, 0.07242468226824243, 1.809544160579259, -0.6873950236870673, -0.6536284677564498, -0.9602739090100308, -0.34724078991539603, 0.5388518809564495, -2.173526797590024, 0.8355229097644048, -0.897943250330798, 0.5450735887174946, -0.9372387110558424, -1.112549270349293, -0.702726815470619, 0.7325129076485717, -0.17369932388406342, 0.09773400489425473, -0.22942079872978982, 0.1703871787161514, -2.1665240120693823, -0.7153513931660893, -0.6420652181842549, 0.13465773936314834, 0.8088113190400273, 0.5531535072070709, -0.057563529228919684, -0.25600086262824917, -0.577007313856514, -0.8279579404389458, -0.8933546160692658, 0.5656854641293453, -0.8399717143319536, -0.32430624375610345, -1.0914288219776849, -0.18180695775916408, -0.9726438334197695, 0.30271857357350695, -0.15572541628244654, 1.3578671011251717, -0.6101904703382658, -0.6923693151136978, -0.43667702717984946, 0.7848023269101269, 0.3818528888035823, -1.0984175475606468, 1.0060225751515335, -1.2234840944513203, 0.9254079096802839, 0.47078473569527546, 2.437524598965109, 0.4824326534477051, -0.22873571010776006, 0.462812382296827, 1.9991883779041422, -0.24198131614206647, 0.10069737128065137, -0.9889128384993973, -0.9381482305703883, -1.9321036946732335, -0.4110046626450792, -1.0421297199384185, -1.6084817749223765, -0.296731532257138, -0.3804787106746805, 0.2838245966238775, -1.138381207628285, -1.2861171735396557, 0.6135467426774536, -1.0953398758579733, -1.8552417689885758, -0.8880496545159664, 1.2285245683523007, -0.906758092599867], \"xaxis\": \"x7\", \"y\": [1.1232035304834727, -0.027646444578447983, -0.08398900118924442, -0.15149207680460008, 1.3297811358905003, -0.3588283929141447, -0.09241960340912399, 0.4144283948863819, -0.3242812375394934, 2.3983374404567153, 0.06909517875539394, -0.9047885203720661, -0.3265029067093802, 1.7107990386995107, -0.10882256063664028, 0.4897875303308817, -1.0135894728524193, 1.469438190961238, 0.036116091249880994, -0.8489964394716256, 1.1045547892308794, -2.733992479927418, 0.32155595967427597, 1.1730656687096301, 0.08919563895231453, -0.25087110936678997, 0.3482220702050979, -1.7806719298663185, -0.4513396599289586, -1.9081904190159555, -0.3819735660336761, 0.8622929704051494, 0.6643974389859816, -0.10482717044736548, -0.2978187641213, 0.38498283608367456, -0.2923058128870225, -1.8272050682618728, 0.9994086669080886, 0.22725335504437277, 0.543937236379081, 0.07227911719372908, 1.5237616967102592, -0.9532437020079461, -0.15113803558243055, 0.2617176444724291, -0.24506613212165868, -0.5207569261079663, -0.8532011988899243, 1.0864728378980126, 0.4654840803605472, 0.09625462622839667, -0.7357046380750296, 0.030202365540960157, 0.9262509241518855, 1.9593338921574195, -1.3661245536871027, 0.7323140351673906, 0.006607641087876381, 1.7473651609919887, 0.4219988261940681, 1.4191862517842977, -0.7566038891150196, -0.41425090121806823, 3.0035553718893238, -1.3449509112854081, -0.44909665312229585, -0.14484253474706837, -1.62510198227339, 0.513343071179874, 0.10057721954931076, -0.3347821761196757, -0.2056135190586056, 1.522708283114086, -0.9610873885231529, 0.3801472992208391, -0.26196111219286417, 1.5602775206755128, -0.5837342554198951, 0.42352589486444703, -0.3595438735331036, 0.42050074494523526, 0.48865650230846835, -0.4435686363074531, -1.2356577354562504, -0.040859602804632925, 0.559282291459184, 0.12464642337136354, -0.15108892936597226, 1.7478728236278007, -0.30778670631463906, -0.19881792903994983, 0.9365043151652537, 0.0853259717415844, 0.4357469077004661, 0.9373712100633341, 0.8836339180532669, -1.1235502320579935, -0.9786059330900005, -0.45891658939469926], \"yaxis\": \"y7\"}, {\"line\": {\"color\": \"rgba(128, 128, 128, 1.0)\", \"dash\": \"solid\", \"shape\": \"linear\", \"width\": 1.3}, \"marker\": {\"size\": 2, \"symbol\": \"circle\"}, \"mode\": \"markers\", \"name\": \"B\", \"text\": \"\", \"type\": \"scatter\", \"x\": [-0.3005660290796793, 0.4690410684946249, -0.15686784605172588, 0.34597968254358424, -0.8765272729371686, 1.0578142148171377, 1.1517833751948285, -0.9059399369573186, 0.6559696282037321, 0.8660618634624208, 0.9298634275370239, -0.4036806650429973, 2.0831763476256464, 2.236332687234384, 0.1023211477173691, 0.673849289359737, 1.4058839722240843, -1.5472002402660305, 0.2242403905844482, 0.9577374008703127, 0.012576660713810802, -1.2054267184605332, -1.835374218557789, 0.820394938928055, -0.3678435146878748, 1.5680299954819024, 0.2567420393462134, -1.8412356071911151, 0.15224791026731652, 0.8689689475570724, 0.6199987051206256, 0.08520560340375176, 1.8672640839451167, 0.7216926846091692, -0.6353257802654373, -0.2307027271462637, -0.6565636798272065, -2.24020902822671, -0.8625622473890274, 1.0129263016287262, 0.3756742179574329, -1.0591502767295813, 0.3098859743806808, -0.120096595893609, 1.3990380568406269, -0.4347703785963267, -0.9398151287733784, 0.4950357210179923, 0.4800437963115811, 0.8282016946835207, 0.0008638232858400742, 0.8947718662025472, -0.7388662047798948, -0.7244205136277834, -1.0436174072116249, -0.30583914096101333, -0.8144962732005774, 0.5923749632389562, 0.9882575009645511, -1.5281723458094598, 0.874250864706059, -0.45204143281161246, 0.8068987810944247, 0.28410008734849235, 1.5517908672621392, -0.5057124791407088, 0.7008348403356799, -0.12797976246664364, 0.6393289239677991, -0.4281270518755398, -0.5252675809214842, -0.9401994595911041, -0.01297658993896751, -0.06836163379373286, 1.6801609319042026, -1.599265119876865, 0.7375891078115318, -0.06889510467951712, 0.5805253856391505, -0.6058305951461466, -1.9080405994625778, -1.596579305185901, 0.49248475294184624, 0.7534647853327919, -0.8874422957908504, 0.9537799052764699, 1.2999088457279604, -0.03936343150833903, 0.536088725542492, 0.666016137641211, 0.8020667031064855, -0.03837550627684842, -2.217797311811609, -0.6615233168351068, 0.5423968297678927, -0.29740582382476405, 1.9159748872217595, -0.010257753016069099, -0.6698239566159488, 0.5516997270369369], \"xaxis\": \"x8\", \"y\": [1.1232035304834727, -0.027646444578447983, -0.08398900118924442, -0.15149207680460008, 1.3297811358905003, -0.3588283929141447, -0.09241960340912399, 0.4144283948863819, -0.3242812375394934, 2.3983374404567153, 0.06909517875539394, -0.9047885203720661, -0.3265029067093802, 1.7107990386995107, -0.10882256063664028, 0.4897875303308817, -1.0135894728524193, 1.469438190961238, 0.036116091249880994, -0.8489964394716256, 1.1045547892308794, -2.733992479927418, 0.32155595967427597, 1.1730656687096301, 0.08919563895231453, -0.25087110936678997, 0.3482220702050979, -1.7806719298663185, -0.4513396599289586, -1.9081904190159555, -0.3819735660336761, 0.8622929704051494, 0.6643974389859816, -0.10482717044736548, -0.2978187641213, 0.38498283608367456, -0.2923058128870225, -1.8272050682618728, 0.9994086669080886, 0.22725335504437277, 0.543937236379081, 0.07227911719372908, 1.5237616967102592, -0.9532437020079461, -0.15113803558243055, 0.2617176444724291, -0.24506613212165868, -0.5207569261079663, -0.8532011988899243, 1.0864728378980126, 0.4654840803605472, 0.09625462622839667, -0.7357046380750296, 0.030202365540960157, 0.9262509241518855, 1.9593338921574195, -1.3661245536871027, 0.7323140351673906, 0.006607641087876381, 1.7473651609919887, 0.4219988261940681, 1.4191862517842977, -0.7566038891150196, -0.41425090121806823, 3.0035553718893238, -1.3449509112854081, -0.44909665312229585, -0.14484253474706837, -1.62510198227339, 0.513343071179874, 0.10057721954931076, -0.3347821761196757, -0.2056135190586056, 1.522708283114086, -0.9610873885231529, 0.3801472992208391, -0.26196111219286417, 1.5602775206755128, -0.5837342554198951, 0.42352589486444703, -0.3595438735331036, 0.42050074494523526, 0.48865650230846835, -0.4435686363074531, -1.2356577354562504, -0.040859602804632925, 0.559282291459184, 0.12464642337136354, -0.15108892936597226, 1.7478728236278007, -0.30778670631463906, -0.19881792903994983, 0.9365043151652537, 0.0853259717415844, 0.4357469077004661, 0.9373712100633341, 0.8836339180532669, -1.1235502320579935, -0.9786059330900005, -0.45891658939469926], \"yaxis\": \"y8\"}, {\"line\": {\"color\": \"rgba(128, 128, 128, 1.0)\", \"dash\": \"solid\", \"shape\": \"linear\", \"width\": 1.3}, \"marker\": {\"size\": 2, \"symbol\": \"circle\"}, \"mode\": \"markers\", \"name\": \"C\", \"text\": \"\", \"type\": \"scatter\", \"x\": [-0.2941236145979744, -1.2055757622417584, 1.6739059144807003, 0.28697682921847084, 0.41395886627795436, 0.3258350572180524, 0.5252390425920379, -0.5736684755822246, -0.5700688362477726, 0.3645225874268893, -1.1647288821832336, 0.08451189819558057, -0.744180002462252, -1.2151693534115133, -1.2344417644275725, -1.2727768086178122, -1.109210674025156, 1.8561357436671402, -0.5743628582238592, -1.2869710643656933, 0.5654720433196601, -0.06184951055573469, 1.5426557670599157, 1.5183339797624478, 1.1914744908087287, 0.6123027103271466, -1.1128315368989694, 0.34211525618759664, -1.5427770588082996, -1.8095088920475255, 0.8914290648608734, 0.5707299722117781, 0.4150615465660746, -0.15779149891157998, -0.37577490575303407, -1.3493202029071392, -2.149745000938564, -0.1665954222704084, -0.14825310781359657, 0.9726743509758792, -0.4263313438545262, -0.8371332285968943, -1.00910939339172, 0.9687066851117567, -0.31949200585851995, 0.3811634222615911, -0.8701558140039154, 0.4530440030691015, 0.17712571854006096, -1.2943118538026293, -0.9440276852622483, -1.6140737385993082, -0.5820649119257266, 2.024328108515571, 0.09159763211659076, 0.8699658570083942, -1.9701241141643424, 1.7690020942672438, 0.5602034891518604, 0.45164160230701056, -0.028028443485482134, 0.3885875044711814, 0.018490601080752518, 2.8676657947150765, -0.8816260097799625, 0.5214180441747942, -0.2093671541431842, 0.415228606814977, -1.7884617684009187, -1.1882225177627814, -0.684762457408276, -1.9832688668725418, 0.9310360124815191, -0.5457278756057826, -0.710547760985368, -0.5446929238244186, -0.19630294700548082, -1.44280738406763, -0.8331241658672963, -0.45235685481235416, -0.6728883540615982, 0.3344908135970183, 0.7970971944919325, 1.3589465498265694, 1.6675265431050559, -0.24149016625430927, 0.3735431989596485, 2.327748140643649, -0.1382155746471087, -0.7712757639353897, -0.4514863772912042, -0.46245415819363367, 1.6861611281399966, 0.3070846956990549, -0.7986246032710236, -0.37716556826567615, 0.027142910172499594, -0.16862571807318036, -2.610727992542222, 1.8581627120087132], \"xaxis\": \"x9\", \"y\": [1.1294338268005901, -1.887572133913162, -1.085188366556874, 1.2441200502444267, 1.5459320960380774, -0.4988637936723765, -0.1577437548664111, 0.09020622464636908, -0.27151571164654525, -0.18975644415964288, -0.6699686461843579, 2.296747020407923, 0.05130330800056149, -2.4442640983583517, 1.2389016903456653, -0.18944434352683967, 0.6053072348106463, -1.2524285923701526, 1.3933747650509871, 0.49202062210322245, 0.257957107145455, 1.1220240799018353, -1.718931138709767, 0.5951710932559078, 0.11425858220558911, -0.8562861220154547, -1.4738005214000116, 0.07242468226824243, 1.809544160579259, -0.6873950236870673, -0.6536284677564498, -0.9602739090100308, -0.34724078991539603, 0.5388518809564495, -2.173526797590024, 0.8355229097644048, -0.897943250330798, 0.5450735887174946, -0.9372387110558424, -1.112549270349293, -0.702726815470619, 0.7325129076485717, -0.17369932388406342, 0.09773400489425473, -0.22942079872978982, 0.1703871787161514, -2.1665240120693823, -0.7153513931660893, -0.6420652181842549, 0.13465773936314834, 0.8088113190400273, 0.5531535072070709, -0.057563529228919684, -0.25600086262824917, -0.577007313856514, -0.8279579404389458, -0.8933546160692658, 0.5656854641293453, -0.8399717143319536, -0.32430624375610345, -1.0914288219776849, -0.18180695775916408, -0.9726438334197695, 0.30271857357350695, -0.15572541628244654, 1.3578671011251717, -0.6101904703382658, -0.6923693151136978, -0.43667702717984946, 0.7848023269101269, 0.3818528888035823, -1.0984175475606468, 1.0060225751515335, -1.2234840944513203, 0.9254079096802839, 0.47078473569527546, 2.437524598965109, 0.4824326534477051, -0.22873571010776006, 0.462812382296827, 1.9991883779041422, -0.24198131614206647, 0.10069737128065137, -0.9889128384993973, -0.9381482305703883, -1.9321036946732335, -0.4110046626450792, -1.0421297199384185, -1.6084817749223765, -0.296731532257138, -0.3804787106746805, 0.2838245966238775, -1.138381207628285, -1.2861171735396557, 0.6135467426774536, -1.0953398758579733, -1.8552417689885758, -0.8880496545159664, 1.2285245683523007, -0.906758092599867], \"yaxis\": \"y9\"}, {\"line\": {\"color\": \"rgba(128, 128, 128, 1.0)\", \"dash\": \"solid\", \"shape\": \"linear\", \"width\": 1.3}, \"marker\": {\"size\": 2, \"symbol\": \"circle\"}, \"mode\": \"markers\", \"name\": \"C\", \"text\": \"\", \"type\": \"scatter\", \"x\": [1.1232035304834727, -0.027646444578447983, -0.08398900118924442, -0.15149207680460008, 1.3297811358905003, -0.3588283929141447, -0.09241960340912399, 0.4144283948863819, -0.3242812375394934, 2.3983374404567153, 0.06909517875539394, -0.9047885203720661, -0.3265029067093802, 1.7107990386995107, -0.10882256063664028, 0.4897875303308817, -1.0135894728524193, 1.469438190961238, 0.036116091249880994, -0.8489964394716256, 1.1045547892308794, -2.733992479927418, 0.32155595967427597, 1.1730656687096301, 0.08919563895231453, -0.25087110936678997, 0.3482220702050979, -1.7806719298663185, -0.4513396599289586, -1.9081904190159555, -0.3819735660336761, 0.8622929704051494, 0.6643974389859816, -0.10482717044736548, -0.2978187641213, 0.38498283608367456, -0.2923058128870225, -1.8272050682618728, 0.9994086669080886, 0.22725335504437277, 0.543937236379081, 0.07227911719372908, 1.5237616967102592, -0.9532437020079461, -0.15113803558243055, 0.2617176444724291, -0.24506613212165868, -0.5207569261079663, -0.8532011988899243, 1.0864728378980126, 0.4654840803605472, 0.09625462622839667, -0.7357046380750296, 0.030202365540960157, 0.9262509241518855, 1.9593338921574195, -1.3661245536871027, 0.7323140351673906, 0.006607641087876381, 1.7473651609919887, 0.4219988261940681, 1.4191862517842977, -0.7566038891150196, -0.41425090121806823, 3.0035553718893238, -1.3449509112854081, -0.44909665312229585, -0.14484253474706837, -1.62510198227339, 0.513343071179874, 0.10057721954931076, -0.3347821761196757, -0.2056135190586056, 1.522708283114086, -0.9610873885231529, 0.3801472992208391, -0.26196111219286417, 1.5602775206755128, -0.5837342554198951, 0.42352589486444703, -0.3595438735331036, 0.42050074494523526, 0.48865650230846835, -0.4435686363074531, -1.2356577354562504, -0.040859602804632925, 0.559282291459184, 0.12464642337136354, -0.15108892936597226, 1.7478728236278007, -0.30778670631463906, -0.19881792903994983, 0.9365043151652537, 0.0853259717415844, 0.4357469077004661, 0.9373712100633341, 0.8836339180532669, -1.1235502320579935, -0.9786059330900005, -0.45891658939469926], \"xaxis\": \"x10\", \"y\": [1.1294338268005901, -1.887572133913162, -1.085188366556874, 1.2441200502444267, 1.5459320960380774, -0.4988637936723765, -0.1577437548664111, 0.09020622464636908, -0.27151571164654525, -0.18975644415964288, -0.6699686461843579, 2.296747020407923, 0.05130330800056149, -2.4442640983583517, 1.2389016903456653, -0.18944434352683967, 0.6053072348106463, -1.2524285923701526, 1.3933747650509871, 0.49202062210322245, 0.257957107145455, 1.1220240799018353, -1.718931138709767, 0.5951710932559078, 0.11425858220558911, -0.8562861220154547, -1.4738005214000116, 0.07242468226824243, 1.809544160579259, -0.6873950236870673, -0.6536284677564498, -0.9602739090100308, -0.34724078991539603, 0.5388518809564495, -2.173526797590024, 0.8355229097644048, -0.897943250330798, 0.5450735887174946, -0.9372387110558424, -1.112549270349293, -0.702726815470619, 0.7325129076485717, -0.17369932388406342, 0.09773400489425473, -0.22942079872978982, 0.1703871787161514, -2.1665240120693823, -0.7153513931660893, -0.6420652181842549, 0.13465773936314834, 0.8088113190400273, 0.5531535072070709, -0.057563529228919684, -0.25600086262824917, -0.577007313856514, -0.8279579404389458, -0.8933546160692658, 0.5656854641293453, -0.8399717143319536, -0.32430624375610345, -1.0914288219776849, -0.18180695775916408, -0.9726438334197695, 0.30271857357350695, -0.15572541628244654, 1.3578671011251717, -0.6101904703382658, -0.6923693151136978, -0.43667702717984946, 0.7848023269101269, 0.3818528888035823, -1.0984175475606468, 1.0060225751515335, -1.2234840944513203, 0.9254079096802839, 0.47078473569527546, 2.437524598965109, 0.4824326534477051, -0.22873571010776006, 0.462812382296827, 1.9991883779041422, -0.24198131614206647, 0.10069737128065137, -0.9889128384993973, -0.9381482305703883, -1.9321036946732335, -0.4110046626450792, -1.0421297199384185, -1.6084817749223765, -0.296731532257138, -0.3804787106746805, 0.2838245966238775, -1.138381207628285, -1.2861171735396557, 0.6135467426774536, -1.0953398758579733, -1.8552417689885758, -0.8880496545159664, 1.2285245683523007, -0.906758092599867], \"yaxis\": \"y10\"}, {\"histfunc\": \"count\", \"histnorm\": \"\", \"marker\": {\"color\": \"rgba(50, 171, 96, 1.0)\", \"line\": {\"color\": \"#4D5663\", \"width\": 1.3}}, \"name\": \"C\", \"nbinsx\": 10, \"opacity\": 0.8, \"orientation\": \"v\", \"type\": \"histogram\", \"x\": [1.1294338268005901, -1.887572133913162, -1.085188366556874, 1.2441200502444267, 1.5459320960380774, -0.4988637936723765, -0.1577437548664111, 0.09020622464636908, -0.27151571164654525, -0.18975644415964288, -0.6699686461843579, 2.296747020407923, 0.05130330800056149, -2.4442640983583517, 1.2389016903456653, -0.18944434352683967, 0.6053072348106463, -1.2524285923701526, 1.3933747650509871, 0.49202062210322245, 0.257957107145455, 1.1220240799018353, -1.718931138709767, 0.5951710932559078, 0.11425858220558911, -0.8562861220154547, -1.4738005214000116, 0.07242468226824243, 1.809544160579259, -0.6873950236870673, -0.6536284677564498, -0.9602739090100308, -0.34724078991539603, 0.5388518809564495, -2.173526797590024, 0.8355229097644048, -0.897943250330798, 0.5450735887174946, -0.9372387110558424, -1.112549270349293, -0.702726815470619, 0.7325129076485717, -0.17369932388406342, 0.09773400489425473, -0.22942079872978982, 0.1703871787161514, -2.1665240120693823, -0.7153513931660893, -0.6420652181842549, 0.13465773936314834, 0.8088113190400273, 0.5531535072070709, -0.057563529228919684, -0.25600086262824917, -0.577007313856514, -0.8279579404389458, -0.8933546160692658, 0.5656854641293453, -0.8399717143319536, -0.32430624375610345, -1.0914288219776849, -0.18180695775916408, -0.9726438334197695, 0.30271857357350695, -0.15572541628244654, 1.3578671011251717, -0.6101904703382658, -0.6923693151136978, -0.43667702717984946, 0.7848023269101269, 0.3818528888035823, -1.0984175475606468, 1.0060225751515335, -1.2234840944513203, 0.9254079096802839, 0.47078473569527546, 2.437524598965109, 0.4824326534477051, -0.22873571010776006, 0.462812382296827, 1.9991883779041422, -0.24198131614206647, 0.10069737128065137, -0.9889128384993973, -0.9381482305703883, -1.9321036946732335, -0.4110046626450792, -1.0421297199384185, -1.6084817749223765, -0.296731532257138, -0.3804787106746805, 0.2838245966238775, -1.138381207628285, -1.2861171735396557, 0.6135467426774536, -1.0953398758579733, -1.8552417689885758, -0.8880496545159664, 1.2285245683523007, -0.906758092599867], \"xaxis\": \"x11\", \"yaxis\": \"y11\"}, {\"line\": {\"color\": \"rgba(128, 128, 128, 1.0)\", \"dash\": \"solid\", \"shape\": \"linear\", \"width\": 1.3}, \"marker\": {\"size\": 2, \"symbol\": \"circle\"}, \"mode\": \"markers\", \"name\": \"C\", \"text\": \"\", \"type\": \"scatter\", \"x\": [-0.3005660290796793, 0.4690410684946249, -0.15686784605172588, 0.34597968254358424, -0.8765272729371686, 1.0578142148171377, 1.1517833751948285, -0.9059399369573186, 0.6559696282037321, 0.8660618634624208, 0.9298634275370239, -0.4036806650429973, 2.0831763476256464, 2.236332687234384, 0.1023211477173691, 0.673849289359737, 1.4058839722240843, -1.5472002402660305, 0.2242403905844482, 0.9577374008703127, 0.012576660713810802, -1.2054267184605332, -1.835374218557789, 0.820394938928055, -0.3678435146878748, 1.5680299954819024, 0.2567420393462134, -1.8412356071911151, 0.15224791026731652, 0.8689689475570724, 0.6199987051206256, 0.08520560340375176, 1.8672640839451167, 0.7216926846091692, -0.6353257802654373, -0.2307027271462637, -0.6565636798272065, -2.24020902822671, -0.8625622473890274, 1.0129263016287262, 0.3756742179574329, -1.0591502767295813, 0.3098859743806808, -0.120096595893609, 1.3990380568406269, -0.4347703785963267, -0.9398151287733784, 0.4950357210179923, 0.4800437963115811, 0.8282016946835207, 0.0008638232858400742, 0.8947718662025472, -0.7388662047798948, -0.7244205136277834, -1.0436174072116249, -0.30583914096101333, -0.8144962732005774, 0.5923749632389562, 0.9882575009645511, -1.5281723458094598, 0.874250864706059, -0.45204143281161246, 0.8068987810944247, 0.28410008734849235, 1.5517908672621392, -0.5057124791407088, 0.7008348403356799, -0.12797976246664364, 0.6393289239677991, -0.4281270518755398, -0.5252675809214842, -0.9401994595911041, -0.01297658993896751, -0.06836163379373286, 1.6801609319042026, -1.599265119876865, 0.7375891078115318, -0.06889510467951712, 0.5805253856391505, -0.6058305951461466, -1.9080405994625778, -1.596579305185901, 0.49248475294184624, 0.7534647853327919, -0.8874422957908504, 0.9537799052764699, 1.2999088457279604, -0.03936343150833903, 0.536088725542492, 0.666016137641211, 0.8020667031064855, -0.03837550627684842, -2.217797311811609, -0.6615233168351068, 0.5423968297678927, -0.29740582382476405, 1.9159748872217595, -0.010257753016069099, -0.6698239566159488, 0.5516997270369369], \"xaxis\": \"x12\", \"y\": [1.1294338268005901, -1.887572133913162, -1.085188366556874, 1.2441200502444267, 1.5459320960380774, -0.4988637936723765, -0.1577437548664111, 0.09020622464636908, -0.27151571164654525, -0.18975644415964288, -0.6699686461843579, 2.296747020407923, 0.05130330800056149, -2.4442640983583517, 1.2389016903456653, -0.18944434352683967, 0.6053072348106463, -1.2524285923701526, 1.3933747650509871, 0.49202062210322245, 0.257957107145455, 1.1220240799018353, -1.718931138709767, 0.5951710932559078, 0.11425858220558911, -0.8562861220154547, -1.4738005214000116, 0.07242468226824243, 1.809544160579259, -0.6873950236870673, -0.6536284677564498, -0.9602739090100308, -0.34724078991539603, 0.5388518809564495, -2.173526797590024, 0.8355229097644048, -0.897943250330798, 0.5450735887174946, -0.9372387110558424, -1.112549270349293, -0.702726815470619, 0.7325129076485717, -0.17369932388406342, 0.09773400489425473, -0.22942079872978982, 0.1703871787161514, -2.1665240120693823, -0.7153513931660893, -0.6420652181842549, 0.13465773936314834, 0.8088113190400273, 0.5531535072070709, -0.057563529228919684, -0.25600086262824917, -0.577007313856514, -0.8279579404389458, -0.8933546160692658, 0.5656854641293453, -0.8399717143319536, -0.32430624375610345, -1.0914288219776849, -0.18180695775916408, -0.9726438334197695, 0.30271857357350695, -0.15572541628244654, 1.3578671011251717, -0.6101904703382658, -0.6923693151136978, -0.43667702717984946, 0.7848023269101269, 0.3818528888035823, -1.0984175475606468, 1.0060225751515335, -1.2234840944513203, 0.9254079096802839, 0.47078473569527546, 2.437524598965109, 0.4824326534477051, -0.22873571010776006, 0.462812382296827, 1.9991883779041422, -0.24198131614206647, 0.10069737128065137, -0.9889128384993973, -0.9381482305703883, -1.9321036946732335, -0.4110046626450792, -1.0421297199384185, -1.6084817749223765, -0.296731532257138, -0.3804787106746805, 0.2838245966238775, -1.138381207628285, -1.2861171735396557, 0.6135467426774536, -1.0953398758579733, -1.8552417689885758, -0.8880496545159664, 1.2285245683523007, -0.906758092599867], \"yaxis\": \"y12\"}, {\"line\": {\"color\": \"rgba(128, 128, 128, 1.0)\", \"dash\": \"solid\", \"shape\": \"linear\", \"width\": 1.3}, \"marker\": {\"size\": 2, \"symbol\": \"circle\"}, \"mode\": \"markers\", \"name\": \"D\", \"text\": \"\", \"type\": \"scatter\", \"x\": [-0.2941236145979744, -1.2055757622417584, 1.6739059144807003, 0.28697682921847084, 0.41395886627795436, 0.3258350572180524, 0.5252390425920379, -0.5736684755822246, -0.5700688362477726, 0.3645225874268893, -1.1647288821832336, 0.08451189819558057, -0.744180002462252, -1.2151693534115133, -1.2344417644275725, -1.2727768086178122, -1.109210674025156, 1.8561357436671402, -0.5743628582238592, -1.2869710643656933, 0.5654720433196601, -0.06184951055573469, 1.5426557670599157, 1.5183339797624478, 1.1914744908087287, 0.6123027103271466, -1.1128315368989694, 0.34211525618759664, -1.5427770588082996, -1.8095088920475255, 0.8914290648608734, 0.5707299722117781, 0.4150615465660746, -0.15779149891157998, -0.37577490575303407, -1.3493202029071392, -2.149745000938564, -0.1665954222704084, -0.14825310781359657, 0.9726743509758792, -0.4263313438545262, -0.8371332285968943, -1.00910939339172, 0.9687066851117567, -0.31949200585851995, 0.3811634222615911, -0.8701558140039154, 0.4530440030691015, 0.17712571854006096, -1.2943118538026293, -0.9440276852622483, -1.6140737385993082, -0.5820649119257266, 2.024328108515571, 0.09159763211659076, 0.8699658570083942, -1.9701241141643424, 1.7690020942672438, 0.5602034891518604, 0.45164160230701056, -0.028028443485482134, 0.3885875044711814, 0.018490601080752518, 2.8676657947150765, -0.8816260097799625, 0.5214180441747942, -0.2093671541431842, 0.415228606814977, -1.7884617684009187, -1.1882225177627814, -0.684762457408276, -1.9832688668725418, 0.9310360124815191, -0.5457278756057826, -0.710547760985368, -0.5446929238244186, -0.19630294700548082, -1.44280738406763, -0.8331241658672963, -0.45235685481235416, -0.6728883540615982, 0.3344908135970183, 0.7970971944919325, 1.3589465498265694, 1.6675265431050559, -0.24149016625430927, 0.3735431989596485, 2.327748140643649, -0.1382155746471087, -0.7712757639353897, -0.4514863772912042, -0.46245415819363367, 1.6861611281399966, 0.3070846956990549, -0.7986246032710236, -0.37716556826567615, 0.027142910172499594, -0.16862571807318036, -2.610727992542222, 1.8581627120087132], \"xaxis\": \"x13\", \"y\": [-0.3005660290796793, 0.4690410684946249, -0.15686784605172588, 0.34597968254358424, -0.8765272729371686, 1.0578142148171377, 1.1517833751948285, -0.9059399369573186, 0.6559696282037321, 0.8660618634624208, 0.9298634275370239, -0.4036806650429973, 2.0831763476256464, 2.236332687234384, 0.1023211477173691, 0.673849289359737, 1.4058839722240843, -1.5472002402660305, 0.2242403905844482, 0.9577374008703127, 0.012576660713810802, -1.2054267184605332, -1.835374218557789, 0.820394938928055, -0.3678435146878748, 1.5680299954819024, 0.2567420393462134, -1.8412356071911151, 0.15224791026731652, 0.8689689475570724, 0.6199987051206256, 0.08520560340375176, 1.8672640839451167, 0.7216926846091692, -0.6353257802654373, -0.2307027271462637, -0.6565636798272065, -2.24020902822671, -0.8625622473890274, 1.0129263016287262, 0.3756742179574329, -1.0591502767295813, 0.3098859743806808, -0.120096595893609, 1.3990380568406269, -0.4347703785963267, -0.9398151287733784, 0.4950357210179923, 0.4800437963115811, 0.8282016946835207, 0.0008638232858400742, 0.8947718662025472, -0.7388662047798948, -0.7244205136277834, -1.0436174072116249, -0.30583914096101333, -0.8144962732005774, 0.5923749632389562, 0.9882575009645511, -1.5281723458094598, 0.874250864706059, -0.45204143281161246, 0.8068987810944247, 0.28410008734849235, 1.5517908672621392, -0.5057124791407088, 0.7008348403356799, -0.12797976246664364, 0.6393289239677991, -0.4281270518755398, -0.5252675809214842, -0.9401994595911041, -0.01297658993896751, -0.06836163379373286, 1.6801609319042026, -1.599265119876865, 0.7375891078115318, -0.06889510467951712, 0.5805253856391505, -0.6058305951461466, -1.9080405994625778, -1.596579305185901, 0.49248475294184624, 0.7534647853327919, -0.8874422957908504, 0.9537799052764699, 1.2999088457279604, -0.03936343150833903, 0.536088725542492, 0.666016137641211, 0.8020667031064855, -0.03837550627684842, -2.217797311811609, -0.6615233168351068, 0.5423968297678927, -0.29740582382476405, 1.9159748872217595, -0.010257753016069099, -0.6698239566159488, 0.5516997270369369], \"yaxis\": \"y13\"}, {\"line\": {\"color\": \"rgba(128, 128, 128, 1.0)\", \"dash\": \"solid\", \"shape\": \"linear\", \"width\": 1.3}, \"marker\": {\"size\": 2, \"symbol\": \"circle\"}, \"mode\": \"markers\", \"name\": \"D\", \"text\": \"\", \"type\": \"scatter\", \"x\": [1.1232035304834727, -0.027646444578447983, -0.08398900118924442, -0.15149207680460008, 1.3297811358905003, -0.3588283929141447, -0.09241960340912399, 0.4144283948863819, -0.3242812375394934, 2.3983374404567153, 0.06909517875539394, -0.9047885203720661, -0.3265029067093802, 1.7107990386995107, -0.10882256063664028, 0.4897875303308817, -1.0135894728524193, 1.469438190961238, 0.036116091249880994, -0.8489964394716256, 1.1045547892308794, -2.733992479927418, 0.32155595967427597, 1.1730656687096301, 0.08919563895231453, -0.25087110936678997, 0.3482220702050979, -1.7806719298663185, -0.4513396599289586, -1.9081904190159555, -0.3819735660336761, 0.8622929704051494, 0.6643974389859816, -0.10482717044736548, -0.2978187641213, 0.38498283608367456, -0.2923058128870225, -1.8272050682618728, 0.9994086669080886, 0.22725335504437277, 0.543937236379081, 0.07227911719372908, 1.5237616967102592, -0.9532437020079461, -0.15113803558243055, 0.2617176444724291, -0.24506613212165868, -0.5207569261079663, -0.8532011988899243, 1.0864728378980126, 0.4654840803605472, 0.09625462622839667, -0.7357046380750296, 0.030202365540960157, 0.9262509241518855, 1.9593338921574195, -1.3661245536871027, 0.7323140351673906, 0.006607641087876381, 1.7473651609919887, 0.4219988261940681, 1.4191862517842977, -0.7566038891150196, -0.41425090121806823, 3.0035553718893238, -1.3449509112854081, -0.44909665312229585, -0.14484253474706837, -1.62510198227339, 0.513343071179874, 0.10057721954931076, -0.3347821761196757, -0.2056135190586056, 1.522708283114086, -0.9610873885231529, 0.3801472992208391, -0.26196111219286417, 1.5602775206755128, -0.5837342554198951, 0.42352589486444703, -0.3595438735331036, 0.42050074494523526, 0.48865650230846835, -0.4435686363074531, -1.2356577354562504, -0.040859602804632925, 0.559282291459184, 0.12464642337136354, -0.15108892936597226, 1.7478728236278007, -0.30778670631463906, -0.19881792903994983, 0.9365043151652537, 0.0853259717415844, 0.4357469077004661, 0.9373712100633341, 0.8836339180532669, -1.1235502320579935, -0.9786059330900005, -0.45891658939469926], \"xaxis\": \"x14\", \"y\": [-0.3005660290796793, 0.4690410684946249, -0.15686784605172588, 0.34597968254358424, -0.8765272729371686, 1.0578142148171377, 1.1517833751948285, -0.9059399369573186, 0.6559696282037321, 0.8660618634624208, 0.9298634275370239, -0.4036806650429973, 2.0831763476256464, 2.236332687234384, 0.1023211477173691, 0.673849289359737, 1.4058839722240843, -1.5472002402660305, 0.2242403905844482, 0.9577374008703127, 0.012576660713810802, -1.2054267184605332, -1.835374218557789, 0.820394938928055, -0.3678435146878748, 1.5680299954819024, 0.2567420393462134, -1.8412356071911151, 0.15224791026731652, 0.8689689475570724, 0.6199987051206256, 0.08520560340375176, 1.8672640839451167, 0.7216926846091692, -0.6353257802654373, -0.2307027271462637, -0.6565636798272065, -2.24020902822671, -0.8625622473890274, 1.0129263016287262, 0.3756742179574329, -1.0591502767295813, 0.3098859743806808, -0.120096595893609, 1.3990380568406269, -0.4347703785963267, -0.9398151287733784, 0.4950357210179923, 0.4800437963115811, 0.8282016946835207, 0.0008638232858400742, 0.8947718662025472, -0.7388662047798948, -0.7244205136277834, -1.0436174072116249, -0.30583914096101333, -0.8144962732005774, 0.5923749632389562, 0.9882575009645511, -1.5281723458094598, 0.874250864706059, -0.45204143281161246, 0.8068987810944247, 0.28410008734849235, 1.5517908672621392, -0.5057124791407088, 0.7008348403356799, -0.12797976246664364, 0.6393289239677991, -0.4281270518755398, -0.5252675809214842, -0.9401994595911041, -0.01297658993896751, -0.06836163379373286, 1.6801609319042026, -1.599265119876865, 0.7375891078115318, -0.06889510467951712, 0.5805253856391505, -0.6058305951461466, -1.9080405994625778, -1.596579305185901, 0.49248475294184624, 0.7534647853327919, -0.8874422957908504, 0.9537799052764699, 1.2999088457279604, -0.03936343150833903, 0.536088725542492, 0.666016137641211, 0.8020667031064855, -0.03837550627684842, -2.217797311811609, -0.6615233168351068, 0.5423968297678927, -0.29740582382476405, 1.9159748872217595, -0.010257753016069099, -0.6698239566159488, 0.5516997270369369], \"yaxis\": \"y14\"}, {\"line\": {\"color\": \"rgba(128, 128, 128, 1.0)\", \"dash\": \"solid\", \"shape\": \"linear\", \"width\": 1.3}, \"marker\": {\"size\": 2, \"symbol\": \"circle\"}, \"mode\": \"markers\", \"name\": \"D\", \"text\": \"\", \"type\": \"scatter\", \"x\": [1.1294338268005901, -1.887572133913162, -1.085188366556874, 1.2441200502444267, 1.5459320960380774, -0.4988637936723765, -0.1577437548664111, 0.09020622464636908, -0.27151571164654525, -0.18975644415964288, -0.6699686461843579, 2.296747020407923, 0.05130330800056149, -2.4442640983583517, 1.2389016903456653, -0.18944434352683967, 0.6053072348106463, -1.2524285923701526, 1.3933747650509871, 0.49202062210322245, 0.257957107145455, 1.1220240799018353, -1.718931138709767, 0.5951710932559078, 0.11425858220558911, -0.8562861220154547, -1.4738005214000116, 0.07242468226824243, 1.809544160579259, -0.6873950236870673, -0.6536284677564498, -0.9602739090100308, -0.34724078991539603, 0.5388518809564495, -2.173526797590024, 0.8355229097644048, -0.897943250330798, 0.5450735887174946, -0.9372387110558424, -1.112549270349293, -0.702726815470619, 0.7325129076485717, -0.17369932388406342, 0.09773400489425473, -0.22942079872978982, 0.1703871787161514, -2.1665240120693823, -0.7153513931660893, -0.6420652181842549, 0.13465773936314834, 0.8088113190400273, 0.5531535072070709, -0.057563529228919684, -0.25600086262824917, -0.577007313856514, -0.8279579404389458, -0.8933546160692658, 0.5656854641293453, -0.8399717143319536, -0.32430624375610345, -1.0914288219776849, -0.18180695775916408, -0.9726438334197695, 0.30271857357350695, -0.15572541628244654, 1.3578671011251717, -0.6101904703382658, -0.6923693151136978, -0.43667702717984946, 0.7848023269101269, 0.3818528888035823, -1.0984175475606468, 1.0060225751515335, -1.2234840944513203, 0.9254079096802839, 0.47078473569527546, 2.437524598965109, 0.4824326534477051, -0.22873571010776006, 0.462812382296827, 1.9991883779041422, -0.24198131614206647, 0.10069737128065137, -0.9889128384993973, -0.9381482305703883, -1.9321036946732335, -0.4110046626450792, -1.0421297199384185, -1.6084817749223765, -0.296731532257138, -0.3804787106746805, 0.2838245966238775, -1.138381207628285, -1.2861171735396557, 0.6135467426774536, -1.0953398758579733, -1.8552417689885758, -0.8880496545159664, 1.2285245683523007, -0.906758092599867], \"xaxis\": \"x15\", \"y\": [-0.3005660290796793, 0.4690410684946249, -0.15686784605172588, 0.34597968254358424, -0.8765272729371686, 1.0578142148171377, 1.1517833751948285, -0.9059399369573186, 0.6559696282037321, 0.8660618634624208, 0.9298634275370239, -0.4036806650429973, 2.0831763476256464, 2.236332687234384, 0.1023211477173691, 0.673849289359737, 1.4058839722240843, -1.5472002402660305, 0.2242403905844482, 0.9577374008703127, 0.012576660713810802, -1.2054267184605332, -1.835374218557789, 0.820394938928055, -0.3678435146878748, 1.5680299954819024, 0.2567420393462134, -1.8412356071911151, 0.15224791026731652, 0.8689689475570724, 0.6199987051206256, 0.08520560340375176, 1.8672640839451167, 0.7216926846091692, -0.6353257802654373, -0.2307027271462637, -0.6565636798272065, -2.24020902822671, -0.8625622473890274, 1.0129263016287262, 0.3756742179574329, -1.0591502767295813, 0.3098859743806808, -0.120096595893609, 1.3990380568406269, -0.4347703785963267, -0.9398151287733784, 0.4950357210179923, 0.4800437963115811, 0.8282016946835207, 0.0008638232858400742, 0.8947718662025472, -0.7388662047798948, -0.7244205136277834, -1.0436174072116249, -0.30583914096101333, -0.8144962732005774, 0.5923749632389562, 0.9882575009645511, -1.5281723458094598, 0.874250864706059, -0.45204143281161246, 0.8068987810944247, 0.28410008734849235, 1.5517908672621392, -0.5057124791407088, 0.7008348403356799, -0.12797976246664364, 0.6393289239677991, -0.4281270518755398, -0.5252675809214842, -0.9401994595911041, -0.01297658993896751, -0.06836163379373286, 1.6801609319042026, -1.599265119876865, 0.7375891078115318, -0.06889510467951712, 0.5805253856391505, -0.6058305951461466, -1.9080405994625778, -1.596579305185901, 0.49248475294184624, 0.7534647853327919, -0.8874422957908504, 0.9537799052764699, 1.2999088457279604, -0.03936343150833903, 0.536088725542492, 0.666016137641211, 0.8020667031064855, -0.03837550627684842, -2.217797311811609, -0.6615233168351068, 0.5423968297678927, -0.29740582382476405, 1.9159748872217595, -0.010257753016069099, -0.6698239566159488, 0.5516997270369369], \"yaxis\": \"y15\"}, {\"histfunc\": \"count\", \"histnorm\": \"\", \"marker\": {\"color\": \"rgba(128, 0, 128, 1.0)\", \"line\": {\"color\": \"#4D5663\", \"width\": 1.3}}, \"name\": \"D\", \"nbinsx\": 10, \"opacity\": 0.8, \"orientation\": \"v\", \"type\": \"histogram\", \"x\": [-0.3005660290796793, 0.4690410684946249, -0.15686784605172588, 0.34597968254358424, -0.8765272729371686, 1.0578142148171377, 1.1517833751948285, -0.9059399369573186, 0.6559696282037321, 0.8660618634624208, 0.9298634275370239, -0.4036806650429973, 2.0831763476256464, 2.236332687234384, 0.1023211477173691, 0.673849289359737, 1.4058839722240843, -1.5472002402660305, 0.2242403905844482, 0.9577374008703127, 0.012576660713810802, -1.2054267184605332, -1.835374218557789, 0.820394938928055, -0.3678435146878748, 1.5680299954819024, 0.2567420393462134, -1.8412356071911151, 0.15224791026731652, 0.8689689475570724, 0.6199987051206256, 0.08520560340375176, 1.8672640839451167, 0.7216926846091692, -0.6353257802654373, -0.2307027271462637, -0.6565636798272065, -2.24020902822671, -0.8625622473890274, 1.0129263016287262, 0.3756742179574329, -1.0591502767295813, 0.3098859743806808, -0.120096595893609, 1.3990380568406269, -0.4347703785963267, -0.9398151287733784, 0.4950357210179923, 0.4800437963115811, 0.8282016946835207, 0.0008638232858400742, 0.8947718662025472, -0.7388662047798948, -0.7244205136277834, -1.0436174072116249, -0.30583914096101333, -0.8144962732005774, 0.5923749632389562, 0.9882575009645511, -1.5281723458094598, 0.874250864706059, -0.45204143281161246, 0.8068987810944247, 0.28410008734849235, 1.5517908672621392, -0.5057124791407088, 0.7008348403356799, -0.12797976246664364, 0.6393289239677991, -0.4281270518755398, -0.5252675809214842, -0.9401994595911041, -0.01297658993896751, -0.06836163379373286, 1.6801609319042026, -1.599265119876865, 0.7375891078115318, -0.06889510467951712, 0.5805253856391505, -0.6058305951461466, -1.9080405994625778, -1.596579305185901, 0.49248475294184624, 0.7534647853327919, -0.8874422957908504, 0.9537799052764699, 1.2999088457279604, -0.03936343150833903, 0.536088725542492, 0.666016137641211, 0.8020667031064855, -0.03837550627684842, -2.217797311811609, -0.6615233168351068, 0.5423968297678927, -0.29740582382476405, 1.9159748872217595, -0.010257753016069099, -0.6698239566159488, 0.5516997270369369], \"xaxis\": \"x16\", \"yaxis\": \"y16\"}],                        {\"bargap\": 0.02, \"legend\": {\"bgcolor\": \"#F5F6F9\", \"font\": {\"color\": \"#4D5663\"}}, \"paper_bgcolor\": \"#F5F6F9\", \"plot_bgcolor\": \"#F5F6F9\", \"showlegend\": false, \"template\": {\"data\": {\"bar\": [{\"error_x\": {\"color\": \"#2a3f5f\"}, \"error_y\": {\"color\": \"#2a3f5f\"}, \"marker\": {\"line\": {\"color\": \"#E5ECF6\", \"width\": 0.5}}, \"type\": \"bar\"}], \"barpolar\": [{\"marker\": {\"line\": {\"color\": \"#E5ECF6\", \"width\": 0.5}}, \"type\": \"barpolar\"}], \"carpet\": [{\"aaxis\": {\"endlinecolor\": \"#2a3f5f\", \"gridcolor\": \"white\", \"linecolor\": \"white\", \"minorgridcolor\": \"white\", \"startlinecolor\": \"#2a3f5f\"}, \"baxis\": {\"endlinecolor\": \"#2a3f5f\", \"gridcolor\": \"white\", \"linecolor\": \"white\", \"minorgridcolor\": \"white\", \"startlinecolor\": \"#2a3f5f\"}, \"type\": \"carpet\"}], \"choropleth\": [{\"colorbar\": {\"outlinewidth\": 0, \"ticks\": \"\"}, \"type\": \"choropleth\"}], \"contour\": [{\"colorbar\": {\"outlinewidth\": 0, \"ticks\": \"\"}, \"colorscale\": [[0.0, \"#0d0887\"], [0.1111111111111111, \"#46039f\"], [0.2222222222222222, \"#7201a8\"], [0.3333333333333333, \"#9c179e\"], [0.4444444444444444, \"#bd3786\"], [0.5555555555555556, \"#d8576b\"], [0.6666666666666666, \"#ed7953\"], [0.7777777777777778, \"#fb9f3a\"], [0.8888888888888888, \"#fdca26\"], [1.0, \"#f0f921\"]], \"type\": \"contour\"}], \"contourcarpet\": [{\"colorbar\": {\"outlinewidth\": 0, \"ticks\": \"\"}, \"type\": \"contourcarpet\"}], \"heatmap\": [{\"colorbar\": {\"outlinewidth\": 0, \"ticks\": \"\"}, \"colorscale\": [[0.0, \"#0d0887\"], [0.1111111111111111, \"#46039f\"], [0.2222222222222222, \"#7201a8\"], [0.3333333333333333, \"#9c179e\"], [0.4444444444444444, \"#bd3786\"], [0.5555555555555556, \"#d8576b\"], [0.6666666666666666, \"#ed7953\"], [0.7777777777777778, \"#fb9f3a\"], [0.8888888888888888, \"#fdca26\"], [1.0, \"#f0f921\"]], \"type\": \"heatmap\"}], \"heatmapgl\": [{\"colorbar\": {\"outlinewidth\": 0, \"ticks\": \"\"}, \"colorscale\": [[0.0, \"#0d0887\"], [0.1111111111111111, \"#46039f\"], [0.2222222222222222, \"#7201a8\"], [0.3333333333333333, \"#9c179e\"], [0.4444444444444444, \"#bd3786\"], [0.5555555555555556, \"#d8576b\"], [0.6666666666666666, \"#ed7953\"], [0.7777777777777778, \"#fb9f3a\"], [0.8888888888888888, \"#fdca26\"], [1.0, \"#f0f921\"]], \"type\": \"heatmapgl\"}], \"histogram\": [{\"marker\": {\"colorbar\": {\"outlinewidth\": 0, \"ticks\": \"\"}}, \"type\": \"histogram\"}], \"histogram2d\": [{\"colorbar\": {\"outlinewidth\": 0, \"ticks\": \"\"}, \"colorscale\": [[0.0, \"#0d0887\"], [0.1111111111111111, \"#46039f\"], [0.2222222222222222, \"#7201a8\"], [0.3333333333333333, \"#9c179e\"], [0.4444444444444444, \"#bd3786\"], [0.5555555555555556, \"#d8576b\"], [0.6666666666666666, \"#ed7953\"], [0.7777777777777778, \"#fb9f3a\"], [0.8888888888888888, \"#fdca26\"], [1.0, \"#f0f921\"]], \"type\": \"histogram2d\"}], \"histogram2dcontour\": [{\"colorbar\": {\"outlinewidth\": 0, \"ticks\": \"\"}, \"colorscale\": [[0.0, \"#0d0887\"], [0.1111111111111111, \"#46039f\"], [0.2222222222222222, \"#7201a8\"], [0.3333333333333333, \"#9c179e\"], [0.4444444444444444, \"#bd3786\"], [0.5555555555555556, \"#d8576b\"], [0.6666666666666666, \"#ed7953\"], [0.7777777777777778, \"#fb9f3a\"], [0.8888888888888888, \"#fdca26\"], [1.0, \"#f0f921\"]], \"type\": \"histogram2dcontour\"}], \"mesh3d\": [{\"colorbar\": {\"outlinewidth\": 0, \"ticks\": \"\"}, \"type\": \"mesh3d\"}], \"parcoords\": [{\"line\": {\"colorbar\": {\"outlinewidth\": 0, \"ticks\": \"\"}}, \"type\": \"parcoords\"}], \"pie\": [{\"automargin\": true, \"type\": \"pie\"}], \"scatter\": [{\"marker\": {\"colorbar\": {\"outlinewidth\": 0, \"ticks\": \"\"}}, \"type\": \"scatter\"}], \"scatter3d\": [{\"line\": {\"colorbar\": {\"outlinewidth\": 0, \"ticks\": \"\"}}, \"marker\": {\"colorbar\": {\"outlinewidth\": 0, \"ticks\": \"\"}}, \"type\": \"scatter3d\"}], \"scattercarpet\": [{\"marker\": {\"colorbar\": {\"outlinewidth\": 0, \"ticks\": \"\"}}, \"type\": \"scattercarpet\"}], \"scattergeo\": [{\"marker\": {\"colorbar\": {\"outlinewidth\": 0, \"ticks\": \"\"}}, \"type\": \"scattergeo\"}], \"scattergl\": [{\"marker\": {\"colorbar\": {\"outlinewidth\": 0, \"ticks\": \"\"}}, \"type\": \"scattergl\"}], \"scattermapbox\": [{\"marker\": {\"colorbar\": {\"outlinewidth\": 0, \"ticks\": \"\"}}, \"type\": \"scattermapbox\"}], \"scatterpolar\": [{\"marker\": {\"colorbar\": {\"outlinewidth\": 0, \"ticks\": \"\"}}, \"type\": \"scatterpolar\"}], \"scatterpolargl\": [{\"marker\": {\"colorbar\": {\"outlinewidth\": 0, \"ticks\": \"\"}}, \"type\": \"scatterpolargl\"}], \"scatterternary\": [{\"marker\": {\"colorbar\": {\"outlinewidth\": 0, \"ticks\": \"\"}}, \"type\": \"scatterternary\"}], \"surface\": [{\"colorbar\": {\"outlinewidth\": 0, \"ticks\": \"\"}, \"colorscale\": [[0.0, \"#0d0887\"], [0.1111111111111111, \"#46039f\"], [0.2222222222222222, \"#7201a8\"], [0.3333333333333333, \"#9c179e\"], [0.4444444444444444, \"#bd3786\"], [0.5555555555555556, \"#d8576b\"], [0.6666666666666666, \"#ed7953\"], [0.7777777777777778, \"#fb9f3a\"], [0.8888888888888888, \"#fdca26\"], [1.0, \"#f0f921\"]], \"type\": \"surface\"}], \"table\": [{\"cells\": {\"fill\": {\"color\": \"#EBF0F8\"}, \"line\": {\"color\": \"white\"}}, \"header\": {\"fill\": {\"color\": \"#C8D4E3\"}, \"line\": {\"color\": \"white\"}}, \"type\": \"table\"}]}, \"layout\": {\"annotationdefaults\": {\"arrowcolor\": \"#2a3f5f\", \"arrowhead\": 0, \"arrowwidth\": 1}, \"autotypenumbers\": \"strict\", \"coloraxis\": {\"colorbar\": {\"outlinewidth\": 0, \"ticks\": \"\"}}, \"colorscale\": {\"diverging\": [[0, \"#8e0152\"], [0.1, \"#c51b7d\"], [0.2, \"#de77ae\"], [0.3, \"#f1b6da\"], [0.4, \"#fde0ef\"], [0.5, \"#f7f7f7\"], [0.6, \"#e6f5d0\"], [0.7, \"#b8e186\"], [0.8, \"#7fbc41\"], [0.9, \"#4d9221\"], [1, \"#276419\"]], \"sequential\": [[0.0, \"#0d0887\"], [0.1111111111111111, \"#46039f\"], [0.2222222222222222, \"#7201a8\"], [0.3333333333333333, \"#9c179e\"], [0.4444444444444444, \"#bd3786\"], [0.5555555555555556, \"#d8576b\"], [0.6666666666666666, \"#ed7953\"], [0.7777777777777778, \"#fb9f3a\"], [0.8888888888888888, \"#fdca26\"], [1.0, \"#f0f921\"]], \"sequentialminus\": [[0.0, \"#0d0887\"], [0.1111111111111111, \"#46039f\"], [0.2222222222222222, \"#7201a8\"], [0.3333333333333333, \"#9c179e\"], [0.4444444444444444, \"#bd3786\"], [0.5555555555555556, \"#d8576b\"], [0.6666666666666666, \"#ed7953\"], [0.7777777777777778, \"#fb9f3a\"], [0.8888888888888888, \"#fdca26\"], [1.0, \"#f0f921\"]]}, \"colorway\": [\"#636efa\", \"#EF553B\", \"#00cc96\", \"#ab63fa\", \"#FFA15A\", \"#19d3f3\", \"#FF6692\", \"#B6E880\", \"#FF97FF\", \"#FECB52\"], \"font\": {\"color\": \"#2a3f5f\"}, \"geo\": {\"bgcolor\": \"white\", \"lakecolor\": \"white\", \"landcolor\": \"#E5ECF6\", \"showlakes\": true, \"showland\": true, \"subunitcolor\": \"white\"}, \"hoverlabel\": {\"align\": \"left\"}, \"hovermode\": \"closest\", \"mapbox\": {\"style\": \"light\"}, \"paper_bgcolor\": \"white\", \"plot_bgcolor\": \"#E5ECF6\", \"polar\": {\"angularaxis\": {\"gridcolor\": \"white\", \"linecolor\": \"white\", \"ticks\": \"\"}, \"bgcolor\": \"#E5ECF6\", \"radialaxis\": {\"gridcolor\": \"white\", \"linecolor\": \"white\", \"ticks\": \"\"}}, \"scene\": {\"xaxis\": {\"backgroundcolor\": \"#E5ECF6\", \"gridcolor\": \"white\", \"gridwidth\": 2, \"linecolor\": \"white\", \"showbackground\": true, \"ticks\": \"\", \"zerolinecolor\": \"white\"}, \"yaxis\": {\"backgroundcolor\": \"#E5ECF6\", \"gridcolor\": \"white\", \"gridwidth\": 2, \"linecolor\": \"white\", \"showbackground\": true, \"ticks\": \"\", \"zerolinecolor\": \"white\"}, \"zaxis\": {\"backgroundcolor\": \"#E5ECF6\", \"gridcolor\": \"white\", \"gridwidth\": 2, \"linecolor\": \"white\", \"showbackground\": true, \"ticks\": \"\", \"zerolinecolor\": \"white\"}}, \"shapedefaults\": {\"line\": {\"color\": \"#2a3f5f\"}}, \"ternary\": {\"aaxis\": {\"gridcolor\": \"white\", \"linecolor\": \"white\", \"ticks\": \"\"}, \"baxis\": {\"gridcolor\": \"white\", \"linecolor\": \"white\", \"ticks\": \"\"}, \"bgcolor\": \"#E5ECF6\", \"caxis\": {\"gridcolor\": \"white\", \"linecolor\": \"white\", \"ticks\": \"\"}}, \"title\": {\"x\": 0.05}, \"xaxis\": {\"automargin\": true, \"gridcolor\": \"white\", \"linecolor\": \"white\", \"ticks\": \"\", \"title\": {\"standoff\": 15}, \"zerolinecolor\": \"white\", \"zerolinewidth\": 2}, \"yaxis\": {\"automargin\": true, \"gridcolor\": \"white\", \"linecolor\": \"white\", \"ticks\": \"\", \"title\": {\"standoff\": 15}, \"zerolinecolor\": \"white\", \"zerolinewidth\": 2}}}, \"title\": {\"font\": {\"color\": \"#4D5663\"}}, \"xaxis\": {\"anchor\": \"y\", \"domain\": [0.0, 0.2125], \"gridcolor\": \"#E1E5ED\", \"showgrid\": false, \"tickfont\": {\"color\": \"#4D5663\"}, \"title\": {\"font\": {\"color\": \"#4D5663\"}, \"text\": \"\"}, \"zerolinecolor\": \"#E1E5ED\"}, \"xaxis10\": {\"anchor\": \"y10\", \"domain\": [0.2625, 0.475], \"gridcolor\": \"#E1E5ED\", \"showgrid\": false, \"tickfont\": {\"color\": \"#4D5663\"}, \"title\": {\"font\": {\"color\": \"#4D5663\"}, \"text\": \"\"}, \"zerolinecolor\": \"#E1E5ED\"}, \"xaxis11\": {\"anchor\": \"y11\", \"domain\": [0.525, 0.7375], \"gridcolor\": \"#E1E5ED\", \"showgrid\": false, \"tickfont\": {\"color\": \"#4D5663\"}, \"title\": {\"font\": {\"color\": \"#4D5663\"}, \"text\": \"\"}, \"zerolinecolor\": \"#E1E5ED\"}, \"xaxis12\": {\"anchor\": \"y12\", \"domain\": [0.7875, 1.0], \"gridcolor\": \"#E1E5ED\", \"showgrid\": false, \"tickfont\": {\"color\": \"#4D5663\"}, \"title\": {\"font\": {\"color\": \"#4D5663\"}, \"text\": \"\"}, \"zerolinecolor\": \"#E1E5ED\"}, \"xaxis13\": {\"anchor\": \"y13\", \"domain\": [0.0, 0.2125], \"gridcolor\": \"#E1E5ED\", \"showgrid\": false, \"tickfont\": {\"color\": \"#4D5663\"}, \"title\": {\"font\": {\"color\": \"#4D5663\"}, \"text\": \"\"}, \"zerolinecolor\": \"#E1E5ED\"}, \"xaxis14\": {\"anchor\": \"y14\", \"domain\": [0.2625, 0.475], \"gridcolor\": \"#E1E5ED\", \"showgrid\": false, \"tickfont\": {\"color\": \"#4D5663\"}, \"title\": {\"font\": {\"color\": \"#4D5663\"}, \"text\": \"\"}, \"zerolinecolor\": \"#E1E5ED\"}, \"xaxis15\": {\"anchor\": \"y15\", \"domain\": [0.525, 0.7375], \"gridcolor\": \"#E1E5ED\", \"showgrid\": false, \"tickfont\": {\"color\": \"#4D5663\"}, \"title\": {\"font\": {\"color\": \"#4D5663\"}, \"text\": \"\"}, \"zerolinecolor\": \"#E1E5ED\"}, \"xaxis16\": {\"anchor\": \"y16\", \"domain\": [0.7875, 1.0], \"gridcolor\": \"#E1E5ED\", \"showgrid\": false, \"tickfont\": {\"color\": \"#4D5663\"}, \"title\": {\"font\": {\"color\": \"#4D5663\"}, \"text\": \"\"}, \"zerolinecolor\": \"#E1E5ED\"}, \"xaxis2\": {\"anchor\": \"y2\", \"domain\": [0.2625, 0.475], \"gridcolor\": \"#E1E5ED\", \"showgrid\": false, \"tickfont\": {\"color\": \"#4D5663\"}, \"title\": {\"font\": {\"color\": \"#4D5663\"}, \"text\": \"\"}, \"zerolinecolor\": \"#E1E5ED\"}, \"xaxis3\": {\"anchor\": \"y3\", \"domain\": [0.525, 0.7375], \"gridcolor\": \"#E1E5ED\", \"showgrid\": false, \"tickfont\": {\"color\": \"#4D5663\"}, \"title\": {\"font\": {\"color\": \"#4D5663\"}, \"text\": \"\"}, \"zerolinecolor\": \"#E1E5ED\"}, \"xaxis4\": {\"anchor\": \"y4\", \"domain\": [0.7875, 1.0], \"gridcolor\": \"#E1E5ED\", \"showgrid\": false, \"tickfont\": {\"color\": \"#4D5663\"}, \"title\": {\"font\": {\"color\": \"#4D5663\"}, \"text\": \"\"}, \"zerolinecolor\": \"#E1E5ED\"}, \"xaxis5\": {\"anchor\": \"y5\", \"domain\": [0.0, 0.2125], \"gridcolor\": \"#E1E5ED\", \"showgrid\": false, \"tickfont\": {\"color\": \"#4D5663\"}, \"title\": {\"font\": {\"color\": \"#4D5663\"}, \"text\": \"\"}, \"zerolinecolor\": \"#E1E5ED\"}, \"xaxis6\": {\"anchor\": \"y6\", \"domain\": [0.2625, 0.475], \"gridcolor\": \"#E1E5ED\", \"showgrid\": false, \"tickfont\": {\"color\": \"#4D5663\"}, \"title\": {\"font\": {\"color\": \"#4D5663\"}, \"text\": \"\"}, \"zerolinecolor\": \"#E1E5ED\"}, \"xaxis7\": {\"anchor\": \"y7\", \"domain\": [0.525, 0.7375], \"gridcolor\": \"#E1E5ED\", \"showgrid\": false, \"tickfont\": {\"color\": \"#4D5663\"}, \"title\": {\"font\": {\"color\": \"#4D5663\"}, \"text\": \"\"}, \"zerolinecolor\": \"#E1E5ED\"}, \"xaxis8\": {\"anchor\": \"y8\", \"domain\": [0.7875, 1.0], \"gridcolor\": \"#E1E5ED\", \"showgrid\": false, \"tickfont\": {\"color\": \"#4D5663\"}, \"title\": {\"font\": {\"color\": \"#4D5663\"}, \"text\": \"\"}, \"zerolinecolor\": \"#E1E5ED\"}, \"xaxis9\": {\"anchor\": \"y9\", \"domain\": [0.0, 0.2125], \"gridcolor\": \"#E1E5ED\", \"showgrid\": false, \"tickfont\": {\"color\": \"#4D5663\"}, \"title\": {\"font\": {\"color\": \"#4D5663\"}, \"text\": \"\"}, \"zerolinecolor\": \"#E1E5ED\"}, \"yaxis\": {\"anchor\": \"x\", \"domain\": [0.8025, 1.0], \"gridcolor\": \"#E1E5ED\", \"showgrid\": false, \"tickfont\": {\"color\": \"#4D5663\"}, \"title\": {\"font\": {\"color\": \"#4D5663\"}, \"text\": \"\"}, \"zerolinecolor\": \"#E1E5ED\"}, \"yaxis10\": {\"anchor\": \"x10\", \"domain\": [0.2675, 0.465], \"gridcolor\": \"#E1E5ED\", \"showgrid\": false, \"tickfont\": {\"color\": \"#4D5663\"}, \"title\": {\"font\": {\"color\": \"#4D5663\"}, \"text\": \"\"}, \"zerolinecolor\": \"#E1E5ED\"}, \"yaxis11\": {\"anchor\": \"x11\", \"domain\": [0.2675, 0.465], \"gridcolor\": \"#E1E5ED\", \"showgrid\": false, \"tickfont\": {\"color\": \"#4D5663\"}, \"title\": {\"font\": {\"color\": \"#4D5663\"}, \"text\": \"\"}, \"zerolinecolor\": \"#E1E5ED\"}, \"yaxis12\": {\"anchor\": \"x12\", \"domain\": [0.2675, 0.465], \"gridcolor\": \"#E1E5ED\", \"showgrid\": false, \"tickfont\": {\"color\": \"#4D5663\"}, \"title\": {\"font\": {\"color\": \"#4D5663\"}, \"text\": \"\"}, \"zerolinecolor\": \"#E1E5ED\"}, \"yaxis13\": {\"anchor\": \"x13\", \"domain\": [0.0, 0.1975], \"gridcolor\": \"#E1E5ED\", \"showgrid\": false, \"tickfont\": {\"color\": \"#4D5663\"}, \"title\": {\"font\": {\"color\": \"#4D5663\"}, \"text\": \"\"}, \"zerolinecolor\": \"#E1E5ED\"}, \"yaxis14\": {\"anchor\": \"x14\", \"domain\": [0.0, 0.1975], \"gridcolor\": \"#E1E5ED\", \"showgrid\": false, \"tickfont\": {\"color\": \"#4D5663\"}, \"title\": {\"font\": {\"color\": \"#4D5663\"}, \"text\": \"\"}, \"zerolinecolor\": \"#E1E5ED\"}, \"yaxis15\": {\"anchor\": \"x15\", \"domain\": [0.0, 0.1975], \"gridcolor\": \"#E1E5ED\", \"showgrid\": false, \"tickfont\": {\"color\": \"#4D5663\"}, \"title\": {\"font\": {\"color\": \"#4D5663\"}, \"text\": \"\"}, \"zerolinecolor\": \"#E1E5ED\"}, \"yaxis16\": {\"anchor\": \"x16\", \"domain\": [0.0, 0.1975], \"gridcolor\": \"#E1E5ED\", \"showgrid\": false, \"tickfont\": {\"color\": \"#4D5663\"}, \"title\": {\"font\": {\"color\": \"#4D5663\"}, \"text\": \"\"}, \"zerolinecolor\": \"#E1E5ED\"}, \"yaxis2\": {\"anchor\": \"x2\", \"domain\": [0.8025, 1.0], \"gridcolor\": \"#E1E5ED\", \"showgrid\": false, \"tickfont\": {\"color\": \"#4D5663\"}, \"title\": {\"font\": {\"color\": \"#4D5663\"}, \"text\": \"\"}, \"zerolinecolor\": \"#E1E5ED\"}, \"yaxis3\": {\"anchor\": \"x3\", \"domain\": [0.8025, 1.0], \"gridcolor\": \"#E1E5ED\", \"showgrid\": false, \"tickfont\": {\"color\": \"#4D5663\"}, \"title\": {\"font\": {\"color\": \"#4D5663\"}, \"text\": \"\"}, \"zerolinecolor\": \"#E1E5ED\"}, \"yaxis4\": {\"anchor\": \"x4\", \"domain\": [0.8025, 1.0], \"gridcolor\": \"#E1E5ED\", \"showgrid\": false, \"tickfont\": {\"color\": \"#4D5663\"}, \"title\": {\"font\": {\"color\": \"#4D5663\"}, \"text\": \"\"}, \"zerolinecolor\": \"#E1E5ED\"}, \"yaxis5\": {\"anchor\": \"x5\", \"domain\": [0.535, 0.7325], \"gridcolor\": \"#E1E5ED\", \"showgrid\": false, \"tickfont\": {\"color\": \"#4D5663\"}, \"title\": {\"font\": {\"color\": \"#4D5663\"}, \"text\": \"\"}, \"zerolinecolor\": \"#E1E5ED\"}, \"yaxis6\": {\"anchor\": \"x6\", \"domain\": [0.535, 0.7325], \"gridcolor\": \"#E1E5ED\", \"showgrid\": false, \"tickfont\": {\"color\": \"#4D5663\"}, \"title\": {\"font\": {\"color\": \"#4D5663\"}, \"text\": \"\"}, \"zerolinecolor\": \"#E1E5ED\"}, \"yaxis7\": {\"anchor\": \"x7\", \"domain\": [0.535, 0.7325], \"gridcolor\": \"#E1E5ED\", \"showgrid\": false, \"tickfont\": {\"color\": \"#4D5663\"}, \"title\": {\"font\": {\"color\": \"#4D5663\"}, \"text\": \"\"}, \"zerolinecolor\": \"#E1E5ED\"}, \"yaxis8\": {\"anchor\": \"x8\", \"domain\": [0.535, 0.7325], \"gridcolor\": \"#E1E5ED\", \"showgrid\": false, \"tickfont\": {\"color\": \"#4D5663\"}, \"title\": {\"font\": {\"color\": \"#4D5663\"}, \"text\": \"\"}, \"zerolinecolor\": \"#E1E5ED\"}, \"yaxis9\": {\"anchor\": \"x9\", \"domain\": [0.2675, 0.465], \"gridcolor\": \"#E1E5ED\", \"showgrid\": false, \"tickfont\": {\"color\": \"#4D5663\"}, \"title\": {\"font\": {\"color\": \"#4D5663\"}, \"text\": \"\"}, \"zerolinecolor\": \"#E1E5ED\"}},                        {\"showLink\": true, \"linkText\": \"Export to plot.ly\", \"plotlyServerURL\": \"https://plot.ly\", \"responsive\": true}                    ).then(function(){\n",
       "                            \n",
       "var gd = document.getElementById('c8e48d0d-aad0-4a4b-84e4-f035e5d77cc6');\n",
       "var x = new MutationObserver(function (mutations, observer) {{\n",
       "        var display = window.getComputedStyle(gd).display;\n",
       "        if (!display || display === 'none') {{\n",
       "            console.log([gd, 'removed!']);\n",
       "            Plotly.purge(gd);\n",
       "            observer.disconnect();\n",
       "        }}\n",
       "}});\n",
       "\n",
       "// Listen for the removal of the full notebook cells\n",
       "var notebookContainer = gd.closest('#notebook-container');\n",
       "if (notebookContainer) {{\n",
       "    x.observe(notebookContainer, {childList: true});\n",
       "}}\n",
       "\n",
       "// Listen for the clearing of the current output cell\n",
       "var outputEl = gd.closest('.output');\n",
       "if (outputEl) {{\n",
       "    x.observe(outputEl, {childList: true});\n",
       "}}\n",
       "\n",
       "                        })                };                });            </script>        </div>"
      ]
     },
     "metadata": {},
     "output_type": "display_data"
    }
   ],
   "source": [
    "df.scatter_matrix()"
   ]
  },
  {
   "cell_type": "code",
   "execution_count": null,
   "metadata": {},
   "outputs": [],
   "source": []
  }
 ],
 "metadata": {
  "kernelspec": {
   "display_name": "Python 3",
   "language": "python",
   "name": "python3"
  },
  "language_info": {
   "codemirror_mode": {
    "name": "ipython",
    "version": 3
   },
   "file_extension": ".py",
   "mimetype": "text/x-python",
   "name": "python",
   "nbconvert_exporter": "python",
   "pygments_lexer": "ipython3",
   "version": "3.8.5"
  }
 },
 "nbformat": 4,
 "nbformat_minor": 4
}
