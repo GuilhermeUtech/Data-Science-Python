{
 "cells": [
  {
   "cell_type": "markdown",
   "metadata": {},
   "source": [
    "<h1>Base de dados Verizon Communications (VZ)</h1>"
   ]
  },
  {
   "cell_type": "code",
   "execution_count": 1,
   "metadata": {},
   "outputs": [],
   "source": [
    "import pandas as pd\n",
    "import numpy as np\n",
    "from matplotlib import pyplot as plt\n",
    "import seaborn as sns"
   ]
  },
  {
   "cell_type": "code",
   "execution_count": 2,
   "metadata": {},
   "outputs": [],
   "source": [
    "df = pd.read_csv('vz.us.txt')"
   ]
  },
  {
   "cell_type": "code",
   "execution_count": 3,
   "metadata": {},
   "outputs": [
    {
     "data": {
      "text/html": [
       "<div>\n",
       "<style scoped>\n",
       "    .dataframe tbody tr th:only-of-type {\n",
       "        vertical-align: middle;\n",
       "    }\n",
       "\n",
       "    .dataframe tbody tr th {\n",
       "        vertical-align: top;\n",
       "    }\n",
       "\n",
       "    .dataframe thead th {\n",
       "        text-align: right;\n",
       "    }\n",
       "</style>\n",
       "<table border=\"1\" class=\"dataframe\">\n",
       "  <thead>\n",
       "    <tr style=\"text-align: right;\">\n",
       "      <th></th>\n",
       "      <th>Date</th>\n",
       "      <th>Open</th>\n",
       "      <th>High</th>\n",
       "      <th>Low</th>\n",
       "      <th>Close</th>\n",
       "      <th>Volume</th>\n",
       "      <th>OpenInt</th>\n",
       "    </tr>\n",
       "  </thead>\n",
       "  <tbody>\n",
       "    <tr>\n",
       "      <th>0</th>\n",
       "      <td>1983-11-21</td>\n",
       "      <td>2.6806</td>\n",
       "      <td>2.6806</td>\n",
       "      <td>2.4905</td>\n",
       "      <td>2.6661</td>\n",
       "      <td>6181727</td>\n",
       "      <td>0</td>\n",
       "    </tr>\n",
       "    <tr>\n",
       "      <th>1</th>\n",
       "      <td>1983-11-22</td>\n",
       "      <td>2.6661</td>\n",
       "      <td>2.7025</td>\n",
       "      <td>2.6514</td>\n",
       "      <td>2.6587</td>\n",
       "      <td>3283633</td>\n",
       "      <td>0</td>\n",
       "    </tr>\n",
       "    <tr>\n",
       "      <th>2</th>\n",
       "      <td>1983-11-23</td>\n",
       "      <td>2.6587</td>\n",
       "      <td>2.6661</td>\n",
       "      <td>2.6298</td>\n",
       "      <td>2.6441</td>\n",
       "      <td>1418381</td>\n",
       "      <td>0</td>\n",
       "    </tr>\n",
       "    <tr>\n",
       "      <th>3</th>\n",
       "      <td>1983-11-25</td>\n",
       "      <td>2.6441</td>\n",
       "      <td>2.6441</td>\n",
       "      <td>2.6150</td>\n",
       "      <td>2.6150</td>\n",
       "      <td>2181789</td>\n",
       "      <td>0</td>\n",
       "    </tr>\n",
       "    <tr>\n",
       "      <th>4</th>\n",
       "      <td>1983-11-28</td>\n",
       "      <td>2.6003</td>\n",
       "      <td>2.6003</td>\n",
       "      <td>2.5345</td>\n",
       "      <td>2.5419</td>\n",
       "      <td>2915622</td>\n",
       "      <td>0</td>\n",
       "    </tr>\n",
       "    <tr>\n",
       "      <th>...</th>\n",
       "      <td>...</td>\n",
       "      <td>...</td>\n",
       "      <td>...</td>\n",
       "      <td>...</td>\n",
       "      <td>...</td>\n",
       "      <td>...</td>\n",
       "      <td>...</td>\n",
       "    </tr>\n",
       "    <tr>\n",
       "      <th>8559</th>\n",
       "      <td>2017-11-06</td>\n",
       "      <td>46.3100</td>\n",
       "      <td>46.3500</td>\n",
       "      <td>44.8400</td>\n",
       "      <td>45.5300</td>\n",
       "      <td>36432918</td>\n",
       "      <td>0</td>\n",
       "    </tr>\n",
       "    <tr>\n",
       "      <th>8560</th>\n",
       "      <td>2017-11-07</td>\n",
       "      <td>45.2100</td>\n",
       "      <td>45.5878</td>\n",
       "      <td>45.1100</td>\n",
       "      <td>45.5700</td>\n",
       "      <td>25789007</td>\n",
       "      <td>0</td>\n",
       "    </tr>\n",
       "    <tr>\n",
       "      <th>8561</th>\n",
       "      <td>2017-11-08</td>\n",
       "      <td>45.4100</td>\n",
       "      <td>45.5200</td>\n",
       "      <td>45.1400</td>\n",
       "      <td>45.4600</td>\n",
       "      <td>17413051</td>\n",
       "      <td>0</td>\n",
       "    </tr>\n",
       "    <tr>\n",
       "      <th>8562</th>\n",
       "      <td>2017-11-09</td>\n",
       "      <td>45.2900</td>\n",
       "      <td>45.4300</td>\n",
       "      <td>44.8100</td>\n",
       "      <td>45.0700</td>\n",
       "      <td>21076035</td>\n",
       "      <td>0</td>\n",
       "    </tr>\n",
       "    <tr>\n",
       "      <th>8563</th>\n",
       "      <td>2017-11-10</td>\n",
       "      <td>45.1100</td>\n",
       "      <td>45.1100</td>\n",
       "      <td>44.7500</td>\n",
       "      <td>44.8800</td>\n",
       "      <td>17073777</td>\n",
       "      <td>0</td>\n",
       "    </tr>\n",
       "  </tbody>\n",
       "</table>\n",
       "<p>8564 rows × 7 columns</p>\n",
       "</div>"
      ],
      "text/plain": [
       "            Date     Open     High      Low    Close    Volume  OpenInt\n",
       "0     1983-11-21   2.6806   2.6806   2.4905   2.6661   6181727        0\n",
       "1     1983-11-22   2.6661   2.7025   2.6514   2.6587   3283633        0\n",
       "2     1983-11-23   2.6587   2.6661   2.6298   2.6441   1418381        0\n",
       "3     1983-11-25   2.6441   2.6441   2.6150   2.6150   2181789        0\n",
       "4     1983-11-28   2.6003   2.6003   2.5345   2.5419   2915622        0\n",
       "...          ...      ...      ...      ...      ...       ...      ...\n",
       "8559  2017-11-06  46.3100  46.3500  44.8400  45.5300  36432918        0\n",
       "8560  2017-11-07  45.2100  45.5878  45.1100  45.5700  25789007        0\n",
       "8561  2017-11-08  45.4100  45.5200  45.1400  45.4600  17413051        0\n",
       "8562  2017-11-09  45.2900  45.4300  44.8100  45.0700  21076035        0\n",
       "8563  2017-11-10  45.1100  45.1100  44.7500  44.8800  17073777        0\n",
       "\n",
       "[8564 rows x 7 columns]"
      ]
     },
     "execution_count": 3,
     "metadata": {},
     "output_type": "execute_result"
    }
   ],
   "source": [
    "df"
   ]
  },
  {
   "cell_type": "code",
   "execution_count": 4,
   "metadata": {},
   "outputs": [
    {
     "data": {
      "text/plain": [
       "0    6181727\n",
       "1    3283633\n",
       "2    1418381\n",
       "3    2181789\n",
       "4    2915622\n",
       "Name: Volume, dtype: int64"
      ]
     },
     "execution_count": 4,
     "metadata": {},
     "output_type": "execute_result"
    }
   ],
   "source": [
    "df['Volume'].head()"
   ]
  },
  {
   "cell_type": "code",
   "execution_count": 17,
   "metadata": {},
   "outputs": [
    {
     "data": {
      "text/plain": [
       "<seaborn.axisgrid.FacetGrid at 0x2cdb12f4cd0>"
      ]
     },
     "execution_count": 17,
     "metadata": {},
     "output_type": "execute_result"
    },
    {
     "data": {
      "image/png": "[encoded data removed]",
      "text/plain": [
       "<Figure size 360x360 with 1 Axes>"
      ]
     },
     "metadata": {
      "needs_background": "light"
     },
     "output_type": "display_data"
    }
   ],
   "source": [
    "sns.displot(df['Open']) #Tipo o distplot mas não ploto a curva KDE"
   ]
  },
  {
   "cell_type": "code",
   "execution_count": 18,
   "metadata": {},
   "outputs": [
    {
     "data": {
      "text/plain": [
       "<seaborn.axisgrid.FacetGrid at 0x2cdab96d1c0>"
      ]
     },
     "execution_count": 18,
     "metadata": {},
     "output_type": "execute_result"
    },
    {
     "data": {
      "image/png": "[encoded data removed]",
      "text/plain": [
       "<Figure size 360x360 with 1 Axes>"
      ]
     },
     "metadata": {
      "needs_background": "light"
     },
     "output_type": "display_data"
    }
   ],
   "source": [
    "sns.displot(df['close']) #Tipo o distplot mas não ploto a curva KDE"
   ]
  },
  {
   "cell_type": "code",
   "execution_count": 21,
   "metadata": {},
   "outputs": [
    {
     "data": {
      "text/plain": [
       "<seaborn.axisgrid.JointGrid at 0x2cdc6034ca0>"
      ]
     },
     "execution_count": 21,
     "metadata": {},
     "output_type": "execute_result"
    },
    {
     "data": {
      "image/png": "[encoded data removed]",
      "text/plain": [
       "<Figure size 432x432 with 3 Axes>"
      ]
     },
     "metadata": {
      "needs_background": "light"
     },
     "output_type": "display_data"
    }
   ],
   "source": [
    "sns.jointplot(x = 'Close', y= 'Open', data = df, kind='hex') #kind='reg' é uma regressão linear, 'hex' faz um mapa de calor"
   ]
  },
  {
   "cell_type": "code",
   "execution_count": 22,
   "metadata": {},
   "outputs": [
    {
     "ename": "SyntaxError",
     "evalue": "unexpected EOF while parsing (<ipython-input-22-df3a2ca86b25>, line 1)",
     "output_type": "error",
     "traceback": [
      "\u001b[1;36m  File \u001b[1;32m\"<ipython-input-22-df3a2ca86b25>\"\u001b[1;36m, line \u001b[1;32m1\u001b[0m\n\u001b[1;33m    sns.heatmap(sns.jointplot(x = 'Close', y= 'Open', data = df, kind='hex') #kind='reg' é uma regressão linear, 'hex' faz um mapa de calor, cmap=\"magma\", linecolor=\"whitesmoke\", linewidths=1)\u001b[0m\n\u001b[1;37m                                                                                                                                                                                                ^\u001b[0m\n\u001b[1;31mSyntaxError\u001b[0m\u001b[1;31m:\u001b[0m unexpected EOF while parsing\n"
     ]
    }
   ],
   "source": [
    "sns.heatmap(sns.jointplot(x = 'Close', y= 'Open', data = df, kind='hex') #kind='reg' é uma regressão linear, 'hex' faz um mapa de calor, cmap=\"magma\", linecolor=\"whitesmoke\", linewidths=1)"
   ]
  },
  {
   "cell_type": "code",
   "execution_count": null,
   "metadata": {},
   "outputs": [],
   "source": []
  }
 ],
 "metadata": {
  "kernelspec": {
   "display_name": "Python 3",
   "language": "python",
   "name": "python3"
  },
  "language_info": {
   "codemirror_mode": {
    "name": "ipython",
    "version": 3
   },
   "file_extension": ".py",
   "mimetype": "text/x-python",
   "name": "python",
   "nbconvert_exporter": "python",
   "pygments_lexer": "ipython3",
   "version": "3.8.5"
  }
 },
 "nbformat": 4,
 "nbformat_minor": 4
}
